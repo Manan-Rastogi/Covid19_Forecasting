{
 "cells": [
  {
   "cell_type": "code",
   "execution_count": 68,
   "metadata": {},
   "outputs": [],
   "source": [
    "import numpy as np \n",
    "import pandas as pd \n",
    "import seaborn as sns\n",
    "import matplotlib.pyplot as plt \n",
    "%matplotlib inline\n",
    "\n",
    "import warnings\n",
    "warnings.filterwarnings(\"ignore\")"
   ]
  },
  {
   "cell_type": "code",
   "execution_count": 69,
   "metadata": {},
   "outputs": [
    {
     "data": {
      "text/html": [
       "<div>\n",
       "<style scoped>\n",
       "    .dataframe tbody tr th:only-of-type {\n",
       "        vertical-align: middle;\n",
       "    }\n",
       "\n",
       "    .dataframe tbody tr th {\n",
       "        vertical-align: top;\n",
       "    }\n",
       "\n",
       "    .dataframe thead th {\n",
       "        text-align: right;\n",
       "    }\n",
       "</style>\n",
       "<table border=\"1\" class=\"dataframe\">\n",
       "  <thead>\n",
       "    <tr style=\"text-align: right;\">\n",
       "      <th></th>\n",
       "      <th>Province/State</th>\n",
       "      <th>Country/Region</th>\n",
       "      <th>Lat</th>\n",
       "      <th>Long</th>\n",
       "      <th>Date</th>\n",
       "      <th>Confirmed</th>\n",
       "      <th>Deaths</th>\n",
       "      <th>Recovered</th>\n",
       "      <th>Active</th>\n",
       "      <th>WHO Region</th>\n",
       "    </tr>\n",
       "  </thead>\n",
       "  <tbody>\n",
       "    <tr>\n",
       "      <th>0</th>\n",
       "      <td>NaN</td>\n",
       "      <td>Afghanistan</td>\n",
       "      <td>33.93911</td>\n",
       "      <td>67.709953</td>\n",
       "      <td>2020-01-22</td>\n",
       "      <td>0</td>\n",
       "      <td>0</td>\n",
       "      <td>0</td>\n",
       "      <td>0</td>\n",
       "      <td>Eastern Mediterranean</td>\n",
       "    </tr>\n",
       "    <tr>\n",
       "      <th>1</th>\n",
       "      <td>NaN</td>\n",
       "      <td>Albania</td>\n",
       "      <td>41.15330</td>\n",
       "      <td>20.168300</td>\n",
       "      <td>2020-01-22</td>\n",
       "      <td>0</td>\n",
       "      <td>0</td>\n",
       "      <td>0</td>\n",
       "      <td>0</td>\n",
       "      <td>Europe</td>\n",
       "    </tr>\n",
       "    <tr>\n",
       "      <th>2</th>\n",
       "      <td>NaN</td>\n",
       "      <td>Algeria</td>\n",
       "      <td>28.03390</td>\n",
       "      <td>1.659600</td>\n",
       "      <td>2020-01-22</td>\n",
       "      <td>0</td>\n",
       "      <td>0</td>\n",
       "      <td>0</td>\n",
       "      <td>0</td>\n",
       "      <td>Africa</td>\n",
       "    </tr>\n",
       "    <tr>\n",
       "      <th>3</th>\n",
       "      <td>NaN</td>\n",
       "      <td>Andorra</td>\n",
       "      <td>42.50630</td>\n",
       "      <td>1.521800</td>\n",
       "      <td>2020-01-22</td>\n",
       "      <td>0</td>\n",
       "      <td>0</td>\n",
       "      <td>0</td>\n",
       "      <td>0</td>\n",
       "      <td>Europe</td>\n",
       "    </tr>\n",
       "    <tr>\n",
       "      <th>4</th>\n",
       "      <td>NaN</td>\n",
       "      <td>Angola</td>\n",
       "      <td>-11.20270</td>\n",
       "      <td>17.873900</td>\n",
       "      <td>2020-01-22</td>\n",
       "      <td>0</td>\n",
       "      <td>0</td>\n",
       "      <td>0</td>\n",
       "      <td>0</td>\n",
       "      <td>Africa</td>\n",
       "    </tr>\n",
       "  </tbody>\n",
       "</table>\n",
       "</div>"
      ],
      "text/plain": [
       "  Province/State Country/Region       Lat       Long        Date  Confirmed  \\\n",
       "0            NaN    Afghanistan  33.93911  67.709953  2020-01-22          0   \n",
       "1            NaN        Albania  41.15330  20.168300  2020-01-22          0   \n",
       "2            NaN        Algeria  28.03390   1.659600  2020-01-22          0   \n",
       "3            NaN        Andorra  42.50630   1.521800  2020-01-22          0   \n",
       "4            NaN         Angola -11.20270  17.873900  2020-01-22          0   \n",
       "\n",
       "   Deaths  Recovered  Active             WHO Region  \n",
       "0       0          0       0  Eastern Mediterranean  \n",
       "1       0          0       0                 Europe  \n",
       "2       0          0       0                 Africa  \n",
       "3       0          0       0                 Europe  \n",
       "4       0          0       0                 Africa  "
      ]
     },
     "execution_count": 69,
     "metadata": {},
     "output_type": "execute_result"
    }
   ],
   "source": [
    "df= pd.read_csv(\"covid_19_clean_complete.csv\")\n",
    "df.head()"
   ]
  },
  {
   "cell_type": "code",
   "execution_count": 70,
   "metadata": {},
   "outputs": [
    {
     "data": {
      "text/html": [
       "<div>\n",
       "<style scoped>\n",
       "    .dataframe tbody tr th:only-of-type {\n",
       "        vertical-align: middle;\n",
       "    }\n",
       "\n",
       "    .dataframe tbody tr th {\n",
       "        vertical-align: top;\n",
       "    }\n",
       "\n",
       "    .dataframe thead th {\n",
       "        text-align: right;\n",
       "    }\n",
       "</style>\n",
       "<table border=\"1\" class=\"dataframe\">\n",
       "  <thead>\n",
       "    <tr style=\"text-align: right;\">\n",
       "      <th></th>\n",
       "      <th>Province/State</th>\n",
       "      <th>Country/Region</th>\n",
       "      <th>Lat</th>\n",
       "      <th>Long</th>\n",
       "      <th>Date</th>\n",
       "      <th>Confirmed</th>\n",
       "      <th>Deaths</th>\n",
       "      <th>Recovered</th>\n",
       "      <th>Active</th>\n",
       "      <th>WHO Region</th>\n",
       "    </tr>\n",
       "  </thead>\n",
       "  <tbody>\n",
       "    <tr>\n",
       "      <th>49063</th>\n",
       "      <td>NaN</td>\n",
       "      <td>Sao Tome and Principe</td>\n",
       "      <td>0.186400</td>\n",
       "      <td>6.613100</td>\n",
       "      <td>2020-07-27</td>\n",
       "      <td>865</td>\n",
       "      <td>14</td>\n",
       "      <td>734</td>\n",
       "      <td>117</td>\n",
       "      <td>Africa</td>\n",
       "    </tr>\n",
       "    <tr>\n",
       "      <th>49064</th>\n",
       "      <td>NaN</td>\n",
       "      <td>Yemen</td>\n",
       "      <td>15.552727</td>\n",
       "      <td>48.516388</td>\n",
       "      <td>2020-07-27</td>\n",
       "      <td>1691</td>\n",
       "      <td>483</td>\n",
       "      <td>833</td>\n",
       "      <td>375</td>\n",
       "      <td>Eastern Mediterranean</td>\n",
       "    </tr>\n",
       "    <tr>\n",
       "      <th>49065</th>\n",
       "      <td>NaN</td>\n",
       "      <td>Comoros</td>\n",
       "      <td>-11.645500</td>\n",
       "      <td>43.333300</td>\n",
       "      <td>2020-07-27</td>\n",
       "      <td>354</td>\n",
       "      <td>7</td>\n",
       "      <td>328</td>\n",
       "      <td>19</td>\n",
       "      <td>Africa</td>\n",
       "    </tr>\n",
       "    <tr>\n",
       "      <th>49066</th>\n",
       "      <td>NaN</td>\n",
       "      <td>Tajikistan</td>\n",
       "      <td>38.861000</td>\n",
       "      <td>71.276100</td>\n",
       "      <td>2020-07-27</td>\n",
       "      <td>7235</td>\n",
       "      <td>60</td>\n",
       "      <td>6028</td>\n",
       "      <td>1147</td>\n",
       "      <td>Europe</td>\n",
       "    </tr>\n",
       "    <tr>\n",
       "      <th>49067</th>\n",
       "      <td>NaN</td>\n",
       "      <td>Lesotho</td>\n",
       "      <td>-29.610000</td>\n",
       "      <td>28.233600</td>\n",
       "      <td>2020-07-27</td>\n",
       "      <td>505</td>\n",
       "      <td>12</td>\n",
       "      <td>128</td>\n",
       "      <td>365</td>\n",
       "      <td>Africa</td>\n",
       "    </tr>\n",
       "  </tbody>\n",
       "</table>\n",
       "</div>"
      ],
      "text/plain": [
       "      Province/State         Country/Region        Lat       Long        Date  \\\n",
       "49063            NaN  Sao Tome and Principe   0.186400   6.613100  2020-07-27   \n",
       "49064            NaN                  Yemen  15.552727  48.516388  2020-07-27   \n",
       "49065            NaN                Comoros -11.645500  43.333300  2020-07-27   \n",
       "49066            NaN             Tajikistan  38.861000  71.276100  2020-07-27   \n",
       "49067            NaN                Lesotho -29.610000  28.233600  2020-07-27   \n",
       "\n",
       "       Confirmed  Deaths  Recovered  Active             WHO Region  \n",
       "49063        865      14        734     117                 Africa  \n",
       "49064       1691     483        833     375  Eastern Mediterranean  \n",
       "49065        354       7        328      19                 Africa  \n",
       "49066       7235      60       6028    1147                 Europe  \n",
       "49067        505      12        128     365                 Africa  "
      ]
     },
     "execution_count": 70,
     "metadata": {},
     "output_type": "execute_result"
    }
   ],
   "source": [
    "df.tail()"
   ]
  },
  {
   "cell_type": "markdown",
   "metadata": {},
   "source": [
    "# EDA"
   ]
  },
  {
   "cell_type": "code",
   "execution_count": 71,
   "metadata": {},
   "outputs": [
    {
     "name": "stdout",
     "output_type": "stream",
     "text": [
      "<class 'pandas.core.frame.DataFrame'>\n",
      "RangeIndex: 49068 entries, 0 to 49067\n",
      "Data columns (total 10 columns):\n",
      " #   Column          Non-Null Count  Dtype  \n",
      "---  ------          --------------  -----  \n",
      " 0   Province/State  14664 non-null  object \n",
      " 1   Country/Region  49068 non-null  object \n",
      " 2   Lat             49068 non-null  float64\n",
      " 3   Long            49068 non-null  float64\n",
      " 4   Date            49068 non-null  object \n",
      " 5   Confirmed       49068 non-null  int64  \n",
      " 6   Deaths          49068 non-null  int64  \n",
      " 7   Recovered       49068 non-null  int64  \n",
      " 8   Active          49068 non-null  int64  \n",
      " 9   WHO Region      49068 non-null  object \n",
      "dtypes: float64(2), int64(4), object(4)\n",
      "memory usage: 3.7+ MB\n"
     ]
    }
   ],
   "source": [
    "df.info()"
   ]
  },
  {
   "cell_type": "code",
   "execution_count": 72,
   "metadata": {},
   "outputs": [
    {
     "data": {
      "text/html": [
       "<div>\n",
       "<style scoped>\n",
       "    .dataframe tbody tr th:only-of-type {\n",
       "        vertical-align: middle;\n",
       "    }\n",
       "\n",
       "    .dataframe tbody tr th {\n",
       "        vertical-align: top;\n",
       "    }\n",
       "\n",
       "    .dataframe thead th {\n",
       "        text-align: right;\n",
       "    }\n",
       "</style>\n",
       "<table border=\"1\" class=\"dataframe\">\n",
       "  <thead>\n",
       "    <tr style=\"text-align: right;\">\n",
       "      <th></th>\n",
       "      <th>count</th>\n",
       "      <th>mean</th>\n",
       "      <th>std</th>\n",
       "      <th>min</th>\n",
       "      <th>25%</th>\n",
       "      <th>50%</th>\n",
       "      <th>75%</th>\n",
       "      <th>max</th>\n",
       "    </tr>\n",
       "  </thead>\n",
       "  <tbody>\n",
       "    <tr>\n",
       "      <th>Lat</th>\n",
       "      <td>49068.0</td>\n",
       "      <td>21.433730</td>\n",
       "      <td>24.950320</td>\n",
       "      <td>-51.7963</td>\n",
       "      <td>7.873054</td>\n",
       "      <td>23.6345</td>\n",
       "      <td>41.204380</td>\n",
       "      <td>7.170690e+01</td>\n",
       "    </tr>\n",
       "    <tr>\n",
       "      <th>Long</th>\n",
       "      <td>49068.0</td>\n",
       "      <td>23.528236</td>\n",
       "      <td>70.442740</td>\n",
       "      <td>-135.0000</td>\n",
       "      <td>-15.310100</td>\n",
       "      <td>21.7453</td>\n",
       "      <td>80.771797</td>\n",
       "      <td>1.780650e+02</td>\n",
       "    </tr>\n",
       "    <tr>\n",
       "      <th>Confirmed</th>\n",
       "      <td>49068.0</td>\n",
       "      <td>16884.904255</td>\n",
       "      <td>127300.205272</td>\n",
       "      <td>0.0000</td>\n",
       "      <td>4.000000</td>\n",
       "      <td>168.0000</td>\n",
       "      <td>1518.250000</td>\n",
       "      <td>4.290259e+06</td>\n",
       "    </tr>\n",
       "    <tr>\n",
       "      <th>Deaths</th>\n",
       "      <td>49068.0</td>\n",
       "      <td>884.179160</td>\n",
       "      <td>6313.584411</td>\n",
       "      <td>0.0000</td>\n",
       "      <td>0.000000</td>\n",
       "      <td>2.0000</td>\n",
       "      <td>30.000000</td>\n",
       "      <td>1.480110e+05</td>\n",
       "    </tr>\n",
       "    <tr>\n",
       "      <th>Recovered</th>\n",
       "      <td>49068.0</td>\n",
       "      <td>7915.713479</td>\n",
       "      <td>54800.918731</td>\n",
       "      <td>0.0000</td>\n",
       "      <td>0.000000</td>\n",
       "      <td>29.0000</td>\n",
       "      <td>666.000000</td>\n",
       "      <td>1.846641e+06</td>\n",
       "    </tr>\n",
       "    <tr>\n",
       "      <th>Active</th>\n",
       "      <td>49068.0</td>\n",
       "      <td>8085.011617</td>\n",
       "      <td>76258.903026</td>\n",
       "      <td>-14.0000</td>\n",
       "      <td>0.000000</td>\n",
       "      <td>26.0000</td>\n",
       "      <td>606.000000</td>\n",
       "      <td>2.816444e+06</td>\n",
       "    </tr>\n",
       "  </tbody>\n",
       "</table>\n",
       "</div>"
      ],
      "text/plain": [
       "             count          mean            std       min        25%  \\\n",
       "Lat        49068.0     21.433730      24.950320  -51.7963   7.873054   \n",
       "Long       49068.0     23.528236      70.442740 -135.0000 -15.310100   \n",
       "Confirmed  49068.0  16884.904255  127300.205272    0.0000   4.000000   \n",
       "Deaths     49068.0    884.179160    6313.584411    0.0000   0.000000   \n",
       "Recovered  49068.0   7915.713479   54800.918731    0.0000   0.000000   \n",
       "Active     49068.0   8085.011617   76258.903026  -14.0000   0.000000   \n",
       "\n",
       "                50%          75%           max  \n",
       "Lat         23.6345    41.204380  7.170690e+01  \n",
       "Long        21.7453    80.771797  1.780650e+02  \n",
       "Confirmed  168.0000  1518.250000  4.290259e+06  \n",
       "Deaths       2.0000    30.000000  1.480110e+05  \n",
       "Recovered   29.0000   666.000000  1.846641e+06  \n",
       "Active      26.0000   606.000000  2.816444e+06  "
      ]
     },
     "execution_count": 72,
     "metadata": {},
     "output_type": "execute_result"
    }
   ],
   "source": [
    "df.describe().T"
   ]
  },
  {
   "cell_type": "code",
   "execution_count": 73,
   "metadata": {},
   "outputs": [
    {
     "data": {
      "text/plain": [
       "Province/State    70.114943\n",
       "Country/Region     0.000000\n",
       "Lat                0.000000\n",
       "Long               0.000000\n",
       "Date               0.000000\n",
       "Confirmed          0.000000\n",
       "Deaths             0.000000\n",
       "Recovered          0.000000\n",
       "Active             0.000000\n",
       "WHO Region         0.000000\n",
       "dtype: float64"
      ]
     },
     "execution_count": 73,
     "metadata": {},
     "output_type": "execute_result"
    }
   ],
   "source": [
    "df.isnull().sum()*100/df.shape[0]"
   ]
  },
  {
   "cell_type": "code",
   "execution_count": 74,
   "metadata": {},
   "outputs": [
    {
     "data": {
      "text/plain": [
       "0"
      ]
     },
     "execution_count": 74,
     "metadata": {},
     "output_type": "execute_result"
    }
   ],
   "source": [
    "df.duplicated().sum()"
   ]
  },
  {
   "cell_type": "code",
   "execution_count": 75,
   "metadata": {},
   "outputs": [
    {
     "data": {
      "text/plain": [
       "Date\n",
       "2020-01-22    261\n",
       "2020-05-30    261\n",
       "2020-05-21    261\n",
       "2020-05-22    261\n",
       "2020-05-23    261\n",
       "             ... \n",
       "2020-03-26    261\n",
       "2020-03-27    261\n",
       "2020-03-28    261\n",
       "2020-03-29    261\n",
       "2020-07-27    261\n",
       "Name: count, Length: 188, dtype: int64"
      ]
     },
     "execution_count": 75,
     "metadata": {},
     "output_type": "execute_result"
    }
   ],
   "source": [
    "df.Date.value_counts()"
   ]
  },
  {
   "cell_type": "markdown",
   "metadata": {},
   "source": [
    "## <span style=\"color:orange\"> Observations:\n",
    "-   Around 70% of Province/State are NaN\n",
    "-   No other column has Null/NaN values\n",
    "-   No Duplicated rows as well"
   ]
  },
  {
   "cell_type": "code",
   "execution_count": null,
   "metadata": {},
   "outputs": [],
   "source": []
  },
  {
   "cell_type": "markdown",
   "metadata": {},
   "source": [
    "## Visualizations"
   ]
  },
  {
   "cell_type": "markdown",
   "metadata": {},
   "source": []
  },
  {
   "cell_type": "code",
   "execution_count": 76,
   "metadata": {},
   "outputs": [
    {
     "data": {
      "text/plain": [
       "(49068, 10)"
      ]
     },
     "execution_count": 76,
     "metadata": {},
     "output_type": "execute_result"
    }
   ],
   "source": [
    "df.shape"
   ]
  },
  {
   "cell_type": "code",
   "execution_count": 77,
   "metadata": {},
   "outputs": [
    {
     "data": {
      "text/plain": [
       "Index(['Province/State', 'Country/Region', 'Lat', 'Long', 'Date', 'Confirmed',\n",
       "       'Deaths', 'Recovered', 'Active', 'WHO Region'],\n",
       "      dtype='object')"
      ]
     },
     "execution_count": 77,
     "metadata": {},
     "output_type": "execute_result"
    }
   ],
   "source": [
    "df.columns"
   ]
  },
  {
   "cell_type": "code",
   "execution_count": 78,
   "metadata": {},
   "outputs": [
    {
     "data": {
      "text/plain": [
       "Country/Region\n",
       "China             6204\n",
       "Canada            2256\n",
       "France            2068\n",
       "United Kingdom    2068\n",
       "Australia         1504\n",
       "                  ... \n",
       "Holy See           188\n",
       "Honduras           188\n",
       "Hungary            188\n",
       "Iceland            188\n",
       "Lesotho            188\n",
       "Name: count, Length: 187, dtype: int64"
      ]
     },
     "execution_count": 78,
     "metadata": {},
     "output_type": "execute_result"
    }
   ],
   "source": [
    "df[\"Country/Region\"].value_counts()"
   ]
  },
  {
   "cell_type": "code",
   "execution_count": null,
   "metadata": {},
   "outputs": [],
   "source": []
  },
  {
   "cell_type": "code",
   "execution_count": 79,
   "metadata": {},
   "outputs": [
    {
     "data": {
      "text/plain": [
       "Active\n",
       "0        14151\n",
       "1         1792\n",
       "2         1157\n",
       "3         1027\n",
       "5          757\n",
       "         ...  \n",
       "23182        1\n",
       "10153        1\n",
       "9054         1\n",
       "61004        1\n",
       "6791         1\n",
       "Name: count, Length: 8641, dtype: int64"
      ]
     },
     "execution_count": 79,
     "metadata": {},
     "output_type": "execute_result"
    }
   ],
   "source": [
    "df.Active.value_counts()"
   ]
  },
  {
   "cell_type": "code",
   "execution_count": 80,
   "metadata": {},
   "outputs": [],
   "source": [
    "import plotly.graph_objects as go"
   ]
  },
  {
   "cell_type": "markdown",
   "metadata": {},
   "source": [
    "## Visualizing "
   ]
  },
  {
   "cell_type": "code",
   "execution_count": 81,
   "metadata": {},
   "outputs": [],
   "source": [
    "# %pip install --upgrade nbformat"
   ]
  },
  {
   "cell_type": "code",
   "execution_count": 82,
   "metadata": {},
   "outputs": [
    {
     "data": {
      "text/plain": [
       "Index(['Province/State', 'Country/Region', 'Lat', 'Long', 'Date', 'Confirmed',\n",
       "       'Deaths', 'Recovered', 'Active', 'WHO Region'],\n",
       "      dtype='object')"
      ]
     },
     "execution_count": 82,
     "metadata": {},
     "output_type": "execute_result"
    }
   ],
   "source": [
    "df.columns"
   ]
  },
  {
   "cell_type": "code",
   "execution_count": 83,
   "metadata": {},
   "outputs": [
    {
     "data": {
      "text/plain": [
       "'2020-01-22'"
      ]
     },
     "execution_count": 83,
     "metadata": {},
     "output_type": "execute_result"
    }
   ],
   "source": [
    "df.Date[0]"
   ]
  },
  {
   "cell_type": "markdown",
   "metadata": {},
   "source": [
    "#### Lets Plot Scatter plot on Map for a Particular Date."
   ]
  },
  {
   "cell_type": "code",
   "execution_count": 84,
   "metadata": {},
   "outputs": [
    {
     "data": {
      "text/html": [
       "<div>\n",
       "<style scoped>\n",
       "    .dataframe tbody tr th:only-of-type {\n",
       "        vertical-align: middle;\n",
       "    }\n",
       "\n",
       "    .dataframe tbody tr th {\n",
       "        vertical-align: top;\n",
       "    }\n",
       "\n",
       "    .dataframe thead th {\n",
       "        text-align: right;\n",
       "    }\n",
       "</style>\n",
       "<table border=\"1\" class=\"dataframe\">\n",
       "  <thead>\n",
       "    <tr style=\"text-align: right;\">\n",
       "      <th></th>\n",
       "      <th>Province/State</th>\n",
       "      <th>Country/Region</th>\n",
       "      <th>Lat</th>\n",
       "      <th>Long</th>\n",
       "      <th>Date</th>\n",
       "      <th>Confirmed</th>\n",
       "      <th>Deaths</th>\n",
       "      <th>Recovered</th>\n",
       "      <th>Active</th>\n",
       "      <th>WHO Region</th>\n",
       "    </tr>\n",
       "  </thead>\n",
       "  <tbody>\n",
       "    <tr>\n",
       "      <th>0</th>\n",
       "      <td>NaN</td>\n",
       "      <td>Afghanistan</td>\n",
       "      <td>33.93911</td>\n",
       "      <td>67.709953</td>\n",
       "      <td>2020-01-22</td>\n",
       "      <td>0</td>\n",
       "      <td>0</td>\n",
       "      <td>0</td>\n",
       "      <td>0</td>\n",
       "      <td>Eastern Mediterranean</td>\n",
       "    </tr>\n",
       "    <tr>\n",
       "      <th>1</th>\n",
       "      <td>NaN</td>\n",
       "      <td>Albania</td>\n",
       "      <td>41.15330</td>\n",
       "      <td>20.168300</td>\n",
       "      <td>2020-01-22</td>\n",
       "      <td>0</td>\n",
       "      <td>0</td>\n",
       "      <td>0</td>\n",
       "      <td>0</td>\n",
       "      <td>Europe</td>\n",
       "    </tr>\n",
       "    <tr>\n",
       "      <th>2</th>\n",
       "      <td>NaN</td>\n",
       "      <td>Algeria</td>\n",
       "      <td>28.03390</td>\n",
       "      <td>1.659600</td>\n",
       "      <td>2020-01-22</td>\n",
       "      <td>0</td>\n",
       "      <td>0</td>\n",
       "      <td>0</td>\n",
       "      <td>0</td>\n",
       "      <td>Africa</td>\n",
       "    </tr>\n",
       "    <tr>\n",
       "      <th>3</th>\n",
       "      <td>NaN</td>\n",
       "      <td>Andorra</td>\n",
       "      <td>42.50630</td>\n",
       "      <td>1.521800</td>\n",
       "      <td>2020-01-22</td>\n",
       "      <td>0</td>\n",
       "      <td>0</td>\n",
       "      <td>0</td>\n",
       "      <td>0</td>\n",
       "      <td>Europe</td>\n",
       "    </tr>\n",
       "    <tr>\n",
       "      <th>4</th>\n",
       "      <td>NaN</td>\n",
       "      <td>Angola</td>\n",
       "      <td>-11.20270</td>\n",
       "      <td>17.873900</td>\n",
       "      <td>2020-01-22</td>\n",
       "      <td>0</td>\n",
       "      <td>0</td>\n",
       "      <td>0</td>\n",
       "      <td>0</td>\n",
       "      <td>Africa</td>\n",
       "    </tr>\n",
       "  </tbody>\n",
       "</table>\n",
       "</div>"
      ],
      "text/plain": [
       "  Province/State Country/Region       Lat       Long        Date  Confirmed  \\\n",
       "0            NaN    Afghanistan  33.93911  67.709953  2020-01-22          0   \n",
       "1            NaN        Albania  41.15330  20.168300  2020-01-22          0   \n",
       "2            NaN        Algeria  28.03390   1.659600  2020-01-22          0   \n",
       "3            NaN        Andorra  42.50630   1.521800  2020-01-22          0   \n",
       "4            NaN         Angola -11.20270  17.873900  2020-01-22          0   \n",
       "\n",
       "   Deaths  Recovered  Active             WHO Region  \n",
       "0       0          0       0  Eastern Mediterranean  \n",
       "1       0          0       0                 Europe  \n",
       "2       0          0       0                 Africa  \n",
       "3       0          0       0                 Europe  \n",
       "4       0          0       0                 Africa  "
      ]
     },
     "execution_count": 84,
     "metadata": {},
     "output_type": "execute_result"
    }
   ],
   "source": [
    "date_data= df[df[\"Date\"]==df.Date[0]]\n",
    "date_data.head()"
   ]
  },
  {
   "cell_type": "code",
   "execution_count": null,
   "metadata": {},
   "outputs": [],
   "source": []
  },
  {
   "cell_type": "code",
   "execution_count": null,
   "metadata": {},
   "outputs": [],
   "source": []
  },
  {
   "cell_type": "code",
   "execution_count": null,
   "metadata": {},
   "outputs": [],
   "source": []
  },
  {
   "cell_type": "code",
   "execution_count": null,
   "metadata": {},
   "outputs": [],
   "source": []
  },
  {
   "cell_type": "code",
   "execution_count": null,
   "metadata": {},
   "outputs": [],
   "source": []
  },
  {
   "cell_type": "code",
   "execution_count": 110,
   "metadata": {},
   "outputs": [],
   "source": [
    "def getDateData(date_for_data):\n",
    "    return df[df[\"Date\"]==date_for_data]\n",
    "\n",
    "def plotScatterOnMap(dfs):\n",
    "    '''\n",
    "    function to plot the Map of World with lats/longs of given dataframe. Remember to send copy of your dataframe.\n",
    "    '''\n",
    "    # texts=[]\n",
    "    # for i in dfs.index:\n",
    "    #     texts.append({\n",
    "    #         'Country': dfs.iloc[i]['Country/Region'],\n",
    "    #         'Date': dfs.iloc[i]['Date'],\n",
    "    #         'Confirmed': dfs.iloc[i]['Confirmed'],\n",
    "    #         'Deaths': dfs.iloc[i]['Deaths'],\n",
    "    #         'Recovered': dfs.iloc[i]['Recovered'],\n",
    "    #         'Active': dfs.iloc[i]['Active'],\n",
    "    #     })\n",
    "    columns_to_display= ['Country/Region', \"Date\", \"Confirmed\", \"Deaths\", \"Recovered\", \"Active\"]\n",
    "    text_data = [dict(zip(columns_to_display, values)) for values in zip(*[dfs[col] for col in columns_to_display])]\n",
    "    fig= go.Figure(go.Scattergeo(\n",
    "        lon=dfs[\"Long\"],\n",
    "        lat=dfs[\"Lat\"],\n",
    "        mode='markers',\n",
    "        marker=dict(\n",
    "            size=12,\n",
    "            color=dfs[\"Active\"],  \n",
    "            colorscale='Viridis',\n",
    "            cmin=dfs[\"Active\"].min(),\n",
    "            colorbar=dict(title='Active')\n",
    "        ),\n",
    "        text=text_data\n",
    "    ))\n",
    "    \n",
    "    fig.update_layout(\n",
    "    height=600,  \n",
    "    width=1000,   \n",
    "    font=dict(size=12)  \n",
    "    )\n",
    "    fig.show()"
   ]
  },
  {
   "cell_type": "code",
   "execution_count": 111,
   "metadata": {},
   "outputs": [],
   "source": [
    "def plotfor(dt):\n",
    "    df_date= getDateData(dt)\n",
    "    plotScatterOnMap(df_date.copy())"
   ]
  },
  {
   "cell_type": "code",
   "execution_count": 112,
   "metadata": {},
   "outputs": [],
   "source": [
    "dates=df.Date.unique()"
   ]
  },
  {
   "cell_type": "code",
   "execution_count": 114,
   "metadata": {},
   "outputs": [
    {
     "data": {
      "application/vnd.plotly.v1+json": {
       "config": {
        "plotlyServerURL": "https://plotly.com"
       },
       "data": [
        {
         "lat": [
          33.93911,
          41.1533,
          28.0339,
          42.5063,
          -11.2027,
          17.0608,
          -38.4161,
          40.0691,
          -35.4735,
          -33.8688,
          -12.4634,
          -27.4698,
          -34.9285,
          -42.8821,
          -37.8136,
          -31.9505,
          47.5162,
          40.1431,
          25.025885,
          26.0275,
          23.685,
          13.1939,
          53.7098,
          50.8333,
          9.3077,
          27.5142,
          -16.2902,
          43.9159,
          -14.235,
          4.5353,
          42.7339,
          12.2383,
          16.5388,
          11.55,
          3.848,
          53.9333,
          53.7267,
          53.7609,
          46.5653,
          53.1355,
          44.682,
          51.2538,
          46.5107,
          52.9399,
          52.9399,
          6.6111,
          15.4542,
          -35.6751,
          31.8257,
          40.1824,
          30.0572,
          26.0789,
          35.7518,
          23.3417,
          23.8298,
          26.8154,
          19.1959,
          39.549,
          47.862,
          37.8957,
          22.3,
          30.9756,
          27.6104,
          44.0935,
          32.9711,
          27.614,
          43.6661,
          41.2956,
          22.1667,
          37.2692,
          35.7452,
          35.1917,
          36.3427,
          31.202,
          37.5777,
          30.6171,
          39.3054,
          31.6927,
          41.1129,
          24.974,
          29.1832,
          4.5709,
          -0.228,
          -4.0383,
          9.7489,
          7.54,
          45.1,
          21.521757,
          35.1264,
          49.8175,
          61.8926,
          71.7069,
          56.2639,
          11.8251,
          18.7357,
          -1.8312,
          26.820553000000004,
          13.7942,
          1.6508,
          15.1794,
          58.5953,
          -26.5225,
          9.145,
          -17.7134,
          61.92411,
          3.9339,
          -17.6797,
          16.265,
          -12.8275,
          -20.904305,
          -21.1151,
          17.9,
          18.0708,
          14.6415,
          46.2276,
          -0.8037,
          13.4432,
          42.3154,
          51.165691,
          7.9465,
          39.0742,
          15.7835,
          9.9456,
          4.860416000000002,
          18.9712,
          41.9029,
          15.2,
          47.1625,
          64.9631,
          20.593684,
          -0.7893,
          32.427908,
          33.223191,
          53.1424,
          31.046051,
          41.87194,
          18.1096,
          36.204824,
          31.24,
          48.0196,
          -0.0236,
          35.90775700000001,
          29.31166,
          41.20438,
          56.8796,
          33.8547,
          6.4280550000000005,
          47.14,
          55.1694,
          49.8153,
          -18.766947,
          4.210483999999999,
          3.2028,
          35.9375,
          21.0079,
          -20.348404,
          23.6345,
          47.4116,
          43.7333,
          46.8625,
          42.708678000000006,
          31.7917,
          -22.9576,
          28.1667,
          12.5211,
          12.1696,
          18.0425,
          52.1326,
          -40.9006,
          12.865416,
          17.607789,
          9.082,
          41.6086,
          60.472,
          21.512583,
          30.3753,
          8.538,
          -6.314993,
          -23.4425,
          -9.19,
          12.879721,
          51.9194,
          39.3999,
          25.3548,
          45.9432,
          61.52401,
          -1.9403,
          13.9094,
          12.9843,
          43.9424,
          23.885942,
          14.4974,
          44.0165,
          -4.6796,
          1.2833,
          48.669,
          46.1512,
          5.152149,
          -30.5595,
          40.463667,
          7.873054,
          12.8628,
          3.9193,
          60.128161,
          46.8182,
          23.7,
          -6.369028,
          15.870032,
          8.6195,
          10.6918,
          33.886917,
          38.9637,
          1.373333,
          48.3794,
          23.424076,
          32.3078,
          19.3133,
          49.3723,
          36.1408,
          54.2361,
          16.742498,
          55.3781,
          -32.5228,
          40,
          41.377491,
          6.4238,
          14.058324,
          -13.133897,
          -19.015438,
          15.415,
          12.1165,
          -18.665695,
          34.802075,
          -8.874217,
          17.1899,
          19.85627,
          26.3351,
          31.9522,
          11.8037,
          17.570692,
          17.357822,
          64.8255,
          64.2823,
          42.602636,
          21.9162,
          18.2206,
          18.4207,
          21.69400000000001,
          -22.3285,
          -3.3731,
          8.460555000000001,
          -13.2543,
          -51.7963,
          46.8852,
          6.877000000000002,
          24.2155,
          0.1864,
          15.552727,
          -11.6455,
          38.861,
          -29.61
         ],
         "lon": [
          67.709953,
          20.1683,
          1.6596,
          1.5218,
          17.8739,
          -61.7964,
          -63.6167,
          45.0382,
          149.0124,
          151.2093,
          130.8456,
          153.0251,
          138.6007,
          147.3272,
          144.9631,
          115.8605,
          14.5501,
          47.5769,
          -78.035889,
          50.55,
          90.3563,
          -59.5432,
          27.9534,
          4.469936,
          2.3158,
          90.4336,
          -63.5887,
          17.6791,
          -51.9253,
          114.7277,
          25.4858,
          -1.5616,
          -23.0418,
          104.9167,
          11.5021,
          -116.5765,
          -127.6476,
          -98.8139,
          -66.4619,
          -57.6604,
          -63.7443,
          -85.3232,
          -63.4168,
          -73.5491,
          -106.4509,
          20.9394,
          18.7322,
          -71.543,
          117.2264,
          116.4142,
          107.874,
          117.9874,
          104.2861,
          113.4244,
          108.7881,
          106.8748,
          109.7453,
          116.1306,
          127.7615,
          114.9042,
          114.2,
          112.2707,
          111.7088,
          113.9448,
          119.455,
          115.7221,
          126.1923,
          122.6085,
          113.55,
          106.1655,
          95.9956,
          108.8701,
          118.1498,
          121.4491,
          112.2922,
          102.7103,
          117.323,
          88.0924,
          85.2401,
          101.487,
          120.0934,
          -74.2973,
          15.8277,
          21.7587,
          -83.7534,
          -5.5471,
          15.2,
          -77.78116700000002,
          33.4299,
          15.473,
          -6.9118,
          -42.6043,
          9.5018,
          42.5903,
          -70.1627,
          -78.1834,
          30.802498,
          -88.8965,
          10.2679,
          39.7823,
          25.0136,
          31.4659,
          40.4897,
          178.065,
          25.748151,
          -53.1258,
          149.4068,
          -61.551,
          45.166244,
          165.618042,
          55.5364,
          -62.8333,
          -63.0501,
          -61.0242,
          2.2137,
          11.6094,
          -15.3101,
          43.3569,
          10.451526,
          -1.0232,
          21.8243,
          -90.2308,
          -9.6966,
          -58.93018000000001,
          -72.2852,
          12.4534,
          -86.2419,
          19.5033,
          -19.0208,
          78.96288,
          113.9213,
          53.68804599999999,
          43.679291,
          -7.6921,
          34.851612,
          12.56738,
          -77.2975,
          138.252924,
          36.51,
          66.9237,
          37.9062,
          127.766922,
          47.481766,
          74.766098,
          24.6032,
          35.8623,
          -9.429499,
          9.55,
          23.8813,
          6.1296,
          46.869107,
          101.975766,
          73.2207,
          14.3754,
          -10.9408,
          57.552152,
          -102.5528,
          28.3699,
          7.4167,
          103.8467,
          19.37439,
          -7.0926,
          18.4904,
          84.25,
          -69.9683,
          -68.99,
          -63.0548,
          5.2913,
          174.886,
          -85.207229,
          8.081666,
          8.6753,
          21.7453,
          8.4689,
          55.92325500000001,
          69.3451,
          -80.7821,
          143.95555,
          -58.4438,
          -75.0152,
          121.774017,
          19.1451,
          -8.2245,
          51.1839,
          24.9668,
          105.318756,
          29.8739,
          -60.9789,
          -61.2872,
          12.4578,
          45.079162,
          -14.4524,
          21.0059,
          55.492,
          103.8333,
          19.699,
          14.9955,
          46.199616,
          22.9375,
          -3.74922,
          80.77179699999998,
          30.2176,
          -56.0278,
          18.643501,
          8.2275,
          121,
          34.888822,
          100.992541,
          0.8248,
          -61.2225,
          9.537499,
          35.2433,
          32.290275,
          31.1656,
          53.847818,
          -64.7505,
          -81.2546,
          -2.3644,
          -5.3536,
          -4.5481,
          -62.187366,
          -3.4360000000000004,
          -55.7658,
          -100,
          64.585262,
          -66.5897,
          108.277199,
          27.849332,
          29.154857,
          -61.371,
          -61.679,
          35.529562,
          38.99681500000001,
          125.727539,
          -88.4976,
          102.495496,
          17.228331,
          35.2332,
          -15.1804,
          -3.996166000000001,
          -62.782998,
          -124.8457,
          -135,
          20.902977,
          95.956,
          -63.0686,
          -64.64,
          -71.7979,
          24.6849,
          29.9189,
          -11.779889,
          34.3015,
          -59.5236,
          -56.3159,
          31.307,
          -12.8858,
          6.6131,
          48.516388,
          43.3333,
          71.2761,
          28.2336
         ],
         "marker": {
          "cmin": 0,
          "color": [
           0,
           0,
           0,
           0,
           0,
           0,
           0,
           0,
           0,
           0,
           0,
           0,
           0,
           0,
           0,
           0,
           0,
           0,
           0,
           0,
           0,
           0,
           0,
           0,
           0,
           0,
           0,
           0,
           0,
           0,
           0,
           0,
           0,
           0,
           0,
           0,
           0,
           0,
           0,
           0,
           0,
           0,
           0,
           0,
           0,
           0,
           0,
           0,
           1,
           14,
           6,
           1,
           0,
           26,
           2,
           1,
           4,
           1,
           0,
           5,
           0,
           399,
           4,
           0,
           1,
           2,
           0,
           2,
           1,
           1,
           0,
           0,
           2,
           9,
           1,
           5,
           4,
           0,
           0,
           1,
           10,
           0,
           0,
           0,
           0,
           0,
           0,
           0,
           0,
           0,
           0,
           0,
           0,
           0,
           0,
           0,
           0,
           0,
           0,
           0,
           0,
           0,
           0,
           0,
           0,
           0,
           0,
           0,
           0,
           0,
           0,
           0,
           0,
           0,
           0,
           0,
           0,
           0,
           0,
           0,
           0,
           0,
           0,
           0,
           0,
           0,
           0,
           0,
           0,
           0,
           0,
           0,
           0,
           0,
           0,
           0,
           0,
           2,
           0,
           0,
           0,
           1,
           0,
           0,
           0,
           0,
           0,
           0,
           0,
           0,
           0,
           0,
           0,
           0,
           0,
           0,
           0,
           0,
           0,
           0,
           0,
           0,
           0,
           0,
           0,
           0,
           0,
           0,
           0,
           0,
           0,
           0,
           0,
           0,
           0,
           0,
           0,
           0,
           0,
           0,
           0,
           0,
           0,
           0,
           0,
           0,
           0,
           0,
           0,
           0,
           0,
           0,
           0,
           0,
           0,
           0,
           0,
           0,
           0,
           0,
           0,
           0,
           0,
           0,
           0,
           1,
           0,
           2,
           0,
           0,
           0,
           0,
           0,
           0,
           0,
           0,
           0,
           0,
           0,
           0,
           0,
           0,
           0,
           1,
           0,
           0,
           0,
           0,
           0,
           0,
           0,
           0,
           0,
           0,
           0,
           0,
           0,
           0,
           0,
           0,
           0,
           0,
           0,
           0,
           0,
           0,
           0,
           0,
           0,
           0,
           0,
           0,
           0,
           0,
           0,
           0,
           0,
           0,
           0,
           0,
           0
          ],
          "colorbar": {
           "title": {
            "text": "Active"
           }
          },
          "colorscale": [
           [
            0,
            "#440154"
           ],
           [
            0.1111111111111111,
            "#482878"
           ],
           [
            0.2222222222222222,
            "#3e4989"
           ],
           [
            0.3333333333333333,
            "#31688e"
           ],
           [
            0.4444444444444444,
            "#26828e"
           ],
           [
            0.5555555555555556,
            "#1f9e89"
           ],
           [
            0.6666666666666666,
            "#35b779"
           ],
           [
            0.7777777777777778,
            "#6ece58"
           ],
           [
            0.8888888888888888,
            "#b5de2b"
           ],
           [
            1,
            "#fde725"
           ]
          ],
          "size": 12
         },
         "mode": "markers",
         "text": [
          "{'Country/Region': 'Afghanistan', 'Date': '2020-01-22', 'Confirmed': 0, 'Deaths': 0, 'Recovered': 0, 'Active': 0}",
          "{'Country/Region': 'Albania', 'Date': '2020-01-22', 'Confirmed': 0, 'Deaths': 0, 'Recovered': 0, 'Active': 0}",
          "{'Country/Region': 'Algeria', 'Date': '2020-01-22', 'Confirmed': 0, 'Deaths': 0, 'Recovered': 0, 'Active': 0}",
          "{'Country/Region': 'Andorra', 'Date': '2020-01-22', 'Confirmed': 0, 'Deaths': 0, 'Recovered': 0, 'Active': 0}",
          "{'Country/Region': 'Angola', 'Date': '2020-01-22', 'Confirmed': 0, 'Deaths': 0, 'Recovered': 0, 'Active': 0}",
          "{'Country/Region': 'Antigua and Barbuda', 'Date': '2020-01-22', 'Confirmed': 0, 'Deaths': 0, 'Recovered': 0, 'Active': 0}",
          "{'Country/Region': 'Argentina', 'Date': '2020-01-22', 'Confirmed': 0, 'Deaths': 0, 'Recovered': 0, 'Active': 0}",
          "{'Country/Region': 'Armenia', 'Date': '2020-01-22', 'Confirmed': 0, 'Deaths': 0, 'Recovered': 0, 'Active': 0}",
          "{'Country/Region': 'Australia', 'Date': '2020-01-22', 'Confirmed': 0, 'Deaths': 0, 'Recovered': 0, 'Active': 0}",
          "{'Country/Region': 'Australia', 'Date': '2020-01-22', 'Confirmed': 0, 'Deaths': 0, 'Recovered': 0, 'Active': 0}",
          "{'Country/Region': 'Australia', 'Date': '2020-01-22', 'Confirmed': 0, 'Deaths': 0, 'Recovered': 0, 'Active': 0}",
          "{'Country/Region': 'Australia', 'Date': '2020-01-22', 'Confirmed': 0, 'Deaths': 0, 'Recovered': 0, 'Active': 0}",
          "{'Country/Region': 'Australia', 'Date': '2020-01-22', 'Confirmed': 0, 'Deaths': 0, 'Recovered': 0, 'Active': 0}",
          "{'Country/Region': 'Australia', 'Date': '2020-01-22', 'Confirmed': 0, 'Deaths': 0, 'Recovered': 0, 'Active': 0}",
          "{'Country/Region': 'Australia', 'Date': '2020-01-22', 'Confirmed': 0, 'Deaths': 0, 'Recovered': 0, 'Active': 0}",
          "{'Country/Region': 'Australia', 'Date': '2020-01-22', 'Confirmed': 0, 'Deaths': 0, 'Recovered': 0, 'Active': 0}",
          "{'Country/Region': 'Austria', 'Date': '2020-01-22', 'Confirmed': 0, 'Deaths': 0, 'Recovered': 0, 'Active': 0}",
          "{'Country/Region': 'Azerbaijan', 'Date': '2020-01-22', 'Confirmed': 0, 'Deaths': 0, 'Recovered': 0, 'Active': 0}",
          "{'Country/Region': 'Bahamas', 'Date': '2020-01-22', 'Confirmed': 0, 'Deaths': 0, 'Recovered': 0, 'Active': 0}",
          "{'Country/Region': 'Bahrain', 'Date': '2020-01-22', 'Confirmed': 0, 'Deaths': 0, 'Recovered': 0, 'Active': 0}",
          "{'Country/Region': 'Bangladesh', 'Date': '2020-01-22', 'Confirmed': 0, 'Deaths': 0, 'Recovered': 0, 'Active': 0}",
          "{'Country/Region': 'Barbados', 'Date': '2020-01-22', 'Confirmed': 0, 'Deaths': 0, 'Recovered': 0, 'Active': 0}",
          "{'Country/Region': 'Belarus', 'Date': '2020-01-22', 'Confirmed': 0, 'Deaths': 0, 'Recovered': 0, 'Active': 0}",
          "{'Country/Region': 'Belgium', 'Date': '2020-01-22', 'Confirmed': 0, 'Deaths': 0, 'Recovered': 0, 'Active': 0}",
          "{'Country/Region': 'Benin', 'Date': '2020-01-22', 'Confirmed': 0, 'Deaths': 0, 'Recovered': 0, 'Active': 0}",
          "{'Country/Region': 'Bhutan', 'Date': '2020-01-22', 'Confirmed': 0, 'Deaths': 0, 'Recovered': 0, 'Active': 0}",
          "{'Country/Region': 'Bolivia', 'Date': '2020-01-22', 'Confirmed': 0, 'Deaths': 0, 'Recovered': 0, 'Active': 0}",
          "{'Country/Region': 'Bosnia and Herzegovina', 'Date': '2020-01-22', 'Confirmed': 0, 'Deaths': 0, 'Recovered': 0, 'Active': 0}",
          "{'Country/Region': 'Brazil', 'Date': '2020-01-22', 'Confirmed': 0, 'Deaths': 0, 'Recovered': 0, 'Active': 0}",
          "{'Country/Region': 'Brunei', 'Date': '2020-01-22', 'Confirmed': 0, 'Deaths': 0, 'Recovered': 0, 'Active': 0}",
          "{'Country/Region': 'Bulgaria', 'Date': '2020-01-22', 'Confirmed': 0, 'Deaths': 0, 'Recovered': 0, 'Active': 0}",
          "{'Country/Region': 'Burkina Faso', 'Date': '2020-01-22', 'Confirmed': 0, 'Deaths': 0, 'Recovered': 0, 'Active': 0}",
          "{'Country/Region': 'Cabo Verde', 'Date': '2020-01-22', 'Confirmed': 0, 'Deaths': 0, 'Recovered': 0, 'Active': 0}",
          "{'Country/Region': 'Cambodia', 'Date': '2020-01-22', 'Confirmed': 0, 'Deaths': 0, 'Recovered': 0, 'Active': 0}",
          "{'Country/Region': 'Cameroon', 'Date': '2020-01-22', 'Confirmed': 0, 'Deaths': 0, 'Recovered': 0, 'Active': 0}",
          "{'Country/Region': 'Canada', 'Date': '2020-01-22', 'Confirmed': 0, 'Deaths': 0, 'Recovered': 0, 'Active': 0}",
          "{'Country/Region': 'Canada', 'Date': '2020-01-22', 'Confirmed': 0, 'Deaths': 0, 'Recovered': 0, 'Active': 0}",
          "{'Country/Region': 'Canada', 'Date': '2020-01-22', 'Confirmed': 0, 'Deaths': 0, 'Recovered': 0, 'Active': 0}",
          "{'Country/Region': 'Canada', 'Date': '2020-01-22', 'Confirmed': 0, 'Deaths': 0, 'Recovered': 0, 'Active': 0}",
          "{'Country/Region': 'Canada', 'Date': '2020-01-22', 'Confirmed': 0, 'Deaths': 0, 'Recovered': 0, 'Active': 0}",
          "{'Country/Region': 'Canada', 'Date': '2020-01-22', 'Confirmed': 0, 'Deaths': 0, 'Recovered': 0, 'Active': 0}",
          "{'Country/Region': 'Canada', 'Date': '2020-01-22', 'Confirmed': 0, 'Deaths': 0, 'Recovered': 0, 'Active': 0}",
          "{'Country/Region': 'Canada', 'Date': '2020-01-22', 'Confirmed': 0, 'Deaths': 0, 'Recovered': 0, 'Active': 0}",
          "{'Country/Region': 'Canada', 'Date': '2020-01-22', 'Confirmed': 0, 'Deaths': 0, 'Recovered': 0, 'Active': 0}",
          "{'Country/Region': 'Canada', 'Date': '2020-01-22', 'Confirmed': 0, 'Deaths': 0, 'Recovered': 0, 'Active': 0}",
          "{'Country/Region': 'Central African Republic', 'Date': '2020-01-22', 'Confirmed': 0, 'Deaths': 0, 'Recovered': 0, 'Active': 0}",
          "{'Country/Region': 'Chad', 'Date': '2020-01-22', 'Confirmed': 0, 'Deaths': 0, 'Recovered': 0, 'Active': 0}",
          "{'Country/Region': 'Chile', 'Date': '2020-01-22', 'Confirmed': 0, 'Deaths': 0, 'Recovered': 0, 'Active': 0}",
          "{'Country/Region': 'China', 'Date': '2020-01-22', 'Confirmed': 1, 'Deaths': 0, 'Recovered': 0, 'Active': 1}",
          "{'Country/Region': 'China', 'Date': '2020-01-22', 'Confirmed': 14, 'Deaths': 0, 'Recovered': 0, 'Active': 14}",
          "{'Country/Region': 'China', 'Date': '2020-01-22', 'Confirmed': 6, 'Deaths': 0, 'Recovered': 0, 'Active': 6}",
          "{'Country/Region': 'China', 'Date': '2020-01-22', 'Confirmed': 1, 'Deaths': 0, 'Recovered': 0, 'Active': 1}",
          "{'Country/Region': 'China', 'Date': '2020-01-22', 'Confirmed': 0, 'Deaths': 0, 'Recovered': 0, 'Active': 0}",
          "{'Country/Region': 'China', 'Date': '2020-01-22', 'Confirmed': 26, 'Deaths': 0, 'Recovered': 0, 'Active': 26}",
          "{'Country/Region': 'China', 'Date': '2020-01-22', 'Confirmed': 2, 'Deaths': 0, 'Recovered': 0, 'Active': 2}",
          "{'Country/Region': 'China', 'Date': '2020-01-22', 'Confirmed': 1, 'Deaths': 0, 'Recovered': 0, 'Active': 1}",
          "{'Country/Region': 'China', 'Date': '2020-01-22', 'Confirmed': 4, 'Deaths': 0, 'Recovered': 0, 'Active': 4}",
          "{'Country/Region': 'China', 'Date': '2020-01-22', 'Confirmed': 1, 'Deaths': 0, 'Recovered': 0, 'Active': 1}",
          "{'Country/Region': 'China', 'Date': '2020-01-22', 'Confirmed': 0, 'Deaths': 0, 'Recovered': 0, 'Active': 0}",
          "{'Country/Region': 'China', 'Date': '2020-01-22', 'Confirmed': 5, 'Deaths': 0, 'Recovered': 0, 'Active': 5}",
          "{'Country/Region': 'China', 'Date': '2020-01-22', 'Confirmed': 0, 'Deaths': 0, 'Recovered': 0, 'Active': 0}",
          "{'Country/Region': 'China', 'Date': '2020-01-22', 'Confirmed': 444, 'Deaths': 17, 'Recovered': 28, 'Active': 399}",
          "{'Country/Region': 'China', 'Date': '2020-01-22', 'Confirmed': 4, 'Deaths': 0, 'Recovered': 0, 'Active': 4}",
          "{'Country/Region': 'China', 'Date': '2020-01-22', 'Confirmed': 0, 'Deaths': 0, 'Recovered': 0, 'Active': 0}",
          "{'Country/Region': 'China', 'Date': '2020-01-22', 'Confirmed': 1, 'Deaths': 0, 'Recovered': 0, 'Active': 1}",
          "{'Country/Region': 'China', 'Date': '2020-01-22', 'Confirmed': 2, 'Deaths': 0, 'Recovered': 0, 'Active': 2}",
          "{'Country/Region': 'China', 'Date': '2020-01-22', 'Confirmed': 0, 'Deaths': 0, 'Recovered': 0, 'Active': 0}",
          "{'Country/Region': 'China', 'Date': '2020-01-22', 'Confirmed': 2, 'Deaths': 0, 'Recovered': 0, 'Active': 2}",
          "{'Country/Region': 'China', 'Date': '2020-01-22', 'Confirmed': 1, 'Deaths': 0, 'Recovered': 0, 'Active': 1}",
          "{'Country/Region': 'China', 'Date': '2020-01-22', 'Confirmed': 1, 'Deaths': 0, 'Recovered': 0, 'Active': 1}",
          "{'Country/Region': 'China', 'Date': '2020-01-22', 'Confirmed': 0, 'Deaths': 0, 'Recovered': 0, 'Active': 0}",
          "{'Country/Region': 'China', 'Date': '2020-01-22', 'Confirmed': 0, 'Deaths': 0, 'Recovered': 0, 'Active': 0}",
          "{'Country/Region': 'China', 'Date': '2020-01-22', 'Confirmed': 2, 'Deaths': 0, 'Recovered': 0, 'Active': 2}",
          "{'Country/Region': 'China', 'Date': '2020-01-22', 'Confirmed': 9, 'Deaths': 0, 'Recovered': 0, 'Active': 9}",
          "{'Country/Region': 'China', 'Date': '2020-01-22', 'Confirmed': 1, 'Deaths': 0, 'Recovered': 0, 'Active': 1}",
          "{'Country/Region': 'China', 'Date': '2020-01-22', 'Confirmed': 5, 'Deaths': 0, 'Recovered': 0, 'Active': 5}",
          "{'Country/Region': 'China', 'Date': '2020-01-22', 'Confirmed': 4, 'Deaths': 0, 'Recovered': 0, 'Active': 4}",
          "{'Country/Region': 'China', 'Date': '2020-01-22', 'Confirmed': 0, 'Deaths': 0, 'Recovered': 0, 'Active': 0}",
          "{'Country/Region': 'China', 'Date': '2020-01-22', 'Confirmed': 0, 'Deaths': 0, 'Recovered': 0, 'Active': 0}",
          "{'Country/Region': 'China', 'Date': '2020-01-22', 'Confirmed': 1, 'Deaths': 0, 'Recovered': 0, 'Active': 1}",
          "{'Country/Region': 'China', 'Date': '2020-01-22', 'Confirmed': 10, 'Deaths': 0, 'Recovered': 0, 'Active': 10}",
          "{'Country/Region': 'Colombia', 'Date': '2020-01-22', 'Confirmed': 0, 'Deaths': 0, 'Recovered': 0, 'Active': 0}",
          "{'Country/Region': 'Congo (Brazzaville)', 'Date': '2020-01-22', 'Confirmed': 0, 'Deaths': 0, 'Recovered': 0, 'Active': 0}",
          "{'Country/Region': 'Congo (Kinshasa)', 'Date': '2020-01-22', 'Confirmed': 0, 'Deaths': 0, 'Recovered': 0, 'Active': 0}",
          "{'Country/Region': 'Costa Rica', 'Date': '2020-01-22', 'Confirmed': 0, 'Deaths': 0, 'Recovered': 0, 'Active': 0}",
          "{'Country/Region': \"Cote d'Ivoire\", 'Date': '2020-01-22', 'Confirmed': 0, 'Deaths': 0, 'Recovered': 0, 'Active': 0}",
          "{'Country/Region': 'Croatia', 'Date': '2020-01-22', 'Confirmed': 0, 'Deaths': 0, 'Recovered': 0, 'Active': 0}",
          "{'Country/Region': 'Cuba', 'Date': '2020-01-22', 'Confirmed': 0, 'Deaths': 0, 'Recovered': 0, 'Active': 0}",
          "{'Country/Region': 'Cyprus', 'Date': '2020-01-22', 'Confirmed': 0, 'Deaths': 0, 'Recovered': 0, 'Active': 0}",
          "{'Country/Region': 'Czechia', 'Date': '2020-01-22', 'Confirmed': 0, 'Deaths': 0, 'Recovered': 0, 'Active': 0}",
          "{'Country/Region': 'Denmark', 'Date': '2020-01-22', 'Confirmed': 0, 'Deaths': 0, 'Recovered': 0, 'Active': 0}",
          "{'Country/Region': 'Greenland', 'Date': '2020-01-22', 'Confirmed': 0, 'Deaths': 0, 'Recovered': 0, 'Active': 0}",
          "{'Country/Region': 'Denmark', 'Date': '2020-01-22', 'Confirmed': 0, 'Deaths': 0, 'Recovered': 0, 'Active': 0}",
          "{'Country/Region': 'Djibouti', 'Date': '2020-01-22', 'Confirmed': 0, 'Deaths': 0, 'Recovered': 0, 'Active': 0}",
          "{'Country/Region': 'Dominican Republic', 'Date': '2020-01-22', 'Confirmed': 0, 'Deaths': 0, 'Recovered': 0, 'Active': 0}",
          "{'Country/Region': 'Ecuador', 'Date': '2020-01-22', 'Confirmed': 0, 'Deaths': 0, 'Recovered': 0, 'Active': 0}",
          "{'Country/Region': 'Egypt', 'Date': '2020-01-22', 'Confirmed': 0, 'Deaths': 0, 'Recovered': 0, 'Active': 0}",
          "{'Country/Region': 'El Salvador', 'Date': '2020-01-22', 'Confirmed': 0, 'Deaths': 0, 'Recovered': 0, 'Active': 0}",
          "{'Country/Region': 'Equatorial Guinea', 'Date': '2020-01-22', 'Confirmed': 0, 'Deaths': 0, 'Recovered': 0, 'Active': 0}",
          "{'Country/Region': 'Eritrea', 'Date': '2020-01-22', 'Confirmed': 0, 'Deaths': 0, 'Recovered': 0, 'Active': 0}",
          "{'Country/Region': 'Estonia', 'Date': '2020-01-22', 'Confirmed': 0, 'Deaths': 0, 'Recovered': 0, 'Active': 0}",
          "{'Country/Region': 'Eswatini', 'Date': '2020-01-22', 'Confirmed': 0, 'Deaths': 0, 'Recovered': 0, 'Active': 0}",
          "{'Country/Region': 'Ethiopia', 'Date': '2020-01-22', 'Confirmed': 0, 'Deaths': 0, 'Recovered': 0, 'Active': 0}",
          "{'Country/Region': 'Fiji', 'Date': '2020-01-22', 'Confirmed': 0, 'Deaths': 0, 'Recovered': 0, 'Active': 0}",
          "{'Country/Region': 'Finland', 'Date': '2020-01-22', 'Confirmed': 0, 'Deaths': 0, 'Recovered': 0, 'Active': 0}",
          "{'Country/Region': 'France', 'Date': '2020-01-22', 'Confirmed': 0, 'Deaths': 0, 'Recovered': 0, 'Active': 0}",
          "{'Country/Region': 'France', 'Date': '2020-01-22', 'Confirmed': 0, 'Deaths': 0, 'Recovered': 0, 'Active': 0}",
          "{'Country/Region': 'France', 'Date': '2020-01-22', 'Confirmed': 0, 'Deaths': 0, 'Recovered': 0, 'Active': 0}",
          "{'Country/Region': 'France', 'Date': '2020-01-22', 'Confirmed': 0, 'Deaths': 0, 'Recovered': 0, 'Active': 0}",
          "{'Country/Region': 'France', 'Date': '2020-01-22', 'Confirmed': 0, 'Deaths': 0, 'Recovered': 0, 'Active': 0}",
          "{'Country/Region': 'France', 'Date': '2020-01-22', 'Confirmed': 0, 'Deaths': 0, 'Recovered': 0, 'Active': 0}",
          "{'Country/Region': 'France', 'Date': '2020-01-22', 'Confirmed': 0, 'Deaths': 0, 'Recovered': 0, 'Active': 0}",
          "{'Country/Region': 'France', 'Date': '2020-01-22', 'Confirmed': 0, 'Deaths': 0, 'Recovered': 0, 'Active': 0}",
          "{'Country/Region': 'France', 'Date': '2020-01-22', 'Confirmed': 0, 'Deaths': 0, 'Recovered': 0, 'Active': 0}",
          "{'Country/Region': 'France', 'Date': '2020-01-22', 'Confirmed': 0, 'Deaths': 0, 'Recovered': 0, 'Active': 0}",
          "{'Country/Region': 'Gabon', 'Date': '2020-01-22', 'Confirmed': 0, 'Deaths': 0, 'Recovered': 0, 'Active': 0}",
          "{'Country/Region': 'Gambia', 'Date': '2020-01-22', 'Confirmed': 0, 'Deaths': 0, 'Recovered': 0, 'Active': 0}",
          "{'Country/Region': 'Georgia', 'Date': '2020-01-22', 'Confirmed': 0, 'Deaths': 0, 'Recovered': 0, 'Active': 0}",
          "{'Country/Region': 'Germany', 'Date': '2020-01-22', 'Confirmed': 0, 'Deaths': 0, 'Recovered': 0, 'Active': 0}",
          "{'Country/Region': 'Ghana', 'Date': '2020-01-22', 'Confirmed': 0, 'Deaths': 0, 'Recovered': 0, 'Active': 0}",
          "{'Country/Region': 'Greece', 'Date': '2020-01-22', 'Confirmed': 0, 'Deaths': 0, 'Recovered': 0, 'Active': 0}",
          "{'Country/Region': 'Guatemala', 'Date': '2020-01-22', 'Confirmed': 0, 'Deaths': 0, 'Recovered': 0, 'Active': 0}",
          "{'Country/Region': 'Guinea', 'Date': '2020-01-22', 'Confirmed': 0, 'Deaths': 0, 'Recovered': 0, 'Active': 0}",
          "{'Country/Region': 'Guyana', 'Date': '2020-01-22', 'Confirmed': 0, 'Deaths': 0, 'Recovered': 0, 'Active': 0}",
          "{'Country/Region': 'Haiti', 'Date': '2020-01-22', 'Confirmed': 0, 'Deaths': 0, 'Recovered': 0, 'Active': 0}",
          "{'Country/Region': 'Holy See', 'Date': '2020-01-22', 'Confirmed': 0, 'Deaths': 0, 'Recovered': 0, 'Active': 0}",
          "{'Country/Region': 'Honduras', 'Date': '2020-01-22', 'Confirmed': 0, 'Deaths': 0, 'Recovered': 0, 'Active': 0}",
          "{'Country/Region': 'Hungary', 'Date': '2020-01-22', 'Confirmed': 0, 'Deaths': 0, 'Recovered': 0, 'Active': 0}",
          "{'Country/Region': 'Iceland', 'Date': '2020-01-22', 'Confirmed': 0, 'Deaths': 0, 'Recovered': 0, 'Active': 0}",
          "{'Country/Region': 'India', 'Date': '2020-01-22', 'Confirmed': 0, 'Deaths': 0, 'Recovered': 0, 'Active': 0}",
          "{'Country/Region': 'Indonesia', 'Date': '2020-01-22', 'Confirmed': 0, 'Deaths': 0, 'Recovered': 0, 'Active': 0}",
          "{'Country/Region': 'Iran', 'Date': '2020-01-22', 'Confirmed': 0, 'Deaths': 0, 'Recovered': 0, 'Active': 0}",
          "{'Country/Region': 'Iraq', 'Date': '2020-01-22', 'Confirmed': 0, 'Deaths': 0, 'Recovered': 0, 'Active': 0}",
          "{'Country/Region': 'Ireland', 'Date': '2020-01-22', 'Confirmed': 0, 'Deaths': 0, 'Recovered': 0, 'Active': 0}",
          "{'Country/Region': 'Israel', 'Date': '2020-01-22', 'Confirmed': 0, 'Deaths': 0, 'Recovered': 0, 'Active': 0}",
          "{'Country/Region': 'Italy', 'Date': '2020-01-22', 'Confirmed': 0, 'Deaths': 0, 'Recovered': 0, 'Active': 0}",
          "{'Country/Region': 'Jamaica', 'Date': '2020-01-22', 'Confirmed': 0, 'Deaths': 0, 'Recovered': 0, 'Active': 0}",
          "{'Country/Region': 'Japan', 'Date': '2020-01-22', 'Confirmed': 2, 'Deaths': 0, 'Recovered': 0, 'Active': 2}",
          "{'Country/Region': 'Jordan', 'Date': '2020-01-22', 'Confirmed': 0, 'Deaths': 0, 'Recovered': 0, 'Active': 0}",
          "{'Country/Region': 'Kazakhstan', 'Date': '2020-01-22', 'Confirmed': 0, 'Deaths': 0, 'Recovered': 0, 'Active': 0}",
          "{'Country/Region': 'Kenya', 'Date': '2020-01-22', 'Confirmed': 0, 'Deaths': 0, 'Recovered': 0, 'Active': 0}",
          "{'Country/Region': 'South Korea', 'Date': '2020-01-22', 'Confirmed': 1, 'Deaths': 0, 'Recovered': 0, 'Active': 1}",
          "{'Country/Region': 'Kuwait', 'Date': '2020-01-22', 'Confirmed': 0, 'Deaths': 0, 'Recovered': 0, 'Active': 0}",
          "{'Country/Region': 'Kyrgyzstan', 'Date': '2020-01-22', 'Confirmed': 0, 'Deaths': 0, 'Recovered': 0, 'Active': 0}",
          "{'Country/Region': 'Latvia', 'Date': '2020-01-22', 'Confirmed': 0, 'Deaths': 0, 'Recovered': 0, 'Active': 0}",
          "{'Country/Region': 'Lebanon', 'Date': '2020-01-22', 'Confirmed': 0, 'Deaths': 0, 'Recovered': 0, 'Active': 0}",
          "{'Country/Region': 'Liberia', 'Date': '2020-01-22', 'Confirmed': 0, 'Deaths': 0, 'Recovered': 0, 'Active': 0}",
          "{'Country/Region': 'Liechtenstein', 'Date': '2020-01-22', 'Confirmed': 0, 'Deaths': 0, 'Recovered': 0, 'Active': 0}",
          "{'Country/Region': 'Lithuania', 'Date': '2020-01-22', 'Confirmed': 0, 'Deaths': 0, 'Recovered': 0, 'Active': 0}",
          "{'Country/Region': 'Luxembourg', 'Date': '2020-01-22', 'Confirmed': 0, 'Deaths': 0, 'Recovered': 0, 'Active': 0}",
          "{'Country/Region': 'Madagascar', 'Date': '2020-01-22', 'Confirmed': 0, 'Deaths': 0, 'Recovered': 0, 'Active': 0}",
          "{'Country/Region': 'Malaysia', 'Date': '2020-01-22', 'Confirmed': 0, 'Deaths': 0, 'Recovered': 0, 'Active': 0}",
          "{'Country/Region': 'Maldives', 'Date': '2020-01-22', 'Confirmed': 0, 'Deaths': 0, 'Recovered': 0, 'Active': 0}",
          "{'Country/Region': 'Malta', 'Date': '2020-01-22', 'Confirmed': 0, 'Deaths': 0, 'Recovered': 0, 'Active': 0}",
          "{'Country/Region': 'Mauritania', 'Date': '2020-01-22', 'Confirmed': 0, 'Deaths': 0, 'Recovered': 0, 'Active': 0}",
          "{'Country/Region': 'Mauritius', 'Date': '2020-01-22', 'Confirmed': 0, 'Deaths': 0, 'Recovered': 0, 'Active': 0}",
          "{'Country/Region': 'Mexico', 'Date': '2020-01-22', 'Confirmed': 0, 'Deaths': 0, 'Recovered': 0, 'Active': 0}",
          "{'Country/Region': 'Moldova', 'Date': '2020-01-22', 'Confirmed': 0, 'Deaths': 0, 'Recovered': 0, 'Active': 0}",
          "{'Country/Region': 'Monaco', 'Date': '2020-01-22', 'Confirmed': 0, 'Deaths': 0, 'Recovered': 0, 'Active': 0}",
          "{'Country/Region': 'Mongolia', 'Date': '2020-01-22', 'Confirmed': 0, 'Deaths': 0, 'Recovered': 0, 'Active': 0}",
          "{'Country/Region': 'Montenegro', 'Date': '2020-01-22', 'Confirmed': 0, 'Deaths': 0, 'Recovered': 0, 'Active': 0}",
          "{'Country/Region': 'Morocco', 'Date': '2020-01-22', 'Confirmed': 0, 'Deaths': 0, 'Recovered': 0, 'Active': 0}",
          "{'Country/Region': 'Namibia', 'Date': '2020-01-22', 'Confirmed': 0, 'Deaths': 0, 'Recovered': 0, 'Active': 0}",
          "{'Country/Region': 'Nepal', 'Date': '2020-01-22', 'Confirmed': 0, 'Deaths': 0, 'Recovered': 0, 'Active': 0}",
          "{'Country/Region': 'Netherlands', 'Date': '2020-01-22', 'Confirmed': 0, 'Deaths': 0, 'Recovered': 0, 'Active': 0}",
          "{'Country/Region': 'Netherlands', 'Date': '2020-01-22', 'Confirmed': 0, 'Deaths': 0, 'Recovered': 0, 'Active': 0}",
          "{'Country/Region': 'Netherlands', 'Date': '2020-01-22', 'Confirmed': 0, 'Deaths': 0, 'Recovered': 0, 'Active': 0}",
          "{'Country/Region': 'Netherlands', 'Date': '2020-01-22', 'Confirmed': 0, 'Deaths': 0, 'Recovered': 0, 'Active': 0}",
          "{'Country/Region': 'New Zealand', 'Date': '2020-01-22', 'Confirmed': 0, 'Deaths': 0, 'Recovered': 0, 'Active': 0}",
          "{'Country/Region': 'Nicaragua', 'Date': '2020-01-22', 'Confirmed': 0, 'Deaths': 0, 'Recovered': 0, 'Active': 0}",
          "{'Country/Region': 'Niger', 'Date': '2020-01-22', 'Confirmed': 0, 'Deaths': 0, 'Recovered': 0, 'Active': 0}",
          "{'Country/Region': 'Nigeria', 'Date': '2020-01-22', 'Confirmed': 0, 'Deaths': 0, 'Recovered': 0, 'Active': 0}",
          "{'Country/Region': 'North Macedonia', 'Date': '2020-01-22', 'Confirmed': 0, 'Deaths': 0, 'Recovered': 0, 'Active': 0}",
          "{'Country/Region': 'Norway', 'Date': '2020-01-22', 'Confirmed': 0, 'Deaths': 0, 'Recovered': 0, 'Active': 0}",
          "{'Country/Region': 'Oman', 'Date': '2020-01-22', 'Confirmed': 0, 'Deaths': 0, 'Recovered': 0, 'Active': 0}",
          "{'Country/Region': 'Pakistan', 'Date': '2020-01-22', 'Confirmed': 0, 'Deaths': 0, 'Recovered': 0, 'Active': 0}",
          "{'Country/Region': 'Panama', 'Date': '2020-01-22', 'Confirmed': 0, 'Deaths': 0, 'Recovered': 0, 'Active': 0}",
          "{'Country/Region': 'Papua New Guinea', 'Date': '2020-01-22', 'Confirmed': 0, 'Deaths': 0, 'Recovered': 0, 'Active': 0}",
          "{'Country/Region': 'Paraguay', 'Date': '2020-01-22', 'Confirmed': 0, 'Deaths': 0, 'Recovered': 0, 'Active': 0}",
          "{'Country/Region': 'Peru', 'Date': '2020-01-22', 'Confirmed': 0, 'Deaths': 0, 'Recovered': 0, 'Active': 0}",
          "{'Country/Region': 'Philippines', 'Date': '2020-01-22', 'Confirmed': 0, 'Deaths': 0, 'Recovered': 0, 'Active': 0}",
          "{'Country/Region': 'Poland', 'Date': '2020-01-22', 'Confirmed': 0, 'Deaths': 0, 'Recovered': 0, 'Active': 0}",
          "{'Country/Region': 'Portugal', 'Date': '2020-01-22', 'Confirmed': 0, 'Deaths': 0, 'Recovered': 0, 'Active': 0}",
          "{'Country/Region': 'Qatar', 'Date': '2020-01-22', 'Confirmed': 0, 'Deaths': 0, 'Recovered': 0, 'Active': 0}",
          "{'Country/Region': 'Romania', 'Date': '2020-01-22', 'Confirmed': 0, 'Deaths': 0, 'Recovered': 0, 'Active': 0}",
          "{'Country/Region': 'Russia', 'Date': '2020-01-22', 'Confirmed': 0, 'Deaths': 0, 'Recovered': 0, 'Active': 0}",
          "{'Country/Region': 'Rwanda', 'Date': '2020-01-22', 'Confirmed': 0, 'Deaths': 0, 'Recovered': 0, 'Active': 0}",
          "{'Country/Region': 'Saint Lucia', 'Date': '2020-01-22', 'Confirmed': 0, 'Deaths': 0, 'Recovered': 0, 'Active': 0}",
          "{'Country/Region': 'Saint Vincent and the Grenadines', 'Date': '2020-01-22', 'Confirmed': 0, 'Deaths': 0, 'Recovered': 0, 'Active': 0}",
          "{'Country/Region': 'San Marino', 'Date': '2020-01-22', 'Confirmed': 0, 'Deaths': 0, 'Recovered': 0, 'Active': 0}",
          "{'Country/Region': 'Saudi Arabia', 'Date': '2020-01-22', 'Confirmed': 0, 'Deaths': 0, 'Recovered': 0, 'Active': 0}",
          "{'Country/Region': 'Senegal', 'Date': '2020-01-22', 'Confirmed': 0, 'Deaths': 0, 'Recovered': 0, 'Active': 0}",
          "{'Country/Region': 'Serbia', 'Date': '2020-01-22', 'Confirmed': 0, 'Deaths': 0, 'Recovered': 0, 'Active': 0}",
          "{'Country/Region': 'Seychelles', 'Date': '2020-01-22', 'Confirmed': 0, 'Deaths': 0, 'Recovered': 0, 'Active': 0}",
          "{'Country/Region': 'Singapore', 'Date': '2020-01-22', 'Confirmed': 0, 'Deaths': 0, 'Recovered': 0, 'Active': 0}",
          "{'Country/Region': 'Slovakia', 'Date': '2020-01-22', 'Confirmed': 0, 'Deaths': 0, 'Recovered': 0, 'Active': 0}",
          "{'Country/Region': 'Slovenia', 'Date': '2020-01-22', 'Confirmed': 0, 'Deaths': 0, 'Recovered': 0, 'Active': 0}",
          "{'Country/Region': 'Somalia', 'Date': '2020-01-22', 'Confirmed': 0, 'Deaths': 0, 'Recovered': 0, 'Active': 0}",
          "{'Country/Region': 'South Africa', 'Date': '2020-01-22', 'Confirmed': 0, 'Deaths': 0, 'Recovered': 0, 'Active': 0}",
          "{'Country/Region': 'Spain', 'Date': '2020-01-22', 'Confirmed': 0, 'Deaths': 0, 'Recovered': 0, 'Active': 0}",
          "{'Country/Region': 'Sri Lanka', 'Date': '2020-01-22', 'Confirmed': 0, 'Deaths': 0, 'Recovered': 0, 'Active': 0}",
          "{'Country/Region': 'Sudan', 'Date': '2020-01-22', 'Confirmed': 0, 'Deaths': 0, 'Recovered': 0, 'Active': 0}",
          "{'Country/Region': 'Suriname', 'Date': '2020-01-22', 'Confirmed': 0, 'Deaths': 0, 'Recovered': 0, 'Active': 0}",
          "{'Country/Region': 'Sweden', 'Date': '2020-01-22', 'Confirmed': 0, 'Deaths': 0, 'Recovered': 0, 'Active': 0}",
          "{'Country/Region': 'Switzerland', 'Date': '2020-01-22', 'Confirmed': 0, 'Deaths': 0, 'Recovered': 0, 'Active': 0}",
          "{'Country/Region': 'Taiwan*', 'Date': '2020-01-22', 'Confirmed': 1, 'Deaths': 0, 'Recovered': 0, 'Active': 1}",
          "{'Country/Region': 'Tanzania', 'Date': '2020-01-22', 'Confirmed': 0, 'Deaths': 0, 'Recovered': 0, 'Active': 0}",
          "{'Country/Region': 'Thailand', 'Date': '2020-01-22', 'Confirmed': 2, 'Deaths': 0, 'Recovered': 0, 'Active': 2}",
          "{'Country/Region': 'Togo', 'Date': '2020-01-22', 'Confirmed': 0, 'Deaths': 0, 'Recovered': 0, 'Active': 0}",
          "{'Country/Region': 'Trinidad and Tobago', 'Date': '2020-01-22', 'Confirmed': 0, 'Deaths': 0, 'Recovered': 0, 'Active': 0}",
          "{'Country/Region': 'Tunisia', 'Date': '2020-01-22', 'Confirmed': 0, 'Deaths': 0, 'Recovered': 0, 'Active': 0}",
          "{'Country/Region': 'Turkey', 'Date': '2020-01-22', 'Confirmed': 0, 'Deaths': 0, 'Recovered': 0, 'Active': 0}",
          "{'Country/Region': 'Uganda', 'Date': '2020-01-22', 'Confirmed': 0, 'Deaths': 0, 'Recovered': 0, 'Active': 0}",
          "{'Country/Region': 'Ukraine', 'Date': '2020-01-22', 'Confirmed': 0, 'Deaths': 0, 'Recovered': 0, 'Active': 0}",
          "{'Country/Region': 'United Arab Emirates', 'Date': '2020-01-22', 'Confirmed': 0, 'Deaths': 0, 'Recovered': 0, 'Active': 0}",
          "{'Country/Region': 'United Kingdom', 'Date': '2020-01-22', 'Confirmed': 0, 'Deaths': 0, 'Recovered': 0, 'Active': 0}",
          "{'Country/Region': 'United Kingdom', 'Date': '2020-01-22', 'Confirmed': 0, 'Deaths': 0, 'Recovered': 0, 'Active': 0}",
          "{'Country/Region': 'United Kingdom', 'Date': '2020-01-22', 'Confirmed': 0, 'Deaths': 0, 'Recovered': 0, 'Active': 0}",
          "{'Country/Region': 'United Kingdom', 'Date': '2020-01-22', 'Confirmed': 0, 'Deaths': 0, 'Recovered': 0, 'Active': 0}",
          "{'Country/Region': 'United Kingdom', 'Date': '2020-01-22', 'Confirmed': 0, 'Deaths': 0, 'Recovered': 0, 'Active': 0}",
          "{'Country/Region': 'United Kingdom', 'Date': '2020-01-22', 'Confirmed': 0, 'Deaths': 0, 'Recovered': 0, 'Active': 0}",
          "{'Country/Region': 'United Kingdom', 'Date': '2020-01-22', 'Confirmed': 0, 'Deaths': 0, 'Recovered': 0, 'Active': 0}",
          "{'Country/Region': 'Uruguay', 'Date': '2020-01-22', 'Confirmed': 0, 'Deaths': 0, 'Recovered': 0, 'Active': 0}",
          "{'Country/Region': 'US', 'Date': '2020-01-22', 'Confirmed': 1, 'Deaths': 0, 'Recovered': 0, 'Active': 1}",
          "{'Country/Region': 'Uzbekistan', 'Date': '2020-01-22', 'Confirmed': 0, 'Deaths': 0, 'Recovered': 0, 'Active': 0}",
          "{'Country/Region': 'Venezuela', 'Date': '2020-01-22', 'Confirmed': 0, 'Deaths': 0, 'Recovered': 0, 'Active': 0}",
          "{'Country/Region': 'Vietnam', 'Date': '2020-01-22', 'Confirmed': 0, 'Deaths': 0, 'Recovered': 0, 'Active': 0}",
          "{'Country/Region': 'Zambia', 'Date': '2020-01-22', 'Confirmed': 0, 'Deaths': 0, 'Recovered': 0, 'Active': 0}",
          "{'Country/Region': 'Zimbabwe', 'Date': '2020-01-22', 'Confirmed': 0, 'Deaths': 0, 'Recovered': 0, 'Active': 0}",
          "{'Country/Region': 'Dominica', 'Date': '2020-01-22', 'Confirmed': 0, 'Deaths': 0, 'Recovered': 0, 'Active': 0}",
          "{'Country/Region': 'Grenada', 'Date': '2020-01-22', 'Confirmed': 0, 'Deaths': 0, 'Recovered': 0, 'Active': 0}",
          "{'Country/Region': 'Mozambique', 'Date': '2020-01-22', 'Confirmed': 0, 'Deaths': 0, 'Recovered': 0, 'Active': 0}",
          "{'Country/Region': 'Syria', 'Date': '2020-01-22', 'Confirmed': 0, 'Deaths': 0, 'Recovered': 0, 'Active': 0}",
          "{'Country/Region': 'Timor-Leste', 'Date': '2020-01-22', 'Confirmed': 0, 'Deaths': 0, 'Recovered': 0, 'Active': 0}",
          "{'Country/Region': 'Belize', 'Date': '2020-01-22', 'Confirmed': 0, 'Deaths': 0, 'Recovered': 0, 'Active': 0}",
          "{'Country/Region': 'Laos', 'Date': '2020-01-22', 'Confirmed': 0, 'Deaths': 0, 'Recovered': 0, 'Active': 0}",
          "{'Country/Region': 'Libya', 'Date': '2020-01-22', 'Confirmed': 0, 'Deaths': 0, 'Recovered': 0, 'Active': 0}",
          "{'Country/Region': 'West Bank and Gaza', 'Date': '2020-01-22', 'Confirmed': 0, 'Deaths': 0, 'Recovered': 0, 'Active': 0}",
          "{'Country/Region': 'Guinea-Bissau', 'Date': '2020-01-22', 'Confirmed': 0, 'Deaths': 0, 'Recovered': 0, 'Active': 0}",
          "{'Country/Region': 'Mali', 'Date': '2020-01-22', 'Confirmed': 0, 'Deaths': 0, 'Recovered': 0, 'Active': 0}",
          "{'Country/Region': 'Saint Kitts and Nevis', 'Date': '2020-01-22', 'Confirmed': 0, 'Deaths': 0, 'Recovered': 0, 'Active': 0}",
          "{'Country/Region': 'Canada', 'Date': '2020-01-22', 'Confirmed': 0, 'Deaths': 0, 'Recovered': 0, 'Active': 0}",
          "{'Country/Region': 'Canada', 'Date': '2020-01-22', 'Confirmed': 0, 'Deaths': 0, 'Recovered': 0, 'Active': 0}",
          "{'Country/Region': 'Kosovo', 'Date': '2020-01-22', 'Confirmed': 0, 'Deaths': 0, 'Recovered': 0, 'Active': 0}",
          "{'Country/Region': 'Burma', 'Date': '2020-01-22', 'Confirmed': 0, 'Deaths': 0, 'Recovered': 0, 'Active': 0}",
          "{'Country/Region': 'United Kingdom', 'Date': '2020-01-22', 'Confirmed': 0, 'Deaths': 0, 'Recovered': 0, 'Active': 0}",
          "{'Country/Region': 'United Kingdom', 'Date': '2020-01-22', 'Confirmed': 0, 'Deaths': 0, 'Recovered': 0, 'Active': 0}",
          "{'Country/Region': 'United Kingdom', 'Date': '2020-01-22', 'Confirmed': 0, 'Deaths': 0, 'Recovered': 0, 'Active': 0}",
          "{'Country/Region': 'Botswana', 'Date': '2020-01-22', 'Confirmed': 0, 'Deaths': 0, 'Recovered': 0, 'Active': 0}",
          "{'Country/Region': 'Burundi', 'Date': '2020-01-22', 'Confirmed': 0, 'Deaths': 0, 'Recovered': 0, 'Active': 0}",
          "{'Country/Region': 'Sierra Leone', 'Date': '2020-01-22', 'Confirmed': 0, 'Deaths': 0, 'Recovered': 0, 'Active': 0}",
          "{'Country/Region': 'Malawi', 'Date': '2020-01-22', 'Confirmed': 0, 'Deaths': 0, 'Recovered': 0, 'Active': 0}",
          "{'Country/Region': 'United Kingdom', 'Date': '2020-01-22', 'Confirmed': 0, 'Deaths': 0, 'Recovered': 0, 'Active': 0}",
          "{'Country/Region': 'France', 'Date': '2020-01-22', 'Confirmed': 0, 'Deaths': 0, 'Recovered': 0, 'Active': 0}",
          "{'Country/Region': 'South Sudan', 'Date': '2020-01-22', 'Confirmed': 0, 'Deaths': 0, 'Recovered': 0, 'Active': 0}",
          "{'Country/Region': 'Western Sahara', 'Date': '2020-01-22', 'Confirmed': 0, 'Deaths': 0, 'Recovered': 0, 'Active': 0}",
          "{'Country/Region': 'Sao Tome and Principe', 'Date': '2020-01-22', 'Confirmed': 0, 'Deaths': 0, 'Recovered': 0, 'Active': 0}",
          "{'Country/Region': 'Yemen', 'Date': '2020-01-22', 'Confirmed': 0, 'Deaths': 0, 'Recovered': 0, 'Active': 0}",
          "{'Country/Region': 'Comoros', 'Date': '2020-01-22', 'Confirmed': 0, 'Deaths': 0, 'Recovered': 0, 'Active': 0}",
          "{'Country/Region': 'Tajikistan', 'Date': '2020-01-22', 'Confirmed': 0, 'Deaths': 0, 'Recovered': 0, 'Active': 0}",
          "{'Country/Region': 'Lesotho', 'Date': '2020-01-22', 'Confirmed': 0, 'Deaths': 0, 'Recovered': 0, 'Active': 0}"
         ],
         "type": "scattergeo"
        }
       ],
       "layout": {
        "font": {
         "size": 12
        },
        "height": 600,
        "template": {
         "data": {
          "bar": [
           {
            "error_x": {
             "color": "#2a3f5f"
            },
            "error_y": {
             "color": "#2a3f5f"
            },
            "marker": {
             "line": {
              "color": "#E5ECF6",
              "width": 0.5
             },
             "pattern": {
              "fillmode": "overlay",
              "size": 10,
              "solidity": 0.2
             }
            },
            "type": "bar"
           }
          ],
          "barpolar": [
           {
            "marker": {
             "line": {
              "color": "#E5ECF6",
              "width": 0.5
             },
             "pattern": {
              "fillmode": "overlay",
              "size": 10,
              "solidity": 0.2
             }
            },
            "type": "barpolar"
           }
          ],
          "carpet": [
           {
            "aaxis": {
             "endlinecolor": "#2a3f5f",
             "gridcolor": "white",
             "linecolor": "white",
             "minorgridcolor": "white",
             "startlinecolor": "#2a3f5f"
            },
            "baxis": {
             "endlinecolor": "#2a3f5f",
             "gridcolor": "white",
             "linecolor": "white",
             "minorgridcolor": "white",
             "startlinecolor": "#2a3f5f"
            },
            "type": "carpet"
           }
          ],
          "choropleth": [
           {
            "colorbar": {
             "outlinewidth": 0,
             "ticks": ""
            },
            "type": "choropleth"
           }
          ],
          "contour": [
           {
            "colorbar": {
             "outlinewidth": 0,
             "ticks": ""
            },
            "colorscale": [
             [
              0,
              "#0d0887"
             ],
             [
              0.1111111111111111,
              "#46039f"
             ],
             [
              0.2222222222222222,
              "#7201a8"
             ],
             [
              0.3333333333333333,
              "#9c179e"
             ],
             [
              0.4444444444444444,
              "#bd3786"
             ],
             [
              0.5555555555555556,
              "#d8576b"
             ],
             [
              0.6666666666666666,
              "#ed7953"
             ],
             [
              0.7777777777777778,
              "#fb9f3a"
             ],
             [
              0.8888888888888888,
              "#fdca26"
             ],
             [
              1,
              "#f0f921"
             ]
            ],
            "type": "contour"
           }
          ],
          "contourcarpet": [
           {
            "colorbar": {
             "outlinewidth": 0,
             "ticks": ""
            },
            "type": "contourcarpet"
           }
          ],
          "heatmap": [
           {
            "colorbar": {
             "outlinewidth": 0,
             "ticks": ""
            },
            "colorscale": [
             [
              0,
              "#0d0887"
             ],
             [
              0.1111111111111111,
              "#46039f"
             ],
             [
              0.2222222222222222,
              "#7201a8"
             ],
             [
              0.3333333333333333,
              "#9c179e"
             ],
             [
              0.4444444444444444,
              "#bd3786"
             ],
             [
              0.5555555555555556,
              "#d8576b"
             ],
             [
              0.6666666666666666,
              "#ed7953"
             ],
             [
              0.7777777777777778,
              "#fb9f3a"
             ],
             [
              0.8888888888888888,
              "#fdca26"
             ],
             [
              1,
              "#f0f921"
             ]
            ],
            "type": "heatmap"
           }
          ],
          "heatmapgl": [
           {
            "colorbar": {
             "outlinewidth": 0,
             "ticks": ""
            },
            "colorscale": [
             [
              0,
              "#0d0887"
             ],
             [
              0.1111111111111111,
              "#46039f"
             ],
             [
              0.2222222222222222,
              "#7201a8"
             ],
             [
              0.3333333333333333,
              "#9c179e"
             ],
             [
              0.4444444444444444,
              "#bd3786"
             ],
             [
              0.5555555555555556,
              "#d8576b"
             ],
             [
              0.6666666666666666,
              "#ed7953"
             ],
             [
              0.7777777777777778,
              "#fb9f3a"
             ],
             [
              0.8888888888888888,
              "#fdca26"
             ],
             [
              1,
              "#f0f921"
             ]
            ],
            "type": "heatmapgl"
           }
          ],
          "histogram": [
           {
            "marker": {
             "pattern": {
              "fillmode": "overlay",
              "size": 10,
              "solidity": 0.2
             }
            },
            "type": "histogram"
           }
          ],
          "histogram2d": [
           {
            "colorbar": {
             "outlinewidth": 0,
             "ticks": ""
            },
            "colorscale": [
             [
              0,
              "#0d0887"
             ],
             [
              0.1111111111111111,
              "#46039f"
             ],
             [
              0.2222222222222222,
              "#7201a8"
             ],
             [
              0.3333333333333333,
              "#9c179e"
             ],
             [
              0.4444444444444444,
              "#bd3786"
             ],
             [
              0.5555555555555556,
              "#d8576b"
             ],
             [
              0.6666666666666666,
              "#ed7953"
             ],
             [
              0.7777777777777778,
              "#fb9f3a"
             ],
             [
              0.8888888888888888,
              "#fdca26"
             ],
             [
              1,
              "#f0f921"
             ]
            ],
            "type": "histogram2d"
           }
          ],
          "histogram2dcontour": [
           {
            "colorbar": {
             "outlinewidth": 0,
             "ticks": ""
            },
            "colorscale": [
             [
              0,
              "#0d0887"
             ],
             [
              0.1111111111111111,
              "#46039f"
             ],
             [
              0.2222222222222222,
              "#7201a8"
             ],
             [
              0.3333333333333333,
              "#9c179e"
             ],
             [
              0.4444444444444444,
              "#bd3786"
             ],
             [
              0.5555555555555556,
              "#d8576b"
             ],
             [
              0.6666666666666666,
              "#ed7953"
             ],
             [
              0.7777777777777778,
              "#fb9f3a"
             ],
             [
              0.8888888888888888,
              "#fdca26"
             ],
             [
              1,
              "#f0f921"
             ]
            ],
            "type": "histogram2dcontour"
           }
          ],
          "mesh3d": [
           {
            "colorbar": {
             "outlinewidth": 0,
             "ticks": ""
            },
            "type": "mesh3d"
           }
          ],
          "parcoords": [
           {
            "line": {
             "colorbar": {
              "outlinewidth": 0,
              "ticks": ""
             }
            },
            "type": "parcoords"
           }
          ],
          "pie": [
           {
            "automargin": true,
            "type": "pie"
           }
          ],
          "scatter": [
           {
            "fillpattern": {
             "fillmode": "overlay",
             "size": 10,
             "solidity": 0.2
            },
            "type": "scatter"
           }
          ],
          "scatter3d": [
           {
            "line": {
             "colorbar": {
              "outlinewidth": 0,
              "ticks": ""
             }
            },
            "marker": {
             "colorbar": {
              "outlinewidth": 0,
              "ticks": ""
             }
            },
            "type": "scatter3d"
           }
          ],
          "scattercarpet": [
           {
            "marker": {
             "colorbar": {
              "outlinewidth": 0,
              "ticks": ""
             }
            },
            "type": "scattercarpet"
           }
          ],
          "scattergeo": [
           {
            "marker": {
             "colorbar": {
              "outlinewidth": 0,
              "ticks": ""
             }
            },
            "type": "scattergeo"
           }
          ],
          "scattergl": [
           {
            "marker": {
             "colorbar": {
              "outlinewidth": 0,
              "ticks": ""
             }
            },
            "type": "scattergl"
           }
          ],
          "scattermapbox": [
           {
            "marker": {
             "colorbar": {
              "outlinewidth": 0,
              "ticks": ""
             }
            },
            "type": "scattermapbox"
           }
          ],
          "scatterpolar": [
           {
            "marker": {
             "colorbar": {
              "outlinewidth": 0,
              "ticks": ""
             }
            },
            "type": "scatterpolar"
           }
          ],
          "scatterpolargl": [
           {
            "marker": {
             "colorbar": {
              "outlinewidth": 0,
              "ticks": ""
             }
            },
            "type": "scatterpolargl"
           }
          ],
          "scatterternary": [
           {
            "marker": {
             "colorbar": {
              "outlinewidth": 0,
              "ticks": ""
             }
            },
            "type": "scatterternary"
           }
          ],
          "surface": [
           {
            "colorbar": {
             "outlinewidth": 0,
             "ticks": ""
            },
            "colorscale": [
             [
              0,
              "#0d0887"
             ],
             [
              0.1111111111111111,
              "#46039f"
             ],
             [
              0.2222222222222222,
              "#7201a8"
             ],
             [
              0.3333333333333333,
              "#9c179e"
             ],
             [
              0.4444444444444444,
              "#bd3786"
             ],
             [
              0.5555555555555556,
              "#d8576b"
             ],
             [
              0.6666666666666666,
              "#ed7953"
             ],
             [
              0.7777777777777778,
              "#fb9f3a"
             ],
             [
              0.8888888888888888,
              "#fdca26"
             ],
             [
              1,
              "#f0f921"
             ]
            ],
            "type": "surface"
           }
          ],
          "table": [
           {
            "cells": {
             "fill": {
              "color": "#EBF0F8"
             },
             "line": {
              "color": "white"
             }
            },
            "header": {
             "fill": {
              "color": "#C8D4E3"
             },
             "line": {
              "color": "white"
             }
            },
            "type": "table"
           }
          ]
         },
         "layout": {
          "annotationdefaults": {
           "arrowcolor": "#2a3f5f",
           "arrowhead": 0,
           "arrowwidth": 1
          },
          "autotypenumbers": "strict",
          "coloraxis": {
           "colorbar": {
            "outlinewidth": 0,
            "ticks": ""
           }
          },
          "colorscale": {
           "diverging": [
            [
             0,
             "#8e0152"
            ],
            [
             0.1,
             "#c51b7d"
            ],
            [
             0.2,
             "#de77ae"
            ],
            [
             0.3,
             "#f1b6da"
            ],
            [
             0.4,
             "#fde0ef"
            ],
            [
             0.5,
             "#f7f7f7"
            ],
            [
             0.6,
             "#e6f5d0"
            ],
            [
             0.7,
             "#b8e186"
            ],
            [
             0.8,
             "#7fbc41"
            ],
            [
             0.9,
             "#4d9221"
            ],
            [
             1,
             "#276419"
            ]
           ],
           "sequential": [
            [
             0,
             "#0d0887"
            ],
            [
             0.1111111111111111,
             "#46039f"
            ],
            [
             0.2222222222222222,
             "#7201a8"
            ],
            [
             0.3333333333333333,
             "#9c179e"
            ],
            [
             0.4444444444444444,
             "#bd3786"
            ],
            [
             0.5555555555555556,
             "#d8576b"
            ],
            [
             0.6666666666666666,
             "#ed7953"
            ],
            [
             0.7777777777777778,
             "#fb9f3a"
            ],
            [
             0.8888888888888888,
             "#fdca26"
            ],
            [
             1,
             "#f0f921"
            ]
           ],
           "sequentialminus": [
            [
             0,
             "#0d0887"
            ],
            [
             0.1111111111111111,
             "#46039f"
            ],
            [
             0.2222222222222222,
             "#7201a8"
            ],
            [
             0.3333333333333333,
             "#9c179e"
            ],
            [
             0.4444444444444444,
             "#bd3786"
            ],
            [
             0.5555555555555556,
             "#d8576b"
            ],
            [
             0.6666666666666666,
             "#ed7953"
            ],
            [
             0.7777777777777778,
             "#fb9f3a"
            ],
            [
             0.8888888888888888,
             "#fdca26"
            ],
            [
             1,
             "#f0f921"
            ]
           ]
          },
          "colorway": [
           "#636efa",
           "#EF553B",
           "#00cc96",
           "#ab63fa",
           "#FFA15A",
           "#19d3f3",
           "#FF6692",
           "#B6E880",
           "#FF97FF",
           "#FECB52"
          ],
          "font": {
           "color": "#2a3f5f"
          },
          "geo": {
           "bgcolor": "white",
           "lakecolor": "white",
           "landcolor": "#E5ECF6",
           "showlakes": true,
           "showland": true,
           "subunitcolor": "white"
          },
          "hoverlabel": {
           "align": "left"
          },
          "hovermode": "closest",
          "mapbox": {
           "style": "light"
          },
          "paper_bgcolor": "white",
          "plot_bgcolor": "#E5ECF6",
          "polar": {
           "angularaxis": {
            "gridcolor": "white",
            "linecolor": "white",
            "ticks": ""
           },
           "bgcolor": "#E5ECF6",
           "radialaxis": {
            "gridcolor": "white",
            "linecolor": "white",
            "ticks": ""
           }
          },
          "scene": {
           "xaxis": {
            "backgroundcolor": "#E5ECF6",
            "gridcolor": "white",
            "gridwidth": 2,
            "linecolor": "white",
            "showbackground": true,
            "ticks": "",
            "zerolinecolor": "white"
           },
           "yaxis": {
            "backgroundcolor": "#E5ECF6",
            "gridcolor": "white",
            "gridwidth": 2,
            "linecolor": "white",
            "showbackground": true,
            "ticks": "",
            "zerolinecolor": "white"
           },
           "zaxis": {
            "backgroundcolor": "#E5ECF6",
            "gridcolor": "white",
            "gridwidth": 2,
            "linecolor": "white",
            "showbackground": true,
            "ticks": "",
            "zerolinecolor": "white"
           }
          },
          "shapedefaults": {
           "line": {
            "color": "#2a3f5f"
           }
          },
          "ternary": {
           "aaxis": {
            "gridcolor": "white",
            "linecolor": "white",
            "ticks": ""
           },
           "baxis": {
            "gridcolor": "white",
            "linecolor": "white",
            "ticks": ""
           },
           "bgcolor": "#E5ECF6",
           "caxis": {
            "gridcolor": "white",
            "linecolor": "white",
            "ticks": ""
           }
          },
          "title": {
           "x": 0.05
          },
          "xaxis": {
           "automargin": true,
           "gridcolor": "white",
           "linecolor": "white",
           "ticks": "",
           "title": {
            "standoff": 15
           },
           "zerolinecolor": "white",
           "zerolinewidth": 2
          },
          "yaxis": {
           "automargin": true,
           "gridcolor": "white",
           "linecolor": "white",
           "ticks": "",
           "title": {
            "standoff": 15
           },
           "zerolinecolor": "white",
           "zerolinewidth": 2
          }
         }
        },
        "width": 1000
       }
      }
     },
     "metadata": {},
     "output_type": "display_data"
    }
   ],
   "source": [
    "plotfor(dates[0])"
   ]
  },
  {
   "cell_type": "code",
   "execution_count": null,
   "metadata": {},
   "outputs": [],
   "source": []
  },
  {
   "cell_type": "code",
   "execution_count": 115,
   "metadata": {},
   "outputs": [
    {
     "data": {
      "application/vnd.plotly.v1+json": {
       "config": {
        "plotlyServerURL": "https://plotly.com"
       },
       "data": [
        {
         "lat": [
          33.93911,
          41.1533,
          28.0339,
          42.5063,
          -11.2027,
          17.0608,
          -38.4161,
          40.0691,
          -35.4735,
          -33.8688,
          -12.4634,
          -27.4698,
          -34.9285,
          -42.8821,
          -37.8136,
          -31.9505,
          47.5162,
          40.1431,
          25.025885,
          26.0275,
          23.685,
          13.1939,
          53.7098,
          50.8333,
          9.3077,
          27.5142,
          -16.2902,
          43.9159,
          -14.235,
          4.5353,
          42.7339,
          12.2383,
          16.5388,
          11.55,
          3.848,
          53.9333,
          53.7267,
          53.7609,
          46.5653,
          53.1355,
          44.682,
          51.2538,
          46.5107,
          52.9399,
          52.9399,
          6.6111,
          15.4542,
          -35.6751,
          31.8257,
          40.1824,
          30.0572,
          26.0789,
          35.7518,
          23.3417,
          23.8298,
          26.8154,
          19.1959,
          39.549,
          47.862,
          37.8957,
          22.3,
          30.9756,
          27.6104,
          44.0935,
          32.9711,
          27.614,
          43.6661,
          41.2956,
          22.1667,
          37.2692,
          35.7452,
          35.1917,
          36.3427,
          31.202,
          37.5777,
          30.6171,
          39.3054,
          31.6927,
          41.1129,
          24.974,
          29.1832,
          4.5709,
          -0.228,
          -4.0383,
          9.7489,
          7.54,
          45.1,
          21.521757,
          35.1264,
          49.8175,
          61.8926,
          71.7069,
          56.2639,
          11.8251,
          18.7357,
          -1.8312,
          26.820553000000004,
          13.7942,
          1.6508,
          15.1794,
          58.5953,
          -26.5225,
          9.145,
          -17.7134,
          61.92411,
          3.9339,
          -17.6797,
          16.265,
          -12.8275,
          -20.904305,
          -21.1151,
          17.9,
          18.0708,
          14.6415,
          46.2276,
          -0.8037,
          13.4432,
          42.3154,
          51.165691,
          7.9465,
          39.0742,
          15.7835,
          9.9456,
          4.860416000000002,
          18.9712,
          41.9029,
          15.2,
          47.1625,
          64.9631,
          20.593684,
          -0.7893,
          32.427908,
          33.223191,
          53.1424,
          31.046051,
          41.87194,
          18.1096,
          36.204824,
          31.24,
          48.0196,
          -0.0236,
          35.90775700000001,
          29.31166,
          41.20438,
          56.8796,
          33.8547,
          6.4280550000000005,
          47.14,
          55.1694,
          49.8153,
          -18.766947,
          4.210483999999999,
          3.2028,
          35.9375,
          21.0079,
          -20.348404,
          23.6345,
          47.4116,
          43.7333,
          46.8625,
          42.708678000000006,
          31.7917,
          -22.9576,
          28.1667,
          12.5211,
          12.1696,
          18.0425,
          52.1326,
          -40.9006,
          12.865416,
          17.607789,
          9.082,
          41.6086,
          60.472,
          21.512583,
          30.3753,
          8.538,
          -6.314993,
          -23.4425,
          -9.19,
          12.879721,
          51.9194,
          39.3999,
          25.3548,
          45.9432,
          61.52401,
          -1.9403,
          13.9094,
          12.9843,
          43.9424,
          23.885942,
          14.4974,
          44.0165,
          -4.6796,
          1.2833,
          48.669,
          46.1512,
          5.152149,
          -30.5595,
          40.463667,
          7.873054,
          12.8628,
          3.9193,
          60.128161,
          46.8182,
          23.7,
          -6.369028,
          15.870032,
          8.6195,
          10.6918,
          33.886917,
          38.9637,
          1.373333,
          48.3794,
          23.424076,
          32.3078,
          19.3133,
          49.3723,
          36.1408,
          54.2361,
          16.742498,
          55.3781,
          -32.5228,
          40,
          41.377491,
          6.4238,
          14.058324,
          -13.133897,
          -19.015438,
          15.415,
          12.1165,
          -18.665695,
          34.802075,
          -8.874217,
          17.1899,
          19.85627,
          26.3351,
          31.9522,
          11.8037,
          17.570692,
          17.357822,
          64.8255,
          64.2823,
          42.602636,
          21.9162,
          18.2206,
          18.4207,
          21.69400000000001,
          -22.3285,
          -3.3731,
          8.460555000000001,
          -13.2543,
          -51.7963,
          46.8852,
          6.877000000000002,
          24.2155,
          0.1864,
          15.552727,
          -11.6455,
          38.861,
          -29.61
         ],
         "lon": [
          67.709953,
          20.1683,
          1.6596,
          1.5218,
          17.8739,
          -61.7964,
          -63.6167,
          45.0382,
          149.0124,
          151.2093,
          130.8456,
          153.0251,
          138.6007,
          147.3272,
          144.9631,
          115.8605,
          14.5501,
          47.5769,
          -78.035889,
          50.55,
          90.3563,
          -59.5432,
          27.9534,
          4.469936,
          2.3158,
          90.4336,
          -63.5887,
          17.6791,
          -51.9253,
          114.7277,
          25.4858,
          -1.5616,
          -23.0418,
          104.9167,
          11.5021,
          -116.5765,
          -127.6476,
          -98.8139,
          -66.4619,
          -57.6604,
          -63.7443,
          -85.3232,
          -63.4168,
          -73.5491,
          -106.4509,
          20.9394,
          18.7322,
          -71.543,
          117.2264,
          116.4142,
          107.874,
          117.9874,
          104.2861,
          113.4244,
          108.7881,
          106.8748,
          109.7453,
          116.1306,
          127.7615,
          114.9042,
          114.2,
          112.2707,
          111.7088,
          113.9448,
          119.455,
          115.7221,
          126.1923,
          122.6085,
          113.55,
          106.1655,
          95.9956,
          108.8701,
          118.1498,
          121.4491,
          112.2922,
          102.7103,
          117.323,
          88.0924,
          85.2401,
          101.487,
          120.0934,
          -74.2973,
          15.8277,
          21.7587,
          -83.7534,
          -5.5471,
          15.2,
          -77.78116700000002,
          33.4299,
          15.473,
          -6.9118,
          -42.6043,
          9.5018,
          42.5903,
          -70.1627,
          -78.1834,
          30.802498,
          -88.8965,
          10.2679,
          39.7823,
          25.0136,
          31.4659,
          40.4897,
          178.065,
          25.748151,
          -53.1258,
          149.4068,
          -61.551,
          45.166244,
          165.618042,
          55.5364,
          -62.8333,
          -63.0501,
          -61.0242,
          2.2137,
          11.6094,
          -15.3101,
          43.3569,
          10.451526,
          -1.0232,
          21.8243,
          -90.2308,
          -9.6966,
          -58.93018000000001,
          -72.2852,
          12.4534,
          -86.2419,
          19.5033,
          -19.0208,
          78.96288,
          113.9213,
          53.68804599999999,
          43.679291,
          -7.6921,
          34.851612,
          12.56738,
          -77.2975,
          138.252924,
          36.51,
          66.9237,
          37.9062,
          127.766922,
          47.481766,
          74.766098,
          24.6032,
          35.8623,
          -9.429499,
          9.55,
          23.8813,
          6.1296,
          46.869107,
          101.975766,
          73.2207,
          14.3754,
          -10.9408,
          57.552152,
          -102.5528,
          28.3699,
          7.4167,
          103.8467,
          19.37439,
          -7.0926,
          18.4904,
          84.25,
          -69.9683,
          -68.99,
          -63.0548,
          5.2913,
          174.886,
          -85.207229,
          8.081666,
          8.6753,
          21.7453,
          8.4689,
          55.92325500000001,
          69.3451,
          -80.7821,
          143.95555,
          -58.4438,
          -75.0152,
          121.774017,
          19.1451,
          -8.2245,
          51.1839,
          24.9668,
          105.318756,
          29.8739,
          -60.9789,
          -61.2872,
          12.4578,
          45.079162,
          -14.4524,
          21.0059,
          55.492,
          103.8333,
          19.699,
          14.9955,
          46.199616,
          22.9375,
          -3.74922,
          80.77179699999998,
          30.2176,
          -56.0278,
          18.643501,
          8.2275,
          121,
          34.888822,
          100.992541,
          0.8248,
          -61.2225,
          9.537499,
          35.2433,
          32.290275,
          31.1656,
          53.847818,
          -64.7505,
          -81.2546,
          -2.3644,
          -5.3536,
          -4.5481,
          -62.187366,
          -3.4360000000000004,
          -55.7658,
          -100,
          64.585262,
          -66.5897,
          108.277199,
          27.849332,
          29.154857,
          -61.371,
          -61.679,
          35.529562,
          38.99681500000001,
          125.727539,
          -88.4976,
          102.495496,
          17.228331,
          35.2332,
          -15.1804,
          -3.996166000000001,
          -62.782998,
          -124.8457,
          -135,
          20.902977,
          95.956,
          -63.0686,
          -64.64,
          -71.7979,
          24.6849,
          29.9189,
          -11.779889,
          34.3015,
          -59.5236,
          -56.3159,
          31.307,
          -12.8858,
          6.6131,
          48.516388,
          43.3333,
          71.2761,
          28.2336
         ],
         "marker": {
          "cmin": 0,
          "color": [
           0,
           0,
           0,
           0,
           0,
           0,
           0,
           0,
           0,
           0,
           0,
           0,
           0,
           0,
           0,
           0,
           0,
           0,
           0,
           0,
           0,
           0,
           0,
           0,
           0,
           0,
           0,
           0,
           0,
           0,
           0,
           0,
           0,
           0,
           0,
           0,
           0,
           0,
           0,
           0,
           0,
           0,
           0,
           0,
           0,
           0,
           0,
           0,
           9,
           22,
           9,
           5,
           2,
           30,
           5,
           3,
           5,
           0,
           2,
           5,
           2,
           399,
           9,
           0,
           5,
           7,
           1,
           3,
           2,
           1,
           0,
           3,
           6,
           16,
           1,
           8,
           4,
           0,
           2,
           2,
           27,
           0,
           0,
           0,
           0,
           0,
           0,
           0,
           0,
           0,
           0,
           0,
           0,
           0,
           0,
           0,
           0,
           0,
           0,
           0,
           0,
           0,
           0,
           0,
           0,
           0,
           0,
           0,
           0,
           0,
           0,
           0,
           0,
           0,
           0,
           0,
           0,
           0,
           0,
           0,
           0,
           0,
           0,
           0,
           0,
           0,
           0,
           0,
           0,
           0,
           0,
           0,
           0,
           0,
           0,
           0,
           0,
           2,
           0,
           0,
           0,
           1,
           0,
           0,
           0,
           0,
           0,
           0,
           0,
           0,
           0,
           0,
           0,
           0,
           0,
           0,
           0,
           0,
           0,
           0,
           0,
           0,
           0,
           0,
           0,
           0,
           0,
           0,
           0,
           0,
           0,
           0,
           0,
           0,
           0,
           0,
           0,
           0,
           0,
           0,
           0,
           0,
           0,
           0,
           0,
           0,
           0,
           0,
           0,
           0,
           0,
           0,
           0,
           0,
           1,
           0,
           0,
           0,
           0,
           0,
           0,
           0,
           0,
           0,
           0,
           1,
           0,
           3,
           0,
           0,
           0,
           0,
           0,
           0,
           0,
           0,
           0,
           0,
           0,
           0,
           0,
           0,
           0,
           1,
           0,
           0,
           2,
           0,
           0,
           0,
           0,
           0,
           0,
           0,
           0,
           0,
           0,
           0,
           0,
           0,
           0,
           0,
           0,
           0,
           0,
           0,
           0,
           0,
           0,
           0,
           0,
           0,
           0,
           0,
           0,
           0,
           0,
           0,
           0,
           0,
           0
          ],
          "colorbar": {
           "title": {
            "text": "Active"
           }
          },
          "colorscale": [
           [
            0,
            "#440154"
           ],
           [
            0.1111111111111111,
            "#482878"
           ],
           [
            0.2222222222222222,
            "#3e4989"
           ],
           [
            0.3333333333333333,
            "#31688e"
           ],
           [
            0.4444444444444444,
            "#26828e"
           ],
           [
            0.5555555555555556,
            "#1f9e89"
           ],
           [
            0.6666666666666666,
            "#35b779"
           ],
           [
            0.7777777777777778,
            "#6ece58"
           ],
           [
            0.8888888888888888,
            "#b5de2b"
           ],
           [
            1,
            "#fde725"
           ]
          ],
          "size": 12
         },
         "mode": "markers",
         "text": [
          "{'Country/Region': 'Afghanistan', 'Date': '2020-01-23', 'Confirmed': 0, 'Deaths': 0, 'Recovered': 0, 'Active': 0}",
          "{'Country/Region': 'Albania', 'Date': '2020-01-23', 'Confirmed': 0, 'Deaths': 0, 'Recovered': 0, 'Active': 0}",
          "{'Country/Region': 'Algeria', 'Date': '2020-01-23', 'Confirmed': 0, 'Deaths': 0, 'Recovered': 0, 'Active': 0}",
          "{'Country/Region': 'Andorra', 'Date': '2020-01-23', 'Confirmed': 0, 'Deaths': 0, 'Recovered': 0, 'Active': 0}",
          "{'Country/Region': 'Angola', 'Date': '2020-01-23', 'Confirmed': 0, 'Deaths': 0, 'Recovered': 0, 'Active': 0}",
          "{'Country/Region': 'Antigua and Barbuda', 'Date': '2020-01-23', 'Confirmed': 0, 'Deaths': 0, 'Recovered': 0, 'Active': 0}",
          "{'Country/Region': 'Argentina', 'Date': '2020-01-23', 'Confirmed': 0, 'Deaths': 0, 'Recovered': 0, 'Active': 0}",
          "{'Country/Region': 'Armenia', 'Date': '2020-01-23', 'Confirmed': 0, 'Deaths': 0, 'Recovered': 0, 'Active': 0}",
          "{'Country/Region': 'Australia', 'Date': '2020-01-23', 'Confirmed': 0, 'Deaths': 0, 'Recovered': 0, 'Active': 0}",
          "{'Country/Region': 'Australia', 'Date': '2020-01-23', 'Confirmed': 0, 'Deaths': 0, 'Recovered': 0, 'Active': 0}",
          "{'Country/Region': 'Australia', 'Date': '2020-01-23', 'Confirmed': 0, 'Deaths': 0, 'Recovered': 0, 'Active': 0}",
          "{'Country/Region': 'Australia', 'Date': '2020-01-23', 'Confirmed': 0, 'Deaths': 0, 'Recovered': 0, 'Active': 0}",
          "{'Country/Region': 'Australia', 'Date': '2020-01-23', 'Confirmed': 0, 'Deaths': 0, 'Recovered': 0, 'Active': 0}",
          "{'Country/Region': 'Australia', 'Date': '2020-01-23', 'Confirmed': 0, 'Deaths': 0, 'Recovered': 0, 'Active': 0}",
          "{'Country/Region': 'Australia', 'Date': '2020-01-23', 'Confirmed': 0, 'Deaths': 0, 'Recovered': 0, 'Active': 0}",
          "{'Country/Region': 'Australia', 'Date': '2020-01-23', 'Confirmed': 0, 'Deaths': 0, 'Recovered': 0, 'Active': 0}",
          "{'Country/Region': 'Austria', 'Date': '2020-01-23', 'Confirmed': 0, 'Deaths': 0, 'Recovered': 0, 'Active': 0}",
          "{'Country/Region': 'Azerbaijan', 'Date': '2020-01-23', 'Confirmed': 0, 'Deaths': 0, 'Recovered': 0, 'Active': 0}",
          "{'Country/Region': 'Bahamas', 'Date': '2020-01-23', 'Confirmed': 0, 'Deaths': 0, 'Recovered': 0, 'Active': 0}",
          "{'Country/Region': 'Bahrain', 'Date': '2020-01-23', 'Confirmed': 0, 'Deaths': 0, 'Recovered': 0, 'Active': 0}",
          "{'Country/Region': 'Bangladesh', 'Date': '2020-01-23', 'Confirmed': 0, 'Deaths': 0, 'Recovered': 0, 'Active': 0}",
          "{'Country/Region': 'Barbados', 'Date': '2020-01-23', 'Confirmed': 0, 'Deaths': 0, 'Recovered': 0, 'Active': 0}",
          "{'Country/Region': 'Belarus', 'Date': '2020-01-23', 'Confirmed': 0, 'Deaths': 0, 'Recovered': 0, 'Active': 0}",
          "{'Country/Region': 'Belgium', 'Date': '2020-01-23', 'Confirmed': 0, 'Deaths': 0, 'Recovered': 0, 'Active': 0}",
          "{'Country/Region': 'Benin', 'Date': '2020-01-23', 'Confirmed': 0, 'Deaths': 0, 'Recovered': 0, 'Active': 0}",
          "{'Country/Region': 'Bhutan', 'Date': '2020-01-23', 'Confirmed': 0, 'Deaths': 0, 'Recovered': 0, 'Active': 0}",
          "{'Country/Region': 'Bolivia', 'Date': '2020-01-23', 'Confirmed': 0, 'Deaths': 0, 'Recovered': 0, 'Active': 0}",
          "{'Country/Region': 'Bosnia and Herzegovina', 'Date': '2020-01-23', 'Confirmed': 0, 'Deaths': 0, 'Recovered': 0, 'Active': 0}",
          "{'Country/Region': 'Brazil', 'Date': '2020-01-23', 'Confirmed': 0, 'Deaths': 0, 'Recovered': 0, 'Active': 0}",
          "{'Country/Region': 'Brunei', 'Date': '2020-01-23', 'Confirmed': 0, 'Deaths': 0, 'Recovered': 0, 'Active': 0}",
          "{'Country/Region': 'Bulgaria', 'Date': '2020-01-23', 'Confirmed': 0, 'Deaths': 0, 'Recovered': 0, 'Active': 0}",
          "{'Country/Region': 'Burkina Faso', 'Date': '2020-01-23', 'Confirmed': 0, 'Deaths': 0, 'Recovered': 0, 'Active': 0}",
          "{'Country/Region': 'Cabo Verde', 'Date': '2020-01-23', 'Confirmed': 0, 'Deaths': 0, 'Recovered': 0, 'Active': 0}",
          "{'Country/Region': 'Cambodia', 'Date': '2020-01-23', 'Confirmed': 0, 'Deaths': 0, 'Recovered': 0, 'Active': 0}",
          "{'Country/Region': 'Cameroon', 'Date': '2020-01-23', 'Confirmed': 0, 'Deaths': 0, 'Recovered': 0, 'Active': 0}",
          "{'Country/Region': 'Canada', 'Date': '2020-01-23', 'Confirmed': 0, 'Deaths': 0, 'Recovered': 0, 'Active': 0}",
          "{'Country/Region': 'Canada', 'Date': '2020-01-23', 'Confirmed': 0, 'Deaths': 0, 'Recovered': 0, 'Active': 0}",
          "{'Country/Region': 'Canada', 'Date': '2020-01-23', 'Confirmed': 0, 'Deaths': 0, 'Recovered': 0, 'Active': 0}",
          "{'Country/Region': 'Canada', 'Date': '2020-01-23', 'Confirmed': 0, 'Deaths': 0, 'Recovered': 0, 'Active': 0}",
          "{'Country/Region': 'Canada', 'Date': '2020-01-23', 'Confirmed': 0, 'Deaths': 0, 'Recovered': 0, 'Active': 0}",
          "{'Country/Region': 'Canada', 'Date': '2020-01-23', 'Confirmed': 0, 'Deaths': 0, 'Recovered': 0, 'Active': 0}",
          "{'Country/Region': 'Canada', 'Date': '2020-01-23', 'Confirmed': 0, 'Deaths': 0, 'Recovered': 0, 'Active': 0}",
          "{'Country/Region': 'Canada', 'Date': '2020-01-23', 'Confirmed': 0, 'Deaths': 0, 'Recovered': 0, 'Active': 0}",
          "{'Country/Region': 'Canada', 'Date': '2020-01-23', 'Confirmed': 0, 'Deaths': 0, 'Recovered': 0, 'Active': 0}",
          "{'Country/Region': 'Canada', 'Date': '2020-01-23', 'Confirmed': 0, 'Deaths': 0, 'Recovered': 0, 'Active': 0}",
          "{'Country/Region': 'Central African Republic', 'Date': '2020-01-23', 'Confirmed': 0, 'Deaths': 0, 'Recovered': 0, 'Active': 0}",
          "{'Country/Region': 'Chad', 'Date': '2020-01-23', 'Confirmed': 0, 'Deaths': 0, 'Recovered': 0, 'Active': 0}",
          "{'Country/Region': 'Chile', 'Date': '2020-01-23', 'Confirmed': 0, 'Deaths': 0, 'Recovered': 0, 'Active': 0}",
          "{'Country/Region': 'China', 'Date': '2020-01-23', 'Confirmed': 9, 'Deaths': 0, 'Recovered': 0, 'Active': 9}",
          "{'Country/Region': 'China', 'Date': '2020-01-23', 'Confirmed': 22, 'Deaths': 0, 'Recovered': 0, 'Active': 22}",
          "{'Country/Region': 'China', 'Date': '2020-01-23', 'Confirmed': 9, 'Deaths': 0, 'Recovered': 0, 'Active': 9}",
          "{'Country/Region': 'China', 'Date': '2020-01-23', 'Confirmed': 5, 'Deaths': 0, 'Recovered': 0, 'Active': 5}",
          "{'Country/Region': 'China', 'Date': '2020-01-23', 'Confirmed': 2, 'Deaths': 0, 'Recovered': 0, 'Active': 2}",
          "{'Country/Region': 'China', 'Date': '2020-01-23', 'Confirmed': 32, 'Deaths': 0, 'Recovered': 2, 'Active': 30}",
          "{'Country/Region': 'China', 'Date': '2020-01-23', 'Confirmed': 5, 'Deaths': 0, 'Recovered': 0, 'Active': 5}",
          "{'Country/Region': 'China', 'Date': '2020-01-23', 'Confirmed': 3, 'Deaths': 0, 'Recovered': 0, 'Active': 3}",
          "{'Country/Region': 'China', 'Date': '2020-01-23', 'Confirmed': 5, 'Deaths': 0, 'Recovered': 0, 'Active': 5}",
          "{'Country/Region': 'China', 'Date': '2020-01-23', 'Confirmed': 1, 'Deaths': 1, 'Recovered': 0, 'Active': 0}",
          "{'Country/Region': 'China', 'Date': '2020-01-23', 'Confirmed': 2, 'Deaths': 0, 'Recovered': 0, 'Active': 2}",
          "{'Country/Region': 'China', 'Date': '2020-01-23', 'Confirmed': 5, 'Deaths': 0, 'Recovered': 0, 'Active': 5}",
          "{'Country/Region': 'China', 'Date': '2020-01-23', 'Confirmed': 2, 'Deaths': 0, 'Recovered': 0, 'Active': 2}",
          "{'Country/Region': 'China', 'Date': '2020-01-23', 'Confirmed': 444, 'Deaths': 17, 'Recovered': 28, 'Active': 399}",
          "{'Country/Region': 'China', 'Date': '2020-01-23', 'Confirmed': 9, 'Deaths': 0, 'Recovered': 0, 'Active': 9}",
          "{'Country/Region': 'China', 'Date': '2020-01-23', 'Confirmed': 0, 'Deaths': 0, 'Recovered': 0, 'Active': 0}",
          "{'Country/Region': 'China', 'Date': '2020-01-23', 'Confirmed': 5, 'Deaths': 0, 'Recovered': 0, 'Active': 5}",
          "{'Country/Region': 'China', 'Date': '2020-01-23', 'Confirmed': 7, 'Deaths': 0, 'Recovered': 0, 'Active': 7}",
          "{'Country/Region': 'China', 'Date': '2020-01-23', 'Confirmed': 1, 'Deaths': 0, 'Recovered': 0, 'Active': 1}",
          "{'Country/Region': 'China', 'Date': '2020-01-23', 'Confirmed': 3, 'Deaths': 0, 'Recovered': 0, 'Active': 3}",
          "{'Country/Region': 'China', 'Date': '2020-01-23', 'Confirmed': 2, 'Deaths': 0, 'Recovered': 0, 'Active': 2}",
          "{'Country/Region': 'China', 'Date': '2020-01-23', 'Confirmed': 1, 'Deaths': 0, 'Recovered': 0, 'Active': 1}",
          "{'Country/Region': 'China', 'Date': '2020-01-23', 'Confirmed': 0, 'Deaths': 0, 'Recovered': 0, 'Active': 0}",
          "{'Country/Region': 'China', 'Date': '2020-01-23', 'Confirmed': 3, 'Deaths': 0, 'Recovered': 0, 'Active': 3}",
          "{'Country/Region': 'China', 'Date': '2020-01-23', 'Confirmed': 6, 'Deaths': 0, 'Recovered': 0, 'Active': 6}",
          "{'Country/Region': 'China', 'Date': '2020-01-23', 'Confirmed': 16, 'Deaths': 0, 'Recovered': 0, 'Active': 16}",
          "{'Country/Region': 'China', 'Date': '2020-01-23', 'Confirmed': 1, 'Deaths': 0, 'Recovered': 0, 'Active': 1}",
          "{'Country/Region': 'China', 'Date': '2020-01-23', 'Confirmed': 8, 'Deaths': 0, 'Recovered': 0, 'Active': 8}",
          "{'Country/Region': 'China', 'Date': '2020-01-23', 'Confirmed': 4, 'Deaths': 0, 'Recovered': 0, 'Active': 4}",
          "{'Country/Region': 'China', 'Date': '2020-01-23', 'Confirmed': 0, 'Deaths': 0, 'Recovered': 0, 'Active': 0}",
          "{'Country/Region': 'China', 'Date': '2020-01-23', 'Confirmed': 2, 'Deaths': 0, 'Recovered': 0, 'Active': 2}",
          "{'Country/Region': 'China', 'Date': '2020-01-23', 'Confirmed': 2, 'Deaths': 0, 'Recovered': 0, 'Active': 2}",
          "{'Country/Region': 'China', 'Date': '2020-01-23', 'Confirmed': 27, 'Deaths': 0, 'Recovered': 0, 'Active': 27}",
          "{'Country/Region': 'Colombia', 'Date': '2020-01-23', 'Confirmed': 0, 'Deaths': 0, 'Recovered': 0, 'Active': 0}",
          "{'Country/Region': 'Congo (Brazzaville)', 'Date': '2020-01-23', 'Confirmed': 0, 'Deaths': 0, 'Recovered': 0, 'Active': 0}",
          "{'Country/Region': 'Congo (Kinshasa)', 'Date': '2020-01-23', 'Confirmed': 0, 'Deaths': 0, 'Recovered': 0, 'Active': 0}",
          "{'Country/Region': 'Costa Rica', 'Date': '2020-01-23', 'Confirmed': 0, 'Deaths': 0, 'Recovered': 0, 'Active': 0}",
          "{'Country/Region': \"Cote d'Ivoire\", 'Date': '2020-01-23', 'Confirmed': 0, 'Deaths': 0, 'Recovered': 0, 'Active': 0}",
          "{'Country/Region': 'Croatia', 'Date': '2020-01-23', 'Confirmed': 0, 'Deaths': 0, 'Recovered': 0, 'Active': 0}",
          "{'Country/Region': 'Cuba', 'Date': '2020-01-23', 'Confirmed': 0, 'Deaths': 0, 'Recovered': 0, 'Active': 0}",
          "{'Country/Region': 'Cyprus', 'Date': '2020-01-23', 'Confirmed': 0, 'Deaths': 0, 'Recovered': 0, 'Active': 0}",
          "{'Country/Region': 'Czechia', 'Date': '2020-01-23', 'Confirmed': 0, 'Deaths': 0, 'Recovered': 0, 'Active': 0}",
          "{'Country/Region': 'Denmark', 'Date': '2020-01-23', 'Confirmed': 0, 'Deaths': 0, 'Recovered': 0, 'Active': 0}",
          "{'Country/Region': 'Greenland', 'Date': '2020-01-23', 'Confirmed': 0, 'Deaths': 0, 'Recovered': 0, 'Active': 0}",
          "{'Country/Region': 'Denmark', 'Date': '2020-01-23', 'Confirmed': 0, 'Deaths': 0, 'Recovered': 0, 'Active': 0}",
          "{'Country/Region': 'Djibouti', 'Date': '2020-01-23', 'Confirmed': 0, 'Deaths': 0, 'Recovered': 0, 'Active': 0}",
          "{'Country/Region': 'Dominican Republic', 'Date': '2020-01-23', 'Confirmed': 0, 'Deaths': 0, 'Recovered': 0, 'Active': 0}",
          "{'Country/Region': 'Ecuador', 'Date': '2020-01-23', 'Confirmed': 0, 'Deaths': 0, 'Recovered': 0, 'Active': 0}",
          "{'Country/Region': 'Egypt', 'Date': '2020-01-23', 'Confirmed': 0, 'Deaths': 0, 'Recovered': 0, 'Active': 0}",
          "{'Country/Region': 'El Salvador', 'Date': '2020-01-23', 'Confirmed': 0, 'Deaths': 0, 'Recovered': 0, 'Active': 0}",
          "{'Country/Region': 'Equatorial Guinea', 'Date': '2020-01-23', 'Confirmed': 0, 'Deaths': 0, 'Recovered': 0, 'Active': 0}",
          "{'Country/Region': 'Eritrea', 'Date': '2020-01-23', 'Confirmed': 0, 'Deaths': 0, 'Recovered': 0, 'Active': 0}",
          "{'Country/Region': 'Estonia', 'Date': '2020-01-23', 'Confirmed': 0, 'Deaths': 0, 'Recovered': 0, 'Active': 0}",
          "{'Country/Region': 'Eswatini', 'Date': '2020-01-23', 'Confirmed': 0, 'Deaths': 0, 'Recovered': 0, 'Active': 0}",
          "{'Country/Region': 'Ethiopia', 'Date': '2020-01-23', 'Confirmed': 0, 'Deaths': 0, 'Recovered': 0, 'Active': 0}",
          "{'Country/Region': 'Fiji', 'Date': '2020-01-23', 'Confirmed': 0, 'Deaths': 0, 'Recovered': 0, 'Active': 0}",
          "{'Country/Region': 'Finland', 'Date': '2020-01-23', 'Confirmed': 0, 'Deaths': 0, 'Recovered': 0, 'Active': 0}",
          "{'Country/Region': 'France', 'Date': '2020-01-23', 'Confirmed': 0, 'Deaths': 0, 'Recovered': 0, 'Active': 0}",
          "{'Country/Region': 'France', 'Date': '2020-01-23', 'Confirmed': 0, 'Deaths': 0, 'Recovered': 0, 'Active': 0}",
          "{'Country/Region': 'France', 'Date': '2020-01-23', 'Confirmed': 0, 'Deaths': 0, 'Recovered': 0, 'Active': 0}",
          "{'Country/Region': 'France', 'Date': '2020-01-23', 'Confirmed': 0, 'Deaths': 0, 'Recovered': 0, 'Active': 0}",
          "{'Country/Region': 'France', 'Date': '2020-01-23', 'Confirmed': 0, 'Deaths': 0, 'Recovered': 0, 'Active': 0}",
          "{'Country/Region': 'France', 'Date': '2020-01-23', 'Confirmed': 0, 'Deaths': 0, 'Recovered': 0, 'Active': 0}",
          "{'Country/Region': 'France', 'Date': '2020-01-23', 'Confirmed': 0, 'Deaths': 0, 'Recovered': 0, 'Active': 0}",
          "{'Country/Region': 'France', 'Date': '2020-01-23', 'Confirmed': 0, 'Deaths': 0, 'Recovered': 0, 'Active': 0}",
          "{'Country/Region': 'France', 'Date': '2020-01-23', 'Confirmed': 0, 'Deaths': 0, 'Recovered': 0, 'Active': 0}",
          "{'Country/Region': 'France', 'Date': '2020-01-23', 'Confirmed': 0, 'Deaths': 0, 'Recovered': 0, 'Active': 0}",
          "{'Country/Region': 'Gabon', 'Date': '2020-01-23', 'Confirmed': 0, 'Deaths': 0, 'Recovered': 0, 'Active': 0}",
          "{'Country/Region': 'Gambia', 'Date': '2020-01-23', 'Confirmed': 0, 'Deaths': 0, 'Recovered': 0, 'Active': 0}",
          "{'Country/Region': 'Georgia', 'Date': '2020-01-23', 'Confirmed': 0, 'Deaths': 0, 'Recovered': 0, 'Active': 0}",
          "{'Country/Region': 'Germany', 'Date': '2020-01-23', 'Confirmed': 0, 'Deaths': 0, 'Recovered': 0, 'Active': 0}",
          "{'Country/Region': 'Ghana', 'Date': '2020-01-23', 'Confirmed': 0, 'Deaths': 0, 'Recovered': 0, 'Active': 0}",
          "{'Country/Region': 'Greece', 'Date': '2020-01-23', 'Confirmed': 0, 'Deaths': 0, 'Recovered': 0, 'Active': 0}",
          "{'Country/Region': 'Guatemala', 'Date': '2020-01-23', 'Confirmed': 0, 'Deaths': 0, 'Recovered': 0, 'Active': 0}",
          "{'Country/Region': 'Guinea', 'Date': '2020-01-23', 'Confirmed': 0, 'Deaths': 0, 'Recovered': 0, 'Active': 0}",
          "{'Country/Region': 'Guyana', 'Date': '2020-01-23', 'Confirmed': 0, 'Deaths': 0, 'Recovered': 0, 'Active': 0}",
          "{'Country/Region': 'Haiti', 'Date': '2020-01-23', 'Confirmed': 0, 'Deaths': 0, 'Recovered': 0, 'Active': 0}",
          "{'Country/Region': 'Holy See', 'Date': '2020-01-23', 'Confirmed': 0, 'Deaths': 0, 'Recovered': 0, 'Active': 0}",
          "{'Country/Region': 'Honduras', 'Date': '2020-01-23', 'Confirmed': 0, 'Deaths': 0, 'Recovered': 0, 'Active': 0}",
          "{'Country/Region': 'Hungary', 'Date': '2020-01-23', 'Confirmed': 0, 'Deaths': 0, 'Recovered': 0, 'Active': 0}",
          "{'Country/Region': 'Iceland', 'Date': '2020-01-23', 'Confirmed': 0, 'Deaths': 0, 'Recovered': 0, 'Active': 0}",
          "{'Country/Region': 'India', 'Date': '2020-01-23', 'Confirmed': 0, 'Deaths': 0, 'Recovered': 0, 'Active': 0}",
          "{'Country/Region': 'Indonesia', 'Date': '2020-01-23', 'Confirmed': 0, 'Deaths': 0, 'Recovered': 0, 'Active': 0}",
          "{'Country/Region': 'Iran', 'Date': '2020-01-23', 'Confirmed': 0, 'Deaths': 0, 'Recovered': 0, 'Active': 0}",
          "{'Country/Region': 'Iraq', 'Date': '2020-01-23', 'Confirmed': 0, 'Deaths': 0, 'Recovered': 0, 'Active': 0}",
          "{'Country/Region': 'Ireland', 'Date': '2020-01-23', 'Confirmed': 0, 'Deaths': 0, 'Recovered': 0, 'Active': 0}",
          "{'Country/Region': 'Israel', 'Date': '2020-01-23', 'Confirmed': 0, 'Deaths': 0, 'Recovered': 0, 'Active': 0}",
          "{'Country/Region': 'Italy', 'Date': '2020-01-23', 'Confirmed': 0, 'Deaths': 0, 'Recovered': 0, 'Active': 0}",
          "{'Country/Region': 'Jamaica', 'Date': '2020-01-23', 'Confirmed': 0, 'Deaths': 0, 'Recovered': 0, 'Active': 0}",
          "{'Country/Region': 'Japan', 'Date': '2020-01-23', 'Confirmed': 2, 'Deaths': 0, 'Recovered': 0, 'Active': 2}",
          "{'Country/Region': 'Jordan', 'Date': '2020-01-23', 'Confirmed': 0, 'Deaths': 0, 'Recovered': 0, 'Active': 0}",
          "{'Country/Region': 'Kazakhstan', 'Date': '2020-01-23', 'Confirmed': 0, 'Deaths': 0, 'Recovered': 0, 'Active': 0}",
          "{'Country/Region': 'Kenya', 'Date': '2020-01-23', 'Confirmed': 0, 'Deaths': 0, 'Recovered': 0, 'Active': 0}",
          "{'Country/Region': 'South Korea', 'Date': '2020-01-23', 'Confirmed': 1, 'Deaths': 0, 'Recovered': 0, 'Active': 1}",
          "{'Country/Region': 'Kuwait', 'Date': '2020-01-23', 'Confirmed': 0, 'Deaths': 0, 'Recovered': 0, 'Active': 0}",
          "{'Country/Region': 'Kyrgyzstan', 'Date': '2020-01-23', 'Confirmed': 0, 'Deaths': 0, 'Recovered': 0, 'Active': 0}",
          "{'Country/Region': 'Latvia', 'Date': '2020-01-23', 'Confirmed': 0, 'Deaths': 0, 'Recovered': 0, 'Active': 0}",
          "{'Country/Region': 'Lebanon', 'Date': '2020-01-23', 'Confirmed': 0, 'Deaths': 0, 'Recovered': 0, 'Active': 0}",
          "{'Country/Region': 'Liberia', 'Date': '2020-01-23', 'Confirmed': 0, 'Deaths': 0, 'Recovered': 0, 'Active': 0}",
          "{'Country/Region': 'Liechtenstein', 'Date': '2020-01-23', 'Confirmed': 0, 'Deaths': 0, 'Recovered': 0, 'Active': 0}",
          "{'Country/Region': 'Lithuania', 'Date': '2020-01-23', 'Confirmed': 0, 'Deaths': 0, 'Recovered': 0, 'Active': 0}",
          "{'Country/Region': 'Luxembourg', 'Date': '2020-01-23', 'Confirmed': 0, 'Deaths': 0, 'Recovered': 0, 'Active': 0}",
          "{'Country/Region': 'Madagascar', 'Date': '2020-01-23', 'Confirmed': 0, 'Deaths': 0, 'Recovered': 0, 'Active': 0}",
          "{'Country/Region': 'Malaysia', 'Date': '2020-01-23', 'Confirmed': 0, 'Deaths': 0, 'Recovered': 0, 'Active': 0}",
          "{'Country/Region': 'Maldives', 'Date': '2020-01-23', 'Confirmed': 0, 'Deaths': 0, 'Recovered': 0, 'Active': 0}",
          "{'Country/Region': 'Malta', 'Date': '2020-01-23', 'Confirmed': 0, 'Deaths': 0, 'Recovered': 0, 'Active': 0}",
          "{'Country/Region': 'Mauritania', 'Date': '2020-01-23', 'Confirmed': 0, 'Deaths': 0, 'Recovered': 0, 'Active': 0}",
          "{'Country/Region': 'Mauritius', 'Date': '2020-01-23', 'Confirmed': 0, 'Deaths': 0, 'Recovered': 0, 'Active': 0}",
          "{'Country/Region': 'Mexico', 'Date': '2020-01-23', 'Confirmed': 0, 'Deaths': 0, 'Recovered': 0, 'Active': 0}",
          "{'Country/Region': 'Moldova', 'Date': '2020-01-23', 'Confirmed': 0, 'Deaths': 0, 'Recovered': 0, 'Active': 0}",
          "{'Country/Region': 'Monaco', 'Date': '2020-01-23', 'Confirmed': 0, 'Deaths': 0, 'Recovered': 0, 'Active': 0}",
          "{'Country/Region': 'Mongolia', 'Date': '2020-01-23', 'Confirmed': 0, 'Deaths': 0, 'Recovered': 0, 'Active': 0}",
          "{'Country/Region': 'Montenegro', 'Date': '2020-01-23', 'Confirmed': 0, 'Deaths': 0, 'Recovered': 0, 'Active': 0}",
          "{'Country/Region': 'Morocco', 'Date': '2020-01-23', 'Confirmed': 0, 'Deaths': 0, 'Recovered': 0, 'Active': 0}",
          "{'Country/Region': 'Namibia', 'Date': '2020-01-23', 'Confirmed': 0, 'Deaths': 0, 'Recovered': 0, 'Active': 0}",
          "{'Country/Region': 'Nepal', 'Date': '2020-01-23', 'Confirmed': 0, 'Deaths': 0, 'Recovered': 0, 'Active': 0}",
          "{'Country/Region': 'Netherlands', 'Date': '2020-01-23', 'Confirmed': 0, 'Deaths': 0, 'Recovered': 0, 'Active': 0}",
          "{'Country/Region': 'Netherlands', 'Date': '2020-01-23', 'Confirmed': 0, 'Deaths': 0, 'Recovered': 0, 'Active': 0}",
          "{'Country/Region': 'Netherlands', 'Date': '2020-01-23', 'Confirmed': 0, 'Deaths': 0, 'Recovered': 0, 'Active': 0}",
          "{'Country/Region': 'Netherlands', 'Date': '2020-01-23', 'Confirmed': 0, 'Deaths': 0, 'Recovered': 0, 'Active': 0}",
          "{'Country/Region': 'New Zealand', 'Date': '2020-01-23', 'Confirmed': 0, 'Deaths': 0, 'Recovered': 0, 'Active': 0}",
          "{'Country/Region': 'Nicaragua', 'Date': '2020-01-23', 'Confirmed': 0, 'Deaths': 0, 'Recovered': 0, 'Active': 0}",
          "{'Country/Region': 'Niger', 'Date': '2020-01-23', 'Confirmed': 0, 'Deaths': 0, 'Recovered': 0, 'Active': 0}",
          "{'Country/Region': 'Nigeria', 'Date': '2020-01-23', 'Confirmed': 0, 'Deaths': 0, 'Recovered': 0, 'Active': 0}",
          "{'Country/Region': 'North Macedonia', 'Date': '2020-01-23', 'Confirmed': 0, 'Deaths': 0, 'Recovered': 0, 'Active': 0}",
          "{'Country/Region': 'Norway', 'Date': '2020-01-23', 'Confirmed': 0, 'Deaths': 0, 'Recovered': 0, 'Active': 0}",
          "{'Country/Region': 'Oman', 'Date': '2020-01-23', 'Confirmed': 0, 'Deaths': 0, 'Recovered': 0, 'Active': 0}",
          "{'Country/Region': 'Pakistan', 'Date': '2020-01-23', 'Confirmed': 0, 'Deaths': 0, 'Recovered': 0, 'Active': 0}",
          "{'Country/Region': 'Panama', 'Date': '2020-01-23', 'Confirmed': 0, 'Deaths': 0, 'Recovered': 0, 'Active': 0}",
          "{'Country/Region': 'Papua New Guinea', 'Date': '2020-01-23', 'Confirmed': 0, 'Deaths': 0, 'Recovered': 0, 'Active': 0}",
          "{'Country/Region': 'Paraguay', 'Date': '2020-01-23', 'Confirmed': 0, 'Deaths': 0, 'Recovered': 0, 'Active': 0}",
          "{'Country/Region': 'Peru', 'Date': '2020-01-23', 'Confirmed': 0, 'Deaths': 0, 'Recovered': 0, 'Active': 0}",
          "{'Country/Region': 'Philippines', 'Date': '2020-01-23', 'Confirmed': 0, 'Deaths': 0, 'Recovered': 0, 'Active': 0}",
          "{'Country/Region': 'Poland', 'Date': '2020-01-23', 'Confirmed': 0, 'Deaths': 0, 'Recovered': 0, 'Active': 0}",
          "{'Country/Region': 'Portugal', 'Date': '2020-01-23', 'Confirmed': 0, 'Deaths': 0, 'Recovered': 0, 'Active': 0}",
          "{'Country/Region': 'Qatar', 'Date': '2020-01-23', 'Confirmed': 0, 'Deaths': 0, 'Recovered': 0, 'Active': 0}",
          "{'Country/Region': 'Romania', 'Date': '2020-01-23', 'Confirmed': 0, 'Deaths': 0, 'Recovered': 0, 'Active': 0}",
          "{'Country/Region': 'Russia', 'Date': '2020-01-23', 'Confirmed': 0, 'Deaths': 0, 'Recovered': 0, 'Active': 0}",
          "{'Country/Region': 'Rwanda', 'Date': '2020-01-23', 'Confirmed': 0, 'Deaths': 0, 'Recovered': 0, 'Active': 0}",
          "{'Country/Region': 'Saint Lucia', 'Date': '2020-01-23', 'Confirmed': 0, 'Deaths': 0, 'Recovered': 0, 'Active': 0}",
          "{'Country/Region': 'Saint Vincent and the Grenadines', 'Date': '2020-01-23', 'Confirmed': 0, 'Deaths': 0, 'Recovered': 0, 'Active': 0}",
          "{'Country/Region': 'San Marino', 'Date': '2020-01-23', 'Confirmed': 0, 'Deaths': 0, 'Recovered': 0, 'Active': 0}",
          "{'Country/Region': 'Saudi Arabia', 'Date': '2020-01-23', 'Confirmed': 0, 'Deaths': 0, 'Recovered': 0, 'Active': 0}",
          "{'Country/Region': 'Senegal', 'Date': '2020-01-23', 'Confirmed': 0, 'Deaths': 0, 'Recovered': 0, 'Active': 0}",
          "{'Country/Region': 'Serbia', 'Date': '2020-01-23', 'Confirmed': 0, 'Deaths': 0, 'Recovered': 0, 'Active': 0}",
          "{'Country/Region': 'Seychelles', 'Date': '2020-01-23', 'Confirmed': 0, 'Deaths': 0, 'Recovered': 0, 'Active': 0}",
          "{'Country/Region': 'Singapore', 'Date': '2020-01-23', 'Confirmed': 1, 'Deaths': 0, 'Recovered': 0, 'Active': 1}",
          "{'Country/Region': 'Slovakia', 'Date': '2020-01-23', 'Confirmed': 0, 'Deaths': 0, 'Recovered': 0, 'Active': 0}",
          "{'Country/Region': 'Slovenia', 'Date': '2020-01-23', 'Confirmed': 0, 'Deaths': 0, 'Recovered': 0, 'Active': 0}",
          "{'Country/Region': 'Somalia', 'Date': '2020-01-23', 'Confirmed': 0, 'Deaths': 0, 'Recovered': 0, 'Active': 0}",
          "{'Country/Region': 'South Africa', 'Date': '2020-01-23', 'Confirmed': 0, 'Deaths': 0, 'Recovered': 0, 'Active': 0}",
          "{'Country/Region': 'Spain', 'Date': '2020-01-23', 'Confirmed': 0, 'Deaths': 0, 'Recovered': 0, 'Active': 0}",
          "{'Country/Region': 'Sri Lanka', 'Date': '2020-01-23', 'Confirmed': 0, 'Deaths': 0, 'Recovered': 0, 'Active': 0}",
          "{'Country/Region': 'Sudan', 'Date': '2020-01-23', 'Confirmed': 0, 'Deaths': 0, 'Recovered': 0, 'Active': 0}",
          "{'Country/Region': 'Suriname', 'Date': '2020-01-23', 'Confirmed': 0, 'Deaths': 0, 'Recovered': 0, 'Active': 0}",
          "{'Country/Region': 'Sweden', 'Date': '2020-01-23', 'Confirmed': 0, 'Deaths': 0, 'Recovered': 0, 'Active': 0}",
          "{'Country/Region': 'Switzerland', 'Date': '2020-01-23', 'Confirmed': 0, 'Deaths': 0, 'Recovered': 0, 'Active': 0}",
          "{'Country/Region': 'Taiwan*', 'Date': '2020-01-23', 'Confirmed': 1, 'Deaths': 0, 'Recovered': 0, 'Active': 1}",
          "{'Country/Region': 'Tanzania', 'Date': '2020-01-23', 'Confirmed': 0, 'Deaths': 0, 'Recovered': 0, 'Active': 0}",
          "{'Country/Region': 'Thailand', 'Date': '2020-01-23', 'Confirmed': 3, 'Deaths': 0, 'Recovered': 0, 'Active': 3}",
          "{'Country/Region': 'Togo', 'Date': '2020-01-23', 'Confirmed': 0, 'Deaths': 0, 'Recovered': 0, 'Active': 0}",
          "{'Country/Region': 'Trinidad and Tobago', 'Date': '2020-01-23', 'Confirmed': 0, 'Deaths': 0, 'Recovered': 0, 'Active': 0}",
          "{'Country/Region': 'Tunisia', 'Date': '2020-01-23', 'Confirmed': 0, 'Deaths': 0, 'Recovered': 0, 'Active': 0}",
          "{'Country/Region': 'Turkey', 'Date': '2020-01-23', 'Confirmed': 0, 'Deaths': 0, 'Recovered': 0, 'Active': 0}",
          "{'Country/Region': 'Uganda', 'Date': '2020-01-23', 'Confirmed': 0, 'Deaths': 0, 'Recovered': 0, 'Active': 0}",
          "{'Country/Region': 'Ukraine', 'Date': '2020-01-23', 'Confirmed': 0, 'Deaths': 0, 'Recovered': 0, 'Active': 0}",
          "{'Country/Region': 'United Arab Emirates', 'Date': '2020-01-23', 'Confirmed': 0, 'Deaths': 0, 'Recovered': 0, 'Active': 0}",
          "{'Country/Region': 'United Kingdom', 'Date': '2020-01-23', 'Confirmed': 0, 'Deaths': 0, 'Recovered': 0, 'Active': 0}",
          "{'Country/Region': 'United Kingdom', 'Date': '2020-01-23', 'Confirmed': 0, 'Deaths': 0, 'Recovered': 0, 'Active': 0}",
          "{'Country/Region': 'United Kingdom', 'Date': '2020-01-23', 'Confirmed': 0, 'Deaths': 0, 'Recovered': 0, 'Active': 0}",
          "{'Country/Region': 'United Kingdom', 'Date': '2020-01-23', 'Confirmed': 0, 'Deaths': 0, 'Recovered': 0, 'Active': 0}",
          "{'Country/Region': 'United Kingdom', 'Date': '2020-01-23', 'Confirmed': 0, 'Deaths': 0, 'Recovered': 0, 'Active': 0}",
          "{'Country/Region': 'United Kingdom', 'Date': '2020-01-23', 'Confirmed': 0, 'Deaths': 0, 'Recovered': 0, 'Active': 0}",
          "{'Country/Region': 'United Kingdom', 'Date': '2020-01-23', 'Confirmed': 0, 'Deaths': 0, 'Recovered': 0, 'Active': 0}",
          "{'Country/Region': 'Uruguay', 'Date': '2020-01-23', 'Confirmed': 0, 'Deaths': 0, 'Recovered': 0, 'Active': 0}",
          "{'Country/Region': 'US', 'Date': '2020-01-23', 'Confirmed': 1, 'Deaths': 0, 'Recovered': 0, 'Active': 1}",
          "{'Country/Region': 'Uzbekistan', 'Date': '2020-01-23', 'Confirmed': 0, 'Deaths': 0, 'Recovered': 0, 'Active': 0}",
          "{'Country/Region': 'Venezuela', 'Date': '2020-01-23', 'Confirmed': 0, 'Deaths': 0, 'Recovered': 0, 'Active': 0}",
          "{'Country/Region': 'Vietnam', 'Date': '2020-01-23', 'Confirmed': 2, 'Deaths': 0, 'Recovered': 0, 'Active': 2}",
          "{'Country/Region': 'Zambia', 'Date': '2020-01-23', 'Confirmed': 0, 'Deaths': 0, 'Recovered': 0, 'Active': 0}",
          "{'Country/Region': 'Zimbabwe', 'Date': '2020-01-23', 'Confirmed': 0, 'Deaths': 0, 'Recovered': 0, 'Active': 0}",
          "{'Country/Region': 'Dominica', 'Date': '2020-01-23', 'Confirmed': 0, 'Deaths': 0, 'Recovered': 0, 'Active': 0}",
          "{'Country/Region': 'Grenada', 'Date': '2020-01-23', 'Confirmed': 0, 'Deaths': 0, 'Recovered': 0, 'Active': 0}",
          "{'Country/Region': 'Mozambique', 'Date': '2020-01-23', 'Confirmed': 0, 'Deaths': 0, 'Recovered': 0, 'Active': 0}",
          "{'Country/Region': 'Syria', 'Date': '2020-01-23', 'Confirmed': 0, 'Deaths': 0, 'Recovered': 0, 'Active': 0}",
          "{'Country/Region': 'Timor-Leste', 'Date': '2020-01-23', 'Confirmed': 0, 'Deaths': 0, 'Recovered': 0, 'Active': 0}",
          "{'Country/Region': 'Belize', 'Date': '2020-01-23', 'Confirmed': 0, 'Deaths': 0, 'Recovered': 0, 'Active': 0}",
          "{'Country/Region': 'Laos', 'Date': '2020-01-23', 'Confirmed': 0, 'Deaths': 0, 'Recovered': 0, 'Active': 0}",
          "{'Country/Region': 'Libya', 'Date': '2020-01-23', 'Confirmed': 0, 'Deaths': 0, 'Recovered': 0, 'Active': 0}",
          "{'Country/Region': 'West Bank and Gaza', 'Date': '2020-01-23', 'Confirmed': 0, 'Deaths': 0, 'Recovered': 0, 'Active': 0}",
          "{'Country/Region': 'Guinea-Bissau', 'Date': '2020-01-23', 'Confirmed': 0, 'Deaths': 0, 'Recovered': 0, 'Active': 0}",
          "{'Country/Region': 'Mali', 'Date': '2020-01-23', 'Confirmed': 0, 'Deaths': 0, 'Recovered': 0, 'Active': 0}",
          "{'Country/Region': 'Saint Kitts and Nevis', 'Date': '2020-01-23', 'Confirmed': 0, 'Deaths': 0, 'Recovered': 0, 'Active': 0}",
          "{'Country/Region': 'Canada', 'Date': '2020-01-23', 'Confirmed': 0, 'Deaths': 0, 'Recovered': 0, 'Active': 0}",
          "{'Country/Region': 'Canada', 'Date': '2020-01-23', 'Confirmed': 0, 'Deaths': 0, 'Recovered': 0, 'Active': 0}",
          "{'Country/Region': 'Kosovo', 'Date': '2020-01-23', 'Confirmed': 0, 'Deaths': 0, 'Recovered': 0, 'Active': 0}",
          "{'Country/Region': 'Burma', 'Date': '2020-01-23', 'Confirmed': 0, 'Deaths': 0, 'Recovered': 0, 'Active': 0}",
          "{'Country/Region': 'United Kingdom', 'Date': '2020-01-23', 'Confirmed': 0, 'Deaths': 0, 'Recovered': 0, 'Active': 0}",
          "{'Country/Region': 'United Kingdom', 'Date': '2020-01-23', 'Confirmed': 0, 'Deaths': 0, 'Recovered': 0, 'Active': 0}",
          "{'Country/Region': 'United Kingdom', 'Date': '2020-01-23', 'Confirmed': 0, 'Deaths': 0, 'Recovered': 0, 'Active': 0}",
          "{'Country/Region': 'Botswana', 'Date': '2020-01-23', 'Confirmed': 0, 'Deaths': 0, 'Recovered': 0, 'Active': 0}",
          "{'Country/Region': 'Burundi', 'Date': '2020-01-23', 'Confirmed': 0, 'Deaths': 0, 'Recovered': 0, 'Active': 0}",
          "{'Country/Region': 'Sierra Leone', 'Date': '2020-01-23', 'Confirmed': 0, 'Deaths': 0, 'Recovered': 0, 'Active': 0}",
          "{'Country/Region': 'Malawi', 'Date': '2020-01-23', 'Confirmed': 0, 'Deaths': 0, 'Recovered': 0, 'Active': 0}",
          "{'Country/Region': 'United Kingdom', 'Date': '2020-01-23', 'Confirmed': 0, 'Deaths': 0, 'Recovered': 0, 'Active': 0}",
          "{'Country/Region': 'France', 'Date': '2020-01-23', 'Confirmed': 0, 'Deaths': 0, 'Recovered': 0, 'Active': 0}",
          "{'Country/Region': 'South Sudan', 'Date': '2020-01-23', 'Confirmed': 0, 'Deaths': 0, 'Recovered': 0, 'Active': 0}",
          "{'Country/Region': 'Western Sahara', 'Date': '2020-01-23', 'Confirmed': 0, 'Deaths': 0, 'Recovered': 0, 'Active': 0}",
          "{'Country/Region': 'Sao Tome and Principe', 'Date': '2020-01-23', 'Confirmed': 0, 'Deaths': 0, 'Recovered': 0, 'Active': 0}",
          "{'Country/Region': 'Yemen', 'Date': '2020-01-23', 'Confirmed': 0, 'Deaths': 0, 'Recovered': 0, 'Active': 0}",
          "{'Country/Region': 'Comoros', 'Date': '2020-01-23', 'Confirmed': 0, 'Deaths': 0, 'Recovered': 0, 'Active': 0}",
          "{'Country/Region': 'Tajikistan', 'Date': '2020-01-23', 'Confirmed': 0, 'Deaths': 0, 'Recovered': 0, 'Active': 0}",
          "{'Country/Region': 'Lesotho', 'Date': '2020-01-23', 'Confirmed': 0, 'Deaths': 0, 'Recovered': 0, 'Active': 0}"
         ],
         "type": "scattergeo"
        }
       ],
       "layout": {
        "font": {
         "size": 12
        },
        "height": 600,
        "template": {
         "data": {
          "bar": [
           {
            "error_x": {
             "color": "#2a3f5f"
            },
            "error_y": {
             "color": "#2a3f5f"
            },
            "marker": {
             "line": {
              "color": "#E5ECF6",
              "width": 0.5
             },
             "pattern": {
              "fillmode": "overlay",
              "size": 10,
              "solidity": 0.2
             }
            },
            "type": "bar"
           }
          ],
          "barpolar": [
           {
            "marker": {
             "line": {
              "color": "#E5ECF6",
              "width": 0.5
             },
             "pattern": {
              "fillmode": "overlay",
              "size": 10,
              "solidity": 0.2
             }
            },
            "type": "barpolar"
           }
          ],
          "carpet": [
           {
            "aaxis": {
             "endlinecolor": "#2a3f5f",
             "gridcolor": "white",
             "linecolor": "white",
             "minorgridcolor": "white",
             "startlinecolor": "#2a3f5f"
            },
            "baxis": {
             "endlinecolor": "#2a3f5f",
             "gridcolor": "white",
             "linecolor": "white",
             "minorgridcolor": "white",
             "startlinecolor": "#2a3f5f"
            },
            "type": "carpet"
           }
          ],
          "choropleth": [
           {
            "colorbar": {
             "outlinewidth": 0,
             "ticks": ""
            },
            "type": "choropleth"
           }
          ],
          "contour": [
           {
            "colorbar": {
             "outlinewidth": 0,
             "ticks": ""
            },
            "colorscale": [
             [
              0,
              "#0d0887"
             ],
             [
              0.1111111111111111,
              "#46039f"
             ],
             [
              0.2222222222222222,
              "#7201a8"
             ],
             [
              0.3333333333333333,
              "#9c179e"
             ],
             [
              0.4444444444444444,
              "#bd3786"
             ],
             [
              0.5555555555555556,
              "#d8576b"
             ],
             [
              0.6666666666666666,
              "#ed7953"
             ],
             [
              0.7777777777777778,
              "#fb9f3a"
             ],
             [
              0.8888888888888888,
              "#fdca26"
             ],
             [
              1,
              "#f0f921"
             ]
            ],
            "type": "contour"
           }
          ],
          "contourcarpet": [
           {
            "colorbar": {
             "outlinewidth": 0,
             "ticks": ""
            },
            "type": "contourcarpet"
           }
          ],
          "heatmap": [
           {
            "colorbar": {
             "outlinewidth": 0,
             "ticks": ""
            },
            "colorscale": [
             [
              0,
              "#0d0887"
             ],
             [
              0.1111111111111111,
              "#46039f"
             ],
             [
              0.2222222222222222,
              "#7201a8"
             ],
             [
              0.3333333333333333,
              "#9c179e"
             ],
             [
              0.4444444444444444,
              "#bd3786"
             ],
             [
              0.5555555555555556,
              "#d8576b"
             ],
             [
              0.6666666666666666,
              "#ed7953"
             ],
             [
              0.7777777777777778,
              "#fb9f3a"
             ],
             [
              0.8888888888888888,
              "#fdca26"
             ],
             [
              1,
              "#f0f921"
             ]
            ],
            "type": "heatmap"
           }
          ],
          "heatmapgl": [
           {
            "colorbar": {
             "outlinewidth": 0,
             "ticks": ""
            },
            "colorscale": [
             [
              0,
              "#0d0887"
             ],
             [
              0.1111111111111111,
              "#46039f"
             ],
             [
              0.2222222222222222,
              "#7201a8"
             ],
             [
              0.3333333333333333,
              "#9c179e"
             ],
             [
              0.4444444444444444,
              "#bd3786"
             ],
             [
              0.5555555555555556,
              "#d8576b"
             ],
             [
              0.6666666666666666,
              "#ed7953"
             ],
             [
              0.7777777777777778,
              "#fb9f3a"
             ],
             [
              0.8888888888888888,
              "#fdca26"
             ],
             [
              1,
              "#f0f921"
             ]
            ],
            "type": "heatmapgl"
           }
          ],
          "histogram": [
           {
            "marker": {
             "pattern": {
              "fillmode": "overlay",
              "size": 10,
              "solidity": 0.2
             }
            },
            "type": "histogram"
           }
          ],
          "histogram2d": [
           {
            "colorbar": {
             "outlinewidth": 0,
             "ticks": ""
            },
            "colorscale": [
             [
              0,
              "#0d0887"
             ],
             [
              0.1111111111111111,
              "#46039f"
             ],
             [
              0.2222222222222222,
              "#7201a8"
             ],
             [
              0.3333333333333333,
              "#9c179e"
             ],
             [
              0.4444444444444444,
              "#bd3786"
             ],
             [
              0.5555555555555556,
              "#d8576b"
             ],
             [
              0.6666666666666666,
              "#ed7953"
             ],
             [
              0.7777777777777778,
              "#fb9f3a"
             ],
             [
              0.8888888888888888,
              "#fdca26"
             ],
             [
              1,
              "#f0f921"
             ]
            ],
            "type": "histogram2d"
           }
          ],
          "histogram2dcontour": [
           {
            "colorbar": {
             "outlinewidth": 0,
             "ticks": ""
            },
            "colorscale": [
             [
              0,
              "#0d0887"
             ],
             [
              0.1111111111111111,
              "#46039f"
             ],
             [
              0.2222222222222222,
              "#7201a8"
             ],
             [
              0.3333333333333333,
              "#9c179e"
             ],
             [
              0.4444444444444444,
              "#bd3786"
             ],
             [
              0.5555555555555556,
              "#d8576b"
             ],
             [
              0.6666666666666666,
              "#ed7953"
             ],
             [
              0.7777777777777778,
              "#fb9f3a"
             ],
             [
              0.8888888888888888,
              "#fdca26"
             ],
             [
              1,
              "#f0f921"
             ]
            ],
            "type": "histogram2dcontour"
           }
          ],
          "mesh3d": [
           {
            "colorbar": {
             "outlinewidth": 0,
             "ticks": ""
            },
            "type": "mesh3d"
           }
          ],
          "parcoords": [
           {
            "line": {
             "colorbar": {
              "outlinewidth": 0,
              "ticks": ""
             }
            },
            "type": "parcoords"
           }
          ],
          "pie": [
           {
            "automargin": true,
            "type": "pie"
           }
          ],
          "scatter": [
           {
            "fillpattern": {
             "fillmode": "overlay",
             "size": 10,
             "solidity": 0.2
            },
            "type": "scatter"
           }
          ],
          "scatter3d": [
           {
            "line": {
             "colorbar": {
              "outlinewidth": 0,
              "ticks": ""
             }
            },
            "marker": {
             "colorbar": {
              "outlinewidth": 0,
              "ticks": ""
             }
            },
            "type": "scatter3d"
           }
          ],
          "scattercarpet": [
           {
            "marker": {
             "colorbar": {
              "outlinewidth": 0,
              "ticks": ""
             }
            },
            "type": "scattercarpet"
           }
          ],
          "scattergeo": [
           {
            "marker": {
             "colorbar": {
              "outlinewidth": 0,
              "ticks": ""
             }
            },
            "type": "scattergeo"
           }
          ],
          "scattergl": [
           {
            "marker": {
             "colorbar": {
              "outlinewidth": 0,
              "ticks": ""
             }
            },
            "type": "scattergl"
           }
          ],
          "scattermapbox": [
           {
            "marker": {
             "colorbar": {
              "outlinewidth": 0,
              "ticks": ""
             }
            },
            "type": "scattermapbox"
           }
          ],
          "scatterpolar": [
           {
            "marker": {
             "colorbar": {
              "outlinewidth": 0,
              "ticks": ""
             }
            },
            "type": "scatterpolar"
           }
          ],
          "scatterpolargl": [
           {
            "marker": {
             "colorbar": {
              "outlinewidth": 0,
              "ticks": ""
             }
            },
            "type": "scatterpolargl"
           }
          ],
          "scatterternary": [
           {
            "marker": {
             "colorbar": {
              "outlinewidth": 0,
              "ticks": ""
             }
            },
            "type": "scatterternary"
           }
          ],
          "surface": [
           {
            "colorbar": {
             "outlinewidth": 0,
             "ticks": ""
            },
            "colorscale": [
             [
              0,
              "#0d0887"
             ],
             [
              0.1111111111111111,
              "#46039f"
             ],
             [
              0.2222222222222222,
              "#7201a8"
             ],
             [
              0.3333333333333333,
              "#9c179e"
             ],
             [
              0.4444444444444444,
              "#bd3786"
             ],
             [
              0.5555555555555556,
              "#d8576b"
             ],
             [
              0.6666666666666666,
              "#ed7953"
             ],
             [
              0.7777777777777778,
              "#fb9f3a"
             ],
             [
              0.8888888888888888,
              "#fdca26"
             ],
             [
              1,
              "#f0f921"
             ]
            ],
            "type": "surface"
           }
          ],
          "table": [
           {
            "cells": {
             "fill": {
              "color": "#EBF0F8"
             },
             "line": {
              "color": "white"
             }
            },
            "header": {
             "fill": {
              "color": "#C8D4E3"
             },
             "line": {
              "color": "white"
             }
            },
            "type": "table"
           }
          ]
         },
         "layout": {
          "annotationdefaults": {
           "arrowcolor": "#2a3f5f",
           "arrowhead": 0,
           "arrowwidth": 1
          },
          "autotypenumbers": "strict",
          "coloraxis": {
           "colorbar": {
            "outlinewidth": 0,
            "ticks": ""
           }
          },
          "colorscale": {
           "diverging": [
            [
             0,
             "#8e0152"
            ],
            [
             0.1,
             "#c51b7d"
            ],
            [
             0.2,
             "#de77ae"
            ],
            [
             0.3,
             "#f1b6da"
            ],
            [
             0.4,
             "#fde0ef"
            ],
            [
             0.5,
             "#f7f7f7"
            ],
            [
             0.6,
             "#e6f5d0"
            ],
            [
             0.7,
             "#b8e186"
            ],
            [
             0.8,
             "#7fbc41"
            ],
            [
             0.9,
             "#4d9221"
            ],
            [
             1,
             "#276419"
            ]
           ],
           "sequential": [
            [
             0,
             "#0d0887"
            ],
            [
             0.1111111111111111,
             "#46039f"
            ],
            [
             0.2222222222222222,
             "#7201a8"
            ],
            [
             0.3333333333333333,
             "#9c179e"
            ],
            [
             0.4444444444444444,
             "#bd3786"
            ],
            [
             0.5555555555555556,
             "#d8576b"
            ],
            [
             0.6666666666666666,
             "#ed7953"
            ],
            [
             0.7777777777777778,
             "#fb9f3a"
            ],
            [
             0.8888888888888888,
             "#fdca26"
            ],
            [
             1,
             "#f0f921"
            ]
           ],
           "sequentialminus": [
            [
             0,
             "#0d0887"
            ],
            [
             0.1111111111111111,
             "#46039f"
            ],
            [
             0.2222222222222222,
             "#7201a8"
            ],
            [
             0.3333333333333333,
             "#9c179e"
            ],
            [
             0.4444444444444444,
             "#bd3786"
            ],
            [
             0.5555555555555556,
             "#d8576b"
            ],
            [
             0.6666666666666666,
             "#ed7953"
            ],
            [
             0.7777777777777778,
             "#fb9f3a"
            ],
            [
             0.8888888888888888,
             "#fdca26"
            ],
            [
             1,
             "#f0f921"
            ]
           ]
          },
          "colorway": [
           "#636efa",
           "#EF553B",
           "#00cc96",
           "#ab63fa",
           "#FFA15A",
           "#19d3f3",
           "#FF6692",
           "#B6E880",
           "#FF97FF",
           "#FECB52"
          ],
          "font": {
           "color": "#2a3f5f"
          },
          "geo": {
           "bgcolor": "white",
           "lakecolor": "white",
           "landcolor": "#E5ECF6",
           "showlakes": true,
           "showland": true,
           "subunitcolor": "white"
          },
          "hoverlabel": {
           "align": "left"
          },
          "hovermode": "closest",
          "mapbox": {
           "style": "light"
          },
          "paper_bgcolor": "white",
          "plot_bgcolor": "#E5ECF6",
          "polar": {
           "angularaxis": {
            "gridcolor": "white",
            "linecolor": "white",
            "ticks": ""
           },
           "bgcolor": "#E5ECF6",
           "radialaxis": {
            "gridcolor": "white",
            "linecolor": "white",
            "ticks": ""
           }
          },
          "scene": {
           "xaxis": {
            "backgroundcolor": "#E5ECF6",
            "gridcolor": "white",
            "gridwidth": 2,
            "linecolor": "white",
            "showbackground": true,
            "ticks": "",
            "zerolinecolor": "white"
           },
           "yaxis": {
            "backgroundcolor": "#E5ECF6",
            "gridcolor": "white",
            "gridwidth": 2,
            "linecolor": "white",
            "showbackground": true,
            "ticks": "",
            "zerolinecolor": "white"
           },
           "zaxis": {
            "backgroundcolor": "#E5ECF6",
            "gridcolor": "white",
            "gridwidth": 2,
            "linecolor": "white",
            "showbackground": true,
            "ticks": "",
            "zerolinecolor": "white"
           }
          },
          "shapedefaults": {
           "line": {
            "color": "#2a3f5f"
           }
          },
          "ternary": {
           "aaxis": {
            "gridcolor": "white",
            "linecolor": "white",
            "ticks": ""
           },
           "baxis": {
            "gridcolor": "white",
            "linecolor": "white",
            "ticks": ""
           },
           "bgcolor": "#E5ECF6",
           "caxis": {
            "gridcolor": "white",
            "linecolor": "white",
            "ticks": ""
           }
          },
          "title": {
           "x": 0.05
          },
          "xaxis": {
           "automargin": true,
           "gridcolor": "white",
           "linecolor": "white",
           "ticks": "",
           "title": {
            "standoff": 15
           },
           "zerolinecolor": "white",
           "zerolinewidth": 2
          },
          "yaxis": {
           "automargin": true,
           "gridcolor": "white",
           "linecolor": "white",
           "ticks": "",
           "title": {
            "standoff": 15
           },
           "zerolinecolor": "white",
           "zerolinewidth": 2
          }
         }
        },
        "width": 1000
       }
      }
     },
     "metadata": {},
     "output_type": "display_data"
    }
   ],
   "source": [
    "plotfor(dates[1])"
   ]
  },
  {
   "cell_type": "code",
   "execution_count": null,
   "metadata": {},
   "outputs": [],
   "source": [
    "# To plot for each dates uncomment and run below code\n",
    "'''\n",
    "for i in dates:\n",
    "    plotfor(i)\n",
    "'''"
   ]
  },
  {
   "cell_type": "code",
   "execution_count": 116,
   "metadata": {},
   "outputs": [
    {
     "data": {
      "text/plain": [
       "Index(['Province/State', 'Country/Region', 'Lat', 'Long', 'Date', 'Confirmed',\n",
       "       'Deaths', 'Recovered', 'Active', 'WHO Region'],\n",
       "      dtype='object')"
      ]
     },
     "execution_count": 116,
     "metadata": {},
     "output_type": "execute_result"
    }
   ],
   "source": [
    "df.columns"
   ]
  },
  {
   "cell_type": "code",
   "execution_count": 117,
   "metadata": {},
   "outputs": [
    {
     "name": "stdout",
     "output_type": "stream",
     "text": [
      "<class 'pandas.core.frame.DataFrame'>\n",
      "RangeIndex: 49068 entries, 0 to 49067\n",
      "Data columns (total 10 columns):\n",
      " #   Column          Non-Null Count  Dtype  \n",
      "---  ------          --------------  -----  \n",
      " 0   Province/State  14664 non-null  object \n",
      " 1   Country/Region  49068 non-null  object \n",
      " 2   Lat             49068 non-null  float64\n",
      " 3   Long            49068 non-null  float64\n",
      " 4   Date            49068 non-null  object \n",
      " 5   Confirmed       49068 non-null  int64  \n",
      " 6   Deaths          49068 non-null  int64  \n",
      " 7   Recovered       49068 non-null  int64  \n",
      " 8   Active          49068 non-null  int64  \n",
      " 9   WHO Region      49068 non-null  object \n",
      "dtypes: float64(2), int64(4), object(4)\n",
      "memory usage: 3.7+ MB\n"
     ]
    }
   ],
   "source": [
    "df.info()"
   ]
  },
  {
   "cell_type": "code",
   "execution_count": 118,
   "metadata": {},
   "outputs": [],
   "source": [
    "df['Date'] = pd.to_datetime(df['Date'])"
   ]
  },
  {
   "cell_type": "code",
   "execution_count": 119,
   "metadata": {},
   "outputs": [
    {
     "name": "stdout",
     "output_type": "stream",
     "text": [
      "<class 'pandas.core.frame.DataFrame'>\n",
      "RangeIndex: 49068 entries, 0 to 49067\n",
      "Data columns (total 10 columns):\n",
      " #   Column          Non-Null Count  Dtype         \n",
      "---  ------          --------------  -----         \n",
      " 0   Province/State  14664 non-null  object        \n",
      " 1   Country/Region  49068 non-null  object        \n",
      " 2   Lat             49068 non-null  float64       \n",
      " 3   Long            49068 non-null  float64       \n",
      " 4   Date            49068 non-null  datetime64[ns]\n",
      " 5   Confirmed       49068 non-null  int64         \n",
      " 6   Deaths          49068 non-null  int64         \n",
      " 7   Recovered       49068 non-null  int64         \n",
      " 8   Active          49068 non-null  int64         \n",
      " 9   WHO Region      49068 non-null  object        \n",
      "dtypes: datetime64[ns](1), float64(2), int64(4), object(3)\n",
      "memory usage: 3.7+ MB\n"
     ]
    }
   ],
   "source": [
    "df.info()"
   ]
  },
  {
   "cell_type": "markdown",
   "metadata": {},
   "source": [
    "### Let's visualize - 'Confirmed', 'Deaths', 'Recovered', 'Active' Columns"
   ]
  },
  {
   "cell_type": "code",
   "execution_count": 120,
   "metadata": {},
   "outputs": [
    {
     "data": {
      "text/html": [
       "<div>\n",
       "<style scoped>\n",
       "    .dataframe tbody tr th:only-of-type {\n",
       "        vertical-align: middle;\n",
       "    }\n",
       "\n",
       "    .dataframe tbody tr th {\n",
       "        vertical-align: top;\n",
       "    }\n",
       "\n",
       "    .dataframe thead th {\n",
       "        text-align: right;\n",
       "    }\n",
       "</style>\n",
       "<table border=\"1\" class=\"dataframe\">\n",
       "  <thead>\n",
       "    <tr style=\"text-align: right;\">\n",
       "      <th></th>\n",
       "      <th>Confirmed</th>\n",
       "      <th>Deaths</th>\n",
       "      <th>Recovered</th>\n",
       "      <th>Active</th>\n",
       "    </tr>\n",
       "    <tr>\n",
       "      <th>Date</th>\n",
       "      <th></th>\n",
       "      <th></th>\n",
       "      <th></th>\n",
       "      <th></th>\n",
       "    </tr>\n",
       "  </thead>\n",
       "  <tbody>\n",
       "    <tr>\n",
       "      <th>2020-01-22</th>\n",
       "      <td>555</td>\n",
       "      <td>17</td>\n",
       "      <td>28</td>\n",
       "      <td>510</td>\n",
       "    </tr>\n",
       "    <tr>\n",
       "      <th>2020-01-23</th>\n",
       "      <td>654</td>\n",
       "      <td>18</td>\n",
       "      <td>30</td>\n",
       "      <td>606</td>\n",
       "    </tr>\n",
       "    <tr>\n",
       "      <th>2020-01-24</th>\n",
       "      <td>941</td>\n",
       "      <td>26</td>\n",
       "      <td>36</td>\n",
       "      <td>879</td>\n",
       "    </tr>\n",
       "    <tr>\n",
       "      <th>2020-01-25</th>\n",
       "      <td>1434</td>\n",
       "      <td>42</td>\n",
       "      <td>39</td>\n",
       "      <td>1353</td>\n",
       "    </tr>\n",
       "    <tr>\n",
       "      <th>2020-01-26</th>\n",
       "      <td>2118</td>\n",
       "      <td>56</td>\n",
       "      <td>52</td>\n",
       "      <td>2010</td>\n",
       "    </tr>\n",
       "  </tbody>\n",
       "</table>\n",
       "</div>"
      ],
      "text/plain": [
       "            Confirmed  Deaths  Recovered  Active\n",
       "Date                                            \n",
       "2020-01-22        555      17         28     510\n",
       "2020-01-23        654      18         30     606\n",
       "2020-01-24        941      26         36     879\n",
       "2020-01-25       1434      42         39    1353\n",
       "2020-01-26       2118      56         52    2010"
      ]
     },
     "execution_count": 120,
     "metadata": {},
     "output_type": "execute_result"
    }
   ],
   "source": [
    "df_agg= df.groupby('Date')[['Confirmed','Deaths', 'Recovered', 'Active']].sum()\n",
    "df_agg.head()"
   ]
  },
  {
   "cell_type": "code",
   "execution_count": 125,
   "metadata": {},
   "outputs": [],
   "source": [
    "import plotly.express as px\n",
    "fig= px.line(df_agg, x=df_agg.index, y=['Confirmed','Deaths', 'Recovered', 'Active'])"
   ]
  },
  {
   "cell_type": "code",
   "execution_count": 126,
   "metadata": {},
   "outputs": [
    {
     "data": {
      "application/vnd.plotly.v1+json": {
       "config": {
        "plotlyServerURL": "https://plotly.com"
       },
       "data": [
        {
         "hovertemplate": "variable=Confirmed<br>Date=%{x}<br>value=%{y}<extra></extra>",
         "legendgroup": "Confirmed",
         "line": {
          "color": "#636efa",
          "dash": "solid"
         },
         "marker": {
          "symbol": "circle"
         },
         "mode": "lines",
         "name": "Confirmed",
         "orientation": "v",
         "showlegend": true,
         "type": "scatter",
         "x": [
          "2020-01-22T00:00:00",
          "2020-01-23T00:00:00",
          "2020-01-24T00:00:00",
          "2020-01-25T00:00:00",
          "2020-01-26T00:00:00",
          "2020-01-27T00:00:00",
          "2020-01-28T00:00:00",
          "2020-01-29T00:00:00",
          "2020-01-30T00:00:00",
          "2020-01-31T00:00:00",
          "2020-02-01T00:00:00",
          "2020-02-02T00:00:00",
          "2020-02-03T00:00:00",
          "2020-02-04T00:00:00",
          "2020-02-05T00:00:00",
          "2020-02-06T00:00:00",
          "2020-02-07T00:00:00",
          "2020-02-08T00:00:00",
          "2020-02-09T00:00:00",
          "2020-02-10T00:00:00",
          "2020-02-11T00:00:00",
          "2020-02-12T00:00:00",
          "2020-02-13T00:00:00",
          "2020-02-14T00:00:00",
          "2020-02-15T00:00:00",
          "2020-02-16T00:00:00",
          "2020-02-17T00:00:00",
          "2020-02-18T00:00:00",
          "2020-02-19T00:00:00",
          "2020-02-20T00:00:00",
          "2020-02-21T00:00:00",
          "2020-02-22T00:00:00",
          "2020-02-23T00:00:00",
          "2020-02-24T00:00:00",
          "2020-02-25T00:00:00",
          "2020-02-26T00:00:00",
          "2020-02-27T00:00:00",
          "2020-02-28T00:00:00",
          "2020-02-29T00:00:00",
          "2020-03-01T00:00:00",
          "2020-03-02T00:00:00",
          "2020-03-03T00:00:00",
          "2020-03-04T00:00:00",
          "2020-03-05T00:00:00",
          "2020-03-06T00:00:00",
          "2020-03-07T00:00:00",
          "2020-03-08T00:00:00",
          "2020-03-09T00:00:00",
          "2020-03-10T00:00:00",
          "2020-03-11T00:00:00",
          "2020-03-12T00:00:00",
          "2020-03-13T00:00:00",
          "2020-03-14T00:00:00",
          "2020-03-15T00:00:00",
          "2020-03-16T00:00:00",
          "2020-03-17T00:00:00",
          "2020-03-18T00:00:00",
          "2020-03-19T00:00:00",
          "2020-03-20T00:00:00",
          "2020-03-21T00:00:00",
          "2020-03-22T00:00:00",
          "2020-03-23T00:00:00",
          "2020-03-24T00:00:00",
          "2020-03-25T00:00:00",
          "2020-03-26T00:00:00",
          "2020-03-27T00:00:00",
          "2020-03-28T00:00:00",
          "2020-03-29T00:00:00",
          "2020-03-30T00:00:00",
          "2020-03-31T00:00:00",
          "2020-04-01T00:00:00",
          "2020-04-02T00:00:00",
          "2020-04-03T00:00:00",
          "2020-04-04T00:00:00",
          "2020-04-05T00:00:00",
          "2020-04-06T00:00:00",
          "2020-04-07T00:00:00",
          "2020-04-08T00:00:00",
          "2020-04-09T00:00:00",
          "2020-04-10T00:00:00",
          "2020-04-11T00:00:00",
          "2020-04-12T00:00:00",
          "2020-04-13T00:00:00",
          "2020-04-14T00:00:00",
          "2020-04-15T00:00:00",
          "2020-04-16T00:00:00",
          "2020-04-17T00:00:00",
          "2020-04-18T00:00:00",
          "2020-04-19T00:00:00",
          "2020-04-20T00:00:00",
          "2020-04-21T00:00:00",
          "2020-04-22T00:00:00",
          "2020-04-23T00:00:00",
          "2020-04-24T00:00:00",
          "2020-04-25T00:00:00",
          "2020-04-26T00:00:00",
          "2020-04-27T00:00:00",
          "2020-04-28T00:00:00",
          "2020-04-29T00:00:00",
          "2020-04-30T00:00:00",
          "2020-05-01T00:00:00",
          "2020-05-02T00:00:00",
          "2020-05-03T00:00:00",
          "2020-05-04T00:00:00",
          "2020-05-05T00:00:00",
          "2020-05-06T00:00:00",
          "2020-05-07T00:00:00",
          "2020-05-08T00:00:00",
          "2020-05-09T00:00:00",
          "2020-05-10T00:00:00",
          "2020-05-11T00:00:00",
          "2020-05-12T00:00:00",
          "2020-05-13T00:00:00",
          "2020-05-14T00:00:00",
          "2020-05-15T00:00:00",
          "2020-05-16T00:00:00",
          "2020-05-17T00:00:00",
          "2020-05-18T00:00:00",
          "2020-05-19T00:00:00",
          "2020-05-20T00:00:00",
          "2020-05-21T00:00:00",
          "2020-05-22T00:00:00",
          "2020-05-23T00:00:00",
          "2020-05-24T00:00:00",
          "2020-05-25T00:00:00",
          "2020-05-26T00:00:00",
          "2020-05-27T00:00:00",
          "2020-05-28T00:00:00",
          "2020-05-29T00:00:00",
          "2020-05-30T00:00:00",
          "2020-05-31T00:00:00",
          "2020-06-01T00:00:00",
          "2020-06-02T00:00:00",
          "2020-06-03T00:00:00",
          "2020-06-04T00:00:00",
          "2020-06-05T00:00:00",
          "2020-06-06T00:00:00",
          "2020-06-07T00:00:00",
          "2020-06-08T00:00:00",
          "2020-06-09T00:00:00",
          "2020-06-10T00:00:00",
          "2020-06-11T00:00:00",
          "2020-06-12T00:00:00",
          "2020-06-13T00:00:00",
          "2020-06-14T00:00:00",
          "2020-06-15T00:00:00",
          "2020-06-16T00:00:00",
          "2020-06-17T00:00:00",
          "2020-06-18T00:00:00",
          "2020-06-19T00:00:00",
          "2020-06-20T00:00:00",
          "2020-06-21T00:00:00",
          "2020-06-22T00:00:00",
          "2020-06-23T00:00:00",
          "2020-06-24T00:00:00",
          "2020-06-25T00:00:00",
          "2020-06-26T00:00:00",
          "2020-06-27T00:00:00",
          "2020-06-28T00:00:00",
          "2020-06-29T00:00:00",
          "2020-06-30T00:00:00",
          "2020-07-01T00:00:00",
          "2020-07-02T00:00:00",
          "2020-07-03T00:00:00",
          "2020-07-04T00:00:00",
          "2020-07-05T00:00:00",
          "2020-07-06T00:00:00",
          "2020-07-07T00:00:00",
          "2020-07-08T00:00:00",
          "2020-07-09T00:00:00",
          "2020-07-10T00:00:00",
          "2020-07-11T00:00:00",
          "2020-07-12T00:00:00",
          "2020-07-13T00:00:00",
          "2020-07-14T00:00:00",
          "2020-07-15T00:00:00",
          "2020-07-16T00:00:00",
          "2020-07-17T00:00:00",
          "2020-07-18T00:00:00",
          "2020-07-19T00:00:00",
          "2020-07-20T00:00:00",
          "2020-07-21T00:00:00",
          "2020-07-22T00:00:00",
          "2020-07-23T00:00:00",
          "2020-07-24T00:00:00",
          "2020-07-25T00:00:00",
          "2020-07-26T00:00:00",
          "2020-07-27T00:00:00"
         ],
         "xaxis": "x",
         "y": [
          555,
          654,
          941,
          1434,
          2118,
          2927,
          5578,
          6166,
          8234,
          9927,
          12038,
          16787,
          19887,
          23898,
          27643,
          30802,
          34334,
          37068,
          40095,
          42633,
          44675,
          46561,
          60206,
          66690,
          68765,
          70879,
          72815,
          74609,
          75030,
          75577,
          76206,
          77967,
          78290,
          78854,
          79707,
          80670,
          82034,
          83411,
          85306,
          87690,
          89664,
          92241,
          94540,
          97331,
          101274,
          105312,
          109266,
          113166,
          118190,
          125853,
          131603,
          146008,
          157114,
          168260,
          182919,
          198757,
          218343,
          246261,
          275869,
          308175,
          341585,
          383750,
          424889,
          475706,
          538666,
          603066,
          670723,
          730300,
          794939,
          871355,
          947569,
          1028968,
          1112123,
          1192586,
          1264304,
          1336976,
          1413849,
          1497624,
          1584249,
          1671907,
          1748872,
          1845653,
          1915247,
          1985174,
          2066003,
          2162715,
          2250439,
          2324396,
          2404919,
          2478258,
          2553508,
          2630314,
          2719327,
          2806267,
          2891199,
          2964146,
          3032850,
          3108149,
          3185195,
          3268876,
          3355922,
          3437608,
          3515244,
          3591321,
          3671310,
          3761332,
          3850418,
          3941935,
          4027781,
          4104027,
          4180268,
          4263867,
          4348619,
          4445724,
          4542073,
          4637485,
          4715994,
          4804278,
          4900702,
          5003730,
          5110064,
          5216964,
          5322253,
          5417579,
          5504542,
          5597064,
          5699664,
          5818978,
          5940145,
          6077978,
          6185530,
          6280725,
          6401536,
          6520924,
          6647861,
          6778724,
          6914666,
          7026925,
          7129150,
          7253492,
          7387517,
          7525631,
          7654725,
          7790735,
          7924156,
          8043794,
          8185197,
          8327050,
          8466978,
          8647784,
          8805336,
          8933875,
          9071733,
          9237071,
          9408254,
          9586141,
          9777487,
          9955597,
          10117227,
          10275799,
          10449697,
          10667386,
          10875091,
          11078585,
          11272152,
          11454847,
          11622190,
          11833034,
          12044836,
          12273063,
          12505640,
          12721968,
          12914636,
          13107415,
          13328867,
          13559984,
          13812525,
          14054563,
          14292198,
          14506845,
          14713623,
          14947078,
          15227725,
          15510481,
          15791645,
          16047190,
          16251796,
          16480485
         ],
         "yaxis": "y"
        },
        {
         "hovertemplate": "variable=Deaths<br>Date=%{x}<br>value=%{y}<extra></extra>",
         "legendgroup": "Deaths",
         "line": {
          "color": "#EF553B",
          "dash": "solid"
         },
         "marker": {
          "symbol": "circle"
         },
         "mode": "lines",
         "name": "Deaths",
         "orientation": "v",
         "showlegend": true,
         "type": "scatter",
         "x": [
          "2020-01-22T00:00:00",
          "2020-01-23T00:00:00",
          "2020-01-24T00:00:00",
          "2020-01-25T00:00:00",
          "2020-01-26T00:00:00",
          "2020-01-27T00:00:00",
          "2020-01-28T00:00:00",
          "2020-01-29T00:00:00",
          "2020-01-30T00:00:00",
          "2020-01-31T00:00:00",
          "2020-02-01T00:00:00",
          "2020-02-02T00:00:00",
          "2020-02-03T00:00:00",
          "2020-02-04T00:00:00",
          "2020-02-05T00:00:00",
          "2020-02-06T00:00:00",
          "2020-02-07T00:00:00",
          "2020-02-08T00:00:00",
          "2020-02-09T00:00:00",
          "2020-02-10T00:00:00",
          "2020-02-11T00:00:00",
          "2020-02-12T00:00:00",
          "2020-02-13T00:00:00",
          "2020-02-14T00:00:00",
          "2020-02-15T00:00:00",
          "2020-02-16T00:00:00",
          "2020-02-17T00:00:00",
          "2020-02-18T00:00:00",
          "2020-02-19T00:00:00",
          "2020-02-20T00:00:00",
          "2020-02-21T00:00:00",
          "2020-02-22T00:00:00",
          "2020-02-23T00:00:00",
          "2020-02-24T00:00:00",
          "2020-02-25T00:00:00",
          "2020-02-26T00:00:00",
          "2020-02-27T00:00:00",
          "2020-02-28T00:00:00",
          "2020-02-29T00:00:00",
          "2020-03-01T00:00:00",
          "2020-03-02T00:00:00",
          "2020-03-03T00:00:00",
          "2020-03-04T00:00:00",
          "2020-03-05T00:00:00",
          "2020-03-06T00:00:00",
          "2020-03-07T00:00:00",
          "2020-03-08T00:00:00",
          "2020-03-09T00:00:00",
          "2020-03-10T00:00:00",
          "2020-03-11T00:00:00",
          "2020-03-12T00:00:00",
          "2020-03-13T00:00:00",
          "2020-03-14T00:00:00",
          "2020-03-15T00:00:00",
          "2020-03-16T00:00:00",
          "2020-03-17T00:00:00",
          "2020-03-18T00:00:00",
          "2020-03-19T00:00:00",
          "2020-03-20T00:00:00",
          "2020-03-21T00:00:00",
          "2020-03-22T00:00:00",
          "2020-03-23T00:00:00",
          "2020-03-24T00:00:00",
          "2020-03-25T00:00:00",
          "2020-03-26T00:00:00",
          "2020-03-27T00:00:00",
          "2020-03-28T00:00:00",
          "2020-03-29T00:00:00",
          "2020-03-30T00:00:00",
          "2020-03-31T00:00:00",
          "2020-04-01T00:00:00",
          "2020-04-02T00:00:00",
          "2020-04-03T00:00:00",
          "2020-04-04T00:00:00",
          "2020-04-05T00:00:00",
          "2020-04-06T00:00:00",
          "2020-04-07T00:00:00",
          "2020-04-08T00:00:00",
          "2020-04-09T00:00:00",
          "2020-04-10T00:00:00",
          "2020-04-11T00:00:00",
          "2020-04-12T00:00:00",
          "2020-04-13T00:00:00",
          "2020-04-14T00:00:00",
          "2020-04-15T00:00:00",
          "2020-04-16T00:00:00",
          "2020-04-17T00:00:00",
          "2020-04-18T00:00:00",
          "2020-04-19T00:00:00",
          "2020-04-20T00:00:00",
          "2020-04-21T00:00:00",
          "2020-04-22T00:00:00",
          "2020-04-23T00:00:00",
          "2020-04-24T00:00:00",
          "2020-04-25T00:00:00",
          "2020-04-26T00:00:00",
          "2020-04-27T00:00:00",
          "2020-04-28T00:00:00",
          "2020-04-29T00:00:00",
          "2020-04-30T00:00:00",
          "2020-05-01T00:00:00",
          "2020-05-02T00:00:00",
          "2020-05-03T00:00:00",
          "2020-05-04T00:00:00",
          "2020-05-05T00:00:00",
          "2020-05-06T00:00:00",
          "2020-05-07T00:00:00",
          "2020-05-08T00:00:00",
          "2020-05-09T00:00:00",
          "2020-05-10T00:00:00",
          "2020-05-11T00:00:00",
          "2020-05-12T00:00:00",
          "2020-05-13T00:00:00",
          "2020-05-14T00:00:00",
          "2020-05-15T00:00:00",
          "2020-05-16T00:00:00",
          "2020-05-17T00:00:00",
          "2020-05-18T00:00:00",
          "2020-05-19T00:00:00",
          "2020-05-20T00:00:00",
          "2020-05-21T00:00:00",
          "2020-05-22T00:00:00",
          "2020-05-23T00:00:00",
          "2020-05-24T00:00:00",
          "2020-05-25T00:00:00",
          "2020-05-26T00:00:00",
          "2020-05-27T00:00:00",
          "2020-05-28T00:00:00",
          "2020-05-29T00:00:00",
          "2020-05-30T00:00:00",
          "2020-05-31T00:00:00",
          "2020-06-01T00:00:00",
          "2020-06-02T00:00:00",
          "2020-06-03T00:00:00",
          "2020-06-04T00:00:00",
          "2020-06-05T00:00:00",
          "2020-06-06T00:00:00",
          "2020-06-07T00:00:00",
          "2020-06-08T00:00:00",
          "2020-06-09T00:00:00",
          "2020-06-10T00:00:00",
          "2020-06-11T00:00:00",
          "2020-06-12T00:00:00",
          "2020-06-13T00:00:00",
          "2020-06-14T00:00:00",
          "2020-06-15T00:00:00",
          "2020-06-16T00:00:00",
          "2020-06-17T00:00:00",
          "2020-06-18T00:00:00",
          "2020-06-19T00:00:00",
          "2020-06-20T00:00:00",
          "2020-06-21T00:00:00",
          "2020-06-22T00:00:00",
          "2020-06-23T00:00:00",
          "2020-06-24T00:00:00",
          "2020-06-25T00:00:00",
          "2020-06-26T00:00:00",
          "2020-06-27T00:00:00",
          "2020-06-28T00:00:00",
          "2020-06-29T00:00:00",
          "2020-06-30T00:00:00",
          "2020-07-01T00:00:00",
          "2020-07-02T00:00:00",
          "2020-07-03T00:00:00",
          "2020-07-04T00:00:00",
          "2020-07-05T00:00:00",
          "2020-07-06T00:00:00",
          "2020-07-07T00:00:00",
          "2020-07-08T00:00:00",
          "2020-07-09T00:00:00",
          "2020-07-10T00:00:00",
          "2020-07-11T00:00:00",
          "2020-07-12T00:00:00",
          "2020-07-13T00:00:00",
          "2020-07-14T00:00:00",
          "2020-07-15T00:00:00",
          "2020-07-16T00:00:00",
          "2020-07-17T00:00:00",
          "2020-07-18T00:00:00",
          "2020-07-19T00:00:00",
          "2020-07-20T00:00:00",
          "2020-07-21T00:00:00",
          "2020-07-22T00:00:00",
          "2020-07-23T00:00:00",
          "2020-07-24T00:00:00",
          "2020-07-25T00:00:00",
          "2020-07-26T00:00:00",
          "2020-07-27T00:00:00"
         ],
         "xaxis": "x",
         "y": [
          17,
          18,
          26,
          42,
          56,
          82,
          131,
          133,
          171,
          213,
          259,
          362,
          426,
          492,
          564,
          634,
          719,
          806,
          906,
          1013,
          1113,
          1118,
          1371,
          1523,
          1666,
          1770,
          1868,
          2008,
          2123,
          2246,
          2250,
          2457,
          2467,
          2627,
          2707,
          2767,
          2810,
          2867,
          2936,
          2990,
          3079,
          3154,
          3249,
          3342,
          3454,
          3553,
          3797,
          3981,
          4260,
          4604,
          4909,
          5406,
          5823,
          6464,
          7144,
          7948,
          8845,
          9951,
          11429,
          13134,
          14831,
          16748,
          19016,
          21793,
          24800,
          28318,
          31997,
          35470,
          39634,
          44478,
          50029,
          56334,
          62319,
          68160,
          73181,
          79013,
          86915,
          93650,
          101279,
          108551,
          114620,
          120351,
          126098,
          132996,
          141308,
          148591,
          157481,
          163952,
          168522,
          173965,
          181122,
          187877,
          194727,
          201401,
          206979,
          210862,
          215511,
          221974,
          228742,
          234704,
          239881,
          245206,
          248659,
          252787,
          258658,
          265327,
          270736,
          276304,
          280569,
          284135,
          287608,
          293155,
          298383,
          303651,
          308866,
          313037,
          316366,
          319657,
          324441,
          329326,
          334112,
          339396,
          343385,
          346525,
          347703,
          351906,
          357119,
          361820,
          366562,
          370718,
          373606,
          376674,
          381497,
          387069,
          392218,
          396994,
          400875,
          403617,
          407314,
          412236,
          417441,
          422215,
          426512,
          430750,
          434124,
          437549,
          444416,
          449671,
          454700,
          460973,
          465222,
          469185,
          472756,
          478067,
          483328,
          489955,
          494782,
          499268,
          502357,
          506078,
          511210,
          516221,
          521341,
          526336,
          530705,
          534150,
          537947,
          544054,
          549373,
          554831,
          560142,
          565039,
          568993,
          572808,
          578468,
          583961,
          589760,
          596503,
          602130,
          606159,
          610319,
          616557,
          623540,
          633506,
          639650,
          644517,
          648621,
          654036
         ],
         "yaxis": "y"
        },
        {
         "hovertemplate": "variable=Recovered<br>Date=%{x}<br>value=%{y}<extra></extra>",
         "legendgroup": "Recovered",
         "line": {
          "color": "#00cc96",
          "dash": "solid"
         },
         "marker": {
          "symbol": "circle"
         },
         "mode": "lines",
         "name": "Recovered",
         "orientation": "v",
         "showlegend": true,
         "type": "scatter",
         "x": [
          "2020-01-22T00:00:00",
          "2020-01-23T00:00:00",
          "2020-01-24T00:00:00",
          "2020-01-25T00:00:00",
          "2020-01-26T00:00:00",
          "2020-01-27T00:00:00",
          "2020-01-28T00:00:00",
          "2020-01-29T00:00:00",
          "2020-01-30T00:00:00",
          "2020-01-31T00:00:00",
          "2020-02-01T00:00:00",
          "2020-02-02T00:00:00",
          "2020-02-03T00:00:00",
          "2020-02-04T00:00:00",
          "2020-02-05T00:00:00",
          "2020-02-06T00:00:00",
          "2020-02-07T00:00:00",
          "2020-02-08T00:00:00",
          "2020-02-09T00:00:00",
          "2020-02-10T00:00:00",
          "2020-02-11T00:00:00",
          "2020-02-12T00:00:00",
          "2020-02-13T00:00:00",
          "2020-02-14T00:00:00",
          "2020-02-15T00:00:00",
          "2020-02-16T00:00:00",
          "2020-02-17T00:00:00",
          "2020-02-18T00:00:00",
          "2020-02-19T00:00:00",
          "2020-02-20T00:00:00",
          "2020-02-21T00:00:00",
          "2020-02-22T00:00:00",
          "2020-02-23T00:00:00",
          "2020-02-24T00:00:00",
          "2020-02-25T00:00:00",
          "2020-02-26T00:00:00",
          "2020-02-27T00:00:00",
          "2020-02-28T00:00:00",
          "2020-02-29T00:00:00",
          "2020-03-01T00:00:00",
          "2020-03-02T00:00:00",
          "2020-03-03T00:00:00",
          "2020-03-04T00:00:00",
          "2020-03-05T00:00:00",
          "2020-03-06T00:00:00",
          "2020-03-07T00:00:00",
          "2020-03-08T00:00:00",
          "2020-03-09T00:00:00",
          "2020-03-10T00:00:00",
          "2020-03-11T00:00:00",
          "2020-03-12T00:00:00",
          "2020-03-13T00:00:00",
          "2020-03-14T00:00:00",
          "2020-03-15T00:00:00",
          "2020-03-16T00:00:00",
          "2020-03-17T00:00:00",
          "2020-03-18T00:00:00",
          "2020-03-19T00:00:00",
          "2020-03-20T00:00:00",
          "2020-03-21T00:00:00",
          "2020-03-22T00:00:00",
          "2020-03-23T00:00:00",
          "2020-03-24T00:00:00",
          "2020-03-25T00:00:00",
          "2020-03-26T00:00:00",
          "2020-03-27T00:00:00",
          "2020-03-28T00:00:00",
          "2020-03-29T00:00:00",
          "2020-03-30T00:00:00",
          "2020-03-31T00:00:00",
          "2020-04-01T00:00:00",
          "2020-04-02T00:00:00",
          "2020-04-03T00:00:00",
          "2020-04-04T00:00:00",
          "2020-04-05T00:00:00",
          "2020-04-06T00:00:00",
          "2020-04-07T00:00:00",
          "2020-04-08T00:00:00",
          "2020-04-09T00:00:00",
          "2020-04-10T00:00:00",
          "2020-04-11T00:00:00",
          "2020-04-12T00:00:00",
          "2020-04-13T00:00:00",
          "2020-04-14T00:00:00",
          "2020-04-15T00:00:00",
          "2020-04-16T00:00:00",
          "2020-04-17T00:00:00",
          "2020-04-18T00:00:00",
          "2020-04-19T00:00:00",
          "2020-04-20T00:00:00",
          "2020-04-21T00:00:00",
          "2020-04-22T00:00:00",
          "2020-04-23T00:00:00",
          "2020-04-24T00:00:00",
          "2020-04-25T00:00:00",
          "2020-04-26T00:00:00",
          "2020-04-27T00:00:00",
          "2020-04-28T00:00:00",
          "2020-04-29T00:00:00",
          "2020-04-30T00:00:00",
          "2020-05-01T00:00:00",
          "2020-05-02T00:00:00",
          "2020-05-03T00:00:00",
          "2020-05-04T00:00:00",
          "2020-05-05T00:00:00",
          "2020-05-06T00:00:00",
          "2020-05-07T00:00:00",
          "2020-05-08T00:00:00",
          "2020-05-09T00:00:00",
          "2020-05-10T00:00:00",
          "2020-05-11T00:00:00",
          "2020-05-12T00:00:00",
          "2020-05-13T00:00:00",
          "2020-05-14T00:00:00",
          "2020-05-15T00:00:00",
          "2020-05-16T00:00:00",
          "2020-05-17T00:00:00",
          "2020-05-18T00:00:00",
          "2020-05-19T00:00:00",
          "2020-05-20T00:00:00",
          "2020-05-21T00:00:00",
          "2020-05-22T00:00:00",
          "2020-05-23T00:00:00",
          "2020-05-24T00:00:00",
          "2020-05-25T00:00:00",
          "2020-05-26T00:00:00",
          "2020-05-27T00:00:00",
          "2020-05-28T00:00:00",
          "2020-05-29T00:00:00",
          "2020-05-30T00:00:00",
          "2020-05-31T00:00:00",
          "2020-06-01T00:00:00",
          "2020-06-02T00:00:00",
          "2020-06-03T00:00:00",
          "2020-06-04T00:00:00",
          "2020-06-05T00:00:00",
          "2020-06-06T00:00:00",
          "2020-06-07T00:00:00",
          "2020-06-08T00:00:00",
          "2020-06-09T00:00:00",
          "2020-06-10T00:00:00",
          "2020-06-11T00:00:00",
          "2020-06-12T00:00:00",
          "2020-06-13T00:00:00",
          "2020-06-14T00:00:00",
          "2020-06-15T00:00:00",
          "2020-06-16T00:00:00",
          "2020-06-17T00:00:00",
          "2020-06-18T00:00:00",
          "2020-06-19T00:00:00",
          "2020-06-20T00:00:00",
          "2020-06-21T00:00:00",
          "2020-06-22T00:00:00",
          "2020-06-23T00:00:00",
          "2020-06-24T00:00:00",
          "2020-06-25T00:00:00",
          "2020-06-26T00:00:00",
          "2020-06-27T00:00:00",
          "2020-06-28T00:00:00",
          "2020-06-29T00:00:00",
          "2020-06-30T00:00:00",
          "2020-07-01T00:00:00",
          "2020-07-02T00:00:00",
          "2020-07-03T00:00:00",
          "2020-07-04T00:00:00",
          "2020-07-05T00:00:00",
          "2020-07-06T00:00:00",
          "2020-07-07T00:00:00",
          "2020-07-08T00:00:00",
          "2020-07-09T00:00:00",
          "2020-07-10T00:00:00",
          "2020-07-11T00:00:00",
          "2020-07-12T00:00:00",
          "2020-07-13T00:00:00",
          "2020-07-14T00:00:00",
          "2020-07-15T00:00:00",
          "2020-07-16T00:00:00",
          "2020-07-17T00:00:00",
          "2020-07-18T00:00:00",
          "2020-07-19T00:00:00",
          "2020-07-20T00:00:00",
          "2020-07-21T00:00:00",
          "2020-07-22T00:00:00",
          "2020-07-23T00:00:00",
          "2020-07-24T00:00:00",
          "2020-07-25T00:00:00",
          "2020-07-26T00:00:00",
          "2020-07-27T00:00:00"
         ],
         "xaxis": "x",
         "y": [
          28,
          30,
          36,
          39,
          52,
          61,
          107,
          125,
          141,
          219,
          281,
          459,
          604,
          821,
          1071,
          1418,
          1903,
          2470,
          3057,
          3714,
          4417,
          4849,
          5930,
          7613,
          8902,
          10319,
          11951,
          13693,
          15394,
          17369,
          17966,
          21849,
          22304,
          24047,
          26652,
          29077,
          31919,
          35306,
          38314,
          41208,
          44085,
          46681,
          49619,
          52237,
          54270,
          56760,
          59092,
          60891,
          62802,
          65113,
          66434,
          68359,
          70729,
          74139,
          76192,
          78944,
          81427,
          83064,
          85509,
          89775,
          95990,
          96456,
          105997,
          111445,
          119804,
          128508,
          136800,
          146261,
          161707,
          174074,
          189434,
          206052,
          221060,
          241072,
          254477,
          270812,
          293665,
          322017,
          346349,
          367477,
          392991,
          411864,
          438395,
          463014,
          498925,
          529015,
          554287,
          577789,
          608557,
          629862,
          664043,
          693207,
          721689,
          771329,
          798239,
          825969,
          852382,
          884680,
          925752,
          989616,
          1026501,
          1066362,
          1097577,
          1130526,
          1166155,
          1210894,
          1249311,
          1284849,
          1337367,
          1370108,
          1416204,
          1452191,
          1506905,
          1545712,
          1592880,
          1648546,
          1688699,
          1740909,
          1792256,
          1850441,
          1900768,
          2008541,
          2062802,
          2117555,
          2180605,
          2235118,
          2297613,
          2363746,
          2440127,
          2509981,
          2585589,
          2639599,
          2743083,
          2821430,
          2890776,
          2959037,
          3030214,
          3084718,
          3235640,
          3317121,
          3395154,
          3480121,
          3558933,
          3644048,
          3714006,
          3793406,
          3890800,
          4008201,
          4088826,
          4183298,
          4298603,
          4366875,
          4458093,
          4561696,
          4677005,
          4769458,
          4875774,
          4981808,
          5070592,
          5164494,
          5281459,
          5397083,
          5681477,
          5790942,
          5986375,
          6105546,
          6228768,
          6373513,
          6531016,
          6665237,
          6804254,
          6929711,
          7041174,
          7181139,
          7322897,
          7482320,
          7634241,
          7793760,
          7944550,
          8032235,
          8190777,
          8364986,
          8541255,
          8710969,
          8939705,
          9158743,
          9293464,
          9468087
         ],
         "yaxis": "y"
        },
        {
         "hovertemplate": "variable=Active<br>Date=%{x}<br>value=%{y}<extra></extra>",
         "legendgroup": "Active",
         "line": {
          "color": "#ab63fa",
          "dash": "solid"
         },
         "marker": {
          "symbol": "circle"
         },
         "mode": "lines",
         "name": "Active",
         "orientation": "v",
         "showlegend": true,
         "type": "scatter",
         "x": [
          "2020-01-22T00:00:00",
          "2020-01-23T00:00:00",
          "2020-01-24T00:00:00",
          "2020-01-25T00:00:00",
          "2020-01-26T00:00:00",
          "2020-01-27T00:00:00",
          "2020-01-28T00:00:00",
          "2020-01-29T00:00:00",
          "2020-01-30T00:00:00",
          "2020-01-31T00:00:00",
          "2020-02-01T00:00:00",
          "2020-02-02T00:00:00",
          "2020-02-03T00:00:00",
          "2020-02-04T00:00:00",
          "2020-02-05T00:00:00",
          "2020-02-06T00:00:00",
          "2020-02-07T00:00:00",
          "2020-02-08T00:00:00",
          "2020-02-09T00:00:00",
          "2020-02-10T00:00:00",
          "2020-02-11T00:00:00",
          "2020-02-12T00:00:00",
          "2020-02-13T00:00:00",
          "2020-02-14T00:00:00",
          "2020-02-15T00:00:00",
          "2020-02-16T00:00:00",
          "2020-02-17T00:00:00",
          "2020-02-18T00:00:00",
          "2020-02-19T00:00:00",
          "2020-02-20T00:00:00",
          "2020-02-21T00:00:00",
          "2020-02-22T00:00:00",
          "2020-02-23T00:00:00",
          "2020-02-24T00:00:00",
          "2020-02-25T00:00:00",
          "2020-02-26T00:00:00",
          "2020-02-27T00:00:00",
          "2020-02-28T00:00:00",
          "2020-02-29T00:00:00",
          "2020-03-01T00:00:00",
          "2020-03-02T00:00:00",
          "2020-03-03T00:00:00",
          "2020-03-04T00:00:00",
          "2020-03-05T00:00:00",
          "2020-03-06T00:00:00",
          "2020-03-07T00:00:00",
          "2020-03-08T00:00:00",
          "2020-03-09T00:00:00",
          "2020-03-10T00:00:00",
          "2020-03-11T00:00:00",
          "2020-03-12T00:00:00",
          "2020-03-13T00:00:00",
          "2020-03-14T00:00:00",
          "2020-03-15T00:00:00",
          "2020-03-16T00:00:00",
          "2020-03-17T00:00:00",
          "2020-03-18T00:00:00",
          "2020-03-19T00:00:00",
          "2020-03-20T00:00:00",
          "2020-03-21T00:00:00",
          "2020-03-22T00:00:00",
          "2020-03-23T00:00:00",
          "2020-03-24T00:00:00",
          "2020-03-25T00:00:00",
          "2020-03-26T00:00:00",
          "2020-03-27T00:00:00",
          "2020-03-28T00:00:00",
          "2020-03-29T00:00:00",
          "2020-03-30T00:00:00",
          "2020-03-31T00:00:00",
          "2020-04-01T00:00:00",
          "2020-04-02T00:00:00",
          "2020-04-03T00:00:00",
          "2020-04-04T00:00:00",
          "2020-04-05T00:00:00",
          "2020-04-06T00:00:00",
          "2020-04-07T00:00:00",
          "2020-04-08T00:00:00",
          "2020-04-09T00:00:00",
          "2020-04-10T00:00:00",
          "2020-04-11T00:00:00",
          "2020-04-12T00:00:00",
          "2020-04-13T00:00:00",
          "2020-04-14T00:00:00",
          "2020-04-15T00:00:00",
          "2020-04-16T00:00:00",
          "2020-04-17T00:00:00",
          "2020-04-18T00:00:00",
          "2020-04-19T00:00:00",
          "2020-04-20T00:00:00",
          "2020-04-21T00:00:00",
          "2020-04-22T00:00:00",
          "2020-04-23T00:00:00",
          "2020-04-24T00:00:00",
          "2020-04-25T00:00:00",
          "2020-04-26T00:00:00",
          "2020-04-27T00:00:00",
          "2020-04-28T00:00:00",
          "2020-04-29T00:00:00",
          "2020-04-30T00:00:00",
          "2020-05-01T00:00:00",
          "2020-05-02T00:00:00",
          "2020-05-03T00:00:00",
          "2020-05-04T00:00:00",
          "2020-05-05T00:00:00",
          "2020-05-06T00:00:00",
          "2020-05-07T00:00:00",
          "2020-05-08T00:00:00",
          "2020-05-09T00:00:00",
          "2020-05-10T00:00:00",
          "2020-05-11T00:00:00",
          "2020-05-12T00:00:00",
          "2020-05-13T00:00:00",
          "2020-05-14T00:00:00",
          "2020-05-15T00:00:00",
          "2020-05-16T00:00:00",
          "2020-05-17T00:00:00",
          "2020-05-18T00:00:00",
          "2020-05-19T00:00:00",
          "2020-05-20T00:00:00",
          "2020-05-21T00:00:00",
          "2020-05-22T00:00:00",
          "2020-05-23T00:00:00",
          "2020-05-24T00:00:00",
          "2020-05-25T00:00:00",
          "2020-05-26T00:00:00",
          "2020-05-27T00:00:00",
          "2020-05-28T00:00:00",
          "2020-05-29T00:00:00",
          "2020-05-30T00:00:00",
          "2020-05-31T00:00:00",
          "2020-06-01T00:00:00",
          "2020-06-02T00:00:00",
          "2020-06-03T00:00:00",
          "2020-06-04T00:00:00",
          "2020-06-05T00:00:00",
          "2020-06-06T00:00:00",
          "2020-06-07T00:00:00",
          "2020-06-08T00:00:00",
          "2020-06-09T00:00:00",
          "2020-06-10T00:00:00",
          "2020-06-11T00:00:00",
          "2020-06-12T00:00:00",
          "2020-06-13T00:00:00",
          "2020-06-14T00:00:00",
          "2020-06-15T00:00:00",
          "2020-06-16T00:00:00",
          "2020-06-17T00:00:00",
          "2020-06-18T00:00:00",
          "2020-06-19T00:00:00",
          "2020-06-20T00:00:00",
          "2020-06-21T00:00:00",
          "2020-06-22T00:00:00",
          "2020-06-23T00:00:00",
          "2020-06-24T00:00:00",
          "2020-06-25T00:00:00",
          "2020-06-26T00:00:00",
          "2020-06-27T00:00:00",
          "2020-06-28T00:00:00",
          "2020-06-29T00:00:00",
          "2020-06-30T00:00:00",
          "2020-07-01T00:00:00",
          "2020-07-02T00:00:00",
          "2020-07-03T00:00:00",
          "2020-07-04T00:00:00",
          "2020-07-05T00:00:00",
          "2020-07-06T00:00:00",
          "2020-07-07T00:00:00",
          "2020-07-08T00:00:00",
          "2020-07-09T00:00:00",
          "2020-07-10T00:00:00",
          "2020-07-11T00:00:00",
          "2020-07-12T00:00:00",
          "2020-07-13T00:00:00",
          "2020-07-14T00:00:00",
          "2020-07-15T00:00:00",
          "2020-07-16T00:00:00",
          "2020-07-17T00:00:00",
          "2020-07-18T00:00:00",
          "2020-07-19T00:00:00",
          "2020-07-20T00:00:00",
          "2020-07-21T00:00:00",
          "2020-07-22T00:00:00",
          "2020-07-23T00:00:00",
          "2020-07-24T00:00:00",
          "2020-07-25T00:00:00",
          "2020-07-26T00:00:00",
          "2020-07-27T00:00:00"
         ],
         "xaxis": "x",
         "y": [
          510,
          606,
          879,
          1353,
          2010,
          2784,
          5340,
          5908,
          7922,
          9495,
          11498,
          15966,
          18857,
          22585,
          26008,
          28750,
          31712,
          33792,
          36132,
          37906,
          39145,
          40594,
          52905,
          57554,
          58197,
          58790,
          58996,
          58908,
          57513,
          55962,
          55990,
          53661,
          53519,
          52180,
          50348,
          48826,
          47305,
          45238,
          44056,
          43492,
          42500,
          42406,
          41672,
          41752,
          43550,
          44999,
          46377,
          48294,
          51128,
          56136,
          60260,
          72243,
          80562,
          87657,
          99583,
          111865,
          128071,
          153246,
          178931,
          205266,
          230764,
          270546,
          299876,
          342468,
          394062,
          446240,
          501926,
          548569,
          593598,
          652803,
          708106,
          766582,
          828744,
          883354,
          936646,
          987151,
          1033269,
          1081957,
          1136621,
          1195879,
          1241261,
          1313438,
          1350754,
          1389164,
          1425770,
          1485109,
          1538671,
          1582655,
          1627840,
          1674431,
          1708343,
          1749230,
          1802911,
          1833537,
          1885981,
          1927315,
          1964957,
          2001495,
          2030701,
          2044556,
          2089540,
          2126040,
          2169008,
          2208008,
          2246497,
          2285111,
          2330371,
          2380782,
          2409845,
          2449784,
          2476456,
          2518521,
          2543331,
          2596361,
          2640327,
          2675902,
          2710929,
          2743712,
          2784005,
          2823963,
          2875184,
          2869027,
          2916066,
          2953499,
          2976234,
          3010040,
          3044932,
          3093412,
          3133456,
          3197279,
          3226335,
          3264452,
          3276956,
          3312425,
          3364867,
          3422693,
          3483577,
          3538590,
          3486196,
          3524135,
          3574922,
          3623295,
          3669280,
          3715937,
          3776026,
          3812839,
          3849981,
          3869178,
          3923452,
          4003513,
          4041511,
          4097815,
          4140884,
          4197308,
          4247921,
          4326728,
          4406931,
          4474521,
          4544278,
          4605227,
          4657028,
          4754082,
          4672273,
          4761307,
          4755072,
          4815151,
          4855475,
          4915467,
          4964447,
          5052995,
          5141244,
          5227218,
          5304469,
          5353468,
          5427502,
          5493703,
          5588524,
          5664300,
          5745518,
          5868451,
          5912527,
          5965535,
          6062930,
          6166006,
          6212290,
          6243930,
          6309711,
          6358362
         ],
         "yaxis": "y"
        }
       ],
       "layout": {
        "legend": {
         "title": {
          "text": "variable"
         },
         "tracegroupgap": 0
        },
        "margin": {
         "t": 60
        },
        "template": {
         "data": {
          "bar": [
           {
            "error_x": {
             "color": "#2a3f5f"
            },
            "error_y": {
             "color": "#2a3f5f"
            },
            "marker": {
             "line": {
              "color": "#E5ECF6",
              "width": 0.5
             },
             "pattern": {
              "fillmode": "overlay",
              "size": 10,
              "solidity": 0.2
             }
            },
            "type": "bar"
           }
          ],
          "barpolar": [
           {
            "marker": {
             "line": {
              "color": "#E5ECF6",
              "width": 0.5
             },
             "pattern": {
              "fillmode": "overlay",
              "size": 10,
              "solidity": 0.2
             }
            },
            "type": "barpolar"
           }
          ],
          "carpet": [
           {
            "aaxis": {
             "endlinecolor": "#2a3f5f",
             "gridcolor": "white",
             "linecolor": "white",
             "minorgridcolor": "white",
             "startlinecolor": "#2a3f5f"
            },
            "baxis": {
             "endlinecolor": "#2a3f5f",
             "gridcolor": "white",
             "linecolor": "white",
             "minorgridcolor": "white",
             "startlinecolor": "#2a3f5f"
            },
            "type": "carpet"
           }
          ],
          "choropleth": [
           {
            "colorbar": {
             "outlinewidth": 0,
             "ticks": ""
            },
            "type": "choropleth"
           }
          ],
          "contour": [
           {
            "colorbar": {
             "outlinewidth": 0,
             "ticks": ""
            },
            "colorscale": [
             [
              0,
              "#0d0887"
             ],
             [
              0.1111111111111111,
              "#46039f"
             ],
             [
              0.2222222222222222,
              "#7201a8"
             ],
             [
              0.3333333333333333,
              "#9c179e"
             ],
             [
              0.4444444444444444,
              "#bd3786"
             ],
             [
              0.5555555555555556,
              "#d8576b"
             ],
             [
              0.6666666666666666,
              "#ed7953"
             ],
             [
              0.7777777777777778,
              "#fb9f3a"
             ],
             [
              0.8888888888888888,
              "#fdca26"
             ],
             [
              1,
              "#f0f921"
             ]
            ],
            "type": "contour"
           }
          ],
          "contourcarpet": [
           {
            "colorbar": {
             "outlinewidth": 0,
             "ticks": ""
            },
            "type": "contourcarpet"
           }
          ],
          "heatmap": [
           {
            "colorbar": {
             "outlinewidth": 0,
             "ticks": ""
            },
            "colorscale": [
             [
              0,
              "#0d0887"
             ],
             [
              0.1111111111111111,
              "#46039f"
             ],
             [
              0.2222222222222222,
              "#7201a8"
             ],
             [
              0.3333333333333333,
              "#9c179e"
             ],
             [
              0.4444444444444444,
              "#bd3786"
             ],
             [
              0.5555555555555556,
              "#d8576b"
             ],
             [
              0.6666666666666666,
              "#ed7953"
             ],
             [
              0.7777777777777778,
              "#fb9f3a"
             ],
             [
              0.8888888888888888,
              "#fdca26"
             ],
             [
              1,
              "#f0f921"
             ]
            ],
            "type": "heatmap"
           }
          ],
          "heatmapgl": [
           {
            "colorbar": {
             "outlinewidth": 0,
             "ticks": ""
            },
            "colorscale": [
             [
              0,
              "#0d0887"
             ],
             [
              0.1111111111111111,
              "#46039f"
             ],
             [
              0.2222222222222222,
              "#7201a8"
             ],
             [
              0.3333333333333333,
              "#9c179e"
             ],
             [
              0.4444444444444444,
              "#bd3786"
             ],
             [
              0.5555555555555556,
              "#d8576b"
             ],
             [
              0.6666666666666666,
              "#ed7953"
             ],
             [
              0.7777777777777778,
              "#fb9f3a"
             ],
             [
              0.8888888888888888,
              "#fdca26"
             ],
             [
              1,
              "#f0f921"
             ]
            ],
            "type": "heatmapgl"
           }
          ],
          "histogram": [
           {
            "marker": {
             "pattern": {
              "fillmode": "overlay",
              "size": 10,
              "solidity": 0.2
             }
            },
            "type": "histogram"
           }
          ],
          "histogram2d": [
           {
            "colorbar": {
             "outlinewidth": 0,
             "ticks": ""
            },
            "colorscale": [
             [
              0,
              "#0d0887"
             ],
             [
              0.1111111111111111,
              "#46039f"
             ],
             [
              0.2222222222222222,
              "#7201a8"
             ],
             [
              0.3333333333333333,
              "#9c179e"
             ],
             [
              0.4444444444444444,
              "#bd3786"
             ],
             [
              0.5555555555555556,
              "#d8576b"
             ],
             [
              0.6666666666666666,
              "#ed7953"
             ],
             [
              0.7777777777777778,
              "#fb9f3a"
             ],
             [
              0.8888888888888888,
              "#fdca26"
             ],
             [
              1,
              "#f0f921"
             ]
            ],
            "type": "histogram2d"
           }
          ],
          "histogram2dcontour": [
           {
            "colorbar": {
             "outlinewidth": 0,
             "ticks": ""
            },
            "colorscale": [
             [
              0,
              "#0d0887"
             ],
             [
              0.1111111111111111,
              "#46039f"
             ],
             [
              0.2222222222222222,
              "#7201a8"
             ],
             [
              0.3333333333333333,
              "#9c179e"
             ],
             [
              0.4444444444444444,
              "#bd3786"
             ],
             [
              0.5555555555555556,
              "#d8576b"
             ],
             [
              0.6666666666666666,
              "#ed7953"
             ],
             [
              0.7777777777777778,
              "#fb9f3a"
             ],
             [
              0.8888888888888888,
              "#fdca26"
             ],
             [
              1,
              "#f0f921"
             ]
            ],
            "type": "histogram2dcontour"
           }
          ],
          "mesh3d": [
           {
            "colorbar": {
             "outlinewidth": 0,
             "ticks": ""
            },
            "type": "mesh3d"
           }
          ],
          "parcoords": [
           {
            "line": {
             "colorbar": {
              "outlinewidth": 0,
              "ticks": ""
             }
            },
            "type": "parcoords"
           }
          ],
          "pie": [
           {
            "automargin": true,
            "type": "pie"
           }
          ],
          "scatter": [
           {
            "fillpattern": {
             "fillmode": "overlay",
             "size": 10,
             "solidity": 0.2
            },
            "type": "scatter"
           }
          ],
          "scatter3d": [
           {
            "line": {
             "colorbar": {
              "outlinewidth": 0,
              "ticks": ""
             }
            },
            "marker": {
             "colorbar": {
              "outlinewidth": 0,
              "ticks": ""
             }
            },
            "type": "scatter3d"
           }
          ],
          "scattercarpet": [
           {
            "marker": {
             "colorbar": {
              "outlinewidth": 0,
              "ticks": ""
             }
            },
            "type": "scattercarpet"
           }
          ],
          "scattergeo": [
           {
            "marker": {
             "colorbar": {
              "outlinewidth": 0,
              "ticks": ""
             }
            },
            "type": "scattergeo"
           }
          ],
          "scattergl": [
           {
            "marker": {
             "colorbar": {
              "outlinewidth": 0,
              "ticks": ""
             }
            },
            "type": "scattergl"
           }
          ],
          "scattermapbox": [
           {
            "marker": {
             "colorbar": {
              "outlinewidth": 0,
              "ticks": ""
             }
            },
            "type": "scattermapbox"
           }
          ],
          "scatterpolar": [
           {
            "marker": {
             "colorbar": {
              "outlinewidth": 0,
              "ticks": ""
             }
            },
            "type": "scatterpolar"
           }
          ],
          "scatterpolargl": [
           {
            "marker": {
             "colorbar": {
              "outlinewidth": 0,
              "ticks": ""
             }
            },
            "type": "scatterpolargl"
           }
          ],
          "scatterternary": [
           {
            "marker": {
             "colorbar": {
              "outlinewidth": 0,
              "ticks": ""
             }
            },
            "type": "scatterternary"
           }
          ],
          "surface": [
           {
            "colorbar": {
             "outlinewidth": 0,
             "ticks": ""
            },
            "colorscale": [
             [
              0,
              "#0d0887"
             ],
             [
              0.1111111111111111,
              "#46039f"
             ],
             [
              0.2222222222222222,
              "#7201a8"
             ],
             [
              0.3333333333333333,
              "#9c179e"
             ],
             [
              0.4444444444444444,
              "#bd3786"
             ],
             [
              0.5555555555555556,
              "#d8576b"
             ],
             [
              0.6666666666666666,
              "#ed7953"
             ],
             [
              0.7777777777777778,
              "#fb9f3a"
             ],
             [
              0.8888888888888888,
              "#fdca26"
             ],
             [
              1,
              "#f0f921"
             ]
            ],
            "type": "surface"
           }
          ],
          "table": [
           {
            "cells": {
             "fill": {
              "color": "#EBF0F8"
             },
             "line": {
              "color": "white"
             }
            },
            "header": {
             "fill": {
              "color": "#C8D4E3"
             },
             "line": {
              "color": "white"
             }
            },
            "type": "table"
           }
          ]
         },
         "layout": {
          "annotationdefaults": {
           "arrowcolor": "#2a3f5f",
           "arrowhead": 0,
           "arrowwidth": 1
          },
          "autotypenumbers": "strict",
          "coloraxis": {
           "colorbar": {
            "outlinewidth": 0,
            "ticks": ""
           }
          },
          "colorscale": {
           "diverging": [
            [
             0,
             "#8e0152"
            ],
            [
             0.1,
             "#c51b7d"
            ],
            [
             0.2,
             "#de77ae"
            ],
            [
             0.3,
             "#f1b6da"
            ],
            [
             0.4,
             "#fde0ef"
            ],
            [
             0.5,
             "#f7f7f7"
            ],
            [
             0.6,
             "#e6f5d0"
            ],
            [
             0.7,
             "#b8e186"
            ],
            [
             0.8,
             "#7fbc41"
            ],
            [
             0.9,
             "#4d9221"
            ],
            [
             1,
             "#276419"
            ]
           ],
           "sequential": [
            [
             0,
             "#0d0887"
            ],
            [
             0.1111111111111111,
             "#46039f"
            ],
            [
             0.2222222222222222,
             "#7201a8"
            ],
            [
             0.3333333333333333,
             "#9c179e"
            ],
            [
             0.4444444444444444,
             "#bd3786"
            ],
            [
             0.5555555555555556,
             "#d8576b"
            ],
            [
             0.6666666666666666,
             "#ed7953"
            ],
            [
             0.7777777777777778,
             "#fb9f3a"
            ],
            [
             0.8888888888888888,
             "#fdca26"
            ],
            [
             1,
             "#f0f921"
            ]
           ],
           "sequentialminus": [
            [
             0,
             "#0d0887"
            ],
            [
             0.1111111111111111,
             "#46039f"
            ],
            [
             0.2222222222222222,
             "#7201a8"
            ],
            [
             0.3333333333333333,
             "#9c179e"
            ],
            [
             0.4444444444444444,
             "#bd3786"
            ],
            [
             0.5555555555555556,
             "#d8576b"
            ],
            [
             0.6666666666666666,
             "#ed7953"
            ],
            [
             0.7777777777777778,
             "#fb9f3a"
            ],
            [
             0.8888888888888888,
             "#fdca26"
            ],
            [
             1,
             "#f0f921"
            ]
           ]
          },
          "colorway": [
           "#636efa",
           "#EF553B",
           "#00cc96",
           "#ab63fa",
           "#FFA15A",
           "#19d3f3",
           "#FF6692",
           "#B6E880",
           "#FF97FF",
           "#FECB52"
          ],
          "font": {
           "color": "#2a3f5f"
          },
          "geo": {
           "bgcolor": "white",
           "lakecolor": "white",
           "landcolor": "#E5ECF6",
           "showlakes": true,
           "showland": true,
           "subunitcolor": "white"
          },
          "hoverlabel": {
           "align": "left"
          },
          "hovermode": "closest",
          "mapbox": {
           "style": "light"
          },
          "paper_bgcolor": "white",
          "plot_bgcolor": "#E5ECF6",
          "polar": {
           "angularaxis": {
            "gridcolor": "white",
            "linecolor": "white",
            "ticks": ""
           },
           "bgcolor": "#E5ECF6",
           "radialaxis": {
            "gridcolor": "white",
            "linecolor": "white",
            "ticks": ""
           }
          },
          "scene": {
           "xaxis": {
            "backgroundcolor": "#E5ECF6",
            "gridcolor": "white",
            "gridwidth": 2,
            "linecolor": "white",
            "showbackground": true,
            "ticks": "",
            "zerolinecolor": "white"
           },
           "yaxis": {
            "backgroundcolor": "#E5ECF6",
            "gridcolor": "white",
            "gridwidth": 2,
            "linecolor": "white",
            "showbackground": true,
            "ticks": "",
            "zerolinecolor": "white"
           },
           "zaxis": {
            "backgroundcolor": "#E5ECF6",
            "gridcolor": "white",
            "gridwidth": 2,
            "linecolor": "white",
            "showbackground": true,
            "ticks": "",
            "zerolinecolor": "white"
           }
          },
          "shapedefaults": {
           "line": {
            "color": "#2a3f5f"
           }
          },
          "ternary": {
           "aaxis": {
            "gridcolor": "white",
            "linecolor": "white",
            "ticks": ""
           },
           "baxis": {
            "gridcolor": "white",
            "linecolor": "white",
            "ticks": ""
           },
           "bgcolor": "#E5ECF6",
           "caxis": {
            "gridcolor": "white",
            "linecolor": "white",
            "ticks": ""
           }
          },
          "title": {
           "x": 0.05
          },
          "xaxis": {
           "automargin": true,
           "gridcolor": "white",
           "linecolor": "white",
           "ticks": "",
           "title": {
            "standoff": 15
           },
           "zerolinecolor": "white",
           "zerolinewidth": 2
          },
          "yaxis": {
           "automargin": true,
           "gridcolor": "white",
           "linecolor": "white",
           "ticks": "",
           "title": {
            "standoff": 15
           },
           "zerolinecolor": "white",
           "zerolinewidth": 2
          }
         }
        },
        "xaxis": {
         "anchor": "y",
         "domain": [
          0,
          1
         ],
         "title": {
          "text": "Date"
         }
        },
        "yaxis": {
         "anchor": "x",
         "domain": [
          0,
          1
         ],
         "title": {
          "text": "value"
         }
        }
       }
      }
     },
     "metadata": {},
     "output_type": "display_data"
    }
   ],
   "source": [
    "fig.show()"
   ]
  },
  {
   "cell_type": "markdown",
   "metadata": {},
   "source": [
    "## <span style=\"color:orange\">Observations:\n",
    "-   All 4 Confirmed, Deaths, Recovered, Active seems to be monotonically increasing with different rates.\n",
    "-   From Mid June Revocered Cases have increased and overtaken Active Cases in Count, Which is a Good News"
   ]
  },
  {
   "cell_type": "markdown",
   "metadata": {},
   "source": [
    "## Let's Visualize TOP Countries for each"
   ]
  },
  {
   "cell_type": "code",
   "execution_count": 134,
   "metadata": {},
   "outputs": [
    {
     "data": {
      "text/html": [
       "<div>\n",
       "<style scoped>\n",
       "    .dataframe tbody tr th:only-of-type {\n",
       "        vertical-align: middle;\n",
       "    }\n",
       "\n",
       "    .dataframe tbody tr th {\n",
       "        vertical-align: top;\n",
       "    }\n",
       "\n",
       "    .dataframe thead th {\n",
       "        text-align: right;\n",
       "    }\n",
       "</style>\n",
       "<table border=\"1\" class=\"dataframe\">\n",
       "  <thead>\n",
       "    <tr style=\"text-align: right;\">\n",
       "      <th></th>\n",
       "      <th>Confirmed</th>\n",
       "      <th>Deaths</th>\n",
       "      <th>Recovered</th>\n",
       "      <th>Active</th>\n",
       "    </tr>\n",
       "    <tr>\n",
       "      <th>Country/Region</th>\n",
       "      <th></th>\n",
       "      <th></th>\n",
       "      <th></th>\n",
       "      <th></th>\n",
       "    </tr>\n",
       "  </thead>\n",
       "  <tbody>\n",
       "    <tr>\n",
       "      <th>Afghanistan</th>\n",
       "      <td>1936390</td>\n",
       "      <td>49098</td>\n",
       "      <td>798240</td>\n",
       "      <td>1089052</td>\n",
       "    </tr>\n",
       "    <tr>\n",
       "      <th>Albania</th>\n",
       "      <td>196702</td>\n",
       "      <td>5708</td>\n",
       "      <td>118877</td>\n",
       "      <td>72117</td>\n",
       "    </tr>\n",
       "    <tr>\n",
       "      <th>Algeria</th>\n",
       "      <td>1179755</td>\n",
       "      <td>77972</td>\n",
       "      <td>755897</td>\n",
       "      <td>345886</td>\n",
       "    </tr>\n",
       "    <tr>\n",
       "      <th>Andorra</th>\n",
       "      <td>94404</td>\n",
       "      <td>5423</td>\n",
       "      <td>69074</td>\n",
       "      <td>19907</td>\n",
       "    </tr>\n",
       "    <tr>\n",
       "      <th>Angola</th>\n",
       "      <td>22662</td>\n",
       "      <td>1078</td>\n",
       "      <td>6573</td>\n",
       "      <td>15011</td>\n",
       "    </tr>\n",
       "  </tbody>\n",
       "</table>\n",
       "</div>"
      ],
      "text/plain": [
       "                Confirmed  Deaths  Recovered   Active\n",
       "Country/Region                                       \n",
       "Afghanistan       1936390   49098     798240  1089052\n",
       "Albania            196702    5708     118877    72117\n",
       "Algeria           1179755   77972     755897   345886\n",
       "Andorra             94404    5423      69074    19907\n",
       "Angola              22662    1078       6573    15011"
      ]
     },
     "execution_count": 134,
     "metadata": {},
     "output_type": "execute_result"
    }
   ],
   "source": [
    "df_country= df.groupby('Country/Region')[['Confirmed','Deaths', 'Recovered', 'Active']].sum()\n",
    "df_country.head()"
   ]
  },
  {
   "cell_type": "code",
   "execution_count": 135,
   "metadata": {},
   "outputs": [
    {
     "data": {
      "text/plain": [
       "Index(['Confirmed', 'Deaths', 'Recovered', 'Active'], dtype='object')"
      ]
     },
     "execution_count": 135,
     "metadata": {},
     "output_type": "execute_result"
    }
   ],
   "source": [
    "df_country.columns"
   ]
  },
  {
   "cell_type": "code",
   "execution_count": null,
   "metadata": {},
   "outputs": [],
   "source": []
  },
  {
   "cell_type": "code",
   "execution_count": 139,
   "metadata": {},
   "outputs": [
    {
     "data": {
      "application/vnd.plotly.v1+json": {
       "config": {
        "plotlyServerURL": "https://plotly.com"
       },
       "data": [
        {
         "alignmentgroup": "True",
         "hovertemplate": "Country/Region=%{x}<br>Confirmed=%{y}<extra></extra>",
         "legendgroup": "",
         "marker": {
          "color": "#636efa",
          "pattern": {
           "shape": ""
          }
         },
         "name": "",
         "offsetgroup": "",
         "orientation": "v",
         "showlegend": false,
         "textposition": "auto",
         "type": "bar",
         "x": [
          "US",
          "Brazil",
          "Russia",
          "India",
          "Spain",
          "United Kingdom",
          "Italy",
          "France",
          "Germany",
          "Iran",
          "Peru",
          "Turkey",
          "Chile",
          "Mexico",
          "China",
          "Pakistan",
          "Saudi Arabia",
          "South Africa",
          "Canada",
          "Bangladesh"
         ],
         "xaxis": "x",
         "y": [
          224345948,
          89524967,
          45408411,
          40883464,
          27404045,
          26748587,
          26745145,
          21210926,
          21059152,
          19339267,
          19263916,
          17903345,
          16935654,
          14946202,
          14132002,
          12833994,
          12362961,
          11168743,
          9356551,
          8754729
         ],
         "yaxis": "y"
        }
       ],
       "layout": {
        "barmode": "relative",
        "legend": {
         "tracegroupgap": 0
        },
        "margin": {
         "t": 60
        },
        "template": {
         "data": {
          "bar": [
           {
            "error_x": {
             "color": "#2a3f5f"
            },
            "error_y": {
             "color": "#2a3f5f"
            },
            "marker": {
             "line": {
              "color": "#E5ECF6",
              "width": 0.5
             },
             "pattern": {
              "fillmode": "overlay",
              "size": 10,
              "solidity": 0.2
             }
            },
            "type": "bar"
           }
          ],
          "barpolar": [
           {
            "marker": {
             "line": {
              "color": "#E5ECF6",
              "width": 0.5
             },
             "pattern": {
              "fillmode": "overlay",
              "size": 10,
              "solidity": 0.2
             }
            },
            "type": "barpolar"
           }
          ],
          "carpet": [
           {
            "aaxis": {
             "endlinecolor": "#2a3f5f",
             "gridcolor": "white",
             "linecolor": "white",
             "minorgridcolor": "white",
             "startlinecolor": "#2a3f5f"
            },
            "baxis": {
             "endlinecolor": "#2a3f5f",
             "gridcolor": "white",
             "linecolor": "white",
             "minorgridcolor": "white",
             "startlinecolor": "#2a3f5f"
            },
            "type": "carpet"
           }
          ],
          "choropleth": [
           {
            "colorbar": {
             "outlinewidth": 0,
             "ticks": ""
            },
            "type": "choropleth"
           }
          ],
          "contour": [
           {
            "colorbar": {
             "outlinewidth": 0,
             "ticks": ""
            },
            "colorscale": [
             [
              0,
              "#0d0887"
             ],
             [
              0.1111111111111111,
              "#46039f"
             ],
             [
              0.2222222222222222,
              "#7201a8"
             ],
             [
              0.3333333333333333,
              "#9c179e"
             ],
             [
              0.4444444444444444,
              "#bd3786"
             ],
             [
              0.5555555555555556,
              "#d8576b"
             ],
             [
              0.6666666666666666,
              "#ed7953"
             ],
             [
              0.7777777777777778,
              "#fb9f3a"
             ],
             [
              0.8888888888888888,
              "#fdca26"
             ],
             [
              1,
              "#f0f921"
             ]
            ],
            "type": "contour"
           }
          ],
          "contourcarpet": [
           {
            "colorbar": {
             "outlinewidth": 0,
             "ticks": ""
            },
            "type": "contourcarpet"
           }
          ],
          "heatmap": [
           {
            "colorbar": {
             "outlinewidth": 0,
             "ticks": ""
            },
            "colorscale": [
             [
              0,
              "#0d0887"
             ],
             [
              0.1111111111111111,
              "#46039f"
             ],
             [
              0.2222222222222222,
              "#7201a8"
             ],
             [
              0.3333333333333333,
              "#9c179e"
             ],
             [
              0.4444444444444444,
              "#bd3786"
             ],
             [
              0.5555555555555556,
              "#d8576b"
             ],
             [
              0.6666666666666666,
              "#ed7953"
             ],
             [
              0.7777777777777778,
              "#fb9f3a"
             ],
             [
              0.8888888888888888,
              "#fdca26"
             ],
             [
              1,
              "#f0f921"
             ]
            ],
            "type": "heatmap"
           }
          ],
          "heatmapgl": [
           {
            "colorbar": {
             "outlinewidth": 0,
             "ticks": ""
            },
            "colorscale": [
             [
              0,
              "#0d0887"
             ],
             [
              0.1111111111111111,
              "#46039f"
             ],
             [
              0.2222222222222222,
              "#7201a8"
             ],
             [
              0.3333333333333333,
              "#9c179e"
             ],
             [
              0.4444444444444444,
              "#bd3786"
             ],
             [
              0.5555555555555556,
              "#d8576b"
             ],
             [
              0.6666666666666666,
              "#ed7953"
             ],
             [
              0.7777777777777778,
              "#fb9f3a"
             ],
             [
              0.8888888888888888,
              "#fdca26"
             ],
             [
              1,
              "#f0f921"
             ]
            ],
            "type": "heatmapgl"
           }
          ],
          "histogram": [
           {
            "marker": {
             "pattern": {
              "fillmode": "overlay",
              "size": 10,
              "solidity": 0.2
             }
            },
            "type": "histogram"
           }
          ],
          "histogram2d": [
           {
            "colorbar": {
             "outlinewidth": 0,
             "ticks": ""
            },
            "colorscale": [
             [
              0,
              "#0d0887"
             ],
             [
              0.1111111111111111,
              "#46039f"
             ],
             [
              0.2222222222222222,
              "#7201a8"
             ],
             [
              0.3333333333333333,
              "#9c179e"
             ],
             [
              0.4444444444444444,
              "#bd3786"
             ],
             [
              0.5555555555555556,
              "#d8576b"
             ],
             [
              0.6666666666666666,
              "#ed7953"
             ],
             [
              0.7777777777777778,
              "#fb9f3a"
             ],
             [
              0.8888888888888888,
              "#fdca26"
             ],
             [
              1,
              "#f0f921"
             ]
            ],
            "type": "histogram2d"
           }
          ],
          "histogram2dcontour": [
           {
            "colorbar": {
             "outlinewidth": 0,
             "ticks": ""
            },
            "colorscale": [
             [
              0,
              "#0d0887"
             ],
             [
              0.1111111111111111,
              "#46039f"
             ],
             [
              0.2222222222222222,
              "#7201a8"
             ],
             [
              0.3333333333333333,
              "#9c179e"
             ],
             [
              0.4444444444444444,
              "#bd3786"
             ],
             [
              0.5555555555555556,
              "#d8576b"
             ],
             [
              0.6666666666666666,
              "#ed7953"
             ],
             [
              0.7777777777777778,
              "#fb9f3a"
             ],
             [
              0.8888888888888888,
              "#fdca26"
             ],
             [
              1,
              "#f0f921"
             ]
            ],
            "type": "histogram2dcontour"
           }
          ],
          "mesh3d": [
           {
            "colorbar": {
             "outlinewidth": 0,
             "ticks": ""
            },
            "type": "mesh3d"
           }
          ],
          "parcoords": [
           {
            "line": {
             "colorbar": {
              "outlinewidth": 0,
              "ticks": ""
             }
            },
            "type": "parcoords"
           }
          ],
          "pie": [
           {
            "automargin": true,
            "type": "pie"
           }
          ],
          "scatter": [
           {
            "fillpattern": {
             "fillmode": "overlay",
             "size": 10,
             "solidity": 0.2
            },
            "type": "scatter"
           }
          ],
          "scatter3d": [
           {
            "line": {
             "colorbar": {
              "outlinewidth": 0,
              "ticks": ""
             }
            },
            "marker": {
             "colorbar": {
              "outlinewidth": 0,
              "ticks": ""
             }
            },
            "type": "scatter3d"
           }
          ],
          "scattercarpet": [
           {
            "marker": {
             "colorbar": {
              "outlinewidth": 0,
              "ticks": ""
             }
            },
            "type": "scattercarpet"
           }
          ],
          "scattergeo": [
           {
            "marker": {
             "colorbar": {
              "outlinewidth": 0,
              "ticks": ""
             }
            },
            "type": "scattergeo"
           }
          ],
          "scattergl": [
           {
            "marker": {
             "colorbar": {
              "outlinewidth": 0,
              "ticks": ""
             }
            },
            "type": "scattergl"
           }
          ],
          "scattermapbox": [
           {
            "marker": {
             "colorbar": {
              "outlinewidth": 0,
              "ticks": ""
             }
            },
            "type": "scattermapbox"
           }
          ],
          "scatterpolar": [
           {
            "marker": {
             "colorbar": {
              "outlinewidth": 0,
              "ticks": ""
             }
            },
            "type": "scatterpolar"
           }
          ],
          "scatterpolargl": [
           {
            "marker": {
             "colorbar": {
              "outlinewidth": 0,
              "ticks": ""
             }
            },
            "type": "scatterpolargl"
           }
          ],
          "scatterternary": [
           {
            "marker": {
             "colorbar": {
              "outlinewidth": 0,
              "ticks": ""
             }
            },
            "type": "scatterternary"
           }
          ],
          "surface": [
           {
            "colorbar": {
             "outlinewidth": 0,
             "ticks": ""
            },
            "colorscale": [
             [
              0,
              "#0d0887"
             ],
             [
              0.1111111111111111,
              "#46039f"
             ],
             [
              0.2222222222222222,
              "#7201a8"
             ],
             [
              0.3333333333333333,
              "#9c179e"
             ],
             [
              0.4444444444444444,
              "#bd3786"
             ],
             [
              0.5555555555555556,
              "#d8576b"
             ],
             [
              0.6666666666666666,
              "#ed7953"
             ],
             [
              0.7777777777777778,
              "#fb9f3a"
             ],
             [
              0.8888888888888888,
              "#fdca26"
             ],
             [
              1,
              "#f0f921"
             ]
            ],
            "type": "surface"
           }
          ],
          "table": [
           {
            "cells": {
             "fill": {
              "color": "#EBF0F8"
             },
             "line": {
              "color": "white"
             }
            },
            "header": {
             "fill": {
              "color": "#C8D4E3"
             },
             "line": {
              "color": "white"
             }
            },
            "type": "table"
           }
          ]
         },
         "layout": {
          "annotationdefaults": {
           "arrowcolor": "#2a3f5f",
           "arrowhead": 0,
           "arrowwidth": 1
          },
          "autotypenumbers": "strict",
          "coloraxis": {
           "colorbar": {
            "outlinewidth": 0,
            "ticks": ""
           }
          },
          "colorscale": {
           "diverging": [
            [
             0,
             "#8e0152"
            ],
            [
             0.1,
             "#c51b7d"
            ],
            [
             0.2,
             "#de77ae"
            ],
            [
             0.3,
             "#f1b6da"
            ],
            [
             0.4,
             "#fde0ef"
            ],
            [
             0.5,
             "#f7f7f7"
            ],
            [
             0.6,
             "#e6f5d0"
            ],
            [
             0.7,
             "#b8e186"
            ],
            [
             0.8,
             "#7fbc41"
            ],
            [
             0.9,
             "#4d9221"
            ],
            [
             1,
             "#276419"
            ]
           ],
           "sequential": [
            [
             0,
             "#0d0887"
            ],
            [
             0.1111111111111111,
             "#46039f"
            ],
            [
             0.2222222222222222,
             "#7201a8"
            ],
            [
             0.3333333333333333,
             "#9c179e"
            ],
            [
             0.4444444444444444,
             "#bd3786"
            ],
            [
             0.5555555555555556,
             "#d8576b"
            ],
            [
             0.6666666666666666,
             "#ed7953"
            ],
            [
             0.7777777777777778,
             "#fb9f3a"
            ],
            [
             0.8888888888888888,
             "#fdca26"
            ],
            [
             1,
             "#f0f921"
            ]
           ],
           "sequentialminus": [
            [
             0,
             "#0d0887"
            ],
            [
             0.1111111111111111,
             "#46039f"
            ],
            [
             0.2222222222222222,
             "#7201a8"
            ],
            [
             0.3333333333333333,
             "#9c179e"
            ],
            [
             0.4444444444444444,
             "#bd3786"
            ],
            [
             0.5555555555555556,
             "#d8576b"
            ],
            [
             0.6666666666666666,
             "#ed7953"
            ],
            [
             0.7777777777777778,
             "#fb9f3a"
            ],
            [
             0.8888888888888888,
             "#fdca26"
            ],
            [
             1,
             "#f0f921"
            ]
           ]
          },
          "colorway": [
           "#636efa",
           "#EF553B",
           "#00cc96",
           "#ab63fa",
           "#FFA15A",
           "#19d3f3",
           "#FF6692",
           "#B6E880",
           "#FF97FF",
           "#FECB52"
          ],
          "font": {
           "color": "#2a3f5f"
          },
          "geo": {
           "bgcolor": "white",
           "lakecolor": "white",
           "landcolor": "#E5ECF6",
           "showlakes": true,
           "showland": true,
           "subunitcolor": "white"
          },
          "hoverlabel": {
           "align": "left"
          },
          "hovermode": "closest",
          "mapbox": {
           "style": "light"
          },
          "paper_bgcolor": "white",
          "plot_bgcolor": "#E5ECF6",
          "polar": {
           "angularaxis": {
            "gridcolor": "white",
            "linecolor": "white",
            "ticks": ""
           },
           "bgcolor": "#E5ECF6",
           "radialaxis": {
            "gridcolor": "white",
            "linecolor": "white",
            "ticks": ""
           }
          },
          "scene": {
           "xaxis": {
            "backgroundcolor": "#E5ECF6",
            "gridcolor": "white",
            "gridwidth": 2,
            "linecolor": "white",
            "showbackground": true,
            "ticks": "",
            "zerolinecolor": "white"
           },
           "yaxis": {
            "backgroundcolor": "#E5ECF6",
            "gridcolor": "white",
            "gridwidth": 2,
            "linecolor": "white",
            "showbackground": true,
            "ticks": "",
            "zerolinecolor": "white"
           },
           "zaxis": {
            "backgroundcolor": "#E5ECF6",
            "gridcolor": "white",
            "gridwidth": 2,
            "linecolor": "white",
            "showbackground": true,
            "ticks": "",
            "zerolinecolor": "white"
           }
          },
          "shapedefaults": {
           "line": {
            "color": "#2a3f5f"
           }
          },
          "ternary": {
           "aaxis": {
            "gridcolor": "white",
            "linecolor": "white",
            "ticks": ""
           },
           "baxis": {
            "gridcolor": "white",
            "linecolor": "white",
            "ticks": ""
           },
           "bgcolor": "#E5ECF6",
           "caxis": {
            "gridcolor": "white",
            "linecolor": "white",
            "ticks": ""
           }
          },
          "title": {
           "x": 0.05
          },
          "xaxis": {
           "automargin": true,
           "gridcolor": "white",
           "linecolor": "white",
           "ticks": "",
           "title": {
            "standoff": 15
           },
           "zerolinecolor": "white",
           "zerolinewidth": 2
          },
          "yaxis": {
           "automargin": true,
           "gridcolor": "white",
           "linecolor": "white",
           "ticks": "",
           "title": {
            "standoff": 15
           },
           "zerolinecolor": "white",
           "zerolinewidth": 2
          }
         }
        },
        "xaxis": {
         "anchor": "y",
         "domain": [
          0,
          1
         ],
         "title": {
          "text": "Country/Region"
         }
        },
        "yaxis": {
         "anchor": "x",
         "domain": [
          0,
          1
         ],
         "title": {
          "text": "Confirmed"
         }
        }
       }
      }
     },
     "metadata": {},
     "output_type": "display_data"
    },
    {
     "data": {
      "application/vnd.plotly.v1+json": {
       "config": {
        "plotlyServerURL": "https://plotly.com"
       },
       "data": [
        {
         "alignmentgroup": "True",
         "hovertemplate": "Country/Region=%{x}<br>Deaths=%{y}<extra></extra>",
         "legendgroup": "",
         "marker": {
          "color": "#636efa",
          "pattern": {
           "shape": ""
          }
         },
         "name": "",
         "offsetgroup": "",
         "orientation": "v",
         "showlegend": false,
         "textposition": "auto",
         "type": "bar",
         "x": [
          "US",
          "United Kingdom",
          "Brazil",
          "Italy",
          "France",
          "Spain",
          "Mexico",
          "India",
          "Iran",
          "Belgium",
          "Germany",
          "Canada",
          "China",
          "Peru",
          "Netherlands",
          "Russia",
          "Turkey",
          "Sweden",
          "Ecuador",
          "Chile"
         ],
         "xaxis": "x",
         "y": [
          11011411,
          3997775,
          3938034,
          3707717,
          3048524,
          3033030,
          1728277,
          1111831,
          1024136,
          963679,
          871322,
          699566,
          672413,
          652113,
          622314,
          619385,
          466056,
          448913,
          346618,
          322480
         ],
         "yaxis": "y"
        }
       ],
       "layout": {
        "barmode": "relative",
        "legend": {
         "tracegroupgap": 0
        },
        "margin": {
         "t": 60
        },
        "template": {
         "data": {
          "bar": [
           {
            "error_x": {
             "color": "#2a3f5f"
            },
            "error_y": {
             "color": "#2a3f5f"
            },
            "marker": {
             "line": {
              "color": "#E5ECF6",
              "width": 0.5
             },
             "pattern": {
              "fillmode": "overlay",
              "size": 10,
              "solidity": 0.2
             }
            },
            "type": "bar"
           }
          ],
          "barpolar": [
           {
            "marker": {
             "line": {
              "color": "#E5ECF6",
              "width": 0.5
             },
             "pattern": {
              "fillmode": "overlay",
              "size": 10,
              "solidity": 0.2
             }
            },
            "type": "barpolar"
           }
          ],
          "carpet": [
           {
            "aaxis": {
             "endlinecolor": "#2a3f5f",
             "gridcolor": "white",
             "linecolor": "white",
             "minorgridcolor": "white",
             "startlinecolor": "#2a3f5f"
            },
            "baxis": {
             "endlinecolor": "#2a3f5f",
             "gridcolor": "white",
             "linecolor": "white",
             "minorgridcolor": "white",
             "startlinecolor": "#2a3f5f"
            },
            "type": "carpet"
           }
          ],
          "choropleth": [
           {
            "colorbar": {
             "outlinewidth": 0,
             "ticks": ""
            },
            "type": "choropleth"
           }
          ],
          "contour": [
           {
            "colorbar": {
             "outlinewidth": 0,
             "ticks": ""
            },
            "colorscale": [
             [
              0,
              "#0d0887"
             ],
             [
              0.1111111111111111,
              "#46039f"
             ],
             [
              0.2222222222222222,
              "#7201a8"
             ],
             [
              0.3333333333333333,
              "#9c179e"
             ],
             [
              0.4444444444444444,
              "#bd3786"
             ],
             [
              0.5555555555555556,
              "#d8576b"
             ],
             [
              0.6666666666666666,
              "#ed7953"
             ],
             [
              0.7777777777777778,
              "#fb9f3a"
             ],
             [
              0.8888888888888888,
              "#fdca26"
             ],
             [
              1,
              "#f0f921"
             ]
            ],
            "type": "contour"
           }
          ],
          "contourcarpet": [
           {
            "colorbar": {
             "outlinewidth": 0,
             "ticks": ""
            },
            "type": "contourcarpet"
           }
          ],
          "heatmap": [
           {
            "colorbar": {
             "outlinewidth": 0,
             "ticks": ""
            },
            "colorscale": [
             [
              0,
              "#0d0887"
             ],
             [
              0.1111111111111111,
              "#46039f"
             ],
             [
              0.2222222222222222,
              "#7201a8"
             ],
             [
              0.3333333333333333,
              "#9c179e"
             ],
             [
              0.4444444444444444,
              "#bd3786"
             ],
             [
              0.5555555555555556,
              "#d8576b"
             ],
             [
              0.6666666666666666,
              "#ed7953"
             ],
             [
              0.7777777777777778,
              "#fb9f3a"
             ],
             [
              0.8888888888888888,
              "#fdca26"
             ],
             [
              1,
              "#f0f921"
             ]
            ],
            "type": "heatmap"
           }
          ],
          "heatmapgl": [
           {
            "colorbar": {
             "outlinewidth": 0,
             "ticks": ""
            },
            "colorscale": [
             [
              0,
              "#0d0887"
             ],
             [
              0.1111111111111111,
              "#46039f"
             ],
             [
              0.2222222222222222,
              "#7201a8"
             ],
             [
              0.3333333333333333,
              "#9c179e"
             ],
             [
              0.4444444444444444,
              "#bd3786"
             ],
             [
              0.5555555555555556,
              "#d8576b"
             ],
             [
              0.6666666666666666,
              "#ed7953"
             ],
             [
              0.7777777777777778,
              "#fb9f3a"
             ],
             [
              0.8888888888888888,
              "#fdca26"
             ],
             [
              1,
              "#f0f921"
             ]
            ],
            "type": "heatmapgl"
           }
          ],
          "histogram": [
           {
            "marker": {
             "pattern": {
              "fillmode": "overlay",
              "size": 10,
              "solidity": 0.2
             }
            },
            "type": "histogram"
           }
          ],
          "histogram2d": [
           {
            "colorbar": {
             "outlinewidth": 0,
             "ticks": ""
            },
            "colorscale": [
             [
              0,
              "#0d0887"
             ],
             [
              0.1111111111111111,
              "#46039f"
             ],
             [
              0.2222222222222222,
              "#7201a8"
             ],
             [
              0.3333333333333333,
              "#9c179e"
             ],
             [
              0.4444444444444444,
              "#bd3786"
             ],
             [
              0.5555555555555556,
              "#d8576b"
             ],
             [
              0.6666666666666666,
              "#ed7953"
             ],
             [
              0.7777777777777778,
              "#fb9f3a"
             ],
             [
              0.8888888888888888,
              "#fdca26"
             ],
             [
              1,
              "#f0f921"
             ]
            ],
            "type": "histogram2d"
           }
          ],
          "histogram2dcontour": [
           {
            "colorbar": {
             "outlinewidth": 0,
             "ticks": ""
            },
            "colorscale": [
             [
              0,
              "#0d0887"
             ],
             [
              0.1111111111111111,
              "#46039f"
             ],
             [
              0.2222222222222222,
              "#7201a8"
             ],
             [
              0.3333333333333333,
              "#9c179e"
             ],
             [
              0.4444444444444444,
              "#bd3786"
             ],
             [
              0.5555555555555556,
              "#d8576b"
             ],
             [
              0.6666666666666666,
              "#ed7953"
             ],
             [
              0.7777777777777778,
              "#fb9f3a"
             ],
             [
              0.8888888888888888,
              "#fdca26"
             ],
             [
              1,
              "#f0f921"
             ]
            ],
            "type": "histogram2dcontour"
           }
          ],
          "mesh3d": [
           {
            "colorbar": {
             "outlinewidth": 0,
             "ticks": ""
            },
            "type": "mesh3d"
           }
          ],
          "parcoords": [
           {
            "line": {
             "colorbar": {
              "outlinewidth": 0,
              "ticks": ""
             }
            },
            "type": "parcoords"
           }
          ],
          "pie": [
           {
            "automargin": true,
            "type": "pie"
           }
          ],
          "scatter": [
           {
            "fillpattern": {
             "fillmode": "overlay",
             "size": 10,
             "solidity": 0.2
            },
            "type": "scatter"
           }
          ],
          "scatter3d": [
           {
            "line": {
             "colorbar": {
              "outlinewidth": 0,
              "ticks": ""
             }
            },
            "marker": {
             "colorbar": {
              "outlinewidth": 0,
              "ticks": ""
             }
            },
            "type": "scatter3d"
           }
          ],
          "scattercarpet": [
           {
            "marker": {
             "colorbar": {
              "outlinewidth": 0,
              "ticks": ""
             }
            },
            "type": "scattercarpet"
           }
          ],
          "scattergeo": [
           {
            "marker": {
             "colorbar": {
              "outlinewidth": 0,
              "ticks": ""
             }
            },
            "type": "scattergeo"
           }
          ],
          "scattergl": [
           {
            "marker": {
             "colorbar": {
              "outlinewidth": 0,
              "ticks": ""
             }
            },
            "type": "scattergl"
           }
          ],
          "scattermapbox": [
           {
            "marker": {
             "colorbar": {
              "outlinewidth": 0,
              "ticks": ""
             }
            },
            "type": "scattermapbox"
           }
          ],
          "scatterpolar": [
           {
            "marker": {
             "colorbar": {
              "outlinewidth": 0,
              "ticks": ""
             }
            },
            "type": "scatterpolar"
           }
          ],
          "scatterpolargl": [
           {
            "marker": {
             "colorbar": {
              "outlinewidth": 0,
              "ticks": ""
             }
            },
            "type": "scatterpolargl"
           }
          ],
          "scatterternary": [
           {
            "marker": {
             "colorbar": {
              "outlinewidth": 0,
              "ticks": ""
             }
            },
            "type": "scatterternary"
           }
          ],
          "surface": [
           {
            "colorbar": {
             "outlinewidth": 0,
             "ticks": ""
            },
            "colorscale": [
             [
              0,
              "#0d0887"
             ],
             [
              0.1111111111111111,
              "#46039f"
             ],
             [
              0.2222222222222222,
              "#7201a8"
             ],
             [
              0.3333333333333333,
              "#9c179e"
             ],
             [
              0.4444444444444444,
              "#bd3786"
             ],
             [
              0.5555555555555556,
              "#d8576b"
             ],
             [
              0.6666666666666666,
              "#ed7953"
             ],
             [
              0.7777777777777778,
              "#fb9f3a"
             ],
             [
              0.8888888888888888,
              "#fdca26"
             ],
             [
              1,
              "#f0f921"
             ]
            ],
            "type": "surface"
           }
          ],
          "table": [
           {
            "cells": {
             "fill": {
              "color": "#EBF0F8"
             },
             "line": {
              "color": "white"
             }
            },
            "header": {
             "fill": {
              "color": "#C8D4E3"
             },
             "line": {
              "color": "white"
             }
            },
            "type": "table"
           }
          ]
         },
         "layout": {
          "annotationdefaults": {
           "arrowcolor": "#2a3f5f",
           "arrowhead": 0,
           "arrowwidth": 1
          },
          "autotypenumbers": "strict",
          "coloraxis": {
           "colorbar": {
            "outlinewidth": 0,
            "ticks": ""
           }
          },
          "colorscale": {
           "diverging": [
            [
             0,
             "#8e0152"
            ],
            [
             0.1,
             "#c51b7d"
            ],
            [
             0.2,
             "#de77ae"
            ],
            [
             0.3,
             "#f1b6da"
            ],
            [
             0.4,
             "#fde0ef"
            ],
            [
             0.5,
             "#f7f7f7"
            ],
            [
             0.6,
             "#e6f5d0"
            ],
            [
             0.7,
             "#b8e186"
            ],
            [
             0.8,
             "#7fbc41"
            ],
            [
             0.9,
             "#4d9221"
            ],
            [
             1,
             "#276419"
            ]
           ],
           "sequential": [
            [
             0,
             "#0d0887"
            ],
            [
             0.1111111111111111,
             "#46039f"
            ],
            [
             0.2222222222222222,
             "#7201a8"
            ],
            [
             0.3333333333333333,
             "#9c179e"
            ],
            [
             0.4444444444444444,
             "#bd3786"
            ],
            [
             0.5555555555555556,
             "#d8576b"
            ],
            [
             0.6666666666666666,
             "#ed7953"
            ],
            [
             0.7777777777777778,
             "#fb9f3a"
            ],
            [
             0.8888888888888888,
             "#fdca26"
            ],
            [
             1,
             "#f0f921"
            ]
           ],
           "sequentialminus": [
            [
             0,
             "#0d0887"
            ],
            [
             0.1111111111111111,
             "#46039f"
            ],
            [
             0.2222222222222222,
             "#7201a8"
            ],
            [
             0.3333333333333333,
             "#9c179e"
            ],
            [
             0.4444444444444444,
             "#bd3786"
            ],
            [
             0.5555555555555556,
             "#d8576b"
            ],
            [
             0.6666666666666666,
             "#ed7953"
            ],
            [
             0.7777777777777778,
             "#fb9f3a"
            ],
            [
             0.8888888888888888,
             "#fdca26"
            ],
            [
             1,
             "#f0f921"
            ]
           ]
          },
          "colorway": [
           "#636efa",
           "#EF553B",
           "#00cc96",
           "#ab63fa",
           "#FFA15A",
           "#19d3f3",
           "#FF6692",
           "#B6E880",
           "#FF97FF",
           "#FECB52"
          ],
          "font": {
           "color": "#2a3f5f"
          },
          "geo": {
           "bgcolor": "white",
           "lakecolor": "white",
           "landcolor": "#E5ECF6",
           "showlakes": true,
           "showland": true,
           "subunitcolor": "white"
          },
          "hoverlabel": {
           "align": "left"
          },
          "hovermode": "closest",
          "mapbox": {
           "style": "light"
          },
          "paper_bgcolor": "white",
          "plot_bgcolor": "#E5ECF6",
          "polar": {
           "angularaxis": {
            "gridcolor": "white",
            "linecolor": "white",
            "ticks": ""
           },
           "bgcolor": "#E5ECF6",
           "radialaxis": {
            "gridcolor": "white",
            "linecolor": "white",
            "ticks": ""
           }
          },
          "scene": {
           "xaxis": {
            "backgroundcolor": "#E5ECF6",
            "gridcolor": "white",
            "gridwidth": 2,
            "linecolor": "white",
            "showbackground": true,
            "ticks": "",
            "zerolinecolor": "white"
           },
           "yaxis": {
            "backgroundcolor": "#E5ECF6",
            "gridcolor": "white",
            "gridwidth": 2,
            "linecolor": "white",
            "showbackground": true,
            "ticks": "",
            "zerolinecolor": "white"
           },
           "zaxis": {
            "backgroundcolor": "#E5ECF6",
            "gridcolor": "white",
            "gridwidth": 2,
            "linecolor": "white",
            "showbackground": true,
            "ticks": "",
            "zerolinecolor": "white"
           }
          },
          "shapedefaults": {
           "line": {
            "color": "#2a3f5f"
           }
          },
          "ternary": {
           "aaxis": {
            "gridcolor": "white",
            "linecolor": "white",
            "ticks": ""
           },
           "baxis": {
            "gridcolor": "white",
            "linecolor": "white",
            "ticks": ""
           },
           "bgcolor": "#E5ECF6",
           "caxis": {
            "gridcolor": "white",
            "linecolor": "white",
            "ticks": ""
           }
          },
          "title": {
           "x": 0.05
          },
          "xaxis": {
           "automargin": true,
           "gridcolor": "white",
           "linecolor": "white",
           "ticks": "",
           "title": {
            "standoff": 15
           },
           "zerolinecolor": "white",
           "zerolinewidth": 2
          },
          "yaxis": {
           "automargin": true,
           "gridcolor": "white",
           "linecolor": "white",
           "ticks": "",
           "title": {
            "standoff": 15
           },
           "zerolinecolor": "white",
           "zerolinewidth": 2
          }
         }
        },
        "xaxis": {
         "anchor": "y",
         "domain": [
          0,
          1
         ],
         "title": {
          "text": "Country/Region"
         }
        },
        "yaxis": {
         "anchor": "x",
         "domain": [
          0,
          1
         ],
         "title": {
          "text": "Deaths"
         }
        }
       }
      }
     },
     "metadata": {},
     "output_type": "display_data"
    },
    {
     "data": {
      "application/vnd.plotly.v1+json": {
       "config": {
        "plotlyServerURL": "https://plotly.com"
       },
       "data": [
        {
         "alignmentgroup": "True",
         "hovertemplate": "Country/Region=%{x}<br>Recovered=%{y}<extra></extra>",
         "legendgroup": "",
         "marker": {
          "color": "#636efa",
          "pattern": {
           "shape": ""
          }
         },
         "name": "",
         "offsetgroup": "",
         "orientation": "v",
         "showlegend": false,
         "textposition": "auto",
         "type": "bar",
         "x": [
          "US",
          "Brazil",
          "Russia",
          "India",
          "Germany",
          "Italy",
          "Iran",
          "Spain",
          "Turkey",
          "Chile",
          "China",
          "Mexico",
          "Peru",
          "Saudi Arabia",
          "France",
          "Pakistan",
          "South Africa",
          "Qatar",
          "Bangladesh",
          "Switzerland"
         ],
         "xaxis": "x",
         "y": [
          56353416,
          54492873,
          25120448,
          23783720,
          17107839,
          15673910,
          15200895,
          15093583,
          13345389,
          13292593,
          11466866,
          11141225,
          10862846,
          8474107,
          7182115,
          6936003,
          5836423,
          4676443,
          3714702,
          2957883
         ],
         "yaxis": "y"
        }
       ],
       "layout": {
        "barmode": "relative",
        "legend": {
         "tracegroupgap": 0
        },
        "margin": {
         "t": 60
        },
        "template": {
         "data": {
          "bar": [
           {
            "error_x": {
             "color": "#2a3f5f"
            },
            "error_y": {
             "color": "#2a3f5f"
            },
            "marker": {
             "line": {
              "color": "#E5ECF6",
              "width": 0.5
             },
             "pattern": {
              "fillmode": "overlay",
              "size": 10,
              "solidity": 0.2
             }
            },
            "type": "bar"
           }
          ],
          "barpolar": [
           {
            "marker": {
             "line": {
              "color": "#E5ECF6",
              "width": 0.5
             },
             "pattern": {
              "fillmode": "overlay",
              "size": 10,
              "solidity": 0.2
             }
            },
            "type": "barpolar"
           }
          ],
          "carpet": [
           {
            "aaxis": {
             "endlinecolor": "#2a3f5f",
             "gridcolor": "white",
             "linecolor": "white",
             "minorgridcolor": "white",
             "startlinecolor": "#2a3f5f"
            },
            "baxis": {
             "endlinecolor": "#2a3f5f",
             "gridcolor": "white",
             "linecolor": "white",
             "minorgridcolor": "white",
             "startlinecolor": "#2a3f5f"
            },
            "type": "carpet"
           }
          ],
          "choropleth": [
           {
            "colorbar": {
             "outlinewidth": 0,
             "ticks": ""
            },
            "type": "choropleth"
           }
          ],
          "contour": [
           {
            "colorbar": {
             "outlinewidth": 0,
             "ticks": ""
            },
            "colorscale": [
             [
              0,
              "#0d0887"
             ],
             [
              0.1111111111111111,
              "#46039f"
             ],
             [
              0.2222222222222222,
              "#7201a8"
             ],
             [
              0.3333333333333333,
              "#9c179e"
             ],
             [
              0.4444444444444444,
              "#bd3786"
             ],
             [
              0.5555555555555556,
              "#d8576b"
             ],
             [
              0.6666666666666666,
              "#ed7953"
             ],
             [
              0.7777777777777778,
              "#fb9f3a"
             ],
             [
              0.8888888888888888,
              "#fdca26"
             ],
             [
              1,
              "#f0f921"
             ]
            ],
            "type": "contour"
           }
          ],
          "contourcarpet": [
           {
            "colorbar": {
             "outlinewidth": 0,
             "ticks": ""
            },
            "type": "contourcarpet"
           }
          ],
          "heatmap": [
           {
            "colorbar": {
             "outlinewidth": 0,
             "ticks": ""
            },
            "colorscale": [
             [
              0,
              "#0d0887"
             ],
             [
              0.1111111111111111,
              "#46039f"
             ],
             [
              0.2222222222222222,
              "#7201a8"
             ],
             [
              0.3333333333333333,
              "#9c179e"
             ],
             [
              0.4444444444444444,
              "#bd3786"
             ],
             [
              0.5555555555555556,
              "#d8576b"
             ],
             [
              0.6666666666666666,
              "#ed7953"
             ],
             [
              0.7777777777777778,
              "#fb9f3a"
             ],
             [
              0.8888888888888888,
              "#fdca26"
             ],
             [
              1,
              "#f0f921"
             ]
            ],
            "type": "heatmap"
           }
          ],
          "heatmapgl": [
           {
            "colorbar": {
             "outlinewidth": 0,
             "ticks": ""
            },
            "colorscale": [
             [
              0,
              "#0d0887"
             ],
             [
              0.1111111111111111,
              "#46039f"
             ],
             [
              0.2222222222222222,
              "#7201a8"
             ],
             [
              0.3333333333333333,
              "#9c179e"
             ],
             [
              0.4444444444444444,
              "#bd3786"
             ],
             [
              0.5555555555555556,
              "#d8576b"
             ],
             [
              0.6666666666666666,
              "#ed7953"
             ],
             [
              0.7777777777777778,
              "#fb9f3a"
             ],
             [
              0.8888888888888888,
              "#fdca26"
             ],
             [
              1,
              "#f0f921"
             ]
            ],
            "type": "heatmapgl"
           }
          ],
          "histogram": [
           {
            "marker": {
             "pattern": {
              "fillmode": "overlay",
              "size": 10,
              "solidity": 0.2
             }
            },
            "type": "histogram"
           }
          ],
          "histogram2d": [
           {
            "colorbar": {
             "outlinewidth": 0,
             "ticks": ""
            },
            "colorscale": [
             [
              0,
              "#0d0887"
             ],
             [
              0.1111111111111111,
              "#46039f"
             ],
             [
              0.2222222222222222,
              "#7201a8"
             ],
             [
              0.3333333333333333,
              "#9c179e"
             ],
             [
              0.4444444444444444,
              "#bd3786"
             ],
             [
              0.5555555555555556,
              "#d8576b"
             ],
             [
              0.6666666666666666,
              "#ed7953"
             ],
             [
              0.7777777777777778,
              "#fb9f3a"
             ],
             [
              0.8888888888888888,
              "#fdca26"
             ],
             [
              1,
              "#f0f921"
             ]
            ],
            "type": "histogram2d"
           }
          ],
          "histogram2dcontour": [
           {
            "colorbar": {
             "outlinewidth": 0,
             "ticks": ""
            },
            "colorscale": [
             [
              0,
              "#0d0887"
             ],
             [
              0.1111111111111111,
              "#46039f"
             ],
             [
              0.2222222222222222,
              "#7201a8"
             ],
             [
              0.3333333333333333,
              "#9c179e"
             ],
             [
              0.4444444444444444,
              "#bd3786"
             ],
             [
              0.5555555555555556,
              "#d8576b"
             ],
             [
              0.6666666666666666,
              "#ed7953"
             ],
             [
              0.7777777777777778,
              "#fb9f3a"
             ],
             [
              0.8888888888888888,
              "#fdca26"
             ],
             [
              1,
              "#f0f921"
             ]
            ],
            "type": "histogram2dcontour"
           }
          ],
          "mesh3d": [
           {
            "colorbar": {
             "outlinewidth": 0,
             "ticks": ""
            },
            "type": "mesh3d"
           }
          ],
          "parcoords": [
           {
            "line": {
             "colorbar": {
              "outlinewidth": 0,
              "ticks": ""
             }
            },
            "type": "parcoords"
           }
          ],
          "pie": [
           {
            "automargin": true,
            "type": "pie"
           }
          ],
          "scatter": [
           {
            "fillpattern": {
             "fillmode": "overlay",
             "size": 10,
             "solidity": 0.2
            },
            "type": "scatter"
           }
          ],
          "scatter3d": [
           {
            "line": {
             "colorbar": {
              "outlinewidth": 0,
              "ticks": ""
             }
            },
            "marker": {
             "colorbar": {
              "outlinewidth": 0,
              "ticks": ""
             }
            },
            "type": "scatter3d"
           }
          ],
          "scattercarpet": [
           {
            "marker": {
             "colorbar": {
              "outlinewidth": 0,
              "ticks": ""
             }
            },
            "type": "scattercarpet"
           }
          ],
          "scattergeo": [
           {
            "marker": {
             "colorbar": {
              "outlinewidth": 0,
              "ticks": ""
             }
            },
            "type": "scattergeo"
           }
          ],
          "scattergl": [
           {
            "marker": {
             "colorbar": {
              "outlinewidth": 0,
              "ticks": ""
             }
            },
            "type": "scattergl"
           }
          ],
          "scattermapbox": [
           {
            "marker": {
             "colorbar": {
              "outlinewidth": 0,
              "ticks": ""
             }
            },
            "type": "scattermapbox"
           }
          ],
          "scatterpolar": [
           {
            "marker": {
             "colorbar": {
              "outlinewidth": 0,
              "ticks": ""
             }
            },
            "type": "scatterpolar"
           }
          ],
          "scatterpolargl": [
           {
            "marker": {
             "colorbar": {
              "outlinewidth": 0,
              "ticks": ""
             }
            },
            "type": "scatterpolargl"
           }
          ],
          "scatterternary": [
           {
            "marker": {
             "colorbar": {
              "outlinewidth": 0,
              "ticks": ""
             }
            },
            "type": "scatterternary"
           }
          ],
          "surface": [
           {
            "colorbar": {
             "outlinewidth": 0,
             "ticks": ""
            },
            "colorscale": [
             [
              0,
              "#0d0887"
             ],
             [
              0.1111111111111111,
              "#46039f"
             ],
             [
              0.2222222222222222,
              "#7201a8"
             ],
             [
              0.3333333333333333,
              "#9c179e"
             ],
             [
              0.4444444444444444,
              "#bd3786"
             ],
             [
              0.5555555555555556,
              "#d8576b"
             ],
             [
              0.6666666666666666,
              "#ed7953"
             ],
             [
              0.7777777777777778,
              "#fb9f3a"
             ],
             [
              0.8888888888888888,
              "#fdca26"
             ],
             [
              1,
              "#f0f921"
             ]
            ],
            "type": "surface"
           }
          ],
          "table": [
           {
            "cells": {
             "fill": {
              "color": "#EBF0F8"
             },
             "line": {
              "color": "white"
             }
            },
            "header": {
             "fill": {
              "color": "#C8D4E3"
             },
             "line": {
              "color": "white"
             }
            },
            "type": "table"
           }
          ]
         },
         "layout": {
          "annotationdefaults": {
           "arrowcolor": "#2a3f5f",
           "arrowhead": 0,
           "arrowwidth": 1
          },
          "autotypenumbers": "strict",
          "coloraxis": {
           "colorbar": {
            "outlinewidth": 0,
            "ticks": ""
           }
          },
          "colorscale": {
           "diverging": [
            [
             0,
             "#8e0152"
            ],
            [
             0.1,
             "#c51b7d"
            ],
            [
             0.2,
             "#de77ae"
            ],
            [
             0.3,
             "#f1b6da"
            ],
            [
             0.4,
             "#fde0ef"
            ],
            [
             0.5,
             "#f7f7f7"
            ],
            [
             0.6,
             "#e6f5d0"
            ],
            [
             0.7,
             "#b8e186"
            ],
            [
             0.8,
             "#7fbc41"
            ],
            [
             0.9,
             "#4d9221"
            ],
            [
             1,
             "#276419"
            ]
           ],
           "sequential": [
            [
             0,
             "#0d0887"
            ],
            [
             0.1111111111111111,
             "#46039f"
            ],
            [
             0.2222222222222222,
             "#7201a8"
            ],
            [
             0.3333333333333333,
             "#9c179e"
            ],
            [
             0.4444444444444444,
             "#bd3786"
            ],
            [
             0.5555555555555556,
             "#d8576b"
            ],
            [
             0.6666666666666666,
             "#ed7953"
            ],
            [
             0.7777777777777778,
             "#fb9f3a"
            ],
            [
             0.8888888888888888,
             "#fdca26"
            ],
            [
             1,
             "#f0f921"
            ]
           ],
           "sequentialminus": [
            [
             0,
             "#0d0887"
            ],
            [
             0.1111111111111111,
             "#46039f"
            ],
            [
             0.2222222222222222,
             "#7201a8"
            ],
            [
             0.3333333333333333,
             "#9c179e"
            ],
            [
             0.4444444444444444,
             "#bd3786"
            ],
            [
             0.5555555555555556,
             "#d8576b"
            ],
            [
             0.6666666666666666,
             "#ed7953"
            ],
            [
             0.7777777777777778,
             "#fb9f3a"
            ],
            [
             0.8888888888888888,
             "#fdca26"
            ],
            [
             1,
             "#f0f921"
            ]
           ]
          },
          "colorway": [
           "#636efa",
           "#EF553B",
           "#00cc96",
           "#ab63fa",
           "#FFA15A",
           "#19d3f3",
           "#FF6692",
           "#B6E880",
           "#FF97FF",
           "#FECB52"
          ],
          "font": {
           "color": "#2a3f5f"
          },
          "geo": {
           "bgcolor": "white",
           "lakecolor": "white",
           "landcolor": "#E5ECF6",
           "showlakes": true,
           "showland": true,
           "subunitcolor": "white"
          },
          "hoverlabel": {
           "align": "left"
          },
          "hovermode": "closest",
          "mapbox": {
           "style": "light"
          },
          "paper_bgcolor": "white",
          "plot_bgcolor": "#E5ECF6",
          "polar": {
           "angularaxis": {
            "gridcolor": "white",
            "linecolor": "white",
            "ticks": ""
           },
           "bgcolor": "#E5ECF6",
           "radialaxis": {
            "gridcolor": "white",
            "linecolor": "white",
            "ticks": ""
           }
          },
          "scene": {
           "xaxis": {
            "backgroundcolor": "#E5ECF6",
            "gridcolor": "white",
            "gridwidth": 2,
            "linecolor": "white",
            "showbackground": true,
            "ticks": "",
            "zerolinecolor": "white"
           },
           "yaxis": {
            "backgroundcolor": "#E5ECF6",
            "gridcolor": "white",
            "gridwidth": 2,
            "linecolor": "white",
            "showbackground": true,
            "ticks": "",
            "zerolinecolor": "white"
           },
           "zaxis": {
            "backgroundcolor": "#E5ECF6",
            "gridcolor": "white",
            "gridwidth": 2,
            "linecolor": "white",
            "showbackground": true,
            "ticks": "",
            "zerolinecolor": "white"
           }
          },
          "shapedefaults": {
           "line": {
            "color": "#2a3f5f"
           }
          },
          "ternary": {
           "aaxis": {
            "gridcolor": "white",
            "linecolor": "white",
            "ticks": ""
           },
           "baxis": {
            "gridcolor": "white",
            "linecolor": "white",
            "ticks": ""
           },
           "bgcolor": "#E5ECF6",
           "caxis": {
            "gridcolor": "white",
            "linecolor": "white",
            "ticks": ""
           }
          },
          "title": {
           "x": 0.05
          },
          "xaxis": {
           "automargin": true,
           "gridcolor": "white",
           "linecolor": "white",
           "ticks": "",
           "title": {
            "standoff": 15
           },
           "zerolinecolor": "white",
           "zerolinewidth": 2
          },
          "yaxis": {
           "automargin": true,
           "gridcolor": "white",
           "linecolor": "white",
           "ticks": "",
           "title": {
            "standoff": 15
           },
           "zerolinecolor": "white",
           "zerolinewidth": 2
          }
         }
        },
        "xaxis": {
         "anchor": "y",
         "domain": [
          0,
          1
         ],
         "title": {
          "text": "Country/Region"
         }
        },
        "yaxis": {
         "anchor": "x",
         "domain": [
          0,
          1
         ],
         "title": {
          "text": "Recovered"
         }
        }
       }
      }
     },
     "metadata": {},
     "output_type": "display_data"
    },
    {
     "data": {
      "application/vnd.plotly.v1+json": {
       "config": {
        "plotlyServerURL": "https://plotly.com"
       },
       "data": [
        {
         "alignmentgroup": "True",
         "hovertemplate": "Country/Region=%{x}<br>Active=%{y}<extra></extra>",
         "legendgroup": "",
         "marker": {
          "color": "#636efa",
          "pattern": {
           "shape": ""
          }
         },
         "name": "",
         "offsetgroup": "",
         "orientation": "v",
         "showlegend": false,
         "textposition": "auto",
         "type": "bar",
         "x": [
          "US",
          "Brazil",
          "United Kingdom",
          "Russia",
          "India",
          "France",
          "Spain",
          "Canada",
          "Peru",
          "Italy",
          "Pakistan",
          "South Africa",
          "Bangladesh",
          "Netherlands",
          "Sweden",
          "Turkey",
          "Colombia",
          "Saudi Arabia",
          "Belgium",
          "Chile"
         ],
         "xaxis": "x",
         "y": [
          156981121,
          31094060,
          22624595,
          19668578,
          15987913,
          10980287,
          9277432,
          8656985,
          7748957,
          7363518,
          5633262,
          5150341,
          4924394,
          4528235,
          4524247,
          4091900,
          3832786,
          3783704,
          3689945,
          3320581
         ],
         "yaxis": "y"
        }
       ],
       "layout": {
        "barmode": "relative",
        "legend": {
         "tracegroupgap": 0
        },
        "margin": {
         "t": 60
        },
        "template": {
         "data": {
          "bar": [
           {
            "error_x": {
             "color": "#2a3f5f"
            },
            "error_y": {
             "color": "#2a3f5f"
            },
            "marker": {
             "line": {
              "color": "#E5ECF6",
              "width": 0.5
             },
             "pattern": {
              "fillmode": "overlay",
              "size": 10,
              "solidity": 0.2
             }
            },
            "type": "bar"
           }
          ],
          "barpolar": [
           {
            "marker": {
             "line": {
              "color": "#E5ECF6",
              "width": 0.5
             },
             "pattern": {
              "fillmode": "overlay",
              "size": 10,
              "solidity": 0.2
             }
            },
            "type": "barpolar"
           }
          ],
          "carpet": [
           {
            "aaxis": {
             "endlinecolor": "#2a3f5f",
             "gridcolor": "white",
             "linecolor": "white",
             "minorgridcolor": "white",
             "startlinecolor": "#2a3f5f"
            },
            "baxis": {
             "endlinecolor": "#2a3f5f",
             "gridcolor": "white",
             "linecolor": "white",
             "minorgridcolor": "white",
             "startlinecolor": "#2a3f5f"
            },
            "type": "carpet"
           }
          ],
          "choropleth": [
           {
            "colorbar": {
             "outlinewidth": 0,
             "ticks": ""
            },
            "type": "choropleth"
           }
          ],
          "contour": [
           {
            "colorbar": {
             "outlinewidth": 0,
             "ticks": ""
            },
            "colorscale": [
             [
              0,
              "#0d0887"
             ],
             [
              0.1111111111111111,
              "#46039f"
             ],
             [
              0.2222222222222222,
              "#7201a8"
             ],
             [
              0.3333333333333333,
              "#9c179e"
             ],
             [
              0.4444444444444444,
              "#bd3786"
             ],
             [
              0.5555555555555556,
              "#d8576b"
             ],
             [
              0.6666666666666666,
              "#ed7953"
             ],
             [
              0.7777777777777778,
              "#fb9f3a"
             ],
             [
              0.8888888888888888,
              "#fdca26"
             ],
             [
              1,
              "#f0f921"
             ]
            ],
            "type": "contour"
           }
          ],
          "contourcarpet": [
           {
            "colorbar": {
             "outlinewidth": 0,
             "ticks": ""
            },
            "type": "contourcarpet"
           }
          ],
          "heatmap": [
           {
            "colorbar": {
             "outlinewidth": 0,
             "ticks": ""
            },
            "colorscale": [
             [
              0,
              "#0d0887"
             ],
             [
              0.1111111111111111,
              "#46039f"
             ],
             [
              0.2222222222222222,
              "#7201a8"
             ],
             [
              0.3333333333333333,
              "#9c179e"
             ],
             [
              0.4444444444444444,
              "#bd3786"
             ],
             [
              0.5555555555555556,
              "#d8576b"
             ],
             [
              0.6666666666666666,
              "#ed7953"
             ],
             [
              0.7777777777777778,
              "#fb9f3a"
             ],
             [
              0.8888888888888888,
              "#fdca26"
             ],
             [
              1,
              "#f0f921"
             ]
            ],
            "type": "heatmap"
           }
          ],
          "heatmapgl": [
           {
            "colorbar": {
             "outlinewidth": 0,
             "ticks": ""
            },
            "colorscale": [
             [
              0,
              "#0d0887"
             ],
             [
              0.1111111111111111,
              "#46039f"
             ],
             [
              0.2222222222222222,
              "#7201a8"
             ],
             [
              0.3333333333333333,
              "#9c179e"
             ],
             [
              0.4444444444444444,
              "#bd3786"
             ],
             [
              0.5555555555555556,
              "#d8576b"
             ],
             [
              0.6666666666666666,
              "#ed7953"
             ],
             [
              0.7777777777777778,
              "#fb9f3a"
             ],
             [
              0.8888888888888888,
              "#fdca26"
             ],
             [
              1,
              "#f0f921"
             ]
            ],
            "type": "heatmapgl"
           }
          ],
          "histogram": [
           {
            "marker": {
             "pattern": {
              "fillmode": "overlay",
              "size": 10,
              "solidity": 0.2
             }
            },
            "type": "histogram"
           }
          ],
          "histogram2d": [
           {
            "colorbar": {
             "outlinewidth": 0,
             "ticks": ""
            },
            "colorscale": [
             [
              0,
              "#0d0887"
             ],
             [
              0.1111111111111111,
              "#46039f"
             ],
             [
              0.2222222222222222,
              "#7201a8"
             ],
             [
              0.3333333333333333,
              "#9c179e"
             ],
             [
              0.4444444444444444,
              "#bd3786"
             ],
             [
              0.5555555555555556,
              "#d8576b"
             ],
             [
              0.6666666666666666,
              "#ed7953"
             ],
             [
              0.7777777777777778,
              "#fb9f3a"
             ],
             [
              0.8888888888888888,
              "#fdca26"
             ],
             [
              1,
              "#f0f921"
             ]
            ],
            "type": "histogram2d"
           }
          ],
          "histogram2dcontour": [
           {
            "colorbar": {
             "outlinewidth": 0,
             "ticks": ""
            },
            "colorscale": [
             [
              0,
              "#0d0887"
             ],
             [
              0.1111111111111111,
              "#46039f"
             ],
             [
              0.2222222222222222,
              "#7201a8"
             ],
             [
              0.3333333333333333,
              "#9c179e"
             ],
             [
              0.4444444444444444,
              "#bd3786"
             ],
             [
              0.5555555555555556,
              "#d8576b"
             ],
             [
              0.6666666666666666,
              "#ed7953"
             ],
             [
              0.7777777777777778,
              "#fb9f3a"
             ],
             [
              0.8888888888888888,
              "#fdca26"
             ],
             [
              1,
              "#f0f921"
             ]
            ],
            "type": "histogram2dcontour"
           }
          ],
          "mesh3d": [
           {
            "colorbar": {
             "outlinewidth": 0,
             "ticks": ""
            },
            "type": "mesh3d"
           }
          ],
          "parcoords": [
           {
            "line": {
             "colorbar": {
              "outlinewidth": 0,
              "ticks": ""
             }
            },
            "type": "parcoords"
           }
          ],
          "pie": [
           {
            "automargin": true,
            "type": "pie"
           }
          ],
          "scatter": [
           {
            "fillpattern": {
             "fillmode": "overlay",
             "size": 10,
             "solidity": 0.2
            },
            "type": "scatter"
           }
          ],
          "scatter3d": [
           {
            "line": {
             "colorbar": {
              "outlinewidth": 0,
              "ticks": ""
             }
            },
            "marker": {
             "colorbar": {
              "outlinewidth": 0,
              "ticks": ""
             }
            },
            "type": "scatter3d"
           }
          ],
          "scattercarpet": [
           {
            "marker": {
             "colorbar": {
              "outlinewidth": 0,
              "ticks": ""
             }
            },
            "type": "scattercarpet"
           }
          ],
          "scattergeo": [
           {
            "marker": {
             "colorbar": {
              "outlinewidth": 0,
              "ticks": ""
             }
            },
            "type": "scattergeo"
           }
          ],
          "scattergl": [
           {
            "marker": {
             "colorbar": {
              "outlinewidth": 0,
              "ticks": ""
             }
            },
            "type": "scattergl"
           }
          ],
          "scattermapbox": [
           {
            "marker": {
             "colorbar": {
              "outlinewidth": 0,
              "ticks": ""
             }
            },
            "type": "scattermapbox"
           }
          ],
          "scatterpolar": [
           {
            "marker": {
             "colorbar": {
              "outlinewidth": 0,
              "ticks": ""
             }
            },
            "type": "scatterpolar"
           }
          ],
          "scatterpolargl": [
           {
            "marker": {
             "colorbar": {
              "outlinewidth": 0,
              "ticks": ""
             }
            },
            "type": "scatterpolargl"
           }
          ],
          "scatterternary": [
           {
            "marker": {
             "colorbar": {
              "outlinewidth": 0,
              "ticks": ""
             }
            },
            "type": "scatterternary"
           }
          ],
          "surface": [
           {
            "colorbar": {
             "outlinewidth": 0,
             "ticks": ""
            },
            "colorscale": [
             [
              0,
              "#0d0887"
             ],
             [
              0.1111111111111111,
              "#46039f"
             ],
             [
              0.2222222222222222,
              "#7201a8"
             ],
             [
              0.3333333333333333,
              "#9c179e"
             ],
             [
              0.4444444444444444,
              "#bd3786"
             ],
             [
              0.5555555555555556,
              "#d8576b"
             ],
             [
              0.6666666666666666,
              "#ed7953"
             ],
             [
              0.7777777777777778,
              "#fb9f3a"
             ],
             [
              0.8888888888888888,
              "#fdca26"
             ],
             [
              1,
              "#f0f921"
             ]
            ],
            "type": "surface"
           }
          ],
          "table": [
           {
            "cells": {
             "fill": {
              "color": "#EBF0F8"
             },
             "line": {
              "color": "white"
             }
            },
            "header": {
             "fill": {
              "color": "#C8D4E3"
             },
             "line": {
              "color": "white"
             }
            },
            "type": "table"
           }
          ]
         },
         "layout": {
          "annotationdefaults": {
           "arrowcolor": "#2a3f5f",
           "arrowhead": 0,
           "arrowwidth": 1
          },
          "autotypenumbers": "strict",
          "coloraxis": {
           "colorbar": {
            "outlinewidth": 0,
            "ticks": ""
           }
          },
          "colorscale": {
           "diverging": [
            [
             0,
             "#8e0152"
            ],
            [
             0.1,
             "#c51b7d"
            ],
            [
             0.2,
             "#de77ae"
            ],
            [
             0.3,
             "#f1b6da"
            ],
            [
             0.4,
             "#fde0ef"
            ],
            [
             0.5,
             "#f7f7f7"
            ],
            [
             0.6,
             "#e6f5d0"
            ],
            [
             0.7,
             "#b8e186"
            ],
            [
             0.8,
             "#7fbc41"
            ],
            [
             0.9,
             "#4d9221"
            ],
            [
             1,
             "#276419"
            ]
           ],
           "sequential": [
            [
             0,
             "#0d0887"
            ],
            [
             0.1111111111111111,
             "#46039f"
            ],
            [
             0.2222222222222222,
             "#7201a8"
            ],
            [
             0.3333333333333333,
             "#9c179e"
            ],
            [
             0.4444444444444444,
             "#bd3786"
            ],
            [
             0.5555555555555556,
             "#d8576b"
            ],
            [
             0.6666666666666666,
             "#ed7953"
            ],
            [
             0.7777777777777778,
             "#fb9f3a"
            ],
            [
             0.8888888888888888,
             "#fdca26"
            ],
            [
             1,
             "#f0f921"
            ]
           ],
           "sequentialminus": [
            [
             0,
             "#0d0887"
            ],
            [
             0.1111111111111111,
             "#46039f"
            ],
            [
             0.2222222222222222,
             "#7201a8"
            ],
            [
             0.3333333333333333,
             "#9c179e"
            ],
            [
             0.4444444444444444,
             "#bd3786"
            ],
            [
             0.5555555555555556,
             "#d8576b"
            ],
            [
             0.6666666666666666,
             "#ed7953"
            ],
            [
             0.7777777777777778,
             "#fb9f3a"
            ],
            [
             0.8888888888888888,
             "#fdca26"
            ],
            [
             1,
             "#f0f921"
            ]
           ]
          },
          "colorway": [
           "#636efa",
           "#EF553B",
           "#00cc96",
           "#ab63fa",
           "#FFA15A",
           "#19d3f3",
           "#FF6692",
           "#B6E880",
           "#FF97FF",
           "#FECB52"
          ],
          "font": {
           "color": "#2a3f5f"
          },
          "geo": {
           "bgcolor": "white",
           "lakecolor": "white",
           "landcolor": "#E5ECF6",
           "showlakes": true,
           "showland": true,
           "subunitcolor": "white"
          },
          "hoverlabel": {
           "align": "left"
          },
          "hovermode": "closest",
          "mapbox": {
           "style": "light"
          },
          "paper_bgcolor": "white",
          "plot_bgcolor": "#E5ECF6",
          "polar": {
           "angularaxis": {
            "gridcolor": "white",
            "linecolor": "white",
            "ticks": ""
           },
           "bgcolor": "#E5ECF6",
           "radialaxis": {
            "gridcolor": "white",
            "linecolor": "white",
            "ticks": ""
           }
          },
          "scene": {
           "xaxis": {
            "backgroundcolor": "#E5ECF6",
            "gridcolor": "white",
            "gridwidth": 2,
            "linecolor": "white",
            "showbackground": true,
            "ticks": "",
            "zerolinecolor": "white"
           },
           "yaxis": {
            "backgroundcolor": "#E5ECF6",
            "gridcolor": "white",
            "gridwidth": 2,
            "linecolor": "white",
            "showbackground": true,
            "ticks": "",
            "zerolinecolor": "white"
           },
           "zaxis": {
            "backgroundcolor": "#E5ECF6",
            "gridcolor": "white",
            "gridwidth": 2,
            "linecolor": "white",
            "showbackground": true,
            "ticks": "",
            "zerolinecolor": "white"
           }
          },
          "shapedefaults": {
           "line": {
            "color": "#2a3f5f"
           }
          },
          "ternary": {
           "aaxis": {
            "gridcolor": "white",
            "linecolor": "white",
            "ticks": ""
           },
           "baxis": {
            "gridcolor": "white",
            "linecolor": "white",
            "ticks": ""
           },
           "bgcolor": "#E5ECF6",
           "caxis": {
            "gridcolor": "white",
            "linecolor": "white",
            "ticks": ""
           }
          },
          "title": {
           "x": 0.05
          },
          "xaxis": {
           "automargin": true,
           "gridcolor": "white",
           "linecolor": "white",
           "ticks": "",
           "title": {
            "standoff": 15
           },
           "zerolinecolor": "white",
           "zerolinewidth": 2
          },
          "yaxis": {
           "automargin": true,
           "gridcolor": "white",
           "linecolor": "white",
           "ticks": "",
           "title": {
            "standoff": 15
           },
           "zerolinecolor": "white",
           "zerolinewidth": 2
          }
         }
        },
        "xaxis": {
         "anchor": "y",
         "domain": [
          0,
          1
         ],
         "title": {
          "text": "Country/Region"
         }
        },
        "yaxis": {
         "anchor": "x",
         "domain": [
          0,
          1
         ],
         "title": {
          "text": "Active"
         }
        }
       }
      }
     },
     "metadata": {},
     "output_type": "display_data"
    }
   ],
   "source": [
    "top_20={}\n",
    "for i in df_country.columns:\n",
    "    df_country_top_20= df.groupby('Country/Region')[i].sum().sort_values(ascending=False)[:20]\n",
    "    fig= px.bar(df_country_top_20, x=df_country_top_20.index, y=i)\n",
    "    top_20[i] = df_country_top_20\n",
    "    fig.show()\n"
   ]
  },
  {
   "cell_type": "code",
   "execution_count": 140,
   "metadata": {},
   "outputs": [
    {
     "name": "stdout",
     "output_type": "stream",
     "text": [
      "{'Confirmed': Country/Region\n",
      "US                224345948\n",
      "Brazil             89524967\n",
      "Russia             45408411\n",
      "India              40883464\n",
      "Spain              27404045\n",
      "United Kingdom     26748587\n",
      "Italy              26745145\n",
      "France             21210926\n",
      "Germany            21059152\n",
      "Iran               19339267\n",
      "Peru               19263916\n",
      "Turkey             17903345\n",
      "Chile              16935654\n",
      "Mexico             14946202\n",
      "China              14132002\n",
      "Pakistan           12833994\n",
      "Saudi Arabia       12362961\n",
      "South Africa       11168743\n",
      "Canada              9356551\n",
      "Bangladesh          8754729\n",
      "Name: Confirmed, dtype: int64, 'Deaths': Country/Region\n",
      "US                11011411\n",
      "United Kingdom     3997775\n",
      "Brazil             3938034\n",
      "Italy              3707717\n",
      "France             3048524\n",
      "Spain              3033030\n",
      "Mexico             1728277\n",
      "India              1111831\n",
      "Iran               1024136\n",
      "Belgium             963679\n",
      "Germany             871322\n",
      "Canada              699566\n",
      "China               672413\n",
      "Peru                652113\n",
      "Netherlands         622314\n",
      "Russia              619385\n",
      "Turkey              466056\n",
      "Sweden              448913\n",
      "Ecuador             346618\n",
      "Chile               322480\n",
      "Name: Deaths, dtype: int64, 'Recovered': Country/Region\n",
      "US              56353416\n",
      "Brazil          54492873\n",
      "Russia          25120448\n",
      "India           23783720\n",
      "Germany         17107839\n",
      "Italy           15673910\n",
      "Iran            15200895\n",
      "Spain           15093583\n",
      "Turkey          13345389\n",
      "Chile           13292593\n",
      "China           11466866\n",
      "Mexico          11141225\n",
      "Peru            10862846\n",
      "Saudi Arabia     8474107\n",
      "France           7182115\n",
      "Pakistan         6936003\n",
      "South Africa     5836423\n",
      "Qatar            4676443\n",
      "Bangladesh       3714702\n",
      "Switzerland      2957883\n",
      "Name: Recovered, dtype: int64, 'Active': Country/Region\n",
      "US                156981121\n",
      "Brazil             31094060\n",
      "United Kingdom     22624595\n",
      "Russia             19668578\n",
      "India              15987913\n",
      "France             10980287\n",
      "Spain               9277432\n",
      "Canada              8656985\n",
      "Peru                7748957\n",
      "Italy               7363518\n",
      "Pakistan            5633262\n",
      "South Africa        5150341\n",
      "Bangladesh          4924394\n",
      "Netherlands         4528235\n",
      "Sweden              4524247\n",
      "Turkey              4091900\n",
      "Colombia            3832786\n",
      "Saudi Arabia        3783704\n",
      "Belgium             3689945\n",
      "Chile               3320581\n",
      "Name: Active, dtype: int64}\n"
     ]
    }
   ],
   "source": [
    "print(top_20)"
   ]
  },
  {
   "cell_type": "code",
   "execution_count": null,
   "metadata": {},
   "outputs": [],
   "source": []
  },
  {
   "cell_type": "markdown",
   "metadata": {},
   "source": [
    "# <h1 style=\"color:lime;font-family:bold\"> Forecasting using prophet"
   ]
  },
  {
   "cell_type": "code",
   "execution_count": null,
   "metadata": {},
   "outputs": [],
   "source": [
    "from prophet import Prophet"
   ]
  },
  {
   "cell_type": "code",
   "execution_count": 155,
   "metadata": {},
   "outputs": [],
   "source": [
    "cols=['Confirmed','Deaths', 'Recovered', 'Active']"
   ]
  },
  {
   "cell_type": "code",
   "execution_count": 156,
   "metadata": {},
   "outputs": [
    {
     "data": {
      "text/html": [
       "<div>\n",
       "<style scoped>\n",
       "    .dataframe tbody tr th:only-of-type {\n",
       "        vertical-align: middle;\n",
       "    }\n",
       "\n",
       "    .dataframe tbody tr th {\n",
       "        vertical-align: top;\n",
       "    }\n",
       "\n",
       "    .dataframe thead th {\n",
       "        text-align: right;\n",
       "    }\n",
       "</style>\n",
       "<table border=\"1\" class=\"dataframe\">\n",
       "  <thead>\n",
       "    <tr style=\"text-align: right;\">\n",
       "      <th></th>\n",
       "      <th>Confirmed</th>\n",
       "      <th>Deaths</th>\n",
       "      <th>Recovered</th>\n",
       "      <th>Active</th>\n",
       "    </tr>\n",
       "    <tr>\n",
       "      <th>Date</th>\n",
       "      <th></th>\n",
       "      <th></th>\n",
       "      <th></th>\n",
       "      <th></th>\n",
       "    </tr>\n",
       "  </thead>\n",
       "  <tbody>\n",
       "    <tr>\n",
       "      <th>2020-01-22</th>\n",
       "      <td>555</td>\n",
       "      <td>17</td>\n",
       "      <td>28</td>\n",
       "      <td>510</td>\n",
       "    </tr>\n",
       "    <tr>\n",
       "      <th>2020-01-23</th>\n",
       "      <td>654</td>\n",
       "      <td>18</td>\n",
       "      <td>30</td>\n",
       "      <td>606</td>\n",
       "    </tr>\n",
       "    <tr>\n",
       "      <th>2020-01-24</th>\n",
       "      <td>941</td>\n",
       "      <td>26</td>\n",
       "      <td>36</td>\n",
       "      <td>879</td>\n",
       "    </tr>\n",
       "    <tr>\n",
       "      <th>2020-01-25</th>\n",
       "      <td>1434</td>\n",
       "      <td>42</td>\n",
       "      <td>39</td>\n",
       "      <td>1353</td>\n",
       "    </tr>\n",
       "    <tr>\n",
       "      <th>2020-01-26</th>\n",
       "      <td>2118</td>\n",
       "      <td>56</td>\n",
       "      <td>52</td>\n",
       "      <td>2010</td>\n",
       "    </tr>\n",
       "  </tbody>\n",
       "</table>\n",
       "</div>"
      ],
      "text/plain": [
       "            Confirmed  Deaths  Recovered  Active\n",
       "Date                                            \n",
       "2020-01-22        555      17         28     510\n",
       "2020-01-23        654      18         30     606\n",
       "2020-01-24        941      26         36     879\n",
       "2020-01-25       1434      42         39    1353\n",
       "2020-01-26       2118      56         52    2010"
      ]
     },
     "execution_count": 156,
     "metadata": {},
     "output_type": "execute_result"
    }
   ],
   "source": [
    "df_forecast= df.groupby('Date')[cols].sum()\n",
    "df_forecast.head()"
   ]
  },
  {
   "cell_type": "code",
   "execution_count": 162,
   "metadata": {},
   "outputs": [],
   "source": [
    "df_forecast['Date'] = df_forecast.index"
   ]
  },
  {
   "cell_type": "code",
   "execution_count": 159,
   "metadata": {},
   "outputs": [
    {
     "name": "stdout",
     "output_type": "stream",
     "text": [
      "<class 'pandas.core.frame.DataFrame'>\n",
      "DatetimeIndex: 188 entries, 2020-01-22 to 2020-07-27\n",
      "Data columns (total 5 columns):\n",
      " #   Column     Non-Null Count  Dtype         \n",
      "---  ------     --------------  -----         \n",
      " 0   Confirmed  188 non-null    int64         \n",
      " 1   Deaths     188 non-null    int64         \n",
      " 2   Recovered  188 non-null    int64         \n",
      " 3   Active     188 non-null    int64         \n",
      " 4   Date       188 non-null    datetime64[ns]\n",
      "dtypes: datetime64[ns](1), int64(4)\n",
      "memory usage: 8.8 KB\n"
     ]
    }
   ],
   "source": [
    "df_forecast.info()"
   ]
  },
  {
   "cell_type": "code",
   "execution_count": 163,
   "metadata": {},
   "outputs": [
    {
     "data": {
      "text/html": [
       "<div>\n",
       "<style scoped>\n",
       "    .dataframe tbody tr th:only-of-type {\n",
       "        vertical-align: middle;\n",
       "    }\n",
       "\n",
       "    .dataframe tbody tr th {\n",
       "        vertical-align: top;\n",
       "    }\n",
       "\n",
       "    .dataframe thead th {\n",
       "        text-align: right;\n",
       "    }\n",
       "</style>\n",
       "<table border=\"1\" class=\"dataframe\">\n",
       "  <thead>\n",
       "    <tr style=\"text-align: right;\">\n",
       "      <th></th>\n",
       "      <th>Confirmed</th>\n",
       "      <th>Deaths</th>\n",
       "      <th>Recovered</th>\n",
       "      <th>Active</th>\n",
       "      <th>Date</th>\n",
       "    </tr>\n",
       "    <tr>\n",
       "      <th>Date</th>\n",
       "      <th></th>\n",
       "      <th></th>\n",
       "      <th></th>\n",
       "      <th></th>\n",
       "      <th></th>\n",
       "    </tr>\n",
       "  </thead>\n",
       "  <tbody>\n",
       "    <tr>\n",
       "      <th>2020-01-22</th>\n",
       "      <td>555</td>\n",
       "      <td>17</td>\n",
       "      <td>28</td>\n",
       "      <td>510</td>\n",
       "      <td>2020-01-22</td>\n",
       "    </tr>\n",
       "    <tr>\n",
       "      <th>2020-01-23</th>\n",
       "      <td>654</td>\n",
       "      <td>18</td>\n",
       "      <td>30</td>\n",
       "      <td>606</td>\n",
       "      <td>2020-01-23</td>\n",
       "    </tr>\n",
       "    <tr>\n",
       "      <th>2020-01-24</th>\n",
       "      <td>941</td>\n",
       "      <td>26</td>\n",
       "      <td>36</td>\n",
       "      <td>879</td>\n",
       "      <td>2020-01-24</td>\n",
       "    </tr>\n",
       "    <tr>\n",
       "      <th>2020-01-25</th>\n",
       "      <td>1434</td>\n",
       "      <td>42</td>\n",
       "      <td>39</td>\n",
       "      <td>1353</td>\n",
       "      <td>2020-01-25</td>\n",
       "    </tr>\n",
       "    <tr>\n",
       "      <th>2020-01-26</th>\n",
       "      <td>2118</td>\n",
       "      <td>56</td>\n",
       "      <td>52</td>\n",
       "      <td>2010</td>\n",
       "      <td>2020-01-26</td>\n",
       "    </tr>\n",
       "  </tbody>\n",
       "</table>\n",
       "</div>"
      ],
      "text/plain": [
       "            Confirmed  Deaths  Recovered  Active       Date\n",
       "Date                                                       \n",
       "2020-01-22        555      17         28     510 2020-01-22\n",
       "2020-01-23        654      18         30     606 2020-01-23\n",
       "2020-01-24        941      26         36     879 2020-01-24\n",
       "2020-01-25       1434      42         39    1353 2020-01-25\n",
       "2020-01-26       2118      56         52    2010 2020-01-26"
      ]
     },
     "execution_count": 163,
     "metadata": {},
     "output_type": "execute_result"
    }
   ],
   "source": [
    "df_forecast.head()"
   ]
  },
  {
   "cell_type": "code",
   "execution_count": 169,
   "metadata": {},
   "outputs": [],
   "source": [
    "df_forecast.index = range(0, df_forecast.shape[0])"
   ]
  },
  {
   "cell_type": "code",
   "execution_count": 170,
   "metadata": {},
   "outputs": [
    {
     "data": {
      "text/html": [
       "<div>\n",
       "<style scoped>\n",
       "    .dataframe tbody tr th:only-of-type {\n",
       "        vertical-align: middle;\n",
       "    }\n",
       "\n",
       "    .dataframe tbody tr th {\n",
       "        vertical-align: top;\n",
       "    }\n",
       "\n",
       "    .dataframe thead th {\n",
       "        text-align: right;\n",
       "    }\n",
       "</style>\n",
       "<table border=\"1\" class=\"dataframe\">\n",
       "  <thead>\n",
       "    <tr style=\"text-align: right;\">\n",
       "      <th></th>\n",
       "      <th>Confirmed</th>\n",
       "      <th>Deaths</th>\n",
       "      <th>Recovered</th>\n",
       "      <th>Active</th>\n",
       "      <th>Date</th>\n",
       "    </tr>\n",
       "  </thead>\n",
       "  <tbody>\n",
       "    <tr>\n",
       "      <th>183</th>\n",
       "      <td>15510481</td>\n",
       "      <td>633506</td>\n",
       "      <td>8710969</td>\n",
       "      <td>6166006</td>\n",
       "      <td>2020-07-23</td>\n",
       "    </tr>\n",
       "    <tr>\n",
       "      <th>184</th>\n",
       "      <td>15791645</td>\n",
       "      <td>639650</td>\n",
       "      <td>8939705</td>\n",
       "      <td>6212290</td>\n",
       "      <td>2020-07-24</td>\n",
       "    </tr>\n",
       "    <tr>\n",
       "      <th>185</th>\n",
       "      <td>16047190</td>\n",
       "      <td>644517</td>\n",
       "      <td>9158743</td>\n",
       "      <td>6243930</td>\n",
       "      <td>2020-07-25</td>\n",
       "    </tr>\n",
       "    <tr>\n",
       "      <th>186</th>\n",
       "      <td>16251796</td>\n",
       "      <td>648621</td>\n",
       "      <td>9293464</td>\n",
       "      <td>6309711</td>\n",
       "      <td>2020-07-26</td>\n",
       "    </tr>\n",
       "    <tr>\n",
       "      <th>187</th>\n",
       "      <td>16480485</td>\n",
       "      <td>654036</td>\n",
       "      <td>9468087</td>\n",
       "      <td>6358362</td>\n",
       "      <td>2020-07-27</td>\n",
       "    </tr>\n",
       "  </tbody>\n",
       "</table>\n",
       "</div>"
      ],
      "text/plain": [
       "     Confirmed  Deaths  Recovered   Active       Date\n",
       "183   15510481  633506    8710969  6166006 2020-07-23\n",
       "184   15791645  639650    8939705  6212290 2020-07-24\n",
       "185   16047190  644517    9158743  6243930 2020-07-25\n",
       "186   16251796  648621    9293464  6309711 2020-07-26\n",
       "187   16480485  654036    9468087  6358362 2020-07-27"
      ]
     },
     "execution_count": 170,
     "metadata": {},
     "output_type": "execute_result"
    }
   ],
   "source": [
    "df_forecast.tail()"
   ]
  },
  {
   "cell_type": "code",
   "execution_count": 173,
   "metadata": {},
   "outputs": [
    {
     "data": {
      "text/html": [
       "<div>\n",
       "<style scoped>\n",
       "    .dataframe tbody tr th:only-of-type {\n",
       "        vertical-align: middle;\n",
       "    }\n",
       "\n",
       "    .dataframe tbody tr th {\n",
       "        vertical-align: top;\n",
       "    }\n",
       "\n",
       "    .dataframe thead th {\n",
       "        text-align: right;\n",
       "    }\n",
       "</style>\n",
       "<table border=\"1\" class=\"dataframe\">\n",
       "  <thead>\n",
       "    <tr style=\"text-align: right;\">\n",
       "      <th></th>\n",
       "      <th>ds</th>\n",
       "      <th>y</th>\n",
       "    </tr>\n",
       "  </thead>\n",
       "  <tbody>\n",
       "    <tr>\n",
       "      <th>0</th>\n",
       "      <td>2020-01-22</td>\n",
       "      <td>555</td>\n",
       "    </tr>\n",
       "    <tr>\n",
       "      <th>1</th>\n",
       "      <td>2020-01-23</td>\n",
       "      <td>654</td>\n",
       "    </tr>\n",
       "    <tr>\n",
       "      <th>2</th>\n",
       "      <td>2020-01-24</td>\n",
       "      <td>941</td>\n",
       "    </tr>\n",
       "    <tr>\n",
       "      <th>3</th>\n",
       "      <td>2020-01-25</td>\n",
       "      <td>1434</td>\n",
       "    </tr>\n",
       "    <tr>\n",
       "      <th>4</th>\n",
       "      <td>2020-01-26</td>\n",
       "      <td>2118</td>\n",
       "    </tr>\n",
       "  </tbody>\n",
       "</table>\n",
       "</div>"
      ],
      "text/plain": [
       "          ds     y\n",
       "0 2020-01-22   555\n",
       "1 2020-01-23   654\n",
       "2 2020-01-24   941\n",
       "3 2020-01-25  1434\n",
       "4 2020-01-26  2118"
      ]
     },
     "execution_count": 173,
     "metadata": {},
     "output_type": "execute_result"
    }
   ],
   "source": [
    "forecasting= df_forecast[['Date', 'Confirmed']]\n",
    "forecasting.index = range(0, forecasting.shape[0])\n",
    "forecasting.columns= ['ds', 'y']\n",
    "forecasting.head()"
   ]
  },
  {
   "cell_type": "code",
   "execution_count": 175,
   "metadata": {},
   "outputs": [],
   "source": [
    "from prophet import Prophet"
   ]
  },
  {
   "cell_type": "code",
   "execution_count": 176,
   "metadata": {},
   "outputs": [
    {
     "name": "stderr",
     "output_type": "stream",
     "text": [
      "22:21:17 - cmdstanpy - INFO - Chain [1] start processing\n",
      "22:21:18 - cmdstanpy - INFO - Chain [1] done processing\n"
     ]
    },
    {
     "data": {
      "text/plain": [
       "<prophet.forecaster.Prophet at 0x1f6f74a80d0>"
      ]
     },
     "execution_count": 176,
     "metadata": {},
     "output_type": "execute_result"
    }
   ],
   "source": [
    "prophet_model= Prophet()\n",
    "prophet_model.fit(forecasting)"
   ]
  },
  {
   "cell_type": "code",
   "execution_count": 178,
   "metadata": {},
   "outputs": [
    {
     "data": {
      "text/html": [
       "<div>\n",
       "<style scoped>\n",
       "    .dataframe tbody tr th:only-of-type {\n",
       "        vertical-align: middle;\n",
       "    }\n",
       "\n",
       "    .dataframe tbody tr th {\n",
       "        vertical-align: top;\n",
       "    }\n",
       "\n",
       "    .dataframe thead th {\n",
       "        text-align: right;\n",
       "    }\n",
       "</style>\n",
       "<table border=\"1\" class=\"dataframe\">\n",
       "  <thead>\n",
       "    <tr style=\"text-align: right;\">\n",
       "      <th></th>\n",
       "      <th>ds</th>\n",
       "    </tr>\n",
       "  </thead>\n",
       "  <tbody>\n",
       "    <tr>\n",
       "      <th>0</th>\n",
       "      <td>2020-01-22</td>\n",
       "    </tr>\n",
       "    <tr>\n",
       "      <th>1</th>\n",
       "      <td>2020-01-23</td>\n",
       "    </tr>\n",
       "    <tr>\n",
       "      <th>2</th>\n",
       "      <td>2020-01-24</td>\n",
       "    </tr>\n",
       "    <tr>\n",
       "      <th>3</th>\n",
       "      <td>2020-01-25</td>\n",
       "    </tr>\n",
       "    <tr>\n",
       "      <th>4</th>\n",
       "      <td>2020-01-26</td>\n",
       "    </tr>\n",
       "  </tbody>\n",
       "</table>\n",
       "</div>"
      ],
      "text/plain": [
       "          ds\n",
       "0 2020-01-22\n",
       "1 2020-01-23\n",
       "2 2020-01-24\n",
       "3 2020-01-25\n",
       "4 2020-01-26"
      ]
     },
     "execution_count": 178,
     "metadata": {},
     "output_type": "execute_result"
    }
   ],
   "source": [
    "future_days= prophet_model.make_future_dataframe(periods=60, freq='D')\n",
    "future_days.head()"
   ]
  },
  {
   "cell_type": "code",
   "execution_count": 180,
   "metadata": {},
   "outputs": [],
   "source": [
    "forecast_future= prophet_model.predict(future_days)"
   ]
  },
  {
   "cell_type": "code",
   "execution_count": 181,
   "metadata": {},
   "outputs": [
    {
     "data": {
      "text/html": [
       "<div>\n",
       "<style scoped>\n",
       "    .dataframe tbody tr th:only-of-type {\n",
       "        vertical-align: middle;\n",
       "    }\n",
       "\n",
       "    .dataframe tbody tr th {\n",
       "        vertical-align: top;\n",
       "    }\n",
       "\n",
       "    .dataframe thead th {\n",
       "        text-align: right;\n",
       "    }\n",
       "</style>\n",
       "<table border=\"1\" class=\"dataframe\">\n",
       "  <thead>\n",
       "    <tr style=\"text-align: right;\">\n",
       "      <th></th>\n",
       "      <th>ds</th>\n",
       "      <th>trend</th>\n",
       "      <th>yhat_lower</th>\n",
       "      <th>yhat_upper</th>\n",
       "      <th>trend_lower</th>\n",
       "      <th>trend_upper</th>\n",
       "      <th>additive_terms</th>\n",
       "      <th>additive_terms_lower</th>\n",
       "      <th>additive_terms_upper</th>\n",
       "      <th>weekly</th>\n",
       "      <th>weekly_lower</th>\n",
       "      <th>weekly_upper</th>\n",
       "      <th>multiplicative_terms</th>\n",
       "      <th>multiplicative_terms_lower</th>\n",
       "      <th>multiplicative_terms_upper</th>\n",
       "      <th>yhat</th>\n",
       "    </tr>\n",
       "  </thead>\n",
       "  <tbody>\n",
       "    <tr>\n",
       "      <th>0</th>\n",
       "      <td>2020-01-22</td>\n",
       "      <td>393.864283</td>\n",
       "      <td>-51627.935726</td>\n",
       "      <td>39465.399280</td>\n",
       "      <td>393.864283</td>\n",
       "      <td>393.864283</td>\n",
       "      <td>-5768.245001</td>\n",
       "      <td>-5768.245001</td>\n",
       "      <td>-5768.245001</td>\n",
       "      <td>-5768.245001</td>\n",
       "      <td>-5768.245001</td>\n",
       "      <td>-5768.245001</td>\n",
       "      <td>0.0</td>\n",
       "      <td>0.0</td>\n",
       "      <td>0.0</td>\n",
       "      <td>-5374.380717</td>\n",
       "    </tr>\n",
       "    <tr>\n",
       "      <th>1</th>\n",
       "      <td>2020-01-23</td>\n",
       "      <td>2179.132524</td>\n",
       "      <td>-46802.922157</td>\n",
       "      <td>44496.060371</td>\n",
       "      <td>2179.132524</td>\n",
       "      <td>2179.132524</td>\n",
       "      <td>-2565.777101</td>\n",
       "      <td>-2565.777101</td>\n",
       "      <td>-2565.777101</td>\n",
       "      <td>-2565.777101</td>\n",
       "      <td>-2565.777101</td>\n",
       "      <td>-2565.777101</td>\n",
       "      <td>0.0</td>\n",
       "      <td>0.0</td>\n",
       "      <td>0.0</td>\n",
       "      <td>-386.644577</td>\n",
       "    </tr>\n",
       "    <tr>\n",
       "      <th>2</th>\n",
       "      <td>2020-01-24</td>\n",
       "      <td>3964.400764</td>\n",
       "      <td>-39222.909541</td>\n",
       "      <td>53392.565296</td>\n",
       "      <td>3964.400764</td>\n",
       "      <td>3964.400764</td>\n",
       "      <td>3219.382782</td>\n",
       "      <td>3219.382782</td>\n",
       "      <td>3219.382782</td>\n",
       "      <td>3219.382782</td>\n",
       "      <td>3219.382782</td>\n",
       "      <td>3219.382782</td>\n",
       "      <td>0.0</td>\n",
       "      <td>0.0</td>\n",
       "      <td>0.0</td>\n",
       "      <td>7183.783546</td>\n",
       "    </tr>\n",
       "    <tr>\n",
       "      <th>3</th>\n",
       "      <td>2020-01-25</td>\n",
       "      <td>5749.669005</td>\n",
       "      <td>-36549.725958</td>\n",
       "      <td>53791.925353</td>\n",
       "      <td>5749.669005</td>\n",
       "      <td>5749.669005</td>\n",
       "      <td>3129.564761</td>\n",
       "      <td>3129.564761</td>\n",
       "      <td>3129.564761</td>\n",
       "      <td>3129.564761</td>\n",
       "      <td>3129.564761</td>\n",
       "      <td>3129.564761</td>\n",
       "      <td>0.0</td>\n",
       "      <td>0.0</td>\n",
       "      <td>0.0</td>\n",
       "      <td>8879.233766</td>\n",
       "    </tr>\n",
       "    <tr>\n",
       "      <th>4</th>\n",
       "      <td>2020-01-26</td>\n",
       "      <td>7534.937245</td>\n",
       "      <td>-31810.526904</td>\n",
       "      <td>60868.782050</td>\n",
       "      <td>7534.937245</td>\n",
       "      <td>7534.937245</td>\n",
       "      <td>8182.557400</td>\n",
       "      <td>8182.557400</td>\n",
       "      <td>8182.557400</td>\n",
       "      <td>8182.557400</td>\n",
       "      <td>8182.557400</td>\n",
       "      <td>8182.557400</td>\n",
       "      <td>0.0</td>\n",
       "      <td>0.0</td>\n",
       "      <td>0.0</td>\n",
       "      <td>15717.494645</td>\n",
       "    </tr>\n",
       "  </tbody>\n",
       "</table>\n",
       "</div>"
      ],
      "text/plain": [
       "          ds        trend    yhat_lower    yhat_upper  trend_lower  \\\n",
       "0 2020-01-22   393.864283 -51627.935726  39465.399280   393.864283   \n",
       "1 2020-01-23  2179.132524 -46802.922157  44496.060371  2179.132524   \n",
       "2 2020-01-24  3964.400764 -39222.909541  53392.565296  3964.400764   \n",
       "3 2020-01-25  5749.669005 -36549.725958  53791.925353  5749.669005   \n",
       "4 2020-01-26  7534.937245 -31810.526904  60868.782050  7534.937245   \n",
       "\n",
       "   trend_upper  additive_terms  additive_terms_lower  additive_terms_upper  \\\n",
       "0   393.864283    -5768.245001          -5768.245001          -5768.245001   \n",
       "1  2179.132524    -2565.777101          -2565.777101          -2565.777101   \n",
       "2  3964.400764     3219.382782           3219.382782           3219.382782   \n",
       "3  5749.669005     3129.564761           3129.564761           3129.564761   \n",
       "4  7534.937245     8182.557400           8182.557400           8182.557400   \n",
       "\n",
       "        weekly  weekly_lower  weekly_upper  multiplicative_terms  \\\n",
       "0 -5768.245001  -5768.245001  -5768.245001                   0.0   \n",
       "1 -2565.777101  -2565.777101  -2565.777101                   0.0   \n",
       "2  3219.382782   3219.382782   3219.382782                   0.0   \n",
       "3  3129.564761   3129.564761   3129.564761                   0.0   \n",
       "4  8182.557400   8182.557400   8182.557400                   0.0   \n",
       "\n",
       "   multiplicative_terms_lower  multiplicative_terms_upper          yhat  \n",
       "0                         0.0                         0.0  -5374.380717  \n",
       "1                         0.0                         0.0   -386.644577  \n",
       "2                         0.0                         0.0   7183.783546  \n",
       "3                         0.0                         0.0   8879.233766  \n",
       "4                         0.0                         0.0  15717.494645  "
      ]
     },
     "execution_count": 181,
     "metadata": {},
     "output_type": "execute_result"
    }
   ],
   "source": [
    "forecast_future.head()"
   ]
  },
  {
   "cell_type": "code",
   "execution_count": 182,
   "metadata": {},
   "outputs": [
    {
     "data": {
      "image/png": "[encoded data removed]",
      "text/plain": [
       "<Figure size 1000x600 with 1 Axes>"
      ]
     },
     "execution_count": 182,
     "metadata": {},
     "output_type": "execute_result"
    },
    {
     "data": {
      "image/png": "[encoded data removed]",
      "text/plain": [
       "<Figure size 1000x600 with 1 Axes>"
      ]
     },
     "metadata": {},
     "output_type": "display_data"
    }
   ],
   "source": [
    "prophet_model.plot(forecast_future)"
   ]
  },
  {
   "cell_type": "code",
   "execution_count": 188,
   "metadata": {},
   "outputs": [
    {
     "name": "stderr",
     "output_type": "stream",
     "text": [
      "22:28:43 - cmdstanpy - INFO - Chain [1] start processing\n",
      "22:28:43 - cmdstanpy - INFO - Chain [1] done processing\n"
     ]
    },
    {
     "name": "stdout",
     "output_type": "stream",
     "text": [
      "Forecasting for Confirmed\n",
      "Forecasting for Deaths\n"
     ]
    },
    {
     "name": "stderr",
     "output_type": "stream",
     "text": [
      "22:28:43 - cmdstanpy - INFO - Chain [1] start processing\n",
      "22:28:43 - cmdstanpy - INFO - Chain [1] done processing\n",
      "22:28:43 - cmdstanpy - INFO - Chain [1] start processing\n",
      "22:28:43 - cmdstanpy - INFO - Chain [1] done processing\n"
     ]
    },
    {
     "name": "stdout",
     "output_type": "stream",
     "text": [
      "Forecasting for Recovered\n"
     ]
    },
    {
     "name": "stderr",
     "output_type": "stream",
     "text": [
      "22:28:44 - cmdstanpy - INFO - Chain [1] start processing\n",
      "22:28:44 - cmdstanpy - INFO - Chain [1] done processing\n"
     ]
    },
    {
     "name": "stdout",
     "output_type": "stream",
     "text": [
      "Forecasting for Active\n"
     ]
    },
    {
     "data": {
      "image/png": "[encoded data removed]",
      "text/plain": [
       "<Figure size 1000x600 with 1 Axes>"
      ]
     },
     "metadata": {},
     "output_type": "display_data"
    },
    {
     "data": {
      "image/png": "[encoded data removed]",
      "text/plain": [
       "<Figure size 1000x600 with 1 Axes>"
      ]
     },
     "metadata": {},
     "output_type": "display_data"
    },
    {
     "data": {
      "image/png": "[encoded data removed]",
      "text/plain": [
       "<Figure size 1000x600 with 1 Axes>"
      ]
     },
     "metadata": {},
     "output_type": "display_data"
    },
    {
     "data": {
      "image/png": "[encoded data removed]",
      "text/plain": [
       "<Figure size 1000x600 with 1 Axes>"
      ]
     },
     "metadata": {},
     "output_type": "display_data"
    }
   ],
   "source": [
    "prophet_models={}\n",
    "for i in cols:\n",
    "    print(f\"Forecasting for {i}\")\n",
    "    forecasting= df_forecast[['Date', i]]\n",
    "    forecasting.index = range(0, forecasting.shape[0])\n",
    "    forecasting.columns= ['ds', 'y']\n",
    "\n",
    "    prophet_model= Prophet()\n",
    "    prophet_model.fit(forecasting)\n",
    "\n",
    "    future_days= prophet_model.make_future_dataframe(periods=60, freq='D')\n",
    "\n",
    "    forecast_future= prophet_model.predict(future_days)\n",
    "    prophet_models[i] = [prophet_model, forecast_future]\n",
    "\n",
    "    prophet_model.plot(forecast_future, xlabel='Dates', ylabel=i)\n",
    "    \n",
    "    \n",
    "    "
   ]
  },
  {
   "cell_type": "code",
   "execution_count": null,
   "metadata": {},
   "outputs": [],
   "source": []
  },
  {
   "cell_type": "markdown",
   "metadata": {},
   "source": [
    "## Plotting components"
   ]
  },
  {
   "cell_type": "code",
   "execution_count": 194,
   "metadata": {},
   "outputs": [
    {
     "name": "stdout",
     "output_type": "stream",
     "text": [
      "Plot for Confirmed\n",
      "Plot for Deaths\n",
      "Plot for Recovered\n",
      "Plot for Active\n"
     ]
    },
    {
     "data": {
      "image/png": "[encoded data removed]",
      "text/plain": [
       "<Figure size 900x600 with 2 Axes>"
      ]
     },
     "metadata": {},
     "output_type": "display_data"
    },
    {
     "data": {
      "image/png": "[encoded data removed]",
      "text/plain": [
       "<Figure size 900x600 with 2 Axes>"
      ]
     },
     "metadata": {},
     "output_type": "display_data"
    },
    {
     "data": {
      "image/png": "[encoded data removed]",
      "text/plain": [
       "<Figure size 900x600 with 2 Axes>"
      ]
     },
     "metadata": {},
     "output_type": "display_data"
    },
    {
     "data": {
      "image/png": "[encoded data removed]",
      "text/plain": [
       "<Figure size 900x600 with 2 Axes>"
      ]
     },
     "metadata": {},
     "output_type": "display_data"
    }
   ],
   "source": [
    "for i in prophet_models:\n",
    "    print(f'Plot for {i}')\n",
    "    prophet_models[i][0].plot_components(prophet_models[i][1])"
   ]
  },
  {
   "cell_type": "code",
   "execution_count": null,
   "metadata": {},
   "outputs": [],
   "source": []
  },
  {
   "cell_type": "code",
   "execution_count": 198,
   "metadata": {},
   "outputs": [
    {
     "data": {
      "text/html": [
       "<div>\n",
       "<style scoped>\n",
       "    .dataframe tbody tr th:only-of-type {\n",
       "        vertical-align: middle;\n",
       "    }\n",
       "\n",
       "    .dataframe tbody tr th {\n",
       "        vertical-align: top;\n",
       "    }\n",
       "\n",
       "    .dataframe thead th {\n",
       "        text-align: right;\n",
       "    }\n",
       "</style>\n",
       "<table border=\"1\" class=\"dataframe\">\n",
       "  <thead>\n",
       "    <tr style=\"text-align: right;\">\n",
       "      <th></th>\n",
       "      <th>ds</th>\n",
       "      <th>trend</th>\n",
       "      <th>yhat_lower</th>\n",
       "      <th>yhat_upper</th>\n",
       "      <th>trend_lower</th>\n",
       "      <th>trend_upper</th>\n",
       "      <th>additive_terms</th>\n",
       "      <th>additive_terms_lower</th>\n",
       "      <th>additive_terms_upper</th>\n",
       "      <th>weekly</th>\n",
       "      <th>weekly_lower</th>\n",
       "      <th>weekly_upper</th>\n",
       "      <th>multiplicative_terms</th>\n",
       "      <th>multiplicative_terms_lower</th>\n",
       "      <th>multiplicative_terms_upper</th>\n",
       "      <th>yhat</th>\n",
       "    </tr>\n",
       "  </thead>\n",
       "  <tbody>\n",
       "    <tr>\n",
       "      <th>243</th>\n",
       "      <td>2020-09-21</td>\n",
       "      <td>2.757406e+07</td>\n",
       "      <td>2.634498e+07</td>\n",
       "      <td>2.884992e+07</td>\n",
       "      <td>2.633072e+07</td>\n",
       "      <td>2.882870e+07</td>\n",
       "      <td>-2144.375427</td>\n",
       "      <td>-2144.375427</td>\n",
       "      <td>-2144.375427</td>\n",
       "      <td>-2144.375427</td>\n",
       "      <td>-2144.375427</td>\n",
       "      <td>-2144.375427</td>\n",
       "      <td>0.0</td>\n",
       "      <td>0.0</td>\n",
       "      <td>0.0</td>\n",
       "      <td>2.757191e+07</td>\n",
       "    </tr>\n",
       "    <tr>\n",
       "      <th>244</th>\n",
       "      <td>2020-09-22</td>\n",
       "      <td>2.777830e+07</td>\n",
       "      <td>2.647690e+07</td>\n",
       "      <td>2.904814e+07</td>\n",
       "      <td>2.650919e+07</td>\n",
       "      <td>2.904747e+07</td>\n",
       "      <td>-16782.130444</td>\n",
       "      <td>-16782.130444</td>\n",
       "      <td>-16782.130444</td>\n",
       "      <td>-16782.130444</td>\n",
       "      <td>-16782.130444</td>\n",
       "      <td>-16782.130444</td>\n",
       "      <td>0.0</td>\n",
       "      <td>0.0</td>\n",
       "      <td>0.0</td>\n",
       "      <td>2.776152e+07</td>\n",
       "    </tr>\n",
       "    <tr>\n",
       "      <th>245</th>\n",
       "      <td>2020-09-23</td>\n",
       "      <td>2.798254e+07</td>\n",
       "      <td>2.661026e+07</td>\n",
       "      <td>2.927039e+07</td>\n",
       "      <td>2.668307e+07</td>\n",
       "      <td>2.929295e+07</td>\n",
       "      <td>-10986.210444</td>\n",
       "      <td>-10986.210444</td>\n",
       "      <td>-10986.210444</td>\n",
       "      <td>-10986.210444</td>\n",
       "      <td>-10986.210444</td>\n",
       "      <td>-10986.210444</td>\n",
       "      <td>0.0</td>\n",
       "      <td>0.0</td>\n",
       "      <td>0.0</td>\n",
       "      <td>2.797155e+07</td>\n",
       "    </tr>\n",
       "    <tr>\n",
       "      <th>246</th>\n",
       "      <td>2020-09-24</td>\n",
       "      <td>2.818678e+07</td>\n",
       "      <td>2.683317e+07</td>\n",
       "      <td>2.950997e+07</td>\n",
       "      <td>2.683898e+07</td>\n",
       "      <td>2.951867e+07</td>\n",
       "      <td>-1078.891654</td>\n",
       "      <td>-1078.891654</td>\n",
       "      <td>-1078.891654</td>\n",
       "      <td>-1078.891654</td>\n",
       "      <td>-1078.891654</td>\n",
       "      <td>-1078.891654</td>\n",
       "      <td>0.0</td>\n",
       "      <td>0.0</td>\n",
       "      <td>0.0</td>\n",
       "      <td>2.818570e+07</td>\n",
       "    </tr>\n",
       "    <tr>\n",
       "      <th>247</th>\n",
       "      <td>2020-09-25</td>\n",
       "      <td>2.839102e+07</td>\n",
       "      <td>2.701324e+07</td>\n",
       "      <td>2.978122e+07</td>\n",
       "      <td>2.700378e+07</td>\n",
       "      <td>2.978105e+07</td>\n",
       "      <td>10103.249373</td>\n",
       "      <td>10103.249373</td>\n",
       "      <td>10103.249373</td>\n",
       "      <td>10103.249373</td>\n",
       "      <td>10103.249373</td>\n",
       "      <td>10103.249373</td>\n",
       "      <td>0.0</td>\n",
       "      <td>0.0</td>\n",
       "      <td>0.0</td>\n",
       "      <td>2.840113e+07</td>\n",
       "    </tr>\n",
       "  </tbody>\n",
       "</table>\n",
       "</div>"
      ],
      "text/plain": [
       "            ds         trend    yhat_lower    yhat_upper   trend_lower  \\\n",
       "243 2020-09-21  2.757406e+07  2.634498e+07  2.884992e+07  2.633072e+07   \n",
       "244 2020-09-22  2.777830e+07  2.647690e+07  2.904814e+07  2.650919e+07   \n",
       "245 2020-09-23  2.798254e+07  2.661026e+07  2.927039e+07  2.668307e+07   \n",
       "246 2020-09-24  2.818678e+07  2.683317e+07  2.950997e+07  2.683898e+07   \n",
       "247 2020-09-25  2.839102e+07  2.701324e+07  2.978122e+07  2.700378e+07   \n",
       "\n",
       "      trend_upper  additive_terms  additive_terms_lower  additive_terms_upper  \\\n",
       "243  2.882870e+07    -2144.375427          -2144.375427          -2144.375427   \n",
       "244  2.904747e+07   -16782.130444         -16782.130444         -16782.130444   \n",
       "245  2.929295e+07   -10986.210444         -10986.210444         -10986.210444   \n",
       "246  2.951867e+07    -1078.891654          -1078.891654          -1078.891654   \n",
       "247  2.978105e+07    10103.249373          10103.249373          10103.249373   \n",
       "\n",
       "           weekly  weekly_lower  weekly_upper  multiplicative_terms  \\\n",
       "243  -2144.375427  -2144.375427  -2144.375427                   0.0   \n",
       "244 -16782.130444 -16782.130444 -16782.130444                   0.0   \n",
       "245 -10986.210444 -10986.210444 -10986.210444                   0.0   \n",
       "246  -1078.891654  -1078.891654  -1078.891654                   0.0   \n",
       "247  10103.249373  10103.249373  10103.249373                   0.0   \n",
       "\n",
       "     multiplicative_terms_lower  multiplicative_terms_upper          yhat  \n",
       "243                         0.0                         0.0  2.757191e+07  \n",
       "244                         0.0                         0.0  2.776152e+07  \n",
       "245                         0.0                         0.0  2.797155e+07  \n",
       "246                         0.0                         0.0  2.818570e+07  \n",
       "247                         0.0                         0.0  2.840113e+07  "
      ]
     },
     "execution_count": 198,
     "metadata": {},
     "output_type": "execute_result"
    }
   ],
   "source": [
    "## Forecasted Data for Confirmed\n",
    "prophet_models['Confirmed'][1].tail()"
   ]
  },
  {
   "cell_type": "code",
   "execution_count": 199,
   "metadata": {},
   "outputs": [
    {
     "data": {
      "text/html": [
       "<div>\n",
       "<style scoped>\n",
       "    .dataframe tbody tr th:only-of-type {\n",
       "        vertical-align: middle;\n",
       "    }\n",
       "\n",
       "    .dataframe tbody tr th {\n",
       "        vertical-align: top;\n",
       "    }\n",
       "\n",
       "    .dataframe thead th {\n",
       "        text-align: right;\n",
       "    }\n",
       "</style>\n",
       "<table border=\"1\" class=\"dataframe\">\n",
       "  <thead>\n",
       "    <tr style=\"text-align: right;\">\n",
       "      <th></th>\n",
       "      <th>ds</th>\n",
       "      <th>trend</th>\n",
       "      <th>yhat_lower</th>\n",
       "      <th>yhat_upper</th>\n",
       "      <th>trend_lower</th>\n",
       "      <th>trend_upper</th>\n",
       "      <th>additive_terms</th>\n",
       "      <th>additive_terms_lower</th>\n",
       "      <th>additive_terms_upper</th>\n",
       "      <th>weekly</th>\n",
       "      <th>weekly_lower</th>\n",
       "      <th>weekly_upper</th>\n",
       "      <th>multiplicative_terms</th>\n",
       "      <th>multiplicative_terms_lower</th>\n",
       "      <th>multiplicative_terms_upper</th>\n",
       "      <th>yhat</th>\n",
       "    </tr>\n",
       "  </thead>\n",
       "  <tbody>\n",
       "    <tr>\n",
       "      <th>0</th>\n",
       "      <td>2020-01-22</td>\n",
       "      <td>393.864283</td>\n",
       "      <td>-50360.352973</td>\n",
       "      <td>41691.626353</td>\n",
       "      <td>393.864283</td>\n",
       "      <td>393.864283</td>\n",
       "      <td>-5768.245001</td>\n",
       "      <td>-5768.245001</td>\n",
       "      <td>-5768.245001</td>\n",
       "      <td>-5768.245001</td>\n",
       "      <td>-5768.245001</td>\n",
       "      <td>-5768.245001</td>\n",
       "      <td>0.0</td>\n",
       "      <td>0.0</td>\n",
       "      <td>0.0</td>\n",
       "      <td>-5374.380717</td>\n",
       "    </tr>\n",
       "    <tr>\n",
       "      <th>1</th>\n",
       "      <td>2020-01-23</td>\n",
       "      <td>2179.132524</td>\n",
       "      <td>-50943.980095</td>\n",
       "      <td>42420.246476</td>\n",
       "      <td>2179.132524</td>\n",
       "      <td>2179.132524</td>\n",
       "      <td>-2565.777101</td>\n",
       "      <td>-2565.777101</td>\n",
       "      <td>-2565.777101</td>\n",
       "      <td>-2565.777101</td>\n",
       "      <td>-2565.777101</td>\n",
       "      <td>-2565.777101</td>\n",
       "      <td>0.0</td>\n",
       "      <td>0.0</td>\n",
       "      <td>0.0</td>\n",
       "      <td>-386.644577</td>\n",
       "    </tr>\n",
       "    <tr>\n",
       "      <th>2</th>\n",
       "      <td>2020-01-24</td>\n",
       "      <td>3964.400764</td>\n",
       "      <td>-39429.590397</td>\n",
       "      <td>52363.175543</td>\n",
       "      <td>3964.400764</td>\n",
       "      <td>3964.400764</td>\n",
       "      <td>3219.382782</td>\n",
       "      <td>3219.382782</td>\n",
       "      <td>3219.382782</td>\n",
       "      <td>3219.382782</td>\n",
       "      <td>3219.382782</td>\n",
       "      <td>3219.382782</td>\n",
       "      <td>0.0</td>\n",
       "      <td>0.0</td>\n",
       "      <td>0.0</td>\n",
       "      <td>7183.783546</td>\n",
       "    </tr>\n",
       "    <tr>\n",
       "      <th>3</th>\n",
       "      <td>2020-01-25</td>\n",
       "      <td>5749.669005</td>\n",
       "      <td>-39780.234670</td>\n",
       "      <td>60504.656611</td>\n",
       "      <td>5749.669005</td>\n",
       "      <td>5749.669005</td>\n",
       "      <td>3129.564761</td>\n",
       "      <td>3129.564761</td>\n",
       "      <td>3129.564761</td>\n",
       "      <td>3129.564761</td>\n",
       "      <td>3129.564761</td>\n",
       "      <td>3129.564761</td>\n",
       "      <td>0.0</td>\n",
       "      <td>0.0</td>\n",
       "      <td>0.0</td>\n",
       "      <td>8879.233766</td>\n",
       "    </tr>\n",
       "    <tr>\n",
       "      <th>4</th>\n",
       "      <td>2020-01-26</td>\n",
       "      <td>7534.937245</td>\n",
       "      <td>-28894.887064</td>\n",
       "      <td>61414.155815</td>\n",
       "      <td>7534.937245</td>\n",
       "      <td>7534.937245</td>\n",
       "      <td>8182.557400</td>\n",
       "      <td>8182.557400</td>\n",
       "      <td>8182.557400</td>\n",
       "      <td>8182.557400</td>\n",
       "      <td>8182.557400</td>\n",
       "      <td>8182.557400</td>\n",
       "      <td>0.0</td>\n",
       "      <td>0.0</td>\n",
       "      <td>0.0</td>\n",
       "      <td>15717.494645</td>\n",
       "    </tr>\n",
       "  </tbody>\n",
       "</table>\n",
       "</div>"
      ],
      "text/plain": [
       "          ds        trend    yhat_lower    yhat_upper  trend_lower  \\\n",
       "0 2020-01-22   393.864283 -50360.352973  41691.626353   393.864283   \n",
       "1 2020-01-23  2179.132524 -50943.980095  42420.246476  2179.132524   \n",
       "2 2020-01-24  3964.400764 -39429.590397  52363.175543  3964.400764   \n",
       "3 2020-01-25  5749.669005 -39780.234670  60504.656611  5749.669005   \n",
       "4 2020-01-26  7534.937245 -28894.887064  61414.155815  7534.937245   \n",
       "\n",
       "   trend_upper  additive_terms  additive_terms_lower  additive_terms_upper  \\\n",
       "0   393.864283    -5768.245001          -5768.245001          -5768.245001   \n",
       "1  2179.132524    -2565.777101          -2565.777101          -2565.777101   \n",
       "2  3964.400764     3219.382782           3219.382782           3219.382782   \n",
       "3  5749.669005     3129.564761           3129.564761           3129.564761   \n",
       "4  7534.937245     8182.557400           8182.557400           8182.557400   \n",
       "\n",
       "        weekly  weekly_lower  weekly_upper  multiplicative_terms  \\\n",
       "0 -5768.245001  -5768.245001  -5768.245001                   0.0   \n",
       "1 -2565.777101  -2565.777101  -2565.777101                   0.0   \n",
       "2  3219.382782   3219.382782   3219.382782                   0.0   \n",
       "3  3129.564761   3129.564761   3129.564761                   0.0   \n",
       "4  8182.557400   8182.557400   8182.557400                   0.0   \n",
       "\n",
       "   multiplicative_terms_lower  multiplicative_terms_upper          yhat  \n",
       "0                         0.0                         0.0  -5374.380717  \n",
       "1                         0.0                         0.0   -386.644577  \n",
       "2                         0.0                         0.0   7183.783546  \n",
       "3                         0.0                         0.0   8879.233766  \n",
       "4                         0.0                         0.0  15717.494645  "
      ]
     },
     "execution_count": 199,
     "metadata": {},
     "output_type": "execute_result"
    }
   ],
   "source": [
    "## Forecasted Data for Active\n",
    "prophet_models['Active'][1].head()"
   ]
  },
  {
   "cell_type": "code",
   "execution_count": 201,
   "metadata": {},
   "outputs": [
    {
     "data": {
      "text/html": [
       "<div>\n",
       "<style scoped>\n",
       "    .dataframe tbody tr th:only-of-type {\n",
       "        vertical-align: middle;\n",
       "    }\n",
       "\n",
       "    .dataframe tbody tr th {\n",
       "        vertical-align: top;\n",
       "    }\n",
       "\n",
       "    .dataframe thead th {\n",
       "        text-align: right;\n",
       "    }\n",
       "</style>\n",
       "<table border=\"1\" class=\"dataframe\">\n",
       "  <thead>\n",
       "    <tr style=\"text-align: right;\">\n",
       "      <th></th>\n",
       "      <th>ds</th>\n",
       "      <th>trend</th>\n",
       "      <th>yhat_lower</th>\n",
       "      <th>yhat_upper</th>\n",
       "      <th>trend_lower</th>\n",
       "      <th>trend_upper</th>\n",
       "      <th>additive_terms</th>\n",
       "      <th>additive_terms_lower</th>\n",
       "      <th>additive_terms_upper</th>\n",
       "      <th>weekly</th>\n",
       "      <th>weekly_lower</th>\n",
       "      <th>weekly_upper</th>\n",
       "      <th>multiplicative_terms</th>\n",
       "      <th>multiplicative_terms_lower</th>\n",
       "      <th>multiplicative_terms_upper</th>\n",
       "      <th>yhat</th>\n",
       "    </tr>\n",
       "  </thead>\n",
       "  <tbody>\n",
       "    <tr>\n",
       "      <th>243</th>\n",
       "      <td>2020-09-21</td>\n",
       "      <td>929776.417290</td>\n",
       "      <td>871047.407090</td>\n",
       "      <td>9.886993e+05</td>\n",
       "      <td>871749.006308</td>\n",
       "      <td>9.896993e+05</td>\n",
       "      <td>-905.321485</td>\n",
       "      <td>-905.321485</td>\n",
       "      <td>-905.321485</td>\n",
       "      <td>-905.321485</td>\n",
       "      <td>-905.321485</td>\n",
       "      <td>-905.321485</td>\n",
       "      <td>0.0</td>\n",
       "      <td>0.0</td>\n",
       "      <td>0.0</td>\n",
       "      <td>928871.095805</td>\n",
       "    </tr>\n",
       "    <tr>\n",
       "      <th>244</th>\n",
       "      <td>2020-09-22</td>\n",
       "      <td>934807.422212</td>\n",
       "      <td>873482.261346</td>\n",
       "      <td>9.961468e+05</td>\n",
       "      <td>875064.098228</td>\n",
       "      <td>9.961406e+05</td>\n",
       "      <td>-728.289353</td>\n",
       "      <td>-728.289353</td>\n",
       "      <td>-728.289353</td>\n",
       "      <td>-728.289353</td>\n",
       "      <td>-728.289353</td>\n",
       "      <td>-728.289353</td>\n",
       "      <td>0.0</td>\n",
       "      <td>0.0</td>\n",
       "      <td>0.0</td>\n",
       "      <td>934079.132859</td>\n",
       "    </tr>\n",
       "    <tr>\n",
       "      <th>245</th>\n",
       "      <td>2020-09-23</td>\n",
       "      <td>939838.427134</td>\n",
       "      <td>878346.861559</td>\n",
       "      <td>1.003238e+06</td>\n",
       "      <td>878053.223312</td>\n",
       "      <td>1.003351e+06</td>\n",
       "      <td>-191.374799</td>\n",
       "      <td>-191.374799</td>\n",
       "      <td>-191.374799</td>\n",
       "      <td>-191.374799</td>\n",
       "      <td>-191.374799</td>\n",
       "      <td>-191.374799</td>\n",
       "      <td>0.0</td>\n",
       "      <td>0.0</td>\n",
       "      <td>0.0</td>\n",
       "      <td>939647.052335</td>\n",
       "    </tr>\n",
       "    <tr>\n",
       "      <th>246</th>\n",
       "      <td>2020-09-24</td>\n",
       "      <td>944869.432056</td>\n",
       "      <td>882352.663869</td>\n",
       "      <td>1.009778e+06</td>\n",
       "      <td>881794.802595</td>\n",
       "      <td>1.009734e+06</td>\n",
       "      <td>388.586941</td>\n",
       "      <td>388.586941</td>\n",
       "      <td>388.586941</td>\n",
       "      <td>388.586941</td>\n",
       "      <td>388.586941</td>\n",
       "      <td>388.586941</td>\n",
       "      <td>0.0</td>\n",
       "      <td>0.0</td>\n",
       "      <td>0.0</td>\n",
       "      <td>945258.018997</td>\n",
       "    </tr>\n",
       "    <tr>\n",
       "      <th>247</th>\n",
       "      <td>2020-09-25</td>\n",
       "      <td>949900.436978</td>\n",
       "      <td>885337.433718</td>\n",
       "      <td>1.016423e+06</td>\n",
       "      <td>885350.801083</td>\n",
       "      <td>1.016700e+06</td>\n",
       "      <td>874.801623</td>\n",
       "      <td>874.801623</td>\n",
       "      <td>874.801623</td>\n",
       "      <td>874.801623</td>\n",
       "      <td>874.801623</td>\n",
       "      <td>874.801623</td>\n",
       "      <td>0.0</td>\n",
       "      <td>0.0</td>\n",
       "      <td>0.0</td>\n",
       "      <td>950775.238602</td>\n",
       "    </tr>\n",
       "  </tbody>\n",
       "</table>\n",
       "</div>"
      ],
      "text/plain": [
       "            ds          trend     yhat_lower    yhat_upper    trend_lower  \\\n",
       "243 2020-09-21  929776.417290  871047.407090  9.886993e+05  871749.006308   \n",
       "244 2020-09-22  934807.422212  873482.261346  9.961468e+05  875064.098228   \n",
       "245 2020-09-23  939838.427134  878346.861559  1.003238e+06  878053.223312   \n",
       "246 2020-09-24  944869.432056  882352.663869  1.009778e+06  881794.802595   \n",
       "247 2020-09-25  949900.436978  885337.433718  1.016423e+06  885350.801083   \n",
       "\n",
       "      trend_upper  additive_terms  additive_terms_lower  additive_terms_upper  \\\n",
       "243  9.896993e+05     -905.321485           -905.321485           -905.321485   \n",
       "244  9.961406e+05     -728.289353           -728.289353           -728.289353   \n",
       "245  1.003351e+06     -191.374799           -191.374799           -191.374799   \n",
       "246  1.009734e+06      388.586941            388.586941            388.586941   \n",
       "247  1.016700e+06      874.801623            874.801623            874.801623   \n",
       "\n",
       "         weekly  weekly_lower  weekly_upper  multiplicative_terms  \\\n",
       "243 -905.321485   -905.321485   -905.321485                   0.0   \n",
       "244 -728.289353   -728.289353   -728.289353                   0.0   \n",
       "245 -191.374799   -191.374799   -191.374799                   0.0   \n",
       "246  388.586941    388.586941    388.586941                   0.0   \n",
       "247  874.801623    874.801623    874.801623                   0.0   \n",
       "\n",
       "     multiplicative_terms_lower  multiplicative_terms_upper           yhat  \n",
       "243                         0.0                         0.0  928871.095805  \n",
       "244                         0.0                         0.0  934079.132859  \n",
       "245                         0.0                         0.0  939647.052335  \n",
       "246                         0.0                         0.0  945258.018997  \n",
       "247                         0.0                         0.0  950775.238602  "
      ]
     },
     "execution_count": 201,
     "metadata": {},
     "output_type": "execute_result"
    }
   ],
   "source": [
    "## Forecasted Data for Deaths\n",
    "prophet_models['Deaths'][1].tail()"
   ]
  },
  {
   "cell_type": "code",
   "execution_count": 202,
   "metadata": {},
   "outputs": [
    {
     "data": {
      "text/html": [
       "<div>\n",
       "<style scoped>\n",
       "    .dataframe tbody tr th:only-of-type {\n",
       "        vertical-align: middle;\n",
       "    }\n",
       "\n",
       "    .dataframe tbody tr th {\n",
       "        vertical-align: top;\n",
       "    }\n",
       "\n",
       "    .dataframe thead th {\n",
       "        text-align: right;\n",
       "    }\n",
       "</style>\n",
       "<table border=\"1\" class=\"dataframe\">\n",
       "  <thead>\n",
       "    <tr style=\"text-align: right;\">\n",
       "      <th></th>\n",
       "      <th>ds</th>\n",
       "      <th>trend</th>\n",
       "      <th>yhat_lower</th>\n",
       "      <th>yhat_upper</th>\n",
       "      <th>trend_lower</th>\n",
       "      <th>trend_upper</th>\n",
       "      <th>additive_terms</th>\n",
       "      <th>additive_terms_lower</th>\n",
       "      <th>additive_terms_upper</th>\n",
       "      <th>weekly</th>\n",
       "      <th>weekly_lower</th>\n",
       "      <th>weekly_upper</th>\n",
       "      <th>multiplicative_terms</th>\n",
       "      <th>multiplicative_terms_lower</th>\n",
       "      <th>multiplicative_terms_upper</th>\n",
       "      <th>yhat</th>\n",
       "    </tr>\n",
       "  </thead>\n",
       "  <tbody>\n",
       "    <tr>\n",
       "      <th>243</th>\n",
       "      <td>2020-09-21</td>\n",
       "      <td>1.684263e+07</td>\n",
       "      <td>1.603402e+07</td>\n",
       "      <td>1.771950e+07</td>\n",
       "      <td>1.606263e+07</td>\n",
       "      <td>1.770066e+07</td>\n",
       "      <td>-1036.123578</td>\n",
       "      <td>-1036.123578</td>\n",
       "      <td>-1036.123578</td>\n",
       "      <td>-1036.123578</td>\n",
       "      <td>-1036.123578</td>\n",
       "      <td>-1036.123578</td>\n",
       "      <td>0.0</td>\n",
       "      <td>0.0</td>\n",
       "      <td>0.0</td>\n",
       "      <td>1.684159e+07</td>\n",
       "    </tr>\n",
       "    <tr>\n",
       "      <th>244</th>\n",
       "      <td>2020-09-22</td>\n",
       "      <td>1.697933e+07</td>\n",
       "      <td>1.616159e+07</td>\n",
       "      <td>1.785915e+07</td>\n",
       "      <td>1.617305e+07</td>\n",
       "      <td>1.786428e+07</td>\n",
       "      <td>-10324.870998</td>\n",
       "      <td>-10324.870998</td>\n",
       "      <td>-10324.870998</td>\n",
       "      <td>-10324.870998</td>\n",
       "      <td>-10324.870998</td>\n",
       "      <td>-10324.870998</td>\n",
       "      <td>0.0</td>\n",
       "      <td>0.0</td>\n",
       "      <td>0.0</td>\n",
       "      <td>1.696901e+07</td>\n",
       "    </tr>\n",
       "    <tr>\n",
       "      <th>245</th>\n",
       "      <td>2020-09-23</td>\n",
       "      <td>1.711604e+07</td>\n",
       "      <td>1.623467e+07</td>\n",
       "      <td>1.799431e+07</td>\n",
       "      <td>1.628297e+07</td>\n",
       "      <td>1.801784e+07</td>\n",
       "      <td>-4840.302869</td>\n",
       "      <td>-4840.302869</td>\n",
       "      <td>-4840.302869</td>\n",
       "      <td>-4840.302869</td>\n",
       "      <td>-4840.302869</td>\n",
       "      <td>-4840.302869</td>\n",
       "      <td>0.0</td>\n",
       "      <td>0.0</td>\n",
       "      <td>0.0</td>\n",
       "      <td>1.711120e+07</td>\n",
       "    </tr>\n",
       "    <tr>\n",
       "      <th>246</th>\n",
       "      <td>2020-09-24</td>\n",
       "      <td>1.725274e+07</td>\n",
       "      <td>1.638420e+07</td>\n",
       "      <td>1.821767e+07</td>\n",
       "      <td>1.638810e+07</td>\n",
       "      <td>1.818630e+07</td>\n",
       "      <td>1268.505419</td>\n",
       "      <td>1268.505419</td>\n",
       "      <td>1268.505419</td>\n",
       "      <td>1268.505419</td>\n",
       "      <td>1268.505419</td>\n",
       "      <td>1268.505419</td>\n",
       "      <td>0.0</td>\n",
       "      <td>0.0</td>\n",
       "      <td>0.0</td>\n",
       "      <td>1.725401e+07</td>\n",
       "    </tr>\n",
       "    <tr>\n",
       "      <th>247</th>\n",
       "      <td>2020-09-25</td>\n",
       "      <td>1.738945e+07</td>\n",
       "      <td>1.649329e+07</td>\n",
       "      <td>1.833040e+07</td>\n",
       "      <td>1.650233e+07</td>\n",
       "      <td>1.835603e+07</td>\n",
       "      <td>6127.046185</td>\n",
       "      <td>6127.046185</td>\n",
       "      <td>6127.046185</td>\n",
       "      <td>6127.046185</td>\n",
       "      <td>6127.046185</td>\n",
       "      <td>6127.046185</td>\n",
       "      <td>0.0</td>\n",
       "      <td>0.0</td>\n",
       "      <td>0.0</td>\n",
       "      <td>1.739558e+07</td>\n",
       "    </tr>\n",
       "  </tbody>\n",
       "</table>\n",
       "</div>"
      ],
      "text/plain": [
       "            ds         trend    yhat_lower    yhat_upper   trend_lower  \\\n",
       "243 2020-09-21  1.684263e+07  1.603402e+07  1.771950e+07  1.606263e+07   \n",
       "244 2020-09-22  1.697933e+07  1.616159e+07  1.785915e+07  1.617305e+07   \n",
       "245 2020-09-23  1.711604e+07  1.623467e+07  1.799431e+07  1.628297e+07   \n",
       "246 2020-09-24  1.725274e+07  1.638420e+07  1.821767e+07  1.638810e+07   \n",
       "247 2020-09-25  1.738945e+07  1.649329e+07  1.833040e+07  1.650233e+07   \n",
       "\n",
       "      trend_upper  additive_terms  additive_terms_lower  additive_terms_upper  \\\n",
       "243  1.770066e+07    -1036.123578          -1036.123578          -1036.123578   \n",
       "244  1.786428e+07   -10324.870998         -10324.870998         -10324.870998   \n",
       "245  1.801784e+07    -4840.302869          -4840.302869          -4840.302869   \n",
       "246  1.818630e+07     1268.505419           1268.505419           1268.505419   \n",
       "247  1.835603e+07     6127.046185           6127.046185           6127.046185   \n",
       "\n",
       "           weekly  weekly_lower  weekly_upper  multiplicative_terms  \\\n",
       "243  -1036.123578  -1036.123578  -1036.123578                   0.0   \n",
       "244 -10324.870998 -10324.870998 -10324.870998                   0.0   \n",
       "245  -4840.302869  -4840.302869  -4840.302869                   0.0   \n",
       "246   1268.505419   1268.505419   1268.505419                   0.0   \n",
       "247   6127.046185   6127.046185   6127.046185                   0.0   \n",
       "\n",
       "     multiplicative_terms_lower  multiplicative_terms_upper          yhat  \n",
       "243                         0.0                         0.0  1.684159e+07  \n",
       "244                         0.0                         0.0  1.696901e+07  \n",
       "245                         0.0                         0.0  1.711120e+07  \n",
       "246                         0.0                         0.0  1.725401e+07  \n",
       "247                         0.0                         0.0  1.739558e+07  "
      ]
     },
     "execution_count": 202,
     "metadata": {},
     "output_type": "execute_result"
    }
   ],
   "source": [
    "## Forecasted Data for Recovered\n",
    "prophet_models['Recovered'][1].tail()"
   ]
  },
  {
   "cell_type": "code",
   "execution_count": null,
   "metadata": {},
   "outputs": [],
   "source": []
  },
  {
   "cell_type": "code",
   "execution_count": null,
   "metadata": {},
   "outputs": [],
   "source": []
  },
  {
   "cell_type": "code",
   "execution_count": null,
   "metadata": {},
   "outputs": [],
   "source": []
  },
  {
   "cell_type": "code",
   "execution_count": null,
   "metadata": {},
   "outputs": [],
   "source": []
  },
  {
   "cell_type": "code",
   "execution_count": null,
   "metadata": {},
   "outputs": [],
   "source": []
  },
  {
   "cell_type": "code",
   "execution_count": null,
   "metadata": {},
   "outputs": [],
   "source": []
  },
  {
   "cell_type": "code",
   "execution_count": null,
   "metadata": {},
   "outputs": [],
   "source": []
  }
 ],
 "metadata": {
  "kernelspec": {
   "display_name": "cvenv",
   "language": "python",
   "name": "python3"
  },
  "language_info": {
   "codemirror_mode": {
    "name": "ipython",
    "version": 3
   },
   "file_extension": ".py",
   "mimetype": "text/x-python",
   "name": "python",
   "nbconvert_exporter": "python",
   "pygments_lexer": "ipython3",
   "version": "3.11.3"
  }
 },
 "nbformat": 4,
 "nbformat_minor": 2
}
