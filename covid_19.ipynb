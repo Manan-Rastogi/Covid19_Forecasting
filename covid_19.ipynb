{
 "cells": [
  {
   "cell_type": "code",
   "execution_count": 68,
   "metadata": {},
   "outputs": [],
   "source": [
    "import numpy as np \n",
    "import pandas as pd \n",
    "import seaborn as sns\n",
    "import matplotlib.pyplot as plt \n",
    "%matplotlib inline\n",
    "\n",
    "import warnings\n",
    "warnings.filterwarnings(\"ignore\")"
   ]
  },
  {
   "cell_type": "code",
   "execution_count": 69,
   "metadata": {},
   "outputs": [
    {
     "data": {
      "text/html": [
       "<div>\n",
       "<style scoped>\n",
       "    .dataframe tbody tr th:only-of-type {\n",
       "        vertical-align: middle;\n",
       "    }\n",
       "\n",
       "    .dataframe tbody tr th {\n",
       "        vertical-align: top;\n",
       "    }\n",
       "\n",
       "    .dataframe thead th {\n",
       "        text-align: right;\n",
       "    }\n",
       "</style>\n",
       "<table border=\"1\" class=\"dataframe\">\n",
       "  <thead>\n",
       "    <tr style=\"text-align: right;\">\n",
       "      <th></th>\n",
       "      <th>Province/State</th>\n",
       "      <th>Country/Region</th>\n",
       "      <th>Lat</th>\n",
       "      <th>Long</th>\n",
       "      <th>Date</th>\n",
       "      <th>Confirmed</th>\n",
       "      <th>Deaths</th>\n",
       "      <th>Recovered</th>\n",
       "      <th>Active</th>\n",
       "      <th>WHO Region</th>\n",
       "    </tr>\n",
       "  </thead>\n",
       "  <tbody>\n",
       "    <tr>\n",
       "      <th>0</th>\n",
       "      <td>NaN</td>\n",
       "      <td>Afghanistan</td>\n",
       "      <td>33.93911</td>\n",
       "      <td>67.709953</td>\n",
       "      <td>2020-01-22</td>\n",
       "      <td>0</td>\n",
       "      <td>0</td>\n",
       "      <td>0</td>\n",
       "      <td>0</td>\n",
       "      <td>Eastern Mediterranean</td>\n",
       "    </tr>\n",
       "    <tr>\n",
       "      <th>1</th>\n",
       "      <td>NaN</td>\n",
       "      <td>Albania</td>\n",
       "      <td>41.15330</td>\n",
       "      <td>20.168300</td>\n",
       "      <td>2020-01-22</td>\n",
       "      <td>0</td>\n",
       "      <td>0</td>\n",
       "      <td>0</td>\n",
       "      <td>0</td>\n",
       "      <td>Europe</td>\n",
       "    </tr>\n",
       "    <tr>\n",
       "      <th>2</th>\n",
       "      <td>NaN</td>\n",
       "      <td>Algeria</td>\n",
       "      <td>28.03390</td>\n",
       "      <td>1.659600</td>\n",
       "      <td>2020-01-22</td>\n",
       "      <td>0</td>\n",
       "      <td>0</td>\n",
       "      <td>0</td>\n",
       "      <td>0</td>\n",
       "      <td>Africa</td>\n",
       "    </tr>\n",
       "    <tr>\n",
       "      <th>3</th>\n",
       "      <td>NaN</td>\n",
       "      <td>Andorra</td>\n",
       "      <td>42.50630</td>\n",
       "      <td>1.521800</td>\n",
       "      <td>2020-01-22</td>\n",
       "      <td>0</td>\n",
       "      <td>0</td>\n",
       "      <td>0</td>\n",
       "      <td>0</td>\n",
       "      <td>Europe</td>\n",
       "    </tr>\n",
       "    <tr>\n",
       "      <th>4</th>\n",
       "      <td>NaN</td>\n",
       "      <td>Angola</td>\n",
       "      <td>-11.20270</td>\n",
       "      <td>17.873900</td>\n",
       "      <td>2020-01-22</td>\n",
       "      <td>0</td>\n",
       "      <td>0</td>\n",
       "      <td>0</td>\n",
       "      <td>0</td>\n",
       "      <td>Africa</td>\n",
       "    </tr>\n",
       "  </tbody>\n",
       "</table>\n",
       "</div>"
      ],
      "text/plain": [
       "  Province/State Country/Region       Lat       Long        Date  Confirmed  \\\n",
       "0            NaN    Afghanistan  33.93911  67.709953  2020-01-22          0   \n",
       "1            NaN        Albania  41.15330  20.168300  2020-01-22          0   \n",
       "2            NaN        Algeria  28.03390   1.659600  2020-01-22          0   \n",
       "3            NaN        Andorra  42.50630   1.521800  2020-01-22          0   \n",
       "4            NaN         Angola -11.20270  17.873900  2020-01-22          0   \n",
       "\n",
       "   Deaths  Recovered  Active             WHO Region  \n",
       "0       0          0       0  Eastern Mediterranean  \n",
       "1       0          0       0                 Europe  \n",
       "2       0          0       0                 Africa  \n",
       "3       0          0       0                 Europe  \n",
       "4       0          0       0                 Africa  "
      ]
     },
     "execution_count": 69,
     "metadata": {},
     "output_type": "execute_result"
    }
   ],
   "source": [
    "df= pd.read_csv(\"covid_19_clean_complete.csv\")\n",
    "df.head()"
   ]
  },
  {
   "cell_type": "code",
   "execution_count": 70,
   "metadata": {},
   "outputs": [
    {
     "data": {
      "text/html": [
       "<div>\n",
       "<style scoped>\n",
       "    .dataframe tbody tr th:only-of-type {\n",
       "        vertical-align: middle;\n",
       "    }\n",
       "\n",
       "    .dataframe tbody tr th {\n",
       "        vertical-align: top;\n",
       "    }\n",
       "\n",
       "    .dataframe thead th {\n",
       "        text-align: right;\n",
       "    }\n",
       "</style>\n",
       "<table border=\"1\" class=\"dataframe\">\n",
       "  <thead>\n",
       "    <tr style=\"text-align: right;\">\n",
       "      <th></th>\n",
       "      <th>Province/State</th>\n",
       "      <th>Country/Region</th>\n",
       "      <th>Lat</th>\n",
       "      <th>Long</th>\n",
       "      <th>Date</th>\n",
       "      <th>Confirmed</th>\n",
       "      <th>Deaths</th>\n",
       "      <th>Recovered</th>\n",
       "      <th>Active</th>\n",
       "      <th>WHO Region</th>\n",
       "    </tr>\n",
       "  </thead>\n",
       "  <tbody>\n",
       "    <tr>\n",
       "      <th>49063</th>\n",
       "      <td>NaN</td>\n",
       "      <td>Sao Tome and Principe</td>\n",
       "      <td>0.186400</td>\n",
       "      <td>6.613100</td>\n",
       "      <td>2020-07-27</td>\n",
       "      <td>865</td>\n",
       "      <td>14</td>\n",
       "      <td>734</td>\n",
       "      <td>117</td>\n",
       "      <td>Africa</td>\n",
       "    </tr>\n",
       "    <tr>\n",
       "      <th>49064</th>\n",
       "      <td>NaN</td>\n",
       "      <td>Yemen</td>\n",
       "      <td>15.552727</td>\n",
       "      <td>48.516388</td>\n",
       "      <td>2020-07-27</td>\n",
       "      <td>1691</td>\n",
       "      <td>483</td>\n",
       "      <td>833</td>\n",
       "      <td>375</td>\n",
       "      <td>Eastern Mediterranean</td>\n",
       "    </tr>\n",
       "    <tr>\n",
       "      <th>49065</th>\n",
       "      <td>NaN</td>\n",
       "      <td>Comoros</td>\n",
       "      <td>-11.645500</td>\n",
       "      <td>43.333300</td>\n",
       "      <td>2020-07-27</td>\n",
       "      <td>354</td>\n",
       "      <td>7</td>\n",
       "      <td>328</td>\n",
       "      <td>19</td>\n",
       "      <td>Africa</td>\n",
       "    </tr>\n",
       "    <tr>\n",
       "      <th>49066</th>\n",
       "      <td>NaN</td>\n",
       "      <td>Tajikistan</td>\n",
       "      <td>38.861000</td>\n",
       "      <td>71.276100</td>\n",
       "      <td>2020-07-27</td>\n",
       "      <td>7235</td>\n",
       "      <td>60</td>\n",
       "      <td>6028</td>\n",
       "      <td>1147</td>\n",
       "      <td>Europe</td>\n",
       "    </tr>\n",
       "    <tr>\n",
       "      <th>49067</th>\n",
       "      <td>NaN</td>\n",
       "      <td>Lesotho</td>\n",
       "      <td>-29.610000</td>\n",
       "      <td>28.233600</td>\n",
       "      <td>2020-07-27</td>\n",
       "      <td>505</td>\n",
       "      <td>12</td>\n",
       "      <td>128</td>\n",
       "      <td>365</td>\n",
       "      <td>Africa</td>\n",
       "    </tr>\n",
       "  </tbody>\n",
       "</table>\n",
       "</div>"
      ],
      "text/plain": [
       "      Province/State         Country/Region        Lat       Long        Date  \\\n",
       "49063            NaN  Sao Tome and Principe   0.186400   6.613100  2020-07-27   \n",
       "49064            NaN                  Yemen  15.552727  48.516388  2020-07-27   \n",
       "49065            NaN                Comoros -11.645500  43.333300  2020-07-27   \n",
       "49066            NaN             Tajikistan  38.861000  71.276100  2020-07-27   \n",
       "49067            NaN                Lesotho -29.610000  28.233600  2020-07-27   \n",
       "\n",
       "       Confirmed  Deaths  Recovered  Active             WHO Region  \n",
       "49063        865      14        734     117                 Africa  \n",
       "49064       1691     483        833     375  Eastern Mediterranean  \n",
       "49065        354       7        328      19                 Africa  \n",
       "49066       7235      60       6028    1147                 Europe  \n",
       "49067        505      12        128     365                 Africa  "
      ]
     },
     "execution_count": 70,
     "metadata": {},
     "output_type": "execute_result"
    }
   ],
   "source": [
    "df.tail()"
   ]
  },
  {
   "cell_type": "markdown",
   "metadata": {},
   "source": [
    "# EDA"
   ]
  },
  {
   "cell_type": "code",
   "execution_count": 71,
   "metadata": {},
   "outputs": [
    {
     "name": "stdout",
     "output_type": "stream",
     "text": [
      "<class 'pandas.core.frame.DataFrame'>\n",
      "RangeIndex: 49068 entries, 0 to 49067\n",
      "Data columns (total 10 columns):\n",
      " #   Column          Non-Null Count  Dtype  \n",
      "---  ------          --------------  -----  \n",
      " 0   Province/State  14664 non-null  object \n",
      " 1   Country/Region  49068 non-null  object \n",
      " 2   Lat             49068 non-null  float64\n",
      " 3   Long            49068 non-null  float64\n",
      " 4   Date            49068 non-null  object \n",
      " 5   Confirmed       49068 non-null  int64  \n",
      " 6   Deaths          49068 non-null  int64  \n",
      " 7   Recovered       49068 non-null  int64  \n",
      " 8   Active          49068 non-null  int64  \n",
      " 9   WHO Region      49068 non-null  object \n",
      "dtypes: float64(2), int64(4), object(4)\n",
      "memory usage: 3.7+ MB\n"
     ]
    }
   ],
   "source": [
    "df.info()"
   ]
  },
  {
   "cell_type": "code",
   "execution_count": 72,
   "metadata": {},
   "outputs": [
    {
     "data": {
      "text/html": [
       "<div>\n",
       "<style scoped>\n",
       "    .dataframe tbody tr th:only-of-type {\n",
       "        vertical-align: middle;\n",
       "    }\n",
       "\n",
       "    .dataframe tbody tr th {\n",
       "        vertical-align: top;\n",
       "    }\n",
       "\n",
       "    .dataframe thead th {\n",
       "        text-align: right;\n",
       "    }\n",
       "</style>\n",
       "<table border=\"1\" class=\"dataframe\">\n",
       "  <thead>\n",
       "    <tr style=\"text-align: right;\">\n",
       "      <th></th>\n",
       "      <th>count</th>\n",
       "      <th>mean</th>\n",
       "      <th>std</th>\n",
       "      <th>min</th>\n",
       "      <th>25%</th>\n",
       "      <th>50%</th>\n",
       "      <th>75%</th>\n",
       "      <th>max</th>\n",
       "    </tr>\n",
       "  </thead>\n",
       "  <tbody>\n",
       "    <tr>\n",
       "      <th>Lat</th>\n",
       "      <td>49068.0</td>\n",
       "      <td>21.433730</td>\n",
       "      <td>24.950320</td>\n",
       "      <td>-51.7963</td>\n",
       "      <td>7.873054</td>\n",
       "      <td>23.6345</td>\n",
       "      <td>41.204380</td>\n",
       "      <td>7.170690e+01</td>\n",
       "    </tr>\n",
       "    <tr>\n",
       "      <th>Long</th>\n",
       "      <td>49068.0</td>\n",
       "      <td>23.528236</td>\n",
       "      <td>70.442740</td>\n",
       "      <td>-135.0000</td>\n",
       "      <td>-15.310100</td>\n",
       "      <td>21.7453</td>\n",
       "      <td>80.771797</td>\n",
       "      <td>1.780650e+02</td>\n",
       "    </tr>\n",
       "    <tr>\n",
       "      <th>Confirmed</th>\n",
       "      <td>49068.0</td>\n",
       "      <td>16884.904255</td>\n",
       "      <td>127300.205272</td>\n",
       "      <td>0.0000</td>\n",
       "      <td>4.000000</td>\n",
       "      <td>168.0000</td>\n",
       "      <td>1518.250000</td>\n",
       "      <td>4.290259e+06</td>\n",
       "    </tr>\n",
       "    <tr>\n",
       "      <th>Deaths</th>\n",
       "      <td>49068.0</td>\n",
       "      <td>884.179160</td>\n",
       "      <td>6313.584411</td>\n",
       "      <td>0.0000</td>\n",
       "      <td>0.000000</td>\n",
       "      <td>2.0000</td>\n",
       "      <td>30.000000</td>\n",
       "      <td>1.480110e+05</td>\n",
       "    </tr>\n",
       "    <tr>\n",
       "      <th>Recovered</th>\n",
       "      <td>49068.0</td>\n",
       "      <td>7915.713479</td>\n",
       "      <td>54800.918731</td>\n",
       "      <td>0.0000</td>\n",
       "      <td>0.000000</td>\n",
       "      <td>29.0000</td>\n",
       "      <td>666.000000</td>\n",
       "      <td>1.846641e+06</td>\n",
       "    </tr>\n",
       "    <tr>\n",
       "      <th>Active</th>\n",
       "      <td>49068.0</td>\n",
       "      <td>8085.011617</td>\n",
       "      <td>76258.903026</td>\n",
       "      <td>-14.0000</td>\n",
       "      <td>0.000000</td>\n",
       "      <td>26.0000</td>\n",
       "      <td>606.000000</td>\n",
       "      <td>2.816444e+06</td>\n",
       "    </tr>\n",
       "  </tbody>\n",
       "</table>\n",
       "</div>"
      ],
      "text/plain": [
       "             count          mean            std       min        25%  \\\n",
       "Lat        49068.0     21.433730      24.950320  -51.7963   7.873054   \n",
       "Long       49068.0     23.528236      70.442740 -135.0000 -15.310100   \n",
       "Confirmed  49068.0  16884.904255  127300.205272    0.0000   4.000000   \n",
       "Deaths     49068.0    884.179160    6313.584411    0.0000   0.000000   \n",
       "Recovered  49068.0   7915.713479   54800.918731    0.0000   0.000000   \n",
       "Active     49068.0   8085.011617   76258.903026  -14.0000   0.000000   \n",
       "\n",
       "                50%          75%           max  \n",
       "Lat         23.6345    41.204380  7.170690e+01  \n",
       "Long        21.7453    80.771797  1.780650e+02  \n",
       "Confirmed  168.0000  1518.250000  4.290259e+06  \n",
       "Deaths       2.0000    30.000000  1.480110e+05  \n",
       "Recovered   29.0000   666.000000  1.846641e+06  \n",
       "Active      26.0000   606.000000  2.816444e+06  "
      ]
     },
     "execution_count": 72,
     "metadata": {},
     "output_type": "execute_result"
    }
   ],
   "source": [
    "df.describe().T"
   ]
  },
  {
   "cell_type": "code",
   "execution_count": 73,
   "metadata": {},
   "outputs": [
    {
     "data": {
      "text/plain": [
       "Province/State    70.114943\n",
       "Country/Region     0.000000\n",
       "Lat                0.000000\n",
       "Long               0.000000\n",
       "Date               0.000000\n",
       "Confirmed          0.000000\n",
       "Deaths             0.000000\n",
       "Recovered          0.000000\n",
       "Active             0.000000\n",
       "WHO Region         0.000000\n",
       "dtype: float64"
      ]
     },
     "execution_count": 73,
     "metadata": {},
     "output_type": "execute_result"
    }
   ],
   "source": [
    "df.isnull().sum()*100/df.shape[0]"
   ]
  },
  {
   "cell_type": "code",
   "execution_count": 74,
   "metadata": {},
   "outputs": [
    {
     "data": {
      "text/plain": [
       "0"
      ]
     },
     "execution_count": 74,
     "metadata": {},
     "output_type": "execute_result"
    }
   ],
   "source": [
    "df.duplicated().sum()"
   ]
  },
  {
   "cell_type": "code",
   "execution_count": 75,
   "metadata": {},
   "outputs": [
    {
     "data": {
      "text/plain": [
       "Date\n",
       "2020-01-22    261\n",
       "2020-05-30    261\n",
       "2020-05-21    261\n",
       "2020-05-22    261\n",
       "2020-05-23    261\n",
       "             ... \n",
       "2020-03-26    261\n",
       "2020-03-27    261\n",
       "2020-03-28    261\n",
       "2020-03-29    261\n",
       "2020-07-27    261\n",
       "Name: count, Length: 188, dtype: int64"
      ]
     },
     "execution_count": 75,
     "metadata": {},
     "output_type": "execute_result"
    }
   ],
   "source": [
    "df.Date.value_counts()"
   ]
  },
  {
   "cell_type": "markdown",
   "metadata": {},
   "source": [
    "## <span style=\"color:orange\"> Observations:\n",
    "-   Around 70% of Province/State are NaN\n",
    "-   No other column has Null/NaN values\n",
    "-   No Duplicated rows as well"
   ]
  },
  {
   "cell_type": "code",
   "execution_count": null,
   "metadata": {},
   "outputs": [],
   "source": []
  },
  {
   "cell_type": "markdown",
   "metadata": {},
   "source": [
    "## Visualizations"
   ]
  },
  {
   "cell_type": "markdown",
   "metadata": {},
   "source": []
  },
  {
   "cell_type": "code",
   "execution_count": 76,
   "metadata": {},
   "outputs": [
    {
     "data": {
      "text/plain": [
       "(49068, 10)"
      ]
     },
     "execution_count": 76,
     "metadata": {},
     "output_type": "execute_result"
    }
   ],
   "source": [
    "df.shape"
   ]
  },
  {
   "cell_type": "code",
   "execution_count": 77,
   "metadata": {},
   "outputs": [
    {
     "data": {
      "text/plain": [
       "Index(['Province/State', 'Country/Region', 'Lat', 'Long', 'Date', 'Confirmed',\n",
       "       'Deaths', 'Recovered', 'Active', 'WHO Region'],\n",
       "      dtype='object')"
      ]
     },
     "execution_count": 77,
     "metadata": {},
     "output_type": "execute_result"
    }
   ],
   "source": [
    "df.columns"
   ]
  },
  {
   "cell_type": "code",
   "execution_count": 78,
   "metadata": {},
   "outputs": [
    {
     "data": {
      "text/plain": [
       "Country/Region\n",
       "China             6204\n",
       "Canada            2256\n",
       "France            2068\n",
       "United Kingdom    2068\n",
       "Australia         1504\n",
       "                  ... \n",
       "Holy See           188\n",
       "Honduras           188\n",
       "Hungary            188\n",
       "Iceland            188\n",
       "Lesotho            188\n",
       "Name: count, Length: 187, dtype: int64"
      ]
     },
     "execution_count": 78,
     "metadata": {},
     "output_type": "execute_result"
    }
   ],
   "source": [
    "df[\"Country/Region\"].value_counts()"
   ]
  },
  {
   "cell_type": "code",
   "execution_count": null,
   "metadata": {},
   "outputs": [],
   "source": []
  },
  {
   "cell_type": "code",
   "execution_count": 79,
   "metadata": {},
   "outputs": [
    {
     "data": {
      "text/plain": [
       "Active\n",
       "0        14151\n",
       "1         1792\n",
       "2         1157\n",
       "3         1027\n",
       "5          757\n",
       "         ...  \n",
       "23182        1\n",
       "10153        1\n",
       "9054         1\n",
       "61004        1\n",
       "6791         1\n",
       "Name: count, Length: 8641, dtype: int64"
      ]
     },
     "execution_count": 79,
     "metadata": {},
     "output_type": "execute_result"
    }
   ],
   "source": [
    "df.Active.value_counts()"
   ]
  },
  {
   "cell_type": "code",
   "execution_count": 80,
   "metadata": {},
   "outputs": [],
   "source": [
    "import plotly.graph_objects as go"
   ]
  },
  {
   "cell_type": "markdown",
   "metadata": {},
   "source": [
    "## Visualizing "
   ]
  },
  {
   "cell_type": "code",
   "execution_count": 81,
   "metadata": {},
   "outputs": [],
   "source": [
    "# %pip install --upgrade nbformat"
   ]
  },
  {
   "cell_type": "code",
   "execution_count": 82,
   "metadata": {},
   "outputs": [
    {
     "data": {
      "text/plain": [
       "Index(['Province/State', 'Country/Region', 'Lat', 'Long', 'Date', 'Confirmed',\n",
       "       'Deaths', 'Recovered', 'Active', 'WHO Region'],\n",
       "      dtype='object')"
      ]
     },
     "execution_count": 82,
     "metadata": {},
     "output_type": "execute_result"
    }
   ],
   "source": [
    "df.columns"
   ]
  },
  {
   "cell_type": "code",
   "execution_count": 83,
   "metadata": {},
   "outputs": [
    {
     "data": {
      "text/plain": [
       "'2020-01-22'"
      ]
     },
     "execution_count": 83,
     "metadata": {},
     "output_type": "execute_result"
    }
   ],
   "source": [
    "df.Date[0]"
   ]
  },
  {
   "cell_type": "markdown",
   "metadata": {},
   "source": [
    "#### Lets Plot Scatter plot on Map for a Particular Date."
   ]
  },
  {
   "cell_type": "code",
   "execution_count": 84,
   "metadata": {},
   "outputs": [
    {
     "data": {
      "text/html": [
       "<div>\n",
       "<style scoped>\n",
       "    .dataframe tbody tr th:only-of-type {\n",
       "        vertical-align: middle;\n",
       "    }\n",
       "\n",
       "    .dataframe tbody tr th {\n",
       "        vertical-align: top;\n",
       "    }\n",
       "\n",
       "    .dataframe thead th {\n",
       "        text-align: right;\n",
       "    }\n",
       "</style>\n",
       "<table border=\"1\" class=\"dataframe\">\n",
       "  <thead>\n",
       "    <tr style=\"text-align: right;\">\n",
       "      <th></th>\n",
       "      <th>Province/State</th>\n",
       "      <th>Country/Region</th>\n",
       "      <th>Lat</th>\n",
       "      <th>Long</th>\n",
       "      <th>Date</th>\n",
       "      <th>Confirmed</th>\n",
       "      <th>Deaths</th>\n",
       "      <th>Recovered</th>\n",
       "      <th>Active</th>\n",
       "      <th>WHO Region</th>\n",
       "    </tr>\n",
       "  </thead>\n",
       "  <tbody>\n",
       "    <tr>\n",
       "      <th>0</th>\n",
       "      <td>NaN</td>\n",
       "      <td>Afghanistan</td>\n",
       "      <td>33.93911</td>\n",
       "      <td>67.709953</td>\n",
       "      <td>2020-01-22</td>\n",
       "      <td>0</td>\n",
       "      <td>0</td>\n",
       "      <td>0</td>\n",
       "      <td>0</td>\n",
       "      <td>Eastern Mediterranean</td>\n",
       "    </tr>\n",
       "    <tr>\n",
       "      <th>1</th>\n",
       "      <td>NaN</td>\n",
       "      <td>Albania</td>\n",
       "      <td>41.15330</td>\n",
       "      <td>20.168300</td>\n",
       "      <td>2020-01-22</td>\n",
       "      <td>0</td>\n",
       "      <td>0</td>\n",
       "      <td>0</td>\n",
       "      <td>0</td>\n",
       "      <td>Europe</td>\n",
       "    </tr>\n",
       "    <tr>\n",
       "      <th>2</th>\n",
       "      <td>NaN</td>\n",
       "      <td>Algeria</td>\n",
       "      <td>28.03390</td>\n",
       "      <td>1.659600</td>\n",
       "      <td>2020-01-22</td>\n",
       "      <td>0</td>\n",
       "      <td>0</td>\n",
       "      <td>0</td>\n",
       "      <td>0</td>\n",
       "      <td>Africa</td>\n",
       "    </tr>\n",
       "    <tr>\n",
       "      <th>3</th>\n",
       "      <td>NaN</td>\n",
       "      <td>Andorra</td>\n",
       "      <td>42.50630</td>\n",
       "      <td>1.521800</td>\n",
       "      <td>2020-01-22</td>\n",
       "      <td>0</td>\n",
       "      <td>0</td>\n",
       "      <td>0</td>\n",
       "      <td>0</td>\n",
       "      <td>Europe</td>\n",
       "    </tr>\n",
       "    <tr>\n",
       "      <th>4</th>\n",
       "      <td>NaN</td>\n",
       "      <td>Angola</td>\n",
       "      <td>-11.20270</td>\n",
       "      <td>17.873900</td>\n",
       "      <td>2020-01-22</td>\n",
       "      <td>0</td>\n",
       "      <td>0</td>\n",
       "      <td>0</td>\n",
       "      <td>0</td>\n",
       "      <td>Africa</td>\n",
       "    </tr>\n",
       "  </tbody>\n",
       "</table>\n",
       "</div>"
      ],
      "text/plain": [
       "  Province/State Country/Region       Lat       Long        Date  Confirmed  \\\n",
       "0            NaN    Afghanistan  33.93911  67.709953  2020-01-22          0   \n",
       "1            NaN        Albania  41.15330  20.168300  2020-01-22          0   \n",
       "2            NaN        Algeria  28.03390   1.659600  2020-01-22          0   \n",
       "3            NaN        Andorra  42.50630   1.521800  2020-01-22          0   \n",
       "4            NaN         Angola -11.20270  17.873900  2020-01-22          0   \n",
       "\n",
       "   Deaths  Recovered  Active             WHO Region  \n",
       "0       0          0       0  Eastern Mediterranean  \n",
       "1       0          0       0                 Europe  \n",
       "2       0          0       0                 Africa  \n",
       "3       0          0       0                 Europe  \n",
       "4       0          0       0                 Africa  "
      ]
     },
     "execution_count": 84,
     "metadata": {},
     "output_type": "execute_result"
    }
   ],
   "source": [
    "date_data= df[df[\"Date\"]==df.Date[0]]\n",
    "date_data.head()"
   ]
  },
  {
   "cell_type": "code",
   "execution_count": null,
   "metadata": {},
   "outputs": [],
   "source": []
  },
  {
   "cell_type": "code",
   "execution_count": null,
   "metadata": {},
   "outputs": [],
   "source": []
  },
  {
   "cell_type": "code",
   "execution_count": null,
   "metadata": {},
   "outputs": [],
   "source": []
  },
  {
   "cell_type": "code",
   "execution_count": null,
   "metadata": {},
   "outputs": [],
   "source": []
  },
  {
   "cell_type": "code",
   "execution_count": 109,
   "metadata": {},
   "outputs": [
    {
     "data": {
      "text/html": [
       "<div>\n",
       "<style scoped>\n",
       "    .dataframe tbody tr th:only-of-type {\n",
       "        vertical-align: middle;\n",
       "    }\n",
       "\n",
       "    .dataframe tbody tr th {\n",
       "        vertical-align: top;\n",
       "    }\n",
       "\n",
       "    .dataframe thead th {\n",
       "        text-align: right;\n",
       "    }\n",
       "</style>\n",
       "<table border=\"1\" class=\"dataframe\">\n",
       "  <thead>\n",
       "    <tr style=\"text-align: right;\">\n",
       "      <th></th>\n",
       "      <th>Province/State</th>\n",
       "      <th>Country/Region</th>\n",
       "      <th>Lat</th>\n",
       "      <th>Long</th>\n",
       "      <th>Date</th>\n",
       "      <th>Confirmed</th>\n",
       "      <th>Deaths</th>\n",
       "      <th>Recovered</th>\n",
       "      <th>Active</th>\n",
       "      <th>WHO Region</th>\n",
       "    </tr>\n",
       "  </thead>\n",
       "  <tbody>\n",
       "    <tr>\n",
       "      <th>522</th>\n",
       "      <td>NaN</td>\n",
       "      <td>Afghanistan</td>\n",
       "      <td>33.93911</td>\n",
       "      <td>67.709953</td>\n",
       "      <td>2020-01-24</td>\n",
       "      <td>0</td>\n",
       "      <td>0</td>\n",
       "      <td>0</td>\n",
       "      <td>0</td>\n",
       "      <td>Eastern Mediterranean</td>\n",
       "    </tr>\n",
       "    <tr>\n",
       "      <th>523</th>\n",
       "      <td>NaN</td>\n",
       "      <td>Albania</td>\n",
       "      <td>41.15330</td>\n",
       "      <td>20.168300</td>\n",
       "      <td>2020-01-24</td>\n",
       "      <td>0</td>\n",
       "      <td>0</td>\n",
       "      <td>0</td>\n",
       "      <td>0</td>\n",
       "      <td>Europe</td>\n",
       "    </tr>\n",
       "    <tr>\n",
       "      <th>524</th>\n",
       "      <td>NaN</td>\n",
       "      <td>Algeria</td>\n",
       "      <td>28.03390</td>\n",
       "      <td>1.659600</td>\n",
       "      <td>2020-01-24</td>\n",
       "      <td>0</td>\n",
       "      <td>0</td>\n",
       "      <td>0</td>\n",
       "      <td>0</td>\n",
       "      <td>Africa</td>\n",
       "    </tr>\n",
       "    <tr>\n",
       "      <th>525</th>\n",
       "      <td>NaN</td>\n",
       "      <td>Andorra</td>\n",
       "      <td>42.50630</td>\n",
       "      <td>1.521800</td>\n",
       "      <td>2020-01-24</td>\n",
       "      <td>0</td>\n",
       "      <td>0</td>\n",
       "      <td>0</td>\n",
       "      <td>0</td>\n",
       "      <td>Europe</td>\n",
       "    </tr>\n",
       "    <tr>\n",
       "      <th>526</th>\n",
       "      <td>NaN</td>\n",
       "      <td>Angola</td>\n",
       "      <td>-11.20270</td>\n",
       "      <td>17.873900</td>\n",
       "      <td>2020-01-24</td>\n",
       "      <td>0</td>\n",
       "      <td>0</td>\n",
       "      <td>0</td>\n",
       "      <td>0</td>\n",
       "      <td>Africa</td>\n",
       "    </tr>\n",
       "  </tbody>\n",
       "</table>\n",
       "</div>"
      ],
      "text/plain": [
       "    Province/State Country/Region       Lat       Long        Date  Confirmed  \\\n",
       "522            NaN    Afghanistan  33.93911  67.709953  2020-01-24          0   \n",
       "523            NaN        Albania  41.15330  20.168300  2020-01-24          0   \n",
       "524            NaN        Algeria  28.03390   1.659600  2020-01-24          0   \n",
       "525            NaN        Andorra  42.50630   1.521800  2020-01-24          0   \n",
       "526            NaN         Angola -11.20270  17.873900  2020-01-24          0   \n",
       "\n",
       "     Deaths  Recovered  Active             WHO Region  \n",
       "522       0          0       0  Eastern Mediterranean  \n",
       "523       0          0       0                 Europe  \n",
       "524       0          0       0                 Africa  \n",
       "525       0          0       0                 Europe  \n",
       "526       0          0       0                 Africa  "
      ]
     },
     "execution_count": 109,
     "metadata": {},
     "output_type": "execute_result"
    }
   ],
   "source": [
    "d=getDateData(dates[2])\n",
    "d.head()"
   ]
  },
  {
   "cell_type": "code",
   "execution_count": 110,
   "metadata": {},
   "outputs": [],
   "source": [
    "def getDateData(date_for_data):\n",
    "    return df[df[\"Date\"]==date_for_data]\n",
    "\n",
    "def plotScatterOnMap(dfs):\n",
    "    '''\n",
    "    function to plot the Map of World with lats/longs of given dataframe. Remember to send copy of your dataframe.\n",
    "    '''\n",
    "    # texts=[]\n",
    "    # for i in dfs.index:\n",
    "    #     texts.append({\n",
    "    #         'Country': dfs.iloc[i]['Country/Region'],\n",
    "    #         'Date': dfs.iloc[i]['Date'],\n",
    "    #         'Confirmed': dfs.iloc[i]['Confirmed'],\n",
    "    #         'Deaths': dfs.iloc[i]['Deaths'],\n",
    "    #         'Recovered': dfs.iloc[i]['Recovered'],\n",
    "    #         'Active': dfs.iloc[i]['Active'],\n",
    "    #     })\n",
    "    columns_to_display= ['Country/Region', \"Date\", \"Confirmed\", \"Deaths\", \"Recovered\", \"Active\"]\n",
    "    text_data = [dict(zip(columns_to_display, values)) for values in zip(*[dfs[col] for col in columns_to_display])]\n",
    "    fig= go.Figure(go.Scattergeo(\n",
    "        lon=dfs[\"Long\"],\n",
    "        lat=dfs[\"Lat\"],\n",
    "        mode='markers',\n",
    "        marker=dict(\n",
    "            size=12,\n",
    "            color=dfs[\"Active\"],  \n",
    "            colorscale='Viridis',\n",
    "            cmin=dfs[\"Active\"].min(),\n",
    "            colorbar=dict(title='Active')\n",
    "        ),\n",
    "        text=text_data\n",
    "    ))\n",
    "    \n",
    "    fig.update_layout(\n",
    "    height=600,  \n",
    "    width=1000,   \n",
    "    font=dict(size=12)  \n",
    "    )\n",
    "    fig.show()"
   ]
  },
  {
   "cell_type": "code",
   "execution_count": 111,
   "metadata": {},
   "outputs": [],
   "source": [
    "def plotfor(dt):\n",
    "    df_date= getDateData(dt)\n",
    "    plotScatterOnMap(df_date.copy())"
   ]
  },
  {
   "cell_type": "code",
   "execution_count": 112,
   "metadata": {},
   "outputs": [],
   "source": [
    "dates=df.Date.unique()"
   ]
  },
  {
   "cell_type": "code",
   "execution_count": 114,
   "metadata": {},
   "outputs": [
    {
     "data": {
      "application/vnd.plotly.v1+json": {
       "config": {
        "plotlyServerURL": "https://plotly.com"
       },
       "data": [
        {
         "lat": [
          33.93911,
          41.1533,
          28.0339,
          42.5063,
          -11.2027,
          17.0608,
          -38.4161,
          40.0691,
          -35.4735,
          -33.8688,
          -12.4634,
          -27.4698,
          -34.9285,
          -42.8821,
          -37.8136,
          -31.9505,
          47.5162,
          40.1431,
          25.025885,
          26.0275,
          23.685,
          13.1939,
          53.7098,
          50.8333,
          9.3077,
          27.5142,
          -16.2902,
          43.9159,
          -14.235,
          4.5353,
          42.7339,
          12.2383,
          16.5388,
          11.55,
          3.848,
          53.9333,
          53.7267,
          53.7609,
          46.5653,
          53.1355,
          44.682,
          51.2538,
          46.5107,
          52.9399,
          52.9399,
          6.6111,
          15.4542,
          -35.6751,
          31.8257,
          40.1824,
          30.0572,
          26.0789,
          35.7518,
          23.3417,
          23.8298,
          26.8154,
          19.1959,
          39.549,
          47.862,
          37.8957,
          22.3,
          30.9756,
          27.6104,
          44.0935,
          32.9711,
          27.614,
          43.6661,
          41.2956,
          22.1667,
          37.2692,
          35.7452,
          35.1917,
          36.3427,
          31.202,
          37.5777,
          30.6171,
          39.3054,
          31.6927,
          41.1129,
          24.974,
          29.1832,
          4.5709,
          -0.228,
          -4.0383,
          9.7489,
          7.54,
          45.1,
          21.521757,
          35.1264,
          49.8175,
          61.8926,
          71.7069,
          56.2639,
          11.8251,
          18.7357,
          -1.8312,
          26.820553000000004,
          13.7942,
          1.6508,
          15.1794,
          58.5953,
          -26.5225,
          9.145,
          -17.7134,
          61.92411,
          3.9339,
          -17.6797,
          16.265,
          -12.8275,
          -20.904305,
          -21.1151,
          17.9,
          18.0708,
          14.6415,
          46.2276,
          -0.8037,
          13.4432,
          42.3154,
          51.165691,
          7.9465,
          39.0742,
          15.7835,
          9.9456,
          4.860416000000002,
          18.9712,
          41.9029,
          15.2,
          47.1625,
          64.9631,
          20.593684,
          -0.7893,
          32.427908,
          33.223191,
          53.1424,
          31.046051,
          41.87194,
          18.1096,
          36.204824,
          31.24,
          48.0196,
          -0.0236,
          35.90775700000001,
          29.31166,
          41.20438,
          56.8796,
          33.8547,
          6.4280550000000005,
          47.14,
          55.1694,
          49.8153,
          -18.766947,
          4.210483999999999,
          3.2028,
          35.9375,
          21.0079,
          -20.348404,
          23.6345,
          47.4116,
          43.7333,
          46.8625,
          42.708678000000006,
          31.7917,
          -22.9576,
          28.1667,
          12.5211,
          12.1696,
          18.0425,
          52.1326,
          -40.9006,
          12.865416,
          17.607789,
          9.082,
          41.6086,
          60.472,
          21.512583,
          30.3753,
          8.538,
          -6.314993,
          -23.4425,
          -9.19,
          12.879721,
          51.9194,
          39.3999,
          25.3548,
          45.9432,
          61.52401,
          -1.9403,
          13.9094,
          12.9843,
          43.9424,
          23.885942,
          14.4974,
          44.0165,
          -4.6796,
          1.2833,
          48.669,
          46.1512,
          5.152149,
          -30.5595,
          40.463667,
          7.873054,
          12.8628,
          3.9193,
          60.128161,
          46.8182,
          23.7,
          -6.369028,
          15.870032,
          8.6195,
          10.6918,
          33.886917,
          38.9637,
          1.373333,
          48.3794,
          23.424076,
          32.3078,
          19.3133,
          49.3723,
          36.1408,
          54.2361,
          16.742498,
          55.3781,
          -32.5228,
          40,
          41.377491,
          6.4238,
          14.058324,
          -13.133897,
          -19.015438,
          15.415,
          12.1165,
          -18.665695,
          34.802075,
          -8.874217,
          17.1899,
          19.85627,
          26.3351,
          31.9522,
          11.8037,
          17.570692,
          17.357822,
          64.8255,
          64.2823,
          42.602636,
          21.9162,
          18.2206,
          18.4207,
          21.69400000000001,
          -22.3285,
          -3.3731,
          8.460555000000001,
          -13.2543,
          -51.7963,
          46.8852,
          6.877000000000002,
          24.2155,
          0.1864,
          15.552727,
          -11.6455,
          38.861,
          -29.61
         ],
         "lon": [
          67.709953,
          20.1683,
          1.6596,
          1.5218,
          17.8739,
          -61.7964,
          -63.6167,
          45.0382,
          149.0124,
          151.2093,
          130.8456,
          153.0251,
          138.6007,
          147.3272,
          144.9631,
          115.8605,
          14.5501,
          47.5769,
          -78.035889,
          50.55,
          90.3563,
          -59.5432,
          27.9534,
          4.469936,
          2.3158,
          90.4336,
          -63.5887,
          17.6791,
          -51.9253,
          114.7277,
          25.4858,
          -1.5616,
          -23.0418,
          104.9167,
          11.5021,
          -116.5765,
          -127.6476,
          -98.8139,
          -66.4619,
          -57.6604,
          -63.7443,
          -85.3232,
          -63.4168,
          -73.5491,
          -106.4509,
          20.9394,
          18.7322,
          -71.543,
          117.2264,
          116.4142,
          107.874,
          117.9874,
          104.2861,
          113.4244,
          108.7881,
          106.8748,
          109.7453,
          116.1306,
          127.7615,
          114.9042,
          114.2,
          112.2707,
          111.7088,
          113.9448,
          119.455,
          115.7221,
          126.1923,
          122.6085,
          113.55,
          106.1655,
          95.9956,
          108.8701,
          118.1498,
          121.4491,
          112.2922,
          102.7103,
          117.323,
          88.0924,
          85.2401,
          101.487,
          120.0934,
          -74.2973,
          15.8277,
          21.7587,
          -83.7534,
          -5.5471,
          15.2,
          -77.78116700000002,
          33.4299,
          15.473,
          -6.9118,
          -42.6043,
          9.5018,
          42.5903,
          -70.1627,
          -78.1834,
          30.802498,
          -88.8965,
          10.2679,
          39.7823,
          25.0136,
          31.4659,
          40.4897,
          178.065,
          25.748151,
          -53.1258,
          149.4068,
          -61.551,
          45.166244,
          165.618042,
          55.5364,
          -62.8333,
          -63.0501,
          -61.0242,
          2.2137,
          11.6094,
          -15.3101,
          43.3569,
          10.451526,
          -1.0232,
          21.8243,
          -90.2308,
          -9.6966,
          -58.93018000000001,
          -72.2852,
          12.4534,
          -86.2419,
          19.5033,
          -19.0208,
          78.96288,
          113.9213,
          53.68804599999999,
          43.679291,
          -7.6921,
          34.851612,
          12.56738,
          -77.2975,
          138.252924,
          36.51,
          66.9237,
          37.9062,
          127.766922,
          47.481766,
          74.766098,
          24.6032,
          35.8623,
          -9.429499,
          9.55,
          23.8813,
          6.1296,
          46.869107,
          101.975766,
          73.2207,
          14.3754,
          -10.9408,
          57.552152,
          -102.5528,
          28.3699,
          7.4167,
          103.8467,
          19.37439,
          -7.0926,
          18.4904,
          84.25,
          -69.9683,
          -68.99,
          -63.0548,
          5.2913,
          174.886,
          -85.207229,
          8.081666,
          8.6753,
          21.7453,
          8.4689,
          55.92325500000001,
          69.3451,
          -80.7821,
          143.95555,
          -58.4438,
          -75.0152,
          121.774017,
          19.1451,
          -8.2245,
          51.1839,
          24.9668,
          105.318756,
          29.8739,
          -60.9789,
          -61.2872,
          12.4578,
          45.079162,
          -14.4524,
          21.0059,
          55.492,
          103.8333,
          19.699,
          14.9955,
          46.199616,
          22.9375,
          -3.74922,
          80.77179699999998,
          30.2176,
          -56.0278,
          18.643501,
          8.2275,
          121,
          34.888822,
          100.992541,
          0.8248,
          -61.2225,
          9.537499,
          35.2433,
          32.290275,
          31.1656,
          53.847818,
          -64.7505,
          -81.2546,
          -2.3644,
          -5.3536,
          -4.5481,
          -62.187366,
          -3.4360000000000004,
          -55.7658,
          -100,
          64.585262,
          -66.5897,
          108.277199,
          27.849332,
          29.154857,
          -61.371,
          -61.679,
          35.529562,
          38.99681500000001,
          125.727539,
          -88.4976,
          102.495496,
          17.228331,
          35.2332,
          -15.1804,
          -3.996166000000001,
          -62.782998,
          -124.8457,
          -135,
          20.902977,
          95.956,
          -63.0686,
          -64.64,
          -71.7979,
          24.6849,
          29.9189,
          -11.779889,
          34.3015,
          -59.5236,
          -56.3159,
          31.307,
          -12.8858,
          6.6131,
          48.516388,
          43.3333,
          71.2761,
          28.2336
         ],
         "marker": {
          "cmin": 0,
          "color": [
           0,
           0,
           0,
           0,
           0,
           0,
           0,
           0,
           0,
           0,
           0,
           0,
           0,
           0,
           0,
           0,
           0,
           0,
           0,
           0,
           0,
           0,
           0,
           0,
           0,
           0,
           0,
           0,
           0,
           0,
           0,
           0,
           0,
           0,
           0,
           0,
           0,
           0,
           0,
           0,
           0,
           0,
           0,
           0,
           0,
           0,
           0,
           0,
           1,
           14,
           6,
           1,
           0,
           26,
           2,
           1,
           4,
           1,
           0,
           5,
           0,
           399,
           4,
           0,
           1,
           2,
           0,
           2,
           1,
           1,
           0,
           0,
           2,
           9,
           1,
           5,
           4,
           0,
           0,
           1,
           10,
           0,
           0,
           0,
           0,
           0,
           0,
           0,
           0,
           0,
           0,
           0,
           0,
           0,
           0,
           0,
           0,
           0,
           0,
           0,
           0,
           0,
           0,
           0,
           0,
           0,
           0,
           0,
           0,
           0,
           0,
           0,
           0,
           0,
           0,
           0,
           0,
           0,
           0,
           0,
           0,
           0,
           0,
           0,
           0,
           0,
           0,
           0,
           0,
           0,
           0,
           0,
           0,
           0,
           0,
           0,
           0,
           2,
           0,
           0,
           0,
           1,
           0,
           0,
           0,
           0,
           0,
           0,
           0,
           0,
           0,
           0,
           0,
           0,
           0,
           0,
           0,
           0,
           0,
           0,
           0,
           0,
           0,
           0,
           0,
           0,
           0,
           0,
           0,
           0,
           0,
           0,
           0,
           0,
           0,
           0,
           0,
           0,
           0,
           0,
           0,
           0,
           0,
           0,
           0,
           0,
           0,
           0,
           0,
           0,
           0,
           0,
           0,
           0,
           0,
           0,
           0,
           0,
           0,
           0,
           0,
           0,
           0,
           0,
           0,
           1,
           0,
           2,
           0,
           0,
           0,
           0,
           0,
           0,
           0,
           0,
           0,
           0,
           0,
           0,
           0,
           0,
           0,
           1,
           0,
           0,
           0,
           0,
           0,
           0,
           0,
           0,
           0,
           0,
           0,
           0,
           0,
           0,
           0,
           0,
           0,
           0,
           0,
           0,
           0,
           0,
           0,
           0,
           0,
           0,
           0,
           0,
           0,
           0,
           0,
           0,
           0,
           0,
           0,
           0,
           0
          ],
          "colorbar": {
           "title": {
            "text": "Active"
           }
          },
          "colorscale": [
           [
            0,
            "#440154"
           ],
           [
            0.1111111111111111,
            "#482878"
           ],
           [
            0.2222222222222222,
            "#3e4989"
           ],
           [
            0.3333333333333333,
            "#31688e"
           ],
           [
            0.4444444444444444,
            "#26828e"
           ],
           [
            0.5555555555555556,
            "#1f9e89"
           ],
           [
            0.6666666666666666,
            "#35b779"
           ],
           [
            0.7777777777777778,
            "#6ece58"
           ],
           [
            0.8888888888888888,
            "#b5de2b"
           ],
           [
            1,
            "#fde725"
           ]
          ],
          "size": 12
         },
         "mode": "markers",
         "text": [
          "{'Country/Region': 'Afghanistan', 'Date': '2020-01-22', 'Confirmed': 0, 'Deaths': 0, 'Recovered': 0, 'Active': 0}",
          "{'Country/Region': 'Albania', 'Date': '2020-01-22', 'Confirmed': 0, 'Deaths': 0, 'Recovered': 0, 'Active': 0}",
          "{'Country/Region': 'Algeria', 'Date': '2020-01-22', 'Confirmed': 0, 'Deaths': 0, 'Recovered': 0, 'Active': 0}",
          "{'Country/Region': 'Andorra', 'Date': '2020-01-22', 'Confirmed': 0, 'Deaths': 0, 'Recovered': 0, 'Active': 0}",
          "{'Country/Region': 'Angola', 'Date': '2020-01-22', 'Confirmed': 0, 'Deaths': 0, 'Recovered': 0, 'Active': 0}",
          "{'Country/Region': 'Antigua and Barbuda', 'Date': '2020-01-22', 'Confirmed': 0, 'Deaths': 0, 'Recovered': 0, 'Active': 0}",
          "{'Country/Region': 'Argentina', 'Date': '2020-01-22', 'Confirmed': 0, 'Deaths': 0, 'Recovered': 0, 'Active': 0}",
          "{'Country/Region': 'Armenia', 'Date': '2020-01-22', 'Confirmed': 0, 'Deaths': 0, 'Recovered': 0, 'Active': 0}",
          "{'Country/Region': 'Australia', 'Date': '2020-01-22', 'Confirmed': 0, 'Deaths': 0, 'Recovered': 0, 'Active': 0}",
          "{'Country/Region': 'Australia', 'Date': '2020-01-22', 'Confirmed': 0, 'Deaths': 0, 'Recovered': 0, 'Active': 0}",
          "{'Country/Region': 'Australia', 'Date': '2020-01-22', 'Confirmed': 0, 'Deaths': 0, 'Recovered': 0, 'Active': 0}",
          "{'Country/Region': 'Australia', 'Date': '2020-01-22', 'Confirmed': 0, 'Deaths': 0, 'Recovered': 0, 'Active': 0}",
          "{'Country/Region': 'Australia', 'Date': '2020-01-22', 'Confirmed': 0, 'Deaths': 0, 'Recovered': 0, 'Active': 0}",
          "{'Country/Region': 'Australia', 'Date': '2020-01-22', 'Confirmed': 0, 'Deaths': 0, 'Recovered': 0, 'Active': 0}",
          "{'Country/Region': 'Australia', 'Date': '2020-01-22', 'Confirmed': 0, 'Deaths': 0, 'Recovered': 0, 'Active': 0}",
          "{'Country/Region': 'Australia', 'Date': '2020-01-22', 'Confirmed': 0, 'Deaths': 0, 'Recovered': 0, 'Active': 0}",
          "{'Country/Region': 'Austria', 'Date': '2020-01-22', 'Confirmed': 0, 'Deaths': 0, 'Recovered': 0, 'Active': 0}",
          "{'Country/Region': 'Azerbaijan', 'Date': '2020-01-22', 'Confirmed': 0, 'Deaths': 0, 'Recovered': 0, 'Active': 0}",
          "{'Country/Region': 'Bahamas', 'Date': '2020-01-22', 'Confirmed': 0, 'Deaths': 0, 'Recovered': 0, 'Active': 0}",
          "{'Country/Region': 'Bahrain', 'Date': '2020-01-22', 'Confirmed': 0, 'Deaths': 0, 'Recovered': 0, 'Active': 0}",
          "{'Country/Region': 'Bangladesh', 'Date': '2020-01-22', 'Confirmed': 0, 'Deaths': 0, 'Recovered': 0, 'Active': 0}",
          "{'Country/Region': 'Barbados', 'Date': '2020-01-22', 'Confirmed': 0, 'Deaths': 0, 'Recovered': 0, 'Active': 0}",
          "{'Country/Region': 'Belarus', 'Date': '2020-01-22', 'Confirmed': 0, 'Deaths': 0, 'Recovered': 0, 'Active': 0}",
          "{'Country/Region': 'Belgium', 'Date': '2020-01-22', 'Confirmed': 0, 'Deaths': 0, 'Recovered': 0, 'Active': 0}",
          "{'Country/Region': 'Benin', 'Date': '2020-01-22', 'Confirmed': 0, 'Deaths': 0, 'Recovered': 0, 'Active': 0}",
          "{'Country/Region': 'Bhutan', 'Date': '2020-01-22', 'Confirmed': 0, 'Deaths': 0, 'Recovered': 0, 'Active': 0}",
          "{'Country/Region': 'Bolivia', 'Date': '2020-01-22', 'Confirmed': 0, 'Deaths': 0, 'Recovered': 0, 'Active': 0}",
          "{'Country/Region': 'Bosnia and Herzegovina', 'Date': '2020-01-22', 'Confirmed': 0, 'Deaths': 0, 'Recovered': 0, 'Active': 0}",
          "{'Country/Region': 'Brazil', 'Date': '2020-01-22', 'Confirmed': 0, 'Deaths': 0, 'Recovered': 0, 'Active': 0}",
          "{'Country/Region': 'Brunei', 'Date': '2020-01-22', 'Confirmed': 0, 'Deaths': 0, 'Recovered': 0, 'Active': 0}",
          "{'Country/Region': 'Bulgaria', 'Date': '2020-01-22', 'Confirmed': 0, 'Deaths': 0, 'Recovered': 0, 'Active': 0}",
          "{'Country/Region': 'Burkina Faso', 'Date': '2020-01-22', 'Confirmed': 0, 'Deaths': 0, 'Recovered': 0, 'Active': 0}",
          "{'Country/Region': 'Cabo Verde', 'Date': '2020-01-22', 'Confirmed': 0, 'Deaths': 0, 'Recovered': 0, 'Active': 0}",
          "{'Country/Region': 'Cambodia', 'Date': '2020-01-22', 'Confirmed': 0, 'Deaths': 0, 'Recovered': 0, 'Active': 0}",
          "{'Country/Region': 'Cameroon', 'Date': '2020-01-22', 'Confirmed': 0, 'Deaths': 0, 'Recovered': 0, 'Active': 0}",
          "{'Country/Region': 'Canada', 'Date': '2020-01-22', 'Confirmed': 0, 'Deaths': 0, 'Recovered': 0, 'Active': 0}",
          "{'Country/Region': 'Canada', 'Date': '2020-01-22', 'Confirmed': 0, 'Deaths': 0, 'Recovered': 0, 'Active': 0}",
          "{'Country/Region': 'Canada', 'Date': '2020-01-22', 'Confirmed': 0, 'Deaths': 0, 'Recovered': 0, 'Active': 0}",
          "{'Country/Region': 'Canada', 'Date': '2020-01-22', 'Confirmed': 0, 'Deaths': 0, 'Recovered': 0, 'Active': 0}",
          "{'Country/Region': 'Canada', 'Date': '2020-01-22', 'Confirmed': 0, 'Deaths': 0, 'Recovered': 0, 'Active': 0}",
          "{'Country/Region': 'Canada', 'Date': '2020-01-22', 'Confirmed': 0, 'Deaths': 0, 'Recovered': 0, 'Active': 0}",
          "{'Country/Region': 'Canada', 'Date': '2020-01-22', 'Confirmed': 0, 'Deaths': 0, 'Recovered': 0, 'Active': 0}",
          "{'Country/Region': 'Canada', 'Date': '2020-01-22', 'Confirmed': 0, 'Deaths': 0, 'Recovered': 0, 'Active': 0}",
          "{'Country/Region': 'Canada', 'Date': '2020-01-22', 'Confirmed': 0, 'Deaths': 0, 'Recovered': 0, 'Active': 0}",
          "{'Country/Region': 'Canada', 'Date': '2020-01-22', 'Confirmed': 0, 'Deaths': 0, 'Recovered': 0, 'Active': 0}",
          "{'Country/Region': 'Central African Republic', 'Date': '2020-01-22', 'Confirmed': 0, 'Deaths': 0, 'Recovered': 0, 'Active': 0}",
          "{'Country/Region': 'Chad', 'Date': '2020-01-22', 'Confirmed': 0, 'Deaths': 0, 'Recovered': 0, 'Active': 0}",
          "{'Country/Region': 'Chile', 'Date': '2020-01-22', 'Confirmed': 0, 'Deaths': 0, 'Recovered': 0, 'Active': 0}",
          "{'Country/Region': 'China', 'Date': '2020-01-22', 'Confirmed': 1, 'Deaths': 0, 'Recovered': 0, 'Active': 1}",
          "{'Country/Region': 'China', 'Date': '2020-01-22', 'Confirmed': 14, 'Deaths': 0, 'Recovered': 0, 'Active': 14}",
          "{'Country/Region': 'China', 'Date': '2020-01-22', 'Confirmed': 6, 'Deaths': 0, 'Recovered': 0, 'Active': 6}",
          "{'Country/Region': 'China', 'Date': '2020-01-22', 'Confirmed': 1, 'Deaths': 0, 'Recovered': 0, 'Active': 1}",
          "{'Country/Region': 'China', 'Date': '2020-01-22', 'Confirmed': 0, 'Deaths': 0, 'Recovered': 0, 'Active': 0}",
          "{'Country/Region': 'China', 'Date': '2020-01-22', 'Confirmed': 26, 'Deaths': 0, 'Recovered': 0, 'Active': 26}",
          "{'Country/Region': 'China', 'Date': '2020-01-22', 'Confirmed': 2, 'Deaths': 0, 'Recovered': 0, 'Active': 2}",
          "{'Country/Region': 'China', 'Date': '2020-01-22', 'Confirmed': 1, 'Deaths': 0, 'Recovered': 0, 'Active': 1}",
          "{'Country/Region': 'China', 'Date': '2020-01-22', 'Confirmed': 4, 'Deaths': 0, 'Recovered': 0, 'Active': 4}",
          "{'Country/Region': 'China', 'Date': '2020-01-22', 'Confirmed': 1, 'Deaths': 0, 'Recovered': 0, 'Active': 1}",
          "{'Country/Region': 'China', 'Date': '2020-01-22', 'Confirmed': 0, 'Deaths': 0, 'Recovered': 0, 'Active': 0}",
          "{'Country/Region': 'China', 'Date': '2020-01-22', 'Confirmed': 5, 'Deaths': 0, 'Recovered': 0, 'Active': 5}",
          "{'Country/Region': 'China', 'Date': '2020-01-22', 'Confirmed': 0, 'Deaths': 0, 'Recovered': 0, 'Active': 0}",
          "{'Country/Region': 'China', 'Date': '2020-01-22', 'Confirmed': 444, 'Deaths': 17, 'Recovered': 28, 'Active': 399}",
          "{'Country/Region': 'China', 'Date': '2020-01-22', 'Confirmed': 4, 'Deaths': 0, 'Recovered': 0, 'Active': 4}",
          "{'Country/Region': 'China', 'Date': '2020-01-22', 'Confirmed': 0, 'Deaths': 0, 'Recovered': 0, 'Active': 0}",
          "{'Country/Region': 'China', 'Date': '2020-01-22', 'Confirmed': 1, 'Deaths': 0, 'Recovered': 0, 'Active': 1}",
          "{'Country/Region': 'China', 'Date': '2020-01-22', 'Confirmed': 2, 'Deaths': 0, 'Recovered': 0, 'Active': 2}",
          "{'Country/Region': 'China', 'Date': '2020-01-22', 'Confirmed': 0, 'Deaths': 0, 'Recovered': 0, 'Active': 0}",
          "{'Country/Region': 'China', 'Date': '2020-01-22', 'Confirmed': 2, 'Deaths': 0, 'Recovered': 0, 'Active': 2}",
          "{'Country/Region': 'China', 'Date': '2020-01-22', 'Confirmed': 1, 'Deaths': 0, 'Recovered': 0, 'Active': 1}",
          "{'Country/Region': 'China', 'Date': '2020-01-22', 'Confirmed': 1, 'Deaths': 0, 'Recovered': 0, 'Active': 1}",
          "{'Country/Region': 'China', 'Date': '2020-01-22', 'Confirmed': 0, 'Deaths': 0, 'Recovered': 0, 'Active': 0}",
          "{'Country/Region': 'China', 'Date': '2020-01-22', 'Confirmed': 0, 'Deaths': 0, 'Recovered': 0, 'Active': 0}",
          "{'Country/Region': 'China', 'Date': '2020-01-22', 'Confirmed': 2, 'Deaths': 0, 'Recovered': 0, 'Active': 2}",
          "{'Country/Region': 'China', 'Date': '2020-01-22', 'Confirmed': 9, 'Deaths': 0, 'Recovered': 0, 'Active': 9}",
          "{'Country/Region': 'China', 'Date': '2020-01-22', 'Confirmed': 1, 'Deaths': 0, 'Recovered': 0, 'Active': 1}",
          "{'Country/Region': 'China', 'Date': '2020-01-22', 'Confirmed': 5, 'Deaths': 0, 'Recovered': 0, 'Active': 5}",
          "{'Country/Region': 'China', 'Date': '2020-01-22', 'Confirmed': 4, 'Deaths': 0, 'Recovered': 0, 'Active': 4}",
          "{'Country/Region': 'China', 'Date': '2020-01-22', 'Confirmed': 0, 'Deaths': 0, 'Recovered': 0, 'Active': 0}",
          "{'Country/Region': 'China', 'Date': '2020-01-22', 'Confirmed': 0, 'Deaths': 0, 'Recovered': 0, 'Active': 0}",
          "{'Country/Region': 'China', 'Date': '2020-01-22', 'Confirmed': 1, 'Deaths': 0, 'Recovered': 0, 'Active': 1}",
          "{'Country/Region': 'China', 'Date': '2020-01-22', 'Confirmed': 10, 'Deaths': 0, 'Recovered': 0, 'Active': 10}",
          "{'Country/Region': 'Colombia', 'Date': '2020-01-22', 'Confirmed': 0, 'Deaths': 0, 'Recovered': 0, 'Active': 0}",
          "{'Country/Region': 'Congo (Brazzaville)', 'Date': '2020-01-22', 'Confirmed': 0, 'Deaths': 0, 'Recovered': 0, 'Active': 0}",
          "{'Country/Region': 'Congo (Kinshasa)', 'Date': '2020-01-22', 'Confirmed': 0, 'Deaths': 0, 'Recovered': 0, 'Active': 0}",
          "{'Country/Region': 'Costa Rica', 'Date': '2020-01-22', 'Confirmed': 0, 'Deaths': 0, 'Recovered': 0, 'Active': 0}",
          "{'Country/Region': \"Cote d'Ivoire\", 'Date': '2020-01-22', 'Confirmed': 0, 'Deaths': 0, 'Recovered': 0, 'Active': 0}",
          "{'Country/Region': 'Croatia', 'Date': '2020-01-22', 'Confirmed': 0, 'Deaths': 0, 'Recovered': 0, 'Active': 0}",
          "{'Country/Region': 'Cuba', 'Date': '2020-01-22', 'Confirmed': 0, 'Deaths': 0, 'Recovered': 0, 'Active': 0}",
          "{'Country/Region': 'Cyprus', 'Date': '2020-01-22', 'Confirmed': 0, 'Deaths': 0, 'Recovered': 0, 'Active': 0}",
          "{'Country/Region': 'Czechia', 'Date': '2020-01-22', 'Confirmed': 0, 'Deaths': 0, 'Recovered': 0, 'Active': 0}",
          "{'Country/Region': 'Denmark', 'Date': '2020-01-22', 'Confirmed': 0, 'Deaths': 0, 'Recovered': 0, 'Active': 0}",
          "{'Country/Region': 'Greenland', 'Date': '2020-01-22', 'Confirmed': 0, 'Deaths': 0, 'Recovered': 0, 'Active': 0}",
          "{'Country/Region': 'Denmark', 'Date': '2020-01-22', 'Confirmed': 0, 'Deaths': 0, 'Recovered': 0, 'Active': 0}",
          "{'Country/Region': 'Djibouti', 'Date': '2020-01-22', 'Confirmed': 0, 'Deaths': 0, 'Recovered': 0, 'Active': 0}",
          "{'Country/Region': 'Dominican Republic', 'Date': '2020-01-22', 'Confirmed': 0, 'Deaths': 0, 'Recovered': 0, 'Active': 0}",
          "{'Country/Region': 'Ecuador', 'Date': '2020-01-22', 'Confirmed': 0, 'Deaths': 0, 'Recovered': 0, 'Active': 0}",
          "{'Country/Region': 'Egypt', 'Date': '2020-01-22', 'Confirmed': 0, 'Deaths': 0, 'Recovered': 0, 'Active': 0}",
          "{'Country/Region': 'El Salvador', 'Date': '2020-01-22', 'Confirmed': 0, 'Deaths': 0, 'Recovered': 0, 'Active': 0}",
          "{'Country/Region': 'Equatorial Guinea', 'Date': '2020-01-22', 'Confirmed': 0, 'Deaths': 0, 'Recovered': 0, 'Active': 0}",
          "{'Country/Region': 'Eritrea', 'Date': '2020-01-22', 'Confirmed': 0, 'Deaths': 0, 'Recovered': 0, 'Active': 0}",
          "{'Country/Region': 'Estonia', 'Date': '2020-01-22', 'Confirmed': 0, 'Deaths': 0, 'Recovered': 0, 'Active': 0}",
          "{'Country/Region': 'Eswatini', 'Date': '2020-01-22', 'Confirmed': 0, 'Deaths': 0, 'Recovered': 0, 'Active': 0}",
          "{'Country/Region': 'Ethiopia', 'Date': '2020-01-22', 'Confirmed': 0, 'Deaths': 0, 'Recovered': 0, 'Active': 0}",
          "{'Country/Region': 'Fiji', 'Date': '2020-01-22', 'Confirmed': 0, 'Deaths': 0, 'Recovered': 0, 'Active': 0}",
          "{'Country/Region': 'Finland', 'Date': '2020-01-22', 'Confirmed': 0, 'Deaths': 0, 'Recovered': 0, 'Active': 0}",
          "{'Country/Region': 'France', 'Date': '2020-01-22', 'Confirmed': 0, 'Deaths': 0, 'Recovered': 0, 'Active': 0}",
          "{'Country/Region': 'France', 'Date': '2020-01-22', 'Confirmed': 0, 'Deaths': 0, 'Recovered': 0, 'Active': 0}",
          "{'Country/Region': 'France', 'Date': '2020-01-22', 'Confirmed': 0, 'Deaths': 0, 'Recovered': 0, 'Active': 0}",
          "{'Country/Region': 'France', 'Date': '2020-01-22', 'Confirmed': 0, 'Deaths': 0, 'Recovered': 0, 'Active': 0}",
          "{'Country/Region': 'France', 'Date': '2020-01-22', 'Confirmed': 0, 'Deaths': 0, 'Recovered': 0, 'Active': 0}",
          "{'Country/Region': 'France', 'Date': '2020-01-22', 'Confirmed': 0, 'Deaths': 0, 'Recovered': 0, 'Active': 0}",
          "{'Country/Region': 'France', 'Date': '2020-01-22', 'Confirmed': 0, 'Deaths': 0, 'Recovered': 0, 'Active': 0}",
          "{'Country/Region': 'France', 'Date': '2020-01-22', 'Confirmed': 0, 'Deaths': 0, 'Recovered': 0, 'Active': 0}",
          "{'Country/Region': 'France', 'Date': '2020-01-22', 'Confirmed': 0, 'Deaths': 0, 'Recovered': 0, 'Active': 0}",
          "{'Country/Region': 'France', 'Date': '2020-01-22', 'Confirmed': 0, 'Deaths': 0, 'Recovered': 0, 'Active': 0}",
          "{'Country/Region': 'Gabon', 'Date': '2020-01-22', 'Confirmed': 0, 'Deaths': 0, 'Recovered': 0, 'Active': 0}",
          "{'Country/Region': 'Gambia', 'Date': '2020-01-22', 'Confirmed': 0, 'Deaths': 0, 'Recovered': 0, 'Active': 0}",
          "{'Country/Region': 'Georgia', 'Date': '2020-01-22', 'Confirmed': 0, 'Deaths': 0, 'Recovered': 0, 'Active': 0}",
          "{'Country/Region': 'Germany', 'Date': '2020-01-22', 'Confirmed': 0, 'Deaths': 0, 'Recovered': 0, 'Active': 0}",
          "{'Country/Region': 'Ghana', 'Date': '2020-01-22', 'Confirmed': 0, 'Deaths': 0, 'Recovered': 0, 'Active': 0}",
          "{'Country/Region': 'Greece', 'Date': '2020-01-22', 'Confirmed': 0, 'Deaths': 0, 'Recovered': 0, 'Active': 0}",
          "{'Country/Region': 'Guatemala', 'Date': '2020-01-22', 'Confirmed': 0, 'Deaths': 0, 'Recovered': 0, 'Active': 0}",
          "{'Country/Region': 'Guinea', 'Date': '2020-01-22', 'Confirmed': 0, 'Deaths': 0, 'Recovered': 0, 'Active': 0}",
          "{'Country/Region': 'Guyana', 'Date': '2020-01-22', 'Confirmed': 0, 'Deaths': 0, 'Recovered': 0, 'Active': 0}",
          "{'Country/Region': 'Haiti', 'Date': '2020-01-22', 'Confirmed': 0, 'Deaths': 0, 'Recovered': 0, 'Active': 0}",
          "{'Country/Region': 'Holy See', 'Date': '2020-01-22', 'Confirmed': 0, 'Deaths': 0, 'Recovered': 0, 'Active': 0}",
          "{'Country/Region': 'Honduras', 'Date': '2020-01-22', 'Confirmed': 0, 'Deaths': 0, 'Recovered': 0, 'Active': 0}",
          "{'Country/Region': 'Hungary', 'Date': '2020-01-22', 'Confirmed': 0, 'Deaths': 0, 'Recovered': 0, 'Active': 0}",
          "{'Country/Region': 'Iceland', 'Date': '2020-01-22', 'Confirmed': 0, 'Deaths': 0, 'Recovered': 0, 'Active': 0}",
          "{'Country/Region': 'India', 'Date': '2020-01-22', 'Confirmed': 0, 'Deaths': 0, 'Recovered': 0, 'Active': 0}",
          "{'Country/Region': 'Indonesia', 'Date': '2020-01-22', 'Confirmed': 0, 'Deaths': 0, 'Recovered': 0, 'Active': 0}",
          "{'Country/Region': 'Iran', 'Date': '2020-01-22', 'Confirmed': 0, 'Deaths': 0, 'Recovered': 0, 'Active': 0}",
          "{'Country/Region': 'Iraq', 'Date': '2020-01-22', 'Confirmed': 0, 'Deaths': 0, 'Recovered': 0, 'Active': 0}",
          "{'Country/Region': 'Ireland', 'Date': '2020-01-22', 'Confirmed': 0, 'Deaths': 0, 'Recovered': 0, 'Active': 0}",
          "{'Country/Region': 'Israel', 'Date': '2020-01-22', 'Confirmed': 0, 'Deaths': 0, 'Recovered': 0, 'Active': 0}",
          "{'Country/Region': 'Italy', 'Date': '2020-01-22', 'Confirmed': 0, 'Deaths': 0, 'Recovered': 0, 'Active': 0}",
          "{'Country/Region': 'Jamaica', 'Date': '2020-01-22', 'Confirmed': 0, 'Deaths': 0, 'Recovered': 0, 'Active': 0}",
          "{'Country/Region': 'Japan', 'Date': '2020-01-22', 'Confirmed': 2, 'Deaths': 0, 'Recovered': 0, 'Active': 2}",
          "{'Country/Region': 'Jordan', 'Date': '2020-01-22', 'Confirmed': 0, 'Deaths': 0, 'Recovered': 0, 'Active': 0}",
          "{'Country/Region': 'Kazakhstan', 'Date': '2020-01-22', 'Confirmed': 0, 'Deaths': 0, 'Recovered': 0, 'Active': 0}",
          "{'Country/Region': 'Kenya', 'Date': '2020-01-22', 'Confirmed': 0, 'Deaths': 0, 'Recovered': 0, 'Active': 0}",
          "{'Country/Region': 'South Korea', 'Date': '2020-01-22', 'Confirmed': 1, 'Deaths': 0, 'Recovered': 0, 'Active': 1}",
          "{'Country/Region': 'Kuwait', 'Date': '2020-01-22', 'Confirmed': 0, 'Deaths': 0, 'Recovered': 0, 'Active': 0}",
          "{'Country/Region': 'Kyrgyzstan', 'Date': '2020-01-22', 'Confirmed': 0, 'Deaths': 0, 'Recovered': 0, 'Active': 0}",
          "{'Country/Region': 'Latvia', 'Date': '2020-01-22', 'Confirmed': 0, 'Deaths': 0, 'Recovered': 0, 'Active': 0}",
          "{'Country/Region': 'Lebanon', 'Date': '2020-01-22', 'Confirmed': 0, 'Deaths': 0, 'Recovered': 0, 'Active': 0}",
          "{'Country/Region': 'Liberia', 'Date': '2020-01-22', 'Confirmed': 0, 'Deaths': 0, 'Recovered': 0, 'Active': 0}",
          "{'Country/Region': 'Liechtenstein', 'Date': '2020-01-22', 'Confirmed': 0, 'Deaths': 0, 'Recovered': 0, 'Active': 0}",
          "{'Country/Region': 'Lithuania', 'Date': '2020-01-22', 'Confirmed': 0, 'Deaths': 0, 'Recovered': 0, 'Active': 0}",
          "{'Country/Region': 'Luxembourg', 'Date': '2020-01-22', 'Confirmed': 0, 'Deaths': 0, 'Recovered': 0, 'Active': 0}",
          "{'Country/Region': 'Madagascar', 'Date': '2020-01-22', 'Confirmed': 0, 'Deaths': 0, 'Recovered': 0, 'Active': 0}",
          "{'Country/Region': 'Malaysia', 'Date': '2020-01-22', 'Confirmed': 0, 'Deaths': 0, 'Recovered': 0, 'Active': 0}",
          "{'Country/Region': 'Maldives', 'Date': '2020-01-22', 'Confirmed': 0, 'Deaths': 0, 'Recovered': 0, 'Active': 0}",
          "{'Country/Region': 'Malta', 'Date': '2020-01-22', 'Confirmed': 0, 'Deaths': 0, 'Recovered': 0, 'Active': 0}",
          "{'Country/Region': 'Mauritania', 'Date': '2020-01-22', 'Confirmed': 0, 'Deaths': 0, 'Recovered': 0, 'Active': 0}",
          "{'Country/Region': 'Mauritius', 'Date': '2020-01-22', 'Confirmed': 0, 'Deaths': 0, 'Recovered': 0, 'Active': 0}",
          "{'Country/Region': 'Mexico', 'Date': '2020-01-22', 'Confirmed': 0, 'Deaths': 0, 'Recovered': 0, 'Active': 0}",
          "{'Country/Region': 'Moldova', 'Date': '2020-01-22', 'Confirmed': 0, 'Deaths': 0, 'Recovered': 0, 'Active': 0}",
          "{'Country/Region': 'Monaco', 'Date': '2020-01-22', 'Confirmed': 0, 'Deaths': 0, 'Recovered': 0, 'Active': 0}",
          "{'Country/Region': 'Mongolia', 'Date': '2020-01-22', 'Confirmed': 0, 'Deaths': 0, 'Recovered': 0, 'Active': 0}",
          "{'Country/Region': 'Montenegro', 'Date': '2020-01-22', 'Confirmed': 0, 'Deaths': 0, 'Recovered': 0, 'Active': 0}",
          "{'Country/Region': 'Morocco', 'Date': '2020-01-22', 'Confirmed': 0, 'Deaths': 0, 'Recovered': 0, 'Active': 0}",
          "{'Country/Region': 'Namibia', 'Date': '2020-01-22', 'Confirmed': 0, 'Deaths': 0, 'Recovered': 0, 'Active': 0}",
          "{'Country/Region': 'Nepal', 'Date': '2020-01-22', 'Confirmed': 0, 'Deaths': 0, 'Recovered': 0, 'Active': 0}",
          "{'Country/Region': 'Netherlands', 'Date': '2020-01-22', 'Confirmed': 0, 'Deaths': 0, 'Recovered': 0, 'Active': 0}",
          "{'Country/Region': 'Netherlands', 'Date': '2020-01-22', 'Confirmed': 0, 'Deaths': 0, 'Recovered': 0, 'Active': 0}",
          "{'Country/Region': 'Netherlands', 'Date': '2020-01-22', 'Confirmed': 0, 'Deaths': 0, 'Recovered': 0, 'Active': 0}",
          "{'Country/Region': 'Netherlands', 'Date': '2020-01-22', 'Confirmed': 0, 'Deaths': 0, 'Recovered': 0, 'Active': 0}",
          "{'Country/Region': 'New Zealand', 'Date': '2020-01-22', 'Confirmed': 0, 'Deaths': 0, 'Recovered': 0, 'Active': 0}",
          "{'Country/Region': 'Nicaragua', 'Date': '2020-01-22', 'Confirmed': 0, 'Deaths': 0, 'Recovered': 0, 'Active': 0}",
          "{'Country/Region': 'Niger', 'Date': '2020-01-22', 'Confirmed': 0, 'Deaths': 0, 'Recovered': 0, 'Active': 0}",
          "{'Country/Region': 'Nigeria', 'Date': '2020-01-22', 'Confirmed': 0, 'Deaths': 0, 'Recovered': 0, 'Active': 0}",
          "{'Country/Region': 'North Macedonia', 'Date': '2020-01-22', 'Confirmed': 0, 'Deaths': 0, 'Recovered': 0, 'Active': 0}",
          "{'Country/Region': 'Norway', 'Date': '2020-01-22', 'Confirmed': 0, 'Deaths': 0, 'Recovered': 0, 'Active': 0}",
          "{'Country/Region': 'Oman', 'Date': '2020-01-22', 'Confirmed': 0, 'Deaths': 0, 'Recovered': 0, 'Active': 0}",
          "{'Country/Region': 'Pakistan', 'Date': '2020-01-22', 'Confirmed': 0, 'Deaths': 0, 'Recovered': 0, 'Active': 0}",
          "{'Country/Region': 'Panama', 'Date': '2020-01-22', 'Confirmed': 0, 'Deaths': 0, 'Recovered': 0, 'Active': 0}",
          "{'Country/Region': 'Papua New Guinea', 'Date': '2020-01-22', 'Confirmed': 0, 'Deaths': 0, 'Recovered': 0, 'Active': 0}",
          "{'Country/Region': 'Paraguay', 'Date': '2020-01-22', 'Confirmed': 0, 'Deaths': 0, 'Recovered': 0, 'Active': 0}",
          "{'Country/Region': 'Peru', 'Date': '2020-01-22', 'Confirmed': 0, 'Deaths': 0, 'Recovered': 0, 'Active': 0}",
          "{'Country/Region': 'Philippines', 'Date': '2020-01-22', 'Confirmed': 0, 'Deaths': 0, 'Recovered': 0, 'Active': 0}",
          "{'Country/Region': 'Poland', 'Date': '2020-01-22', 'Confirmed': 0, 'Deaths': 0, 'Recovered': 0, 'Active': 0}",
          "{'Country/Region': 'Portugal', 'Date': '2020-01-22', 'Confirmed': 0, 'Deaths': 0, 'Recovered': 0, 'Active': 0}",
          "{'Country/Region': 'Qatar', 'Date': '2020-01-22', 'Confirmed': 0, 'Deaths': 0, 'Recovered': 0, 'Active': 0}",
          "{'Country/Region': 'Romania', 'Date': '2020-01-22', 'Confirmed': 0, 'Deaths': 0, 'Recovered': 0, 'Active': 0}",
          "{'Country/Region': 'Russia', 'Date': '2020-01-22', 'Confirmed': 0, 'Deaths': 0, 'Recovered': 0, 'Active': 0}",
          "{'Country/Region': 'Rwanda', 'Date': '2020-01-22', 'Confirmed': 0, 'Deaths': 0, 'Recovered': 0, 'Active': 0}",
          "{'Country/Region': 'Saint Lucia', 'Date': '2020-01-22', 'Confirmed': 0, 'Deaths': 0, 'Recovered': 0, 'Active': 0}",
          "{'Country/Region': 'Saint Vincent and the Grenadines', 'Date': '2020-01-22', 'Confirmed': 0, 'Deaths': 0, 'Recovered': 0, 'Active': 0}",
          "{'Country/Region': 'San Marino', 'Date': '2020-01-22', 'Confirmed': 0, 'Deaths': 0, 'Recovered': 0, 'Active': 0}",
          "{'Country/Region': 'Saudi Arabia', 'Date': '2020-01-22', 'Confirmed': 0, 'Deaths': 0, 'Recovered': 0, 'Active': 0}",
          "{'Country/Region': 'Senegal', 'Date': '2020-01-22', 'Confirmed': 0, 'Deaths': 0, 'Recovered': 0, 'Active': 0}",
          "{'Country/Region': 'Serbia', 'Date': '2020-01-22', 'Confirmed': 0, 'Deaths': 0, 'Recovered': 0, 'Active': 0}",
          "{'Country/Region': 'Seychelles', 'Date': '2020-01-22', 'Confirmed': 0, 'Deaths': 0, 'Recovered': 0, 'Active': 0}",
          "{'Country/Region': 'Singapore', 'Date': '2020-01-22', 'Confirmed': 0, 'Deaths': 0, 'Recovered': 0, 'Active': 0}",
          "{'Country/Region': 'Slovakia', 'Date': '2020-01-22', 'Confirmed': 0, 'Deaths': 0, 'Recovered': 0, 'Active': 0}",
          "{'Country/Region': 'Slovenia', 'Date': '2020-01-22', 'Confirmed': 0, 'Deaths': 0, 'Recovered': 0, 'Active': 0}",
          "{'Country/Region': 'Somalia', 'Date': '2020-01-22', 'Confirmed': 0, 'Deaths': 0, 'Recovered': 0, 'Active': 0}",
          "{'Country/Region': 'South Africa', 'Date': '2020-01-22', 'Confirmed': 0, 'Deaths': 0, 'Recovered': 0, 'Active': 0}",
          "{'Country/Region': 'Spain', 'Date': '2020-01-22', 'Confirmed': 0, 'Deaths': 0, 'Recovered': 0, 'Active': 0}",
          "{'Country/Region': 'Sri Lanka', 'Date': '2020-01-22', 'Confirmed': 0, 'Deaths': 0, 'Recovered': 0, 'Active': 0}",
          "{'Country/Region': 'Sudan', 'Date': '2020-01-22', 'Confirmed': 0, 'Deaths': 0, 'Recovered': 0, 'Active': 0}",
          "{'Country/Region': 'Suriname', 'Date': '2020-01-22', 'Confirmed': 0, 'Deaths': 0, 'Recovered': 0, 'Active': 0}",
          "{'Country/Region': 'Sweden', 'Date': '2020-01-22', 'Confirmed': 0, 'Deaths': 0, 'Recovered': 0, 'Active': 0}",
          "{'Country/Region': 'Switzerland', 'Date': '2020-01-22', 'Confirmed': 0, 'Deaths': 0, 'Recovered': 0, 'Active': 0}",
          "{'Country/Region': 'Taiwan*', 'Date': '2020-01-22', 'Confirmed': 1, 'Deaths': 0, 'Recovered': 0, 'Active': 1}",
          "{'Country/Region': 'Tanzania', 'Date': '2020-01-22', 'Confirmed': 0, 'Deaths': 0, 'Recovered': 0, 'Active': 0}",
          "{'Country/Region': 'Thailand', 'Date': '2020-01-22', 'Confirmed': 2, 'Deaths': 0, 'Recovered': 0, 'Active': 2}",
          "{'Country/Region': 'Togo', 'Date': '2020-01-22', 'Confirmed': 0, 'Deaths': 0, 'Recovered': 0, 'Active': 0}",
          "{'Country/Region': 'Trinidad and Tobago', 'Date': '2020-01-22', 'Confirmed': 0, 'Deaths': 0, 'Recovered': 0, 'Active': 0}",
          "{'Country/Region': 'Tunisia', 'Date': '2020-01-22', 'Confirmed': 0, 'Deaths': 0, 'Recovered': 0, 'Active': 0}",
          "{'Country/Region': 'Turkey', 'Date': '2020-01-22', 'Confirmed': 0, 'Deaths': 0, 'Recovered': 0, 'Active': 0}",
          "{'Country/Region': 'Uganda', 'Date': '2020-01-22', 'Confirmed': 0, 'Deaths': 0, 'Recovered': 0, 'Active': 0}",
          "{'Country/Region': 'Ukraine', 'Date': '2020-01-22', 'Confirmed': 0, 'Deaths': 0, 'Recovered': 0, 'Active': 0}",
          "{'Country/Region': 'United Arab Emirates', 'Date': '2020-01-22', 'Confirmed': 0, 'Deaths': 0, 'Recovered': 0, 'Active': 0}",
          "{'Country/Region': 'United Kingdom', 'Date': '2020-01-22', 'Confirmed': 0, 'Deaths': 0, 'Recovered': 0, 'Active': 0}",
          "{'Country/Region': 'United Kingdom', 'Date': '2020-01-22', 'Confirmed': 0, 'Deaths': 0, 'Recovered': 0, 'Active': 0}",
          "{'Country/Region': 'United Kingdom', 'Date': '2020-01-22', 'Confirmed': 0, 'Deaths': 0, 'Recovered': 0, 'Active': 0}",
          "{'Country/Region': 'United Kingdom', 'Date': '2020-01-22', 'Confirmed': 0, 'Deaths': 0, 'Recovered': 0, 'Active': 0}",
          "{'Country/Region': 'United Kingdom', 'Date': '2020-01-22', 'Confirmed': 0, 'Deaths': 0, 'Recovered': 0, 'Active': 0}",
          "{'Country/Region': 'United Kingdom', 'Date': '2020-01-22', 'Confirmed': 0, 'Deaths': 0, 'Recovered': 0, 'Active': 0}",
          "{'Country/Region': 'United Kingdom', 'Date': '2020-01-22', 'Confirmed': 0, 'Deaths': 0, 'Recovered': 0, 'Active': 0}",
          "{'Country/Region': 'Uruguay', 'Date': '2020-01-22', 'Confirmed': 0, 'Deaths': 0, 'Recovered': 0, 'Active': 0}",
          "{'Country/Region': 'US', 'Date': '2020-01-22', 'Confirmed': 1, 'Deaths': 0, 'Recovered': 0, 'Active': 1}",
          "{'Country/Region': 'Uzbekistan', 'Date': '2020-01-22', 'Confirmed': 0, 'Deaths': 0, 'Recovered': 0, 'Active': 0}",
          "{'Country/Region': 'Venezuela', 'Date': '2020-01-22', 'Confirmed': 0, 'Deaths': 0, 'Recovered': 0, 'Active': 0}",
          "{'Country/Region': 'Vietnam', 'Date': '2020-01-22', 'Confirmed': 0, 'Deaths': 0, 'Recovered': 0, 'Active': 0}",
          "{'Country/Region': 'Zambia', 'Date': '2020-01-22', 'Confirmed': 0, 'Deaths': 0, 'Recovered': 0, 'Active': 0}",
          "{'Country/Region': 'Zimbabwe', 'Date': '2020-01-22', 'Confirmed': 0, 'Deaths': 0, 'Recovered': 0, 'Active': 0}",
          "{'Country/Region': 'Dominica', 'Date': '2020-01-22', 'Confirmed': 0, 'Deaths': 0, 'Recovered': 0, 'Active': 0}",
          "{'Country/Region': 'Grenada', 'Date': '2020-01-22', 'Confirmed': 0, 'Deaths': 0, 'Recovered': 0, 'Active': 0}",
          "{'Country/Region': 'Mozambique', 'Date': '2020-01-22', 'Confirmed': 0, 'Deaths': 0, 'Recovered': 0, 'Active': 0}",
          "{'Country/Region': 'Syria', 'Date': '2020-01-22', 'Confirmed': 0, 'Deaths': 0, 'Recovered': 0, 'Active': 0}",
          "{'Country/Region': 'Timor-Leste', 'Date': '2020-01-22', 'Confirmed': 0, 'Deaths': 0, 'Recovered': 0, 'Active': 0}",
          "{'Country/Region': 'Belize', 'Date': '2020-01-22', 'Confirmed': 0, 'Deaths': 0, 'Recovered': 0, 'Active': 0}",
          "{'Country/Region': 'Laos', 'Date': '2020-01-22', 'Confirmed': 0, 'Deaths': 0, 'Recovered': 0, 'Active': 0}",
          "{'Country/Region': 'Libya', 'Date': '2020-01-22', 'Confirmed': 0, 'Deaths': 0, 'Recovered': 0, 'Active': 0}",
          "{'Country/Region': 'West Bank and Gaza', 'Date': '2020-01-22', 'Confirmed': 0, 'Deaths': 0, 'Recovered': 0, 'Active': 0}",
          "{'Country/Region': 'Guinea-Bissau', 'Date': '2020-01-22', 'Confirmed': 0, 'Deaths': 0, 'Recovered': 0, 'Active': 0}",
          "{'Country/Region': 'Mali', 'Date': '2020-01-22', 'Confirmed': 0, 'Deaths': 0, 'Recovered': 0, 'Active': 0}",
          "{'Country/Region': 'Saint Kitts and Nevis', 'Date': '2020-01-22', 'Confirmed': 0, 'Deaths': 0, 'Recovered': 0, 'Active': 0}",
          "{'Country/Region': 'Canada', 'Date': '2020-01-22', 'Confirmed': 0, 'Deaths': 0, 'Recovered': 0, 'Active': 0}",
          "{'Country/Region': 'Canada', 'Date': '2020-01-22', 'Confirmed': 0, 'Deaths': 0, 'Recovered': 0, 'Active': 0}",
          "{'Country/Region': 'Kosovo', 'Date': '2020-01-22', 'Confirmed': 0, 'Deaths': 0, 'Recovered': 0, 'Active': 0}",
          "{'Country/Region': 'Burma', 'Date': '2020-01-22', 'Confirmed': 0, 'Deaths': 0, 'Recovered': 0, 'Active': 0}",
          "{'Country/Region': 'United Kingdom', 'Date': '2020-01-22', 'Confirmed': 0, 'Deaths': 0, 'Recovered': 0, 'Active': 0}",
          "{'Country/Region': 'United Kingdom', 'Date': '2020-01-22', 'Confirmed': 0, 'Deaths': 0, 'Recovered': 0, 'Active': 0}",
          "{'Country/Region': 'United Kingdom', 'Date': '2020-01-22', 'Confirmed': 0, 'Deaths': 0, 'Recovered': 0, 'Active': 0}",
          "{'Country/Region': 'Botswana', 'Date': '2020-01-22', 'Confirmed': 0, 'Deaths': 0, 'Recovered': 0, 'Active': 0}",
          "{'Country/Region': 'Burundi', 'Date': '2020-01-22', 'Confirmed': 0, 'Deaths': 0, 'Recovered': 0, 'Active': 0}",
          "{'Country/Region': 'Sierra Leone', 'Date': '2020-01-22', 'Confirmed': 0, 'Deaths': 0, 'Recovered': 0, 'Active': 0}",
          "{'Country/Region': 'Malawi', 'Date': '2020-01-22', 'Confirmed': 0, 'Deaths': 0, 'Recovered': 0, 'Active': 0}",
          "{'Country/Region': 'United Kingdom', 'Date': '2020-01-22', 'Confirmed': 0, 'Deaths': 0, 'Recovered': 0, 'Active': 0}",
          "{'Country/Region': 'France', 'Date': '2020-01-22', 'Confirmed': 0, 'Deaths': 0, 'Recovered': 0, 'Active': 0}",
          "{'Country/Region': 'South Sudan', 'Date': '2020-01-22', 'Confirmed': 0, 'Deaths': 0, 'Recovered': 0, 'Active': 0}",
          "{'Country/Region': 'Western Sahara', 'Date': '2020-01-22', 'Confirmed': 0, 'Deaths': 0, 'Recovered': 0, 'Active': 0}",
          "{'Country/Region': 'Sao Tome and Principe', 'Date': '2020-01-22', 'Confirmed': 0, 'Deaths': 0, 'Recovered': 0, 'Active': 0}",
          "{'Country/Region': 'Yemen', 'Date': '2020-01-22', 'Confirmed': 0, 'Deaths': 0, 'Recovered': 0, 'Active': 0}",
          "{'Country/Region': 'Comoros', 'Date': '2020-01-22', 'Confirmed': 0, 'Deaths': 0, 'Recovered': 0, 'Active': 0}",
          "{'Country/Region': 'Tajikistan', 'Date': '2020-01-22', 'Confirmed': 0, 'Deaths': 0, 'Recovered': 0, 'Active': 0}",
          "{'Country/Region': 'Lesotho', 'Date': '2020-01-22', 'Confirmed': 0, 'Deaths': 0, 'Recovered': 0, 'Active': 0}"
         ],
         "type": "scattergeo"
        }
       ],
       "layout": {
        "font": {
         "size": 12
        },
        "height": 600,
        "template": {
         "data": {
          "bar": [
           {
            "error_x": {
             "color": "#2a3f5f"
            },
            "error_y": {
             "color": "#2a3f5f"
            },
            "marker": {
             "line": {
              "color": "#E5ECF6",
              "width": 0.5
             },
             "pattern": {
              "fillmode": "overlay",
              "size": 10,
              "solidity": 0.2
             }
            },
            "type": "bar"
           }
          ],
          "barpolar": [
           {
            "marker": {
             "line": {
              "color": "#E5ECF6",
              "width": 0.5
             },
             "pattern": {
              "fillmode": "overlay",
              "size": 10,
              "solidity": 0.2
             }
            },
            "type": "barpolar"
           }
          ],
          "carpet": [
           {
            "aaxis": {
             "endlinecolor": "#2a3f5f",
             "gridcolor": "white",
             "linecolor": "white",
             "minorgridcolor": "white",
             "startlinecolor": "#2a3f5f"
            },
            "baxis": {
             "endlinecolor": "#2a3f5f",
             "gridcolor": "white",
             "linecolor": "white",
             "minorgridcolor": "white",
             "startlinecolor": "#2a3f5f"
            },
            "type": "carpet"
           }
          ],
          "choropleth": [
           {
            "colorbar": {
             "outlinewidth": 0,
             "ticks": ""
            },
            "type": "choropleth"
           }
          ],
          "contour": [
           {
            "colorbar": {
             "outlinewidth": 0,
             "ticks": ""
            },
            "colorscale": [
             [
              0,
              "#0d0887"
             ],
             [
              0.1111111111111111,
              "#46039f"
             ],
             [
              0.2222222222222222,
              "#7201a8"
             ],
             [
              0.3333333333333333,
              "#9c179e"
             ],
             [
              0.4444444444444444,
              "#bd3786"
             ],
             [
              0.5555555555555556,
              "#d8576b"
             ],
             [
              0.6666666666666666,
              "#ed7953"
             ],
             [
              0.7777777777777778,
              "#fb9f3a"
             ],
             [
              0.8888888888888888,
              "#fdca26"
             ],
             [
              1,
              "#f0f921"
             ]
            ],
            "type": "contour"
           }
          ],
          "contourcarpet": [
           {
            "colorbar": {
             "outlinewidth": 0,
             "ticks": ""
            },
            "type": "contourcarpet"
           }
          ],
          "heatmap": [
           {
            "colorbar": {
             "outlinewidth": 0,
             "ticks": ""
            },
            "colorscale": [
             [
              0,
              "#0d0887"
             ],
             [
              0.1111111111111111,
              "#46039f"
             ],
             [
              0.2222222222222222,
              "#7201a8"
             ],
             [
              0.3333333333333333,
              "#9c179e"
             ],
             [
              0.4444444444444444,
              "#bd3786"
             ],
             [
              0.5555555555555556,
              "#d8576b"
             ],
             [
              0.6666666666666666,
              "#ed7953"
             ],
             [
              0.7777777777777778,
              "#fb9f3a"
             ],
             [
              0.8888888888888888,
              "#fdca26"
             ],
             [
              1,
              "#f0f921"
             ]
            ],
            "type": "heatmap"
           }
          ],
          "heatmapgl": [
           {
            "colorbar": {
             "outlinewidth": 0,
             "ticks": ""
            },
            "colorscale": [
             [
              0,
              "#0d0887"
             ],
             [
              0.1111111111111111,
              "#46039f"
             ],
             [
              0.2222222222222222,
              "#7201a8"
             ],
             [
              0.3333333333333333,
              "#9c179e"
             ],
             [
              0.4444444444444444,
              "#bd3786"
             ],
             [
              0.5555555555555556,
              "#d8576b"
             ],
             [
              0.6666666666666666,
              "#ed7953"
             ],
             [
              0.7777777777777778,
              "#fb9f3a"
             ],
             [
              0.8888888888888888,
              "#fdca26"
             ],
             [
              1,
              "#f0f921"
             ]
            ],
            "type": "heatmapgl"
           }
          ],
          "histogram": [
           {
            "marker": {
             "pattern": {
              "fillmode": "overlay",
              "size": 10,
              "solidity": 0.2
             }
            },
            "type": "histogram"
           }
          ],
          "histogram2d": [
           {
            "colorbar": {
             "outlinewidth": 0,
             "ticks": ""
            },
            "colorscale": [
             [
              0,
              "#0d0887"
             ],
             [
              0.1111111111111111,
              "#46039f"
             ],
             [
              0.2222222222222222,
              "#7201a8"
             ],
             [
              0.3333333333333333,
              "#9c179e"
             ],
             [
              0.4444444444444444,
              "#bd3786"
             ],
             [
              0.5555555555555556,
              "#d8576b"
             ],
             [
              0.6666666666666666,
              "#ed7953"
             ],
             [
              0.7777777777777778,
              "#fb9f3a"
             ],
             [
              0.8888888888888888,
              "#fdca26"
             ],
             [
              1,
              "#f0f921"
             ]
            ],
            "type": "histogram2d"
           }
          ],
          "histogram2dcontour": [
           {
            "colorbar": {
             "outlinewidth": 0,
             "ticks": ""
            },
            "colorscale": [
             [
              0,
              "#0d0887"
             ],
             [
              0.1111111111111111,
              "#46039f"
             ],
             [
              0.2222222222222222,
              "#7201a8"
             ],
             [
              0.3333333333333333,
              "#9c179e"
             ],
             [
              0.4444444444444444,
              "#bd3786"
             ],
             [
              0.5555555555555556,
              "#d8576b"
             ],
             [
              0.6666666666666666,
              "#ed7953"
             ],
             [
              0.7777777777777778,
              "#fb9f3a"
             ],
             [
              0.8888888888888888,
              "#fdca26"
             ],
             [
              1,
              "#f0f921"
             ]
            ],
            "type": "histogram2dcontour"
           }
          ],
          "mesh3d": [
           {
            "colorbar": {
             "outlinewidth": 0,
             "ticks": ""
            },
            "type": "mesh3d"
           }
          ],
          "parcoords": [
           {
            "line": {
             "colorbar": {
              "outlinewidth": 0,
              "ticks": ""
             }
            },
            "type": "parcoords"
           }
          ],
          "pie": [
           {
            "automargin": true,
            "type": "pie"
           }
          ],
          "scatter": [
           {
            "fillpattern": {
             "fillmode": "overlay",
             "size": 10,
             "solidity": 0.2
            },
            "type": "scatter"
           }
          ],
          "scatter3d": [
           {
            "line": {
             "colorbar": {
              "outlinewidth": 0,
              "ticks": ""
             }
            },
            "marker": {
             "colorbar": {
              "outlinewidth": 0,
              "ticks": ""
             }
            },
            "type": "scatter3d"
           }
          ],
          "scattercarpet": [
           {
            "marker": {
             "colorbar": {
              "outlinewidth": 0,
              "ticks": ""
             }
            },
            "type": "scattercarpet"
           }
          ],
          "scattergeo": [
           {
            "marker": {
             "colorbar": {
              "outlinewidth": 0,
              "ticks": ""
             }
            },
            "type": "scattergeo"
           }
          ],
          "scattergl": [
           {
            "marker": {
             "colorbar": {
              "outlinewidth": 0,
              "ticks": ""
             }
            },
            "type": "scattergl"
           }
          ],
          "scattermapbox": [
           {
            "marker": {
             "colorbar": {
              "outlinewidth": 0,
              "ticks": ""
             }
            },
            "type": "scattermapbox"
           }
          ],
          "scatterpolar": [
           {
            "marker": {
             "colorbar": {
              "outlinewidth": 0,
              "ticks": ""
             }
            },
            "type": "scatterpolar"
           }
          ],
          "scatterpolargl": [
           {
            "marker": {
             "colorbar": {
              "outlinewidth": 0,
              "ticks": ""
             }
            },
            "type": "scatterpolargl"
           }
          ],
          "scatterternary": [
           {
            "marker": {
             "colorbar": {
              "outlinewidth": 0,
              "ticks": ""
             }
            },
            "type": "scatterternary"
           }
          ],
          "surface": [
           {
            "colorbar": {
             "outlinewidth": 0,
             "ticks": ""
            },
            "colorscale": [
             [
              0,
              "#0d0887"
             ],
             [
              0.1111111111111111,
              "#46039f"
             ],
             [
              0.2222222222222222,
              "#7201a8"
             ],
             [
              0.3333333333333333,
              "#9c179e"
             ],
             [
              0.4444444444444444,
              "#bd3786"
             ],
             [
              0.5555555555555556,
              "#d8576b"
             ],
             [
              0.6666666666666666,
              "#ed7953"
             ],
             [
              0.7777777777777778,
              "#fb9f3a"
             ],
             [
              0.8888888888888888,
              "#fdca26"
             ],
             [
              1,
              "#f0f921"
             ]
            ],
            "type": "surface"
           }
          ],
          "table": [
           {
            "cells": {
             "fill": {
              "color": "#EBF0F8"
             },
             "line": {
              "color": "white"
             }
            },
            "header": {
             "fill": {
              "color": "#C8D4E3"
             },
             "line": {
              "color": "white"
             }
            },
            "type": "table"
           }
          ]
         },
         "layout": {
          "annotationdefaults": {
           "arrowcolor": "#2a3f5f",
           "arrowhead": 0,
           "arrowwidth": 1
          },
          "autotypenumbers": "strict",
          "coloraxis": {
           "colorbar": {
            "outlinewidth": 0,
            "ticks": ""
           }
          },
          "colorscale": {
           "diverging": [
            [
             0,
             "#8e0152"
            ],
            [
             0.1,
             "#c51b7d"
            ],
            [
             0.2,
             "#de77ae"
            ],
            [
             0.3,
             "#f1b6da"
            ],
            [
             0.4,
             "#fde0ef"
            ],
            [
             0.5,
             "#f7f7f7"
            ],
            [
             0.6,
             "#e6f5d0"
            ],
            [
             0.7,
             "#b8e186"
            ],
            [
             0.8,
             "#7fbc41"
            ],
            [
             0.9,
             "#4d9221"
            ],
            [
             1,
             "#276419"
            ]
           ],
           "sequential": [
            [
             0,
             "#0d0887"
            ],
            [
             0.1111111111111111,
             "#46039f"
            ],
            [
             0.2222222222222222,
             "#7201a8"
            ],
            [
             0.3333333333333333,
             "#9c179e"
            ],
            [
             0.4444444444444444,
             "#bd3786"
            ],
            [
             0.5555555555555556,
             "#d8576b"
            ],
            [
             0.6666666666666666,
             "#ed7953"
            ],
            [
             0.7777777777777778,
             "#fb9f3a"
            ],
            [
             0.8888888888888888,
             "#fdca26"
            ],
            [
             1,
             "#f0f921"
            ]
           ],
           "sequentialminus": [
            [
             0,
             "#0d0887"
            ],
            [
             0.1111111111111111,
             "#46039f"
            ],
            [
             0.2222222222222222,
             "#7201a8"
            ],
            [
             0.3333333333333333,
             "#9c179e"
            ],
            [
             0.4444444444444444,
             "#bd3786"
            ],
            [
             0.5555555555555556,
             "#d8576b"
            ],
            [
             0.6666666666666666,
             "#ed7953"
            ],
            [
             0.7777777777777778,
             "#fb9f3a"
            ],
            [
             0.8888888888888888,
             "#fdca26"
            ],
            [
             1,
             "#f0f921"
            ]
           ]
          },
          "colorway": [
           "#636efa",
           "#EF553B",
           "#00cc96",
           "#ab63fa",
           "#FFA15A",
           "#19d3f3",
           "#FF6692",
           "#B6E880",
           "#FF97FF",
           "#FECB52"
          ],
          "font": {
           "color": "#2a3f5f"
          },
          "geo": {
           "bgcolor": "white",
           "lakecolor": "white",
           "landcolor": "#E5ECF6",
           "showlakes": true,
           "showland": true,
           "subunitcolor": "white"
          },
          "hoverlabel": {
           "align": "left"
          },
          "hovermode": "closest",
          "mapbox": {
           "style": "light"
          },
          "paper_bgcolor": "white",
          "plot_bgcolor": "#E5ECF6",
          "polar": {
           "angularaxis": {
            "gridcolor": "white",
            "linecolor": "white",
            "ticks": ""
           },
           "bgcolor": "#E5ECF6",
           "radialaxis": {
            "gridcolor": "white",
            "linecolor": "white",
            "ticks": ""
           }
          },
          "scene": {
           "xaxis": {
            "backgroundcolor": "#E5ECF6",
            "gridcolor": "white",
            "gridwidth": 2,
            "linecolor": "white",
            "showbackground": true,
            "ticks": "",
            "zerolinecolor": "white"
           },
           "yaxis": {
            "backgroundcolor": "#E5ECF6",
            "gridcolor": "white",
            "gridwidth": 2,
            "linecolor": "white",
            "showbackground": true,
            "ticks": "",
            "zerolinecolor": "white"
           },
           "zaxis": {
            "backgroundcolor": "#E5ECF6",
            "gridcolor": "white",
            "gridwidth": 2,
            "linecolor": "white",
            "showbackground": true,
            "ticks": "",
            "zerolinecolor": "white"
           }
          },
          "shapedefaults": {
           "line": {
            "color": "#2a3f5f"
           }
          },
          "ternary": {
           "aaxis": {
            "gridcolor": "white",
            "linecolor": "white",
            "ticks": ""
           },
           "baxis": {
            "gridcolor": "white",
            "linecolor": "white",
            "ticks": ""
           },
           "bgcolor": "#E5ECF6",
           "caxis": {
            "gridcolor": "white",
            "linecolor": "white",
            "ticks": ""
           }
          },
          "title": {
           "x": 0.05
          },
          "xaxis": {
           "automargin": true,
           "gridcolor": "white",
           "linecolor": "white",
           "ticks": "",
           "title": {
            "standoff": 15
           },
           "zerolinecolor": "white",
           "zerolinewidth": 2
          },
          "yaxis": {
           "automargin": true,
           "gridcolor": "white",
           "linecolor": "white",
           "ticks": "",
           "title": {
            "standoff": 15
           },
           "zerolinecolor": "white",
           "zerolinewidth": 2
          }
         }
        },
        "width": 1000
       }
      }
     },
     "metadata": {},
     "output_type": "display_data"
    }
   ],
   "source": [
    "plotfor(dates[0])"
   ]
  },
  {
   "cell_type": "code",
   "execution_count": null,
   "metadata": {},
   "outputs": [],
   "source": []
  },
  {
   "cell_type": "code",
   "execution_count": 115,
   "metadata": {},
   "outputs": [
    {
     "data": {
      "application/vnd.plotly.v1+json": {
       "config": {
        "plotlyServerURL": "https://plotly.com"
       },
       "data": [
        {
         "lat": [
          33.93911,
          41.1533,
          28.0339,
          42.5063,
          -11.2027,
          17.0608,
          -38.4161,
          40.0691,
          -35.4735,
          -33.8688,
          -12.4634,
          -27.4698,
          -34.9285,
          -42.8821,
          -37.8136,
          -31.9505,
          47.5162,
          40.1431,
          25.025885,
          26.0275,
          23.685,
          13.1939,
          53.7098,
          50.8333,
          9.3077,
          27.5142,
          -16.2902,
          43.9159,
          -14.235,
          4.5353,
          42.7339,
          12.2383,
          16.5388,
          11.55,
          3.848,
          53.9333,
          53.7267,
          53.7609,
          46.5653,
          53.1355,
          44.682,
          51.2538,
          46.5107,
          52.9399,
          52.9399,
          6.6111,
          15.4542,
          -35.6751,
          31.8257,
          40.1824,
          30.0572,
          26.0789,
          35.7518,
          23.3417,
          23.8298,
          26.8154,
          19.1959,
          39.549,
          47.862,
          37.8957,
          22.3,
          30.9756,
          27.6104,
          44.0935,
          32.9711,
          27.614,
          43.6661,
          41.2956,
          22.1667,
          37.2692,
          35.7452,
          35.1917,
          36.3427,
          31.202,
          37.5777,
          30.6171,
          39.3054,
          31.6927,
          41.1129,
          24.974,
          29.1832,
          4.5709,
          -0.228,
          -4.0383,
          9.7489,
          7.54,
          45.1,
          21.521757,
          35.1264,
          49.8175,
          61.8926,
          71.7069,
          56.2639,
          11.8251,
          18.7357,
          -1.8312,
          26.820553000000004,
          13.7942,
          1.6508,
          15.1794,
          58.5953,
          -26.5225,
          9.145,
          -17.7134,
          61.92411,
          3.9339,
          -17.6797,
          16.265,
          -12.8275,
          -20.904305,
          -21.1151,
          17.9,
          18.0708,
          14.6415,
          46.2276,
          -0.8037,
          13.4432,
          42.3154,
          51.165691,
          7.9465,
          39.0742,
          15.7835,
          9.9456,
          4.860416000000002,
          18.9712,
          41.9029,
          15.2,
          47.1625,
          64.9631,
          20.593684,
          -0.7893,
          32.427908,
          33.223191,
          53.1424,
          31.046051,
          41.87194,
          18.1096,
          36.204824,
          31.24,
          48.0196,
          -0.0236,
          35.90775700000001,
          29.31166,
          41.20438,
          56.8796,
          33.8547,
          6.4280550000000005,
          47.14,
          55.1694,
          49.8153,
          -18.766947,
          4.210483999999999,
          3.2028,
          35.9375,
          21.0079,
          -20.348404,
          23.6345,
          47.4116,
          43.7333,
          46.8625,
          42.708678000000006,
          31.7917,
          -22.9576,
          28.1667,
          12.5211,
          12.1696,
          18.0425,
          52.1326,
          -40.9006,
          12.865416,
          17.607789,
          9.082,
          41.6086,
          60.472,
          21.512583,
          30.3753,
          8.538,
          -6.314993,
          -23.4425,
          -9.19,
          12.879721,
          51.9194,
          39.3999,
          25.3548,
          45.9432,
          61.52401,
          -1.9403,
          13.9094,
          12.9843,
          43.9424,
          23.885942,
          14.4974,
          44.0165,
          -4.6796,
          1.2833,
          48.669,
          46.1512,
          5.152149,
          -30.5595,
          40.463667,
          7.873054,
          12.8628,
          3.9193,
          60.128161,
          46.8182,
          23.7,
          -6.369028,
          15.870032,
          8.6195,
          10.6918,
          33.886917,
          38.9637,
          1.373333,
          48.3794,
          23.424076,
          32.3078,
          19.3133,
          49.3723,
          36.1408,
          54.2361,
          16.742498,
          55.3781,
          -32.5228,
          40,
          41.377491,
          6.4238,
          14.058324,
          -13.133897,
          -19.015438,
          15.415,
          12.1165,
          -18.665695,
          34.802075,
          -8.874217,
          17.1899,
          19.85627,
          26.3351,
          31.9522,
          11.8037,
          17.570692,
          17.357822,
          64.8255,
          64.2823,
          42.602636,
          21.9162,
          18.2206,
          18.4207,
          21.69400000000001,
          -22.3285,
          -3.3731,
          8.460555000000001,
          -13.2543,
          -51.7963,
          46.8852,
          6.877000000000002,
          24.2155,
          0.1864,
          15.552727,
          -11.6455,
          38.861,
          -29.61
         ],
         "lon": [
          67.709953,
          20.1683,
          1.6596,
          1.5218,
          17.8739,
          -61.7964,
          -63.6167,
          45.0382,
          149.0124,
          151.2093,
          130.8456,
          153.0251,
          138.6007,
          147.3272,
          144.9631,
          115.8605,
          14.5501,
          47.5769,
          -78.035889,
          50.55,
          90.3563,
          -59.5432,
          27.9534,
          4.469936,
          2.3158,
          90.4336,
          -63.5887,
          17.6791,
          -51.9253,
          114.7277,
          25.4858,
          -1.5616,
          -23.0418,
          104.9167,
          11.5021,
          -116.5765,
          -127.6476,
          -98.8139,
          -66.4619,
          -57.6604,
          -63.7443,
          -85.3232,
          -63.4168,
          -73.5491,
          -106.4509,
          20.9394,
          18.7322,
          -71.543,
          117.2264,
          116.4142,
          107.874,
          117.9874,
          104.2861,
          113.4244,
          108.7881,
          106.8748,
          109.7453,
          116.1306,
          127.7615,
          114.9042,
          114.2,
          112.2707,
          111.7088,
          113.9448,
          119.455,
          115.7221,
          126.1923,
          122.6085,
          113.55,
          106.1655,
          95.9956,
          108.8701,
          118.1498,
          121.4491,
          112.2922,
          102.7103,
          117.323,
          88.0924,
          85.2401,
          101.487,
          120.0934,
          -74.2973,
          15.8277,
          21.7587,
          -83.7534,
          -5.5471,
          15.2,
          -77.78116700000002,
          33.4299,
          15.473,
          -6.9118,
          -42.6043,
          9.5018,
          42.5903,
          -70.1627,
          -78.1834,
          30.802498,
          -88.8965,
          10.2679,
          39.7823,
          25.0136,
          31.4659,
          40.4897,
          178.065,
          25.748151,
          -53.1258,
          149.4068,
          -61.551,
          45.166244,
          165.618042,
          55.5364,
          -62.8333,
          -63.0501,
          -61.0242,
          2.2137,
          11.6094,
          -15.3101,
          43.3569,
          10.451526,
          -1.0232,
          21.8243,
          -90.2308,
          -9.6966,
          -58.93018000000001,
          -72.2852,
          12.4534,
          -86.2419,
          19.5033,
          -19.0208,
          78.96288,
          113.9213,
          53.68804599999999,
          43.679291,
          -7.6921,
          34.851612,
          12.56738,
          -77.2975,
          138.252924,
          36.51,
          66.9237,
          37.9062,
          127.766922,
          47.481766,
          74.766098,
          24.6032,
          35.8623,
          -9.429499,
          9.55,
          23.8813,
          6.1296,
          46.869107,
          101.975766,
          73.2207,
          14.3754,
          -10.9408,
          57.552152,
          -102.5528,
          28.3699,
          7.4167,
          103.8467,
          19.37439,
          -7.0926,
          18.4904,
          84.25,
          -69.9683,
          -68.99,
          -63.0548,
          5.2913,
          174.886,
          -85.207229,
          8.081666,
          8.6753,
          21.7453,
          8.4689,
          55.92325500000001,
          69.3451,
          -80.7821,
          143.95555,
          -58.4438,
          -75.0152,
          121.774017,
          19.1451,
          -8.2245,
          51.1839,
          24.9668,
          105.318756,
          29.8739,
          -60.9789,
          -61.2872,
          12.4578,
          45.079162,
          -14.4524,
          21.0059,
          55.492,
          103.8333,
          19.699,
          14.9955,
          46.199616,
          22.9375,
          -3.74922,
          80.77179699999998,
          30.2176,
          -56.0278,
          18.643501,
          8.2275,
          121,
          34.888822,
          100.992541,
          0.8248,
          -61.2225,
          9.537499,
          35.2433,
          32.290275,
          31.1656,
          53.847818,
          -64.7505,
          -81.2546,
          -2.3644,
          -5.3536,
          -4.5481,
          -62.187366,
          -3.4360000000000004,
          -55.7658,
          -100,
          64.585262,
          -66.5897,
          108.277199,
          27.849332,
          29.154857,
          -61.371,
          -61.679,
          35.529562,
          38.99681500000001,
          125.727539,
          -88.4976,
          102.495496,
          17.228331,
          35.2332,
          -15.1804,
          -3.996166000000001,
          -62.782998,
          -124.8457,
          -135,
          20.902977,
          95.956,
          -63.0686,
          -64.64,
          -71.7979,
          24.6849,
          29.9189,
          -11.779889,
          34.3015,
          -59.5236,
          -56.3159,
          31.307,
          -12.8858,
          6.6131,
          48.516388,
          43.3333,
          71.2761,
          28.2336
         ],
         "marker": {
          "cmin": 0,
          "color": [
           0,
           0,
           0,
           0,
           0,
           0,
           0,
           0,
           0,
           0,
           0,
           0,
           0,
           0,
           0,
           0,
           0,
           0,
           0,
           0,
           0,
           0,
           0,
           0,
           0,
           0,
           0,
           0,
           0,
           0,
           0,
           0,
           0,
           0,
           0,
           0,
           0,
           0,
           0,
           0,
           0,
           0,
           0,
           0,
           0,
           0,
           0,
           0,
           9,
           22,
           9,
           5,
           2,
           30,
           5,
           3,
           5,
           0,
           2,
           5,
           2,
           399,
           9,
           0,
           5,
           7,
           1,
           3,
           2,
           1,
           0,
           3,
           6,
           16,
           1,
           8,
           4,
           0,
           2,
           2,
           27,
           0,
           0,
           0,
           0,
           0,
           0,
           0,
           0,
           0,
           0,
           0,
           0,
           0,
           0,
           0,
           0,
           0,
           0,
           0,
           0,
           0,
           0,
           0,
           0,
           0,
           0,
           0,
           0,
           0,
           0,
           0,
           0,
           0,
           0,
           0,
           0,
           0,
           0,
           0,
           0,
           0,
           0,
           0,
           0,
           0,
           0,
           0,
           0,
           0,
           0,
           0,
           0,
           0,
           0,
           0,
           0,
           2,
           0,
           0,
           0,
           1,
           0,
           0,
           0,
           0,
           0,
           0,
           0,
           0,
           0,
           0,
           0,
           0,
           0,
           0,
           0,
           0,
           0,
           0,
           0,
           0,
           0,
           0,
           0,
           0,
           0,
           0,
           0,
           0,
           0,
           0,
           0,
           0,
           0,
           0,
           0,
           0,
           0,
           0,
           0,
           0,
           0,
           0,
           0,
           0,
           0,
           0,
           0,
           0,
           0,
           0,
           0,
           0,
           1,
           0,
           0,
           0,
           0,
           0,
           0,
           0,
           0,
           0,
           0,
           1,
           0,
           3,
           0,
           0,
           0,
           0,
           0,
           0,
           0,
           0,
           0,
           0,
           0,
           0,
           0,
           0,
           0,
           1,
           0,
           0,
           2,
           0,
           0,
           0,
           0,
           0,
           0,
           0,
           0,
           0,
           0,
           0,
           0,
           0,
           0,
           0,
           0,
           0,
           0,
           0,
           0,
           0,
           0,
           0,
           0,
           0,
           0,
           0,
           0,
           0,
           0,
           0,
           0,
           0,
           0
          ],
          "colorbar": {
           "title": {
            "text": "Active"
           }
          },
          "colorscale": [
           [
            0,
            "#440154"
           ],
           [
            0.1111111111111111,
            "#482878"
           ],
           [
            0.2222222222222222,
            "#3e4989"
           ],
           [
            0.3333333333333333,
            "#31688e"
           ],
           [
            0.4444444444444444,
            "#26828e"
           ],
           [
            0.5555555555555556,
            "#1f9e89"
           ],
           [
            0.6666666666666666,
            "#35b779"
           ],
           [
            0.7777777777777778,
            "#6ece58"
           ],
           [
            0.8888888888888888,
            "#b5de2b"
           ],
           [
            1,
            "#fde725"
           ]
          ],
          "size": 12
         },
         "mode": "markers",
         "text": [
          "{'Country/Region': 'Afghanistan', 'Date': '2020-01-23', 'Confirmed': 0, 'Deaths': 0, 'Recovered': 0, 'Active': 0}",
          "{'Country/Region': 'Albania', 'Date': '2020-01-23', 'Confirmed': 0, 'Deaths': 0, 'Recovered': 0, 'Active': 0}",
          "{'Country/Region': 'Algeria', 'Date': '2020-01-23', 'Confirmed': 0, 'Deaths': 0, 'Recovered': 0, 'Active': 0}",
          "{'Country/Region': 'Andorra', 'Date': '2020-01-23', 'Confirmed': 0, 'Deaths': 0, 'Recovered': 0, 'Active': 0}",
          "{'Country/Region': 'Angola', 'Date': '2020-01-23', 'Confirmed': 0, 'Deaths': 0, 'Recovered': 0, 'Active': 0}",
          "{'Country/Region': 'Antigua and Barbuda', 'Date': '2020-01-23', 'Confirmed': 0, 'Deaths': 0, 'Recovered': 0, 'Active': 0}",
          "{'Country/Region': 'Argentina', 'Date': '2020-01-23', 'Confirmed': 0, 'Deaths': 0, 'Recovered': 0, 'Active': 0}",
          "{'Country/Region': 'Armenia', 'Date': '2020-01-23', 'Confirmed': 0, 'Deaths': 0, 'Recovered': 0, 'Active': 0}",
          "{'Country/Region': 'Australia', 'Date': '2020-01-23', 'Confirmed': 0, 'Deaths': 0, 'Recovered': 0, 'Active': 0}",
          "{'Country/Region': 'Australia', 'Date': '2020-01-23', 'Confirmed': 0, 'Deaths': 0, 'Recovered': 0, 'Active': 0}",
          "{'Country/Region': 'Australia', 'Date': '2020-01-23', 'Confirmed': 0, 'Deaths': 0, 'Recovered': 0, 'Active': 0}",
          "{'Country/Region': 'Australia', 'Date': '2020-01-23', 'Confirmed': 0, 'Deaths': 0, 'Recovered': 0, 'Active': 0}",
          "{'Country/Region': 'Australia', 'Date': '2020-01-23', 'Confirmed': 0, 'Deaths': 0, 'Recovered': 0, 'Active': 0}",
          "{'Country/Region': 'Australia', 'Date': '2020-01-23', 'Confirmed': 0, 'Deaths': 0, 'Recovered': 0, 'Active': 0}",
          "{'Country/Region': 'Australia', 'Date': '2020-01-23', 'Confirmed': 0, 'Deaths': 0, 'Recovered': 0, 'Active': 0}",
          "{'Country/Region': 'Australia', 'Date': '2020-01-23', 'Confirmed': 0, 'Deaths': 0, 'Recovered': 0, 'Active': 0}",
          "{'Country/Region': 'Austria', 'Date': '2020-01-23', 'Confirmed': 0, 'Deaths': 0, 'Recovered': 0, 'Active': 0}",
          "{'Country/Region': 'Azerbaijan', 'Date': '2020-01-23', 'Confirmed': 0, 'Deaths': 0, 'Recovered': 0, 'Active': 0}",
          "{'Country/Region': 'Bahamas', 'Date': '2020-01-23', 'Confirmed': 0, 'Deaths': 0, 'Recovered': 0, 'Active': 0}",
          "{'Country/Region': 'Bahrain', 'Date': '2020-01-23', 'Confirmed': 0, 'Deaths': 0, 'Recovered': 0, 'Active': 0}",
          "{'Country/Region': 'Bangladesh', 'Date': '2020-01-23', 'Confirmed': 0, 'Deaths': 0, 'Recovered': 0, 'Active': 0}",
          "{'Country/Region': 'Barbados', 'Date': '2020-01-23', 'Confirmed': 0, 'Deaths': 0, 'Recovered': 0, 'Active': 0}",
          "{'Country/Region': 'Belarus', 'Date': '2020-01-23', 'Confirmed': 0, 'Deaths': 0, 'Recovered': 0, 'Active': 0}",
          "{'Country/Region': 'Belgium', 'Date': '2020-01-23', 'Confirmed': 0, 'Deaths': 0, 'Recovered': 0, 'Active': 0}",
          "{'Country/Region': 'Benin', 'Date': '2020-01-23', 'Confirmed': 0, 'Deaths': 0, 'Recovered': 0, 'Active': 0}",
          "{'Country/Region': 'Bhutan', 'Date': '2020-01-23', 'Confirmed': 0, 'Deaths': 0, 'Recovered': 0, 'Active': 0}",
          "{'Country/Region': 'Bolivia', 'Date': '2020-01-23', 'Confirmed': 0, 'Deaths': 0, 'Recovered': 0, 'Active': 0}",
          "{'Country/Region': 'Bosnia and Herzegovina', 'Date': '2020-01-23', 'Confirmed': 0, 'Deaths': 0, 'Recovered': 0, 'Active': 0}",
          "{'Country/Region': 'Brazil', 'Date': '2020-01-23', 'Confirmed': 0, 'Deaths': 0, 'Recovered': 0, 'Active': 0}",
          "{'Country/Region': 'Brunei', 'Date': '2020-01-23', 'Confirmed': 0, 'Deaths': 0, 'Recovered': 0, 'Active': 0}",
          "{'Country/Region': 'Bulgaria', 'Date': '2020-01-23', 'Confirmed': 0, 'Deaths': 0, 'Recovered': 0, 'Active': 0}",
          "{'Country/Region': 'Burkina Faso', 'Date': '2020-01-23', 'Confirmed': 0, 'Deaths': 0, 'Recovered': 0, 'Active': 0}",
          "{'Country/Region': 'Cabo Verde', 'Date': '2020-01-23', 'Confirmed': 0, 'Deaths': 0, 'Recovered': 0, 'Active': 0}",
          "{'Country/Region': 'Cambodia', 'Date': '2020-01-23', 'Confirmed': 0, 'Deaths': 0, 'Recovered': 0, 'Active': 0}",
          "{'Country/Region': 'Cameroon', 'Date': '2020-01-23', 'Confirmed': 0, 'Deaths': 0, 'Recovered': 0, 'Active': 0}",
          "{'Country/Region': 'Canada', 'Date': '2020-01-23', 'Confirmed': 0, 'Deaths': 0, 'Recovered': 0, 'Active': 0}",
          "{'Country/Region': 'Canada', 'Date': '2020-01-23', 'Confirmed': 0, 'Deaths': 0, 'Recovered': 0, 'Active': 0}",
          "{'Country/Region': 'Canada', 'Date': '2020-01-23', 'Confirmed': 0, 'Deaths': 0, 'Recovered': 0, 'Active': 0}",
          "{'Country/Region': 'Canada', 'Date': '2020-01-23', 'Confirmed': 0, 'Deaths': 0, 'Recovered': 0, 'Active': 0}",
          "{'Country/Region': 'Canada', 'Date': '2020-01-23', 'Confirmed': 0, 'Deaths': 0, 'Recovered': 0, 'Active': 0}",
          "{'Country/Region': 'Canada', 'Date': '2020-01-23', 'Confirmed': 0, 'Deaths': 0, 'Recovered': 0, 'Active': 0}",
          "{'Country/Region': 'Canada', 'Date': '2020-01-23', 'Confirmed': 0, 'Deaths': 0, 'Recovered': 0, 'Active': 0}",
          "{'Country/Region': 'Canada', 'Date': '2020-01-23', 'Confirmed': 0, 'Deaths': 0, 'Recovered': 0, 'Active': 0}",
          "{'Country/Region': 'Canada', 'Date': '2020-01-23', 'Confirmed': 0, 'Deaths': 0, 'Recovered': 0, 'Active': 0}",
          "{'Country/Region': 'Canada', 'Date': '2020-01-23', 'Confirmed': 0, 'Deaths': 0, 'Recovered': 0, 'Active': 0}",
          "{'Country/Region': 'Central African Republic', 'Date': '2020-01-23', 'Confirmed': 0, 'Deaths': 0, 'Recovered': 0, 'Active': 0}",
          "{'Country/Region': 'Chad', 'Date': '2020-01-23', 'Confirmed': 0, 'Deaths': 0, 'Recovered': 0, 'Active': 0}",
          "{'Country/Region': 'Chile', 'Date': '2020-01-23', 'Confirmed': 0, 'Deaths': 0, 'Recovered': 0, 'Active': 0}",
          "{'Country/Region': 'China', 'Date': '2020-01-23', 'Confirmed': 9, 'Deaths': 0, 'Recovered': 0, 'Active': 9}",
          "{'Country/Region': 'China', 'Date': '2020-01-23', 'Confirmed': 22, 'Deaths': 0, 'Recovered': 0, 'Active': 22}",
          "{'Country/Region': 'China', 'Date': '2020-01-23', 'Confirmed': 9, 'Deaths': 0, 'Recovered': 0, 'Active': 9}",
          "{'Country/Region': 'China', 'Date': '2020-01-23', 'Confirmed': 5, 'Deaths': 0, 'Recovered': 0, 'Active': 5}",
          "{'Country/Region': 'China', 'Date': '2020-01-23', 'Confirmed': 2, 'Deaths': 0, 'Recovered': 0, 'Active': 2}",
          "{'Country/Region': 'China', 'Date': '2020-01-23', 'Confirmed': 32, 'Deaths': 0, 'Recovered': 2, 'Active': 30}",
          "{'Country/Region': 'China', 'Date': '2020-01-23', 'Confirmed': 5, 'Deaths': 0, 'Recovered': 0, 'Active': 5}",
          "{'Country/Region': 'China', 'Date': '2020-01-23', 'Confirmed': 3, 'Deaths': 0, 'Recovered': 0, 'Active': 3}",
          "{'Country/Region': 'China', 'Date': '2020-01-23', 'Confirmed': 5, 'Deaths': 0, 'Recovered': 0, 'Active': 5}",
          "{'Country/Region': 'China', 'Date': '2020-01-23', 'Confirmed': 1, 'Deaths': 1, 'Recovered': 0, 'Active': 0}",
          "{'Country/Region': 'China', 'Date': '2020-01-23', 'Confirmed': 2, 'Deaths': 0, 'Recovered': 0, 'Active': 2}",
          "{'Country/Region': 'China', 'Date': '2020-01-23', 'Confirmed': 5, 'Deaths': 0, 'Recovered': 0, 'Active': 5}",
          "{'Country/Region': 'China', 'Date': '2020-01-23', 'Confirmed': 2, 'Deaths': 0, 'Recovered': 0, 'Active': 2}",
          "{'Country/Region': 'China', 'Date': '2020-01-23', 'Confirmed': 444, 'Deaths': 17, 'Recovered': 28, 'Active': 399}",
          "{'Country/Region': 'China', 'Date': '2020-01-23', 'Confirmed': 9, 'Deaths': 0, 'Recovered': 0, 'Active': 9}",
          "{'Country/Region': 'China', 'Date': '2020-01-23', 'Confirmed': 0, 'Deaths': 0, 'Recovered': 0, 'Active': 0}",
          "{'Country/Region': 'China', 'Date': '2020-01-23', 'Confirmed': 5, 'Deaths': 0, 'Recovered': 0, 'Active': 5}",
          "{'Country/Region': 'China', 'Date': '2020-01-23', 'Confirmed': 7, 'Deaths': 0, 'Recovered': 0, 'Active': 7}",
          "{'Country/Region': 'China', 'Date': '2020-01-23', 'Confirmed': 1, 'Deaths': 0, 'Recovered': 0, 'Active': 1}",
          "{'Country/Region': 'China', 'Date': '2020-01-23', 'Confirmed': 3, 'Deaths': 0, 'Recovered': 0, 'Active': 3}",
          "{'Country/Region': 'China', 'Date': '2020-01-23', 'Confirmed': 2, 'Deaths': 0, 'Recovered': 0, 'Active': 2}",
          "{'Country/Region': 'China', 'Date': '2020-01-23', 'Confirmed': 1, 'Deaths': 0, 'Recovered': 0, 'Active': 1}",
          "{'Country/Region': 'China', 'Date': '2020-01-23', 'Confirmed': 0, 'Deaths': 0, 'Recovered': 0, 'Active': 0}",
          "{'Country/Region': 'China', 'Date': '2020-01-23', 'Confirmed': 3, 'Deaths': 0, 'Recovered': 0, 'Active': 3}",
          "{'Country/Region': 'China', 'Date': '2020-01-23', 'Confirmed': 6, 'Deaths': 0, 'Recovered': 0, 'Active': 6}",
          "{'Country/Region': 'China', 'Date': '2020-01-23', 'Confirmed': 16, 'Deaths': 0, 'Recovered': 0, 'Active': 16}",
          "{'Country/Region': 'China', 'Date': '2020-01-23', 'Confirmed': 1, 'Deaths': 0, 'Recovered': 0, 'Active': 1}",
          "{'Country/Region': 'China', 'Date': '2020-01-23', 'Confirmed': 8, 'Deaths': 0, 'Recovered': 0, 'Active': 8}",
          "{'Country/Region': 'China', 'Date': '2020-01-23', 'Confirmed': 4, 'Deaths': 0, 'Recovered': 0, 'Active': 4}",
          "{'Country/Region': 'China', 'Date': '2020-01-23', 'Confirmed': 0, 'Deaths': 0, 'Recovered': 0, 'Active': 0}",
          "{'Country/Region': 'China', 'Date': '2020-01-23', 'Confirmed': 2, 'Deaths': 0, 'Recovered': 0, 'Active': 2}",
          "{'Country/Region': 'China', 'Date': '2020-01-23', 'Confirmed': 2, 'Deaths': 0, 'Recovered': 0, 'Active': 2}",
          "{'Country/Region': 'China', 'Date': '2020-01-23', 'Confirmed': 27, 'Deaths': 0, 'Recovered': 0, 'Active': 27}",
          "{'Country/Region': 'Colombia', 'Date': '2020-01-23', 'Confirmed': 0, 'Deaths': 0, 'Recovered': 0, 'Active': 0}",
          "{'Country/Region': 'Congo (Brazzaville)', 'Date': '2020-01-23', 'Confirmed': 0, 'Deaths': 0, 'Recovered': 0, 'Active': 0}",
          "{'Country/Region': 'Congo (Kinshasa)', 'Date': '2020-01-23', 'Confirmed': 0, 'Deaths': 0, 'Recovered': 0, 'Active': 0}",
          "{'Country/Region': 'Costa Rica', 'Date': '2020-01-23', 'Confirmed': 0, 'Deaths': 0, 'Recovered': 0, 'Active': 0}",
          "{'Country/Region': \"Cote d'Ivoire\", 'Date': '2020-01-23', 'Confirmed': 0, 'Deaths': 0, 'Recovered': 0, 'Active': 0}",
          "{'Country/Region': 'Croatia', 'Date': '2020-01-23', 'Confirmed': 0, 'Deaths': 0, 'Recovered': 0, 'Active': 0}",
          "{'Country/Region': 'Cuba', 'Date': '2020-01-23', 'Confirmed': 0, 'Deaths': 0, 'Recovered': 0, 'Active': 0}",
          "{'Country/Region': 'Cyprus', 'Date': '2020-01-23', 'Confirmed': 0, 'Deaths': 0, 'Recovered': 0, 'Active': 0}",
          "{'Country/Region': 'Czechia', 'Date': '2020-01-23', 'Confirmed': 0, 'Deaths': 0, 'Recovered': 0, 'Active': 0}",
          "{'Country/Region': 'Denmark', 'Date': '2020-01-23', 'Confirmed': 0, 'Deaths': 0, 'Recovered': 0, 'Active': 0}",
          "{'Country/Region': 'Greenland', 'Date': '2020-01-23', 'Confirmed': 0, 'Deaths': 0, 'Recovered': 0, 'Active': 0}",
          "{'Country/Region': 'Denmark', 'Date': '2020-01-23', 'Confirmed': 0, 'Deaths': 0, 'Recovered': 0, 'Active': 0}",
          "{'Country/Region': 'Djibouti', 'Date': '2020-01-23', 'Confirmed': 0, 'Deaths': 0, 'Recovered': 0, 'Active': 0}",
          "{'Country/Region': 'Dominican Republic', 'Date': '2020-01-23', 'Confirmed': 0, 'Deaths': 0, 'Recovered': 0, 'Active': 0}",
          "{'Country/Region': 'Ecuador', 'Date': '2020-01-23', 'Confirmed': 0, 'Deaths': 0, 'Recovered': 0, 'Active': 0}",
          "{'Country/Region': 'Egypt', 'Date': '2020-01-23', 'Confirmed': 0, 'Deaths': 0, 'Recovered': 0, 'Active': 0}",
          "{'Country/Region': 'El Salvador', 'Date': '2020-01-23', 'Confirmed': 0, 'Deaths': 0, 'Recovered': 0, 'Active': 0}",
          "{'Country/Region': 'Equatorial Guinea', 'Date': '2020-01-23', 'Confirmed': 0, 'Deaths': 0, 'Recovered': 0, 'Active': 0}",
          "{'Country/Region': 'Eritrea', 'Date': '2020-01-23', 'Confirmed': 0, 'Deaths': 0, 'Recovered': 0, 'Active': 0}",
          "{'Country/Region': 'Estonia', 'Date': '2020-01-23', 'Confirmed': 0, 'Deaths': 0, 'Recovered': 0, 'Active': 0}",
          "{'Country/Region': 'Eswatini', 'Date': '2020-01-23', 'Confirmed': 0, 'Deaths': 0, 'Recovered': 0, 'Active': 0}",
          "{'Country/Region': 'Ethiopia', 'Date': '2020-01-23', 'Confirmed': 0, 'Deaths': 0, 'Recovered': 0, 'Active': 0}",
          "{'Country/Region': 'Fiji', 'Date': '2020-01-23', 'Confirmed': 0, 'Deaths': 0, 'Recovered': 0, 'Active': 0}",
          "{'Country/Region': 'Finland', 'Date': '2020-01-23', 'Confirmed': 0, 'Deaths': 0, 'Recovered': 0, 'Active': 0}",
          "{'Country/Region': 'France', 'Date': '2020-01-23', 'Confirmed': 0, 'Deaths': 0, 'Recovered': 0, 'Active': 0}",
          "{'Country/Region': 'France', 'Date': '2020-01-23', 'Confirmed': 0, 'Deaths': 0, 'Recovered': 0, 'Active': 0}",
          "{'Country/Region': 'France', 'Date': '2020-01-23', 'Confirmed': 0, 'Deaths': 0, 'Recovered': 0, 'Active': 0}",
          "{'Country/Region': 'France', 'Date': '2020-01-23', 'Confirmed': 0, 'Deaths': 0, 'Recovered': 0, 'Active': 0}",
          "{'Country/Region': 'France', 'Date': '2020-01-23', 'Confirmed': 0, 'Deaths': 0, 'Recovered': 0, 'Active': 0}",
          "{'Country/Region': 'France', 'Date': '2020-01-23', 'Confirmed': 0, 'Deaths': 0, 'Recovered': 0, 'Active': 0}",
          "{'Country/Region': 'France', 'Date': '2020-01-23', 'Confirmed': 0, 'Deaths': 0, 'Recovered': 0, 'Active': 0}",
          "{'Country/Region': 'France', 'Date': '2020-01-23', 'Confirmed': 0, 'Deaths': 0, 'Recovered': 0, 'Active': 0}",
          "{'Country/Region': 'France', 'Date': '2020-01-23', 'Confirmed': 0, 'Deaths': 0, 'Recovered': 0, 'Active': 0}",
          "{'Country/Region': 'France', 'Date': '2020-01-23', 'Confirmed': 0, 'Deaths': 0, 'Recovered': 0, 'Active': 0}",
          "{'Country/Region': 'Gabon', 'Date': '2020-01-23', 'Confirmed': 0, 'Deaths': 0, 'Recovered': 0, 'Active': 0}",
          "{'Country/Region': 'Gambia', 'Date': '2020-01-23', 'Confirmed': 0, 'Deaths': 0, 'Recovered': 0, 'Active': 0}",
          "{'Country/Region': 'Georgia', 'Date': '2020-01-23', 'Confirmed': 0, 'Deaths': 0, 'Recovered': 0, 'Active': 0}",
          "{'Country/Region': 'Germany', 'Date': '2020-01-23', 'Confirmed': 0, 'Deaths': 0, 'Recovered': 0, 'Active': 0}",
          "{'Country/Region': 'Ghana', 'Date': '2020-01-23', 'Confirmed': 0, 'Deaths': 0, 'Recovered': 0, 'Active': 0}",
          "{'Country/Region': 'Greece', 'Date': '2020-01-23', 'Confirmed': 0, 'Deaths': 0, 'Recovered': 0, 'Active': 0}",
          "{'Country/Region': 'Guatemala', 'Date': '2020-01-23', 'Confirmed': 0, 'Deaths': 0, 'Recovered': 0, 'Active': 0}",
          "{'Country/Region': 'Guinea', 'Date': '2020-01-23', 'Confirmed': 0, 'Deaths': 0, 'Recovered': 0, 'Active': 0}",
          "{'Country/Region': 'Guyana', 'Date': '2020-01-23', 'Confirmed': 0, 'Deaths': 0, 'Recovered': 0, 'Active': 0}",
          "{'Country/Region': 'Haiti', 'Date': '2020-01-23', 'Confirmed': 0, 'Deaths': 0, 'Recovered': 0, 'Active': 0}",
          "{'Country/Region': 'Holy See', 'Date': '2020-01-23', 'Confirmed': 0, 'Deaths': 0, 'Recovered': 0, 'Active': 0}",
          "{'Country/Region': 'Honduras', 'Date': '2020-01-23', 'Confirmed': 0, 'Deaths': 0, 'Recovered': 0, 'Active': 0}",
          "{'Country/Region': 'Hungary', 'Date': '2020-01-23', 'Confirmed': 0, 'Deaths': 0, 'Recovered': 0, 'Active': 0}",
          "{'Country/Region': 'Iceland', 'Date': '2020-01-23', 'Confirmed': 0, 'Deaths': 0, 'Recovered': 0, 'Active': 0}",
          "{'Country/Region': 'India', 'Date': '2020-01-23', 'Confirmed': 0, 'Deaths': 0, 'Recovered': 0, 'Active': 0}",
          "{'Country/Region': 'Indonesia', 'Date': '2020-01-23', 'Confirmed': 0, 'Deaths': 0, 'Recovered': 0, 'Active': 0}",
          "{'Country/Region': 'Iran', 'Date': '2020-01-23', 'Confirmed': 0, 'Deaths': 0, 'Recovered': 0, 'Active': 0}",
          "{'Country/Region': 'Iraq', 'Date': '2020-01-23', 'Confirmed': 0, 'Deaths': 0, 'Recovered': 0, 'Active': 0}",
          "{'Country/Region': 'Ireland', 'Date': '2020-01-23', 'Confirmed': 0, 'Deaths': 0, 'Recovered': 0, 'Active': 0}",
          "{'Country/Region': 'Israel', 'Date': '2020-01-23', 'Confirmed': 0, 'Deaths': 0, 'Recovered': 0, 'Active': 0}",
          "{'Country/Region': 'Italy', 'Date': '2020-01-23', 'Confirmed': 0, 'Deaths': 0, 'Recovered': 0, 'Active': 0}",
          "{'Country/Region': 'Jamaica', 'Date': '2020-01-23', 'Confirmed': 0, 'Deaths': 0, 'Recovered': 0, 'Active': 0}",
          "{'Country/Region': 'Japan', 'Date': '2020-01-23', 'Confirmed': 2, 'Deaths': 0, 'Recovered': 0, 'Active': 2}",
          "{'Country/Region': 'Jordan', 'Date': '2020-01-23', 'Confirmed': 0, 'Deaths': 0, 'Recovered': 0, 'Active': 0}",
          "{'Country/Region': 'Kazakhstan', 'Date': '2020-01-23', 'Confirmed': 0, 'Deaths': 0, 'Recovered': 0, 'Active': 0}",
          "{'Country/Region': 'Kenya', 'Date': '2020-01-23', 'Confirmed': 0, 'Deaths': 0, 'Recovered': 0, 'Active': 0}",
          "{'Country/Region': 'South Korea', 'Date': '2020-01-23', 'Confirmed': 1, 'Deaths': 0, 'Recovered': 0, 'Active': 1}",
          "{'Country/Region': 'Kuwait', 'Date': '2020-01-23', 'Confirmed': 0, 'Deaths': 0, 'Recovered': 0, 'Active': 0}",
          "{'Country/Region': 'Kyrgyzstan', 'Date': '2020-01-23', 'Confirmed': 0, 'Deaths': 0, 'Recovered': 0, 'Active': 0}",
          "{'Country/Region': 'Latvia', 'Date': '2020-01-23', 'Confirmed': 0, 'Deaths': 0, 'Recovered': 0, 'Active': 0}",
          "{'Country/Region': 'Lebanon', 'Date': '2020-01-23', 'Confirmed': 0, 'Deaths': 0, 'Recovered': 0, 'Active': 0}",
          "{'Country/Region': 'Liberia', 'Date': '2020-01-23', 'Confirmed': 0, 'Deaths': 0, 'Recovered': 0, 'Active': 0}",
          "{'Country/Region': 'Liechtenstein', 'Date': '2020-01-23', 'Confirmed': 0, 'Deaths': 0, 'Recovered': 0, 'Active': 0}",
          "{'Country/Region': 'Lithuania', 'Date': '2020-01-23', 'Confirmed': 0, 'Deaths': 0, 'Recovered': 0, 'Active': 0}",
          "{'Country/Region': 'Luxembourg', 'Date': '2020-01-23', 'Confirmed': 0, 'Deaths': 0, 'Recovered': 0, 'Active': 0}",
          "{'Country/Region': 'Madagascar', 'Date': '2020-01-23', 'Confirmed': 0, 'Deaths': 0, 'Recovered': 0, 'Active': 0}",
          "{'Country/Region': 'Malaysia', 'Date': '2020-01-23', 'Confirmed': 0, 'Deaths': 0, 'Recovered': 0, 'Active': 0}",
          "{'Country/Region': 'Maldives', 'Date': '2020-01-23', 'Confirmed': 0, 'Deaths': 0, 'Recovered': 0, 'Active': 0}",
          "{'Country/Region': 'Malta', 'Date': '2020-01-23', 'Confirmed': 0, 'Deaths': 0, 'Recovered': 0, 'Active': 0}",
          "{'Country/Region': 'Mauritania', 'Date': '2020-01-23', 'Confirmed': 0, 'Deaths': 0, 'Recovered': 0, 'Active': 0}",
          "{'Country/Region': 'Mauritius', 'Date': '2020-01-23', 'Confirmed': 0, 'Deaths': 0, 'Recovered': 0, 'Active': 0}",
          "{'Country/Region': 'Mexico', 'Date': '2020-01-23', 'Confirmed': 0, 'Deaths': 0, 'Recovered': 0, 'Active': 0}",
          "{'Country/Region': 'Moldova', 'Date': '2020-01-23', 'Confirmed': 0, 'Deaths': 0, 'Recovered': 0, 'Active': 0}",
          "{'Country/Region': 'Monaco', 'Date': '2020-01-23', 'Confirmed': 0, 'Deaths': 0, 'Recovered': 0, 'Active': 0}",
          "{'Country/Region': 'Mongolia', 'Date': '2020-01-23', 'Confirmed': 0, 'Deaths': 0, 'Recovered': 0, 'Active': 0}",
          "{'Country/Region': 'Montenegro', 'Date': '2020-01-23', 'Confirmed': 0, 'Deaths': 0, 'Recovered': 0, 'Active': 0}",
          "{'Country/Region': 'Morocco', 'Date': '2020-01-23', 'Confirmed': 0, 'Deaths': 0, 'Recovered': 0, 'Active': 0}",
          "{'Country/Region': 'Namibia', 'Date': '2020-01-23', 'Confirmed': 0, 'Deaths': 0, 'Recovered': 0, 'Active': 0}",
          "{'Country/Region': 'Nepal', 'Date': '2020-01-23', 'Confirmed': 0, 'Deaths': 0, 'Recovered': 0, 'Active': 0}",
          "{'Country/Region': 'Netherlands', 'Date': '2020-01-23', 'Confirmed': 0, 'Deaths': 0, 'Recovered': 0, 'Active': 0}",
          "{'Country/Region': 'Netherlands', 'Date': '2020-01-23', 'Confirmed': 0, 'Deaths': 0, 'Recovered': 0, 'Active': 0}",
          "{'Country/Region': 'Netherlands', 'Date': '2020-01-23', 'Confirmed': 0, 'Deaths': 0, 'Recovered': 0, 'Active': 0}",
          "{'Country/Region': 'Netherlands', 'Date': '2020-01-23', 'Confirmed': 0, 'Deaths': 0, 'Recovered': 0, 'Active': 0}",
          "{'Country/Region': 'New Zealand', 'Date': '2020-01-23', 'Confirmed': 0, 'Deaths': 0, 'Recovered': 0, 'Active': 0}",
          "{'Country/Region': 'Nicaragua', 'Date': '2020-01-23', 'Confirmed': 0, 'Deaths': 0, 'Recovered': 0, 'Active': 0}",
          "{'Country/Region': 'Niger', 'Date': '2020-01-23', 'Confirmed': 0, 'Deaths': 0, 'Recovered': 0, 'Active': 0}",
          "{'Country/Region': 'Nigeria', 'Date': '2020-01-23', 'Confirmed': 0, 'Deaths': 0, 'Recovered': 0, 'Active': 0}",
          "{'Country/Region': 'North Macedonia', 'Date': '2020-01-23', 'Confirmed': 0, 'Deaths': 0, 'Recovered': 0, 'Active': 0}",
          "{'Country/Region': 'Norway', 'Date': '2020-01-23', 'Confirmed': 0, 'Deaths': 0, 'Recovered': 0, 'Active': 0}",
          "{'Country/Region': 'Oman', 'Date': '2020-01-23', 'Confirmed': 0, 'Deaths': 0, 'Recovered': 0, 'Active': 0}",
          "{'Country/Region': 'Pakistan', 'Date': '2020-01-23', 'Confirmed': 0, 'Deaths': 0, 'Recovered': 0, 'Active': 0}",
          "{'Country/Region': 'Panama', 'Date': '2020-01-23', 'Confirmed': 0, 'Deaths': 0, 'Recovered': 0, 'Active': 0}",
          "{'Country/Region': 'Papua New Guinea', 'Date': '2020-01-23', 'Confirmed': 0, 'Deaths': 0, 'Recovered': 0, 'Active': 0}",
          "{'Country/Region': 'Paraguay', 'Date': '2020-01-23', 'Confirmed': 0, 'Deaths': 0, 'Recovered': 0, 'Active': 0}",
          "{'Country/Region': 'Peru', 'Date': '2020-01-23', 'Confirmed': 0, 'Deaths': 0, 'Recovered': 0, 'Active': 0}",
          "{'Country/Region': 'Philippines', 'Date': '2020-01-23', 'Confirmed': 0, 'Deaths': 0, 'Recovered': 0, 'Active': 0}",
          "{'Country/Region': 'Poland', 'Date': '2020-01-23', 'Confirmed': 0, 'Deaths': 0, 'Recovered': 0, 'Active': 0}",
          "{'Country/Region': 'Portugal', 'Date': '2020-01-23', 'Confirmed': 0, 'Deaths': 0, 'Recovered': 0, 'Active': 0}",
          "{'Country/Region': 'Qatar', 'Date': '2020-01-23', 'Confirmed': 0, 'Deaths': 0, 'Recovered': 0, 'Active': 0}",
          "{'Country/Region': 'Romania', 'Date': '2020-01-23', 'Confirmed': 0, 'Deaths': 0, 'Recovered': 0, 'Active': 0}",
          "{'Country/Region': 'Russia', 'Date': '2020-01-23', 'Confirmed': 0, 'Deaths': 0, 'Recovered': 0, 'Active': 0}",
          "{'Country/Region': 'Rwanda', 'Date': '2020-01-23', 'Confirmed': 0, 'Deaths': 0, 'Recovered': 0, 'Active': 0}",
          "{'Country/Region': 'Saint Lucia', 'Date': '2020-01-23', 'Confirmed': 0, 'Deaths': 0, 'Recovered': 0, 'Active': 0}",
          "{'Country/Region': 'Saint Vincent and the Grenadines', 'Date': '2020-01-23', 'Confirmed': 0, 'Deaths': 0, 'Recovered': 0, 'Active': 0}",
          "{'Country/Region': 'San Marino', 'Date': '2020-01-23', 'Confirmed': 0, 'Deaths': 0, 'Recovered': 0, 'Active': 0}",
          "{'Country/Region': 'Saudi Arabia', 'Date': '2020-01-23', 'Confirmed': 0, 'Deaths': 0, 'Recovered': 0, 'Active': 0}",
          "{'Country/Region': 'Senegal', 'Date': '2020-01-23', 'Confirmed': 0, 'Deaths': 0, 'Recovered': 0, 'Active': 0}",
          "{'Country/Region': 'Serbia', 'Date': '2020-01-23', 'Confirmed': 0, 'Deaths': 0, 'Recovered': 0, 'Active': 0}",
          "{'Country/Region': 'Seychelles', 'Date': '2020-01-23', 'Confirmed': 0, 'Deaths': 0, 'Recovered': 0, 'Active': 0}",
          "{'Country/Region': 'Singapore', 'Date': '2020-01-23', 'Confirmed': 1, 'Deaths': 0, 'Recovered': 0, 'Active': 1}",
          "{'Country/Region': 'Slovakia', 'Date': '2020-01-23', 'Confirmed': 0, 'Deaths': 0, 'Recovered': 0, 'Active': 0}",
          "{'Country/Region': 'Slovenia', 'Date': '2020-01-23', 'Confirmed': 0, 'Deaths': 0, 'Recovered': 0, 'Active': 0}",
          "{'Country/Region': 'Somalia', 'Date': '2020-01-23', 'Confirmed': 0, 'Deaths': 0, 'Recovered': 0, 'Active': 0}",
          "{'Country/Region': 'South Africa', 'Date': '2020-01-23', 'Confirmed': 0, 'Deaths': 0, 'Recovered': 0, 'Active': 0}",
          "{'Country/Region': 'Spain', 'Date': '2020-01-23', 'Confirmed': 0, 'Deaths': 0, 'Recovered': 0, 'Active': 0}",
          "{'Country/Region': 'Sri Lanka', 'Date': '2020-01-23', 'Confirmed': 0, 'Deaths': 0, 'Recovered': 0, 'Active': 0}",
          "{'Country/Region': 'Sudan', 'Date': '2020-01-23', 'Confirmed': 0, 'Deaths': 0, 'Recovered': 0, 'Active': 0}",
          "{'Country/Region': 'Suriname', 'Date': '2020-01-23', 'Confirmed': 0, 'Deaths': 0, 'Recovered': 0, 'Active': 0}",
          "{'Country/Region': 'Sweden', 'Date': '2020-01-23', 'Confirmed': 0, 'Deaths': 0, 'Recovered': 0, 'Active': 0}",
          "{'Country/Region': 'Switzerland', 'Date': '2020-01-23', 'Confirmed': 0, 'Deaths': 0, 'Recovered': 0, 'Active': 0}",
          "{'Country/Region': 'Taiwan*', 'Date': '2020-01-23', 'Confirmed': 1, 'Deaths': 0, 'Recovered': 0, 'Active': 1}",
          "{'Country/Region': 'Tanzania', 'Date': '2020-01-23', 'Confirmed': 0, 'Deaths': 0, 'Recovered': 0, 'Active': 0}",
          "{'Country/Region': 'Thailand', 'Date': '2020-01-23', 'Confirmed': 3, 'Deaths': 0, 'Recovered': 0, 'Active': 3}",
          "{'Country/Region': 'Togo', 'Date': '2020-01-23', 'Confirmed': 0, 'Deaths': 0, 'Recovered': 0, 'Active': 0}",
          "{'Country/Region': 'Trinidad and Tobago', 'Date': '2020-01-23', 'Confirmed': 0, 'Deaths': 0, 'Recovered': 0, 'Active': 0}",
          "{'Country/Region': 'Tunisia', 'Date': '2020-01-23', 'Confirmed': 0, 'Deaths': 0, 'Recovered': 0, 'Active': 0}",
          "{'Country/Region': 'Turkey', 'Date': '2020-01-23', 'Confirmed': 0, 'Deaths': 0, 'Recovered': 0, 'Active': 0}",
          "{'Country/Region': 'Uganda', 'Date': '2020-01-23', 'Confirmed': 0, 'Deaths': 0, 'Recovered': 0, 'Active': 0}",
          "{'Country/Region': 'Ukraine', 'Date': '2020-01-23', 'Confirmed': 0, 'Deaths': 0, 'Recovered': 0, 'Active': 0}",
          "{'Country/Region': 'United Arab Emirates', 'Date': '2020-01-23', 'Confirmed': 0, 'Deaths': 0, 'Recovered': 0, 'Active': 0}",
          "{'Country/Region': 'United Kingdom', 'Date': '2020-01-23', 'Confirmed': 0, 'Deaths': 0, 'Recovered': 0, 'Active': 0}",
          "{'Country/Region': 'United Kingdom', 'Date': '2020-01-23', 'Confirmed': 0, 'Deaths': 0, 'Recovered': 0, 'Active': 0}",
          "{'Country/Region': 'United Kingdom', 'Date': '2020-01-23', 'Confirmed': 0, 'Deaths': 0, 'Recovered': 0, 'Active': 0}",
          "{'Country/Region': 'United Kingdom', 'Date': '2020-01-23', 'Confirmed': 0, 'Deaths': 0, 'Recovered': 0, 'Active': 0}",
          "{'Country/Region': 'United Kingdom', 'Date': '2020-01-23', 'Confirmed': 0, 'Deaths': 0, 'Recovered': 0, 'Active': 0}",
          "{'Country/Region': 'United Kingdom', 'Date': '2020-01-23', 'Confirmed': 0, 'Deaths': 0, 'Recovered': 0, 'Active': 0}",
          "{'Country/Region': 'United Kingdom', 'Date': '2020-01-23', 'Confirmed': 0, 'Deaths': 0, 'Recovered': 0, 'Active': 0}",
          "{'Country/Region': 'Uruguay', 'Date': '2020-01-23', 'Confirmed': 0, 'Deaths': 0, 'Recovered': 0, 'Active': 0}",
          "{'Country/Region': 'US', 'Date': '2020-01-23', 'Confirmed': 1, 'Deaths': 0, 'Recovered': 0, 'Active': 1}",
          "{'Country/Region': 'Uzbekistan', 'Date': '2020-01-23', 'Confirmed': 0, 'Deaths': 0, 'Recovered': 0, 'Active': 0}",
          "{'Country/Region': 'Venezuela', 'Date': '2020-01-23', 'Confirmed': 0, 'Deaths': 0, 'Recovered': 0, 'Active': 0}",
          "{'Country/Region': 'Vietnam', 'Date': '2020-01-23', 'Confirmed': 2, 'Deaths': 0, 'Recovered': 0, 'Active': 2}",
          "{'Country/Region': 'Zambia', 'Date': '2020-01-23', 'Confirmed': 0, 'Deaths': 0, 'Recovered': 0, 'Active': 0}",
          "{'Country/Region': 'Zimbabwe', 'Date': '2020-01-23', 'Confirmed': 0, 'Deaths': 0, 'Recovered': 0, 'Active': 0}",
          "{'Country/Region': 'Dominica', 'Date': '2020-01-23', 'Confirmed': 0, 'Deaths': 0, 'Recovered': 0, 'Active': 0}",
          "{'Country/Region': 'Grenada', 'Date': '2020-01-23', 'Confirmed': 0, 'Deaths': 0, 'Recovered': 0, 'Active': 0}",
          "{'Country/Region': 'Mozambique', 'Date': '2020-01-23', 'Confirmed': 0, 'Deaths': 0, 'Recovered': 0, 'Active': 0}",
          "{'Country/Region': 'Syria', 'Date': '2020-01-23', 'Confirmed': 0, 'Deaths': 0, 'Recovered': 0, 'Active': 0}",
          "{'Country/Region': 'Timor-Leste', 'Date': '2020-01-23', 'Confirmed': 0, 'Deaths': 0, 'Recovered': 0, 'Active': 0}",
          "{'Country/Region': 'Belize', 'Date': '2020-01-23', 'Confirmed': 0, 'Deaths': 0, 'Recovered': 0, 'Active': 0}",
          "{'Country/Region': 'Laos', 'Date': '2020-01-23', 'Confirmed': 0, 'Deaths': 0, 'Recovered': 0, 'Active': 0}",
          "{'Country/Region': 'Libya', 'Date': '2020-01-23', 'Confirmed': 0, 'Deaths': 0, 'Recovered': 0, 'Active': 0}",
          "{'Country/Region': 'West Bank and Gaza', 'Date': '2020-01-23', 'Confirmed': 0, 'Deaths': 0, 'Recovered': 0, 'Active': 0}",
          "{'Country/Region': 'Guinea-Bissau', 'Date': '2020-01-23', 'Confirmed': 0, 'Deaths': 0, 'Recovered': 0, 'Active': 0}",
          "{'Country/Region': 'Mali', 'Date': '2020-01-23', 'Confirmed': 0, 'Deaths': 0, 'Recovered': 0, 'Active': 0}",
          "{'Country/Region': 'Saint Kitts and Nevis', 'Date': '2020-01-23', 'Confirmed': 0, 'Deaths': 0, 'Recovered': 0, 'Active': 0}",
          "{'Country/Region': 'Canada', 'Date': '2020-01-23', 'Confirmed': 0, 'Deaths': 0, 'Recovered': 0, 'Active': 0}",
          "{'Country/Region': 'Canada', 'Date': '2020-01-23', 'Confirmed': 0, 'Deaths': 0, 'Recovered': 0, 'Active': 0}",
          "{'Country/Region': 'Kosovo', 'Date': '2020-01-23', 'Confirmed': 0, 'Deaths': 0, 'Recovered': 0, 'Active': 0}",
          "{'Country/Region': 'Burma', 'Date': '2020-01-23', 'Confirmed': 0, 'Deaths': 0, 'Recovered': 0, 'Active': 0}",
          "{'Country/Region': 'United Kingdom', 'Date': '2020-01-23', 'Confirmed': 0, 'Deaths': 0, 'Recovered': 0, 'Active': 0}",
          "{'Country/Region': 'United Kingdom', 'Date': '2020-01-23', 'Confirmed': 0, 'Deaths': 0, 'Recovered': 0, 'Active': 0}",
          "{'Country/Region': 'United Kingdom', 'Date': '2020-01-23', 'Confirmed': 0, 'Deaths': 0, 'Recovered': 0, 'Active': 0}",
          "{'Country/Region': 'Botswana', 'Date': '2020-01-23', 'Confirmed': 0, 'Deaths': 0, 'Recovered': 0, 'Active': 0}",
          "{'Country/Region': 'Burundi', 'Date': '2020-01-23', 'Confirmed': 0, 'Deaths': 0, 'Recovered': 0, 'Active': 0}",
          "{'Country/Region': 'Sierra Leone', 'Date': '2020-01-23', 'Confirmed': 0, 'Deaths': 0, 'Recovered': 0, 'Active': 0}",
          "{'Country/Region': 'Malawi', 'Date': '2020-01-23', 'Confirmed': 0, 'Deaths': 0, 'Recovered': 0, 'Active': 0}",
          "{'Country/Region': 'United Kingdom', 'Date': '2020-01-23', 'Confirmed': 0, 'Deaths': 0, 'Recovered': 0, 'Active': 0}",
          "{'Country/Region': 'France', 'Date': '2020-01-23', 'Confirmed': 0, 'Deaths': 0, 'Recovered': 0, 'Active': 0}",
          "{'Country/Region': 'South Sudan', 'Date': '2020-01-23', 'Confirmed': 0, 'Deaths': 0, 'Recovered': 0, 'Active': 0}",
          "{'Country/Region': 'Western Sahara', 'Date': '2020-01-23', 'Confirmed': 0, 'Deaths': 0, 'Recovered': 0, 'Active': 0}",
          "{'Country/Region': 'Sao Tome and Principe', 'Date': '2020-01-23', 'Confirmed': 0, 'Deaths': 0, 'Recovered': 0, 'Active': 0}",
          "{'Country/Region': 'Yemen', 'Date': '2020-01-23', 'Confirmed': 0, 'Deaths': 0, 'Recovered': 0, 'Active': 0}",
          "{'Country/Region': 'Comoros', 'Date': '2020-01-23', 'Confirmed': 0, 'Deaths': 0, 'Recovered': 0, 'Active': 0}",
          "{'Country/Region': 'Tajikistan', 'Date': '2020-01-23', 'Confirmed': 0, 'Deaths': 0, 'Recovered': 0, 'Active': 0}",
          "{'Country/Region': 'Lesotho', 'Date': '2020-01-23', 'Confirmed': 0, 'Deaths': 0, 'Recovered': 0, 'Active': 0}"
         ],
         "type": "scattergeo"
        }
       ],
       "layout": {
        "font": {
         "size": 12
        },
        "height": 600,
        "template": {
         "data": {
          "bar": [
           {
            "error_x": {
             "color": "#2a3f5f"
            },
            "error_y": {
             "color": "#2a3f5f"
            },
            "marker": {
             "line": {
              "color": "#E5ECF6",
              "width": 0.5
             },
             "pattern": {
              "fillmode": "overlay",
              "size": 10,
              "solidity": 0.2
             }
            },
            "type": "bar"
           }
          ],
          "barpolar": [
           {
            "marker": {
             "line": {
              "color": "#E5ECF6",
              "width": 0.5
             },
             "pattern": {
              "fillmode": "overlay",
              "size": 10,
              "solidity": 0.2
             }
            },
            "type": "barpolar"
           }
          ],
          "carpet": [
           {
            "aaxis": {
             "endlinecolor": "#2a3f5f",
             "gridcolor": "white",
             "linecolor": "white",
             "minorgridcolor": "white",
             "startlinecolor": "#2a3f5f"
            },
            "baxis": {
             "endlinecolor": "#2a3f5f",
             "gridcolor": "white",
             "linecolor": "white",
             "minorgridcolor": "white",
             "startlinecolor": "#2a3f5f"
            },
            "type": "carpet"
           }
          ],
          "choropleth": [
           {
            "colorbar": {
             "outlinewidth": 0,
             "ticks": ""
            },
            "type": "choropleth"
           }
          ],
          "contour": [
           {
            "colorbar": {
             "outlinewidth": 0,
             "ticks": ""
            },
            "colorscale": [
             [
              0,
              "#0d0887"
             ],
             [
              0.1111111111111111,
              "#46039f"
             ],
             [
              0.2222222222222222,
              "#7201a8"
             ],
             [
              0.3333333333333333,
              "#9c179e"
             ],
             [
              0.4444444444444444,
              "#bd3786"
             ],
             [
              0.5555555555555556,
              "#d8576b"
             ],
             [
              0.6666666666666666,
              "#ed7953"
             ],
             [
              0.7777777777777778,
              "#fb9f3a"
             ],
             [
              0.8888888888888888,
              "#fdca26"
             ],
             [
              1,
              "#f0f921"
             ]
            ],
            "type": "contour"
           }
          ],
          "contourcarpet": [
           {
            "colorbar": {
             "outlinewidth": 0,
             "ticks": ""
            },
            "type": "contourcarpet"
           }
          ],
          "heatmap": [
           {
            "colorbar": {
             "outlinewidth": 0,
             "ticks": ""
            },
            "colorscale": [
             [
              0,
              "#0d0887"
             ],
             [
              0.1111111111111111,
              "#46039f"
             ],
             [
              0.2222222222222222,
              "#7201a8"
             ],
             [
              0.3333333333333333,
              "#9c179e"
             ],
             [
              0.4444444444444444,
              "#bd3786"
             ],
             [
              0.5555555555555556,
              "#d8576b"
             ],
             [
              0.6666666666666666,
              "#ed7953"
             ],
             [
              0.7777777777777778,
              "#fb9f3a"
             ],
             [
              0.8888888888888888,
              "#fdca26"
             ],
             [
              1,
              "#f0f921"
             ]
            ],
            "type": "heatmap"
           }
          ],
          "heatmapgl": [
           {
            "colorbar": {
             "outlinewidth": 0,
             "ticks": ""
            },
            "colorscale": [
             [
              0,
              "#0d0887"
             ],
             [
              0.1111111111111111,
              "#46039f"
             ],
             [
              0.2222222222222222,
              "#7201a8"
             ],
             [
              0.3333333333333333,
              "#9c179e"
             ],
             [
              0.4444444444444444,
              "#bd3786"
             ],
             [
              0.5555555555555556,
              "#d8576b"
             ],
             [
              0.6666666666666666,
              "#ed7953"
             ],
             [
              0.7777777777777778,
              "#fb9f3a"
             ],
             [
              0.8888888888888888,
              "#fdca26"
             ],
             [
              1,
              "#f0f921"
             ]
            ],
            "type": "heatmapgl"
           }
          ],
          "histogram": [
           {
            "marker": {
             "pattern": {
              "fillmode": "overlay",
              "size": 10,
              "solidity": 0.2
             }
            },
            "type": "histogram"
           }
          ],
          "histogram2d": [
           {
            "colorbar": {
             "outlinewidth": 0,
             "ticks": ""
            },
            "colorscale": [
             [
              0,
              "#0d0887"
             ],
             [
              0.1111111111111111,
              "#46039f"
             ],
             [
              0.2222222222222222,
              "#7201a8"
             ],
             [
              0.3333333333333333,
              "#9c179e"
             ],
             [
              0.4444444444444444,
              "#bd3786"
             ],
             [
              0.5555555555555556,
              "#d8576b"
             ],
             [
              0.6666666666666666,
              "#ed7953"
             ],
             [
              0.7777777777777778,
              "#fb9f3a"
             ],
             [
              0.8888888888888888,
              "#fdca26"
             ],
             [
              1,
              "#f0f921"
             ]
            ],
            "type": "histogram2d"
           }
          ],
          "histogram2dcontour": [
           {
            "colorbar": {
             "outlinewidth": 0,
             "ticks": ""
            },
            "colorscale": [
             [
              0,
              "#0d0887"
             ],
             [
              0.1111111111111111,
              "#46039f"
             ],
             [
              0.2222222222222222,
              "#7201a8"
             ],
             [
              0.3333333333333333,
              "#9c179e"
             ],
             [
              0.4444444444444444,
              "#bd3786"
             ],
             [
              0.5555555555555556,
              "#d8576b"
             ],
             [
              0.6666666666666666,
              "#ed7953"
             ],
             [
              0.7777777777777778,
              "#fb9f3a"
             ],
             [
              0.8888888888888888,
              "#fdca26"
             ],
             [
              1,
              "#f0f921"
             ]
            ],
            "type": "histogram2dcontour"
           }
          ],
          "mesh3d": [
           {
            "colorbar": {
             "outlinewidth": 0,
             "ticks": ""
            },
            "type": "mesh3d"
           }
          ],
          "parcoords": [
           {
            "line": {
             "colorbar": {
              "outlinewidth": 0,
              "ticks": ""
             }
            },
            "type": "parcoords"
           }
          ],
          "pie": [
           {
            "automargin": true,
            "type": "pie"
           }
          ],
          "scatter": [
           {
            "fillpattern": {
             "fillmode": "overlay",
             "size": 10,
             "solidity": 0.2
            },
            "type": "scatter"
           }
          ],
          "scatter3d": [
           {
            "line": {
             "colorbar": {
              "outlinewidth": 0,
              "ticks": ""
             }
            },
            "marker": {
             "colorbar": {
              "outlinewidth": 0,
              "ticks": ""
             }
            },
            "type": "scatter3d"
           }
          ],
          "scattercarpet": [
           {
            "marker": {
             "colorbar": {
              "outlinewidth": 0,
              "ticks": ""
             }
            },
            "type": "scattercarpet"
           }
          ],
          "scattergeo": [
           {
            "marker": {
             "colorbar": {
              "outlinewidth": 0,
              "ticks": ""
             }
            },
            "type": "scattergeo"
           }
          ],
          "scattergl": [
           {
            "marker": {
             "colorbar": {
              "outlinewidth": 0,
              "ticks": ""
             }
            },
            "type": "scattergl"
           }
          ],
          "scattermapbox": [
           {
            "marker": {
             "colorbar": {
              "outlinewidth": 0,
              "ticks": ""
             }
            },
            "type": "scattermapbox"
           }
          ],
          "scatterpolar": [
           {
            "marker": {
             "colorbar": {
              "outlinewidth": 0,
              "ticks": ""
             }
            },
            "type": "scatterpolar"
           }
          ],
          "scatterpolargl": [
           {
            "marker": {
             "colorbar": {
              "outlinewidth": 0,
              "ticks": ""
             }
            },
            "type": "scatterpolargl"
           }
          ],
          "scatterternary": [
           {
            "marker": {
             "colorbar": {
              "outlinewidth": 0,
              "ticks": ""
             }
            },
            "type": "scatterternary"
           }
          ],
          "surface": [
           {
            "colorbar": {
             "outlinewidth": 0,
             "ticks": ""
            },
            "colorscale": [
             [
              0,
              "#0d0887"
             ],
             [
              0.1111111111111111,
              "#46039f"
             ],
             [
              0.2222222222222222,
              "#7201a8"
             ],
             [
              0.3333333333333333,
              "#9c179e"
             ],
             [
              0.4444444444444444,
              "#bd3786"
             ],
             [
              0.5555555555555556,
              "#d8576b"
             ],
             [
              0.6666666666666666,
              "#ed7953"
             ],
             [
              0.7777777777777778,
              "#fb9f3a"
             ],
             [
              0.8888888888888888,
              "#fdca26"
             ],
             [
              1,
              "#f0f921"
             ]
            ],
            "type": "surface"
           }
          ],
          "table": [
           {
            "cells": {
             "fill": {
              "color": "#EBF0F8"
             },
             "line": {
              "color": "white"
             }
            },
            "header": {
             "fill": {
              "color": "#C8D4E3"
             },
             "line": {
              "color": "white"
             }
            },
            "type": "table"
           }
          ]
         },
         "layout": {
          "annotationdefaults": {
           "arrowcolor": "#2a3f5f",
           "arrowhead": 0,
           "arrowwidth": 1
          },
          "autotypenumbers": "strict",
          "coloraxis": {
           "colorbar": {
            "outlinewidth": 0,
            "ticks": ""
           }
          },
          "colorscale": {
           "diverging": [
            [
             0,
             "#8e0152"
            ],
            [
             0.1,
             "#c51b7d"
            ],
            [
             0.2,
             "#de77ae"
            ],
            [
             0.3,
             "#f1b6da"
            ],
            [
             0.4,
             "#fde0ef"
            ],
            [
             0.5,
             "#f7f7f7"
            ],
            [
             0.6,
             "#e6f5d0"
            ],
            [
             0.7,
             "#b8e186"
            ],
            [
             0.8,
             "#7fbc41"
            ],
            [
             0.9,
             "#4d9221"
            ],
            [
             1,
             "#276419"
            ]
           ],
           "sequential": [
            [
             0,
             "#0d0887"
            ],
            [
             0.1111111111111111,
             "#46039f"
            ],
            [
             0.2222222222222222,
             "#7201a8"
            ],
            [
             0.3333333333333333,
             "#9c179e"
            ],
            [
             0.4444444444444444,
             "#bd3786"
            ],
            [
             0.5555555555555556,
             "#d8576b"
            ],
            [
             0.6666666666666666,
             "#ed7953"
            ],
            [
             0.7777777777777778,
             "#fb9f3a"
            ],
            [
             0.8888888888888888,
             "#fdca26"
            ],
            [
             1,
             "#f0f921"
            ]
           ],
           "sequentialminus": [
            [
             0,
             "#0d0887"
            ],
            [
             0.1111111111111111,
             "#46039f"
            ],
            [
             0.2222222222222222,
             "#7201a8"
            ],
            [
             0.3333333333333333,
             "#9c179e"
            ],
            [
             0.4444444444444444,
             "#bd3786"
            ],
            [
             0.5555555555555556,
             "#d8576b"
            ],
            [
             0.6666666666666666,
             "#ed7953"
            ],
            [
             0.7777777777777778,
             "#fb9f3a"
            ],
            [
             0.8888888888888888,
             "#fdca26"
            ],
            [
             1,
             "#f0f921"
            ]
           ]
          },
          "colorway": [
           "#636efa",
           "#EF553B",
           "#00cc96",
           "#ab63fa",
           "#FFA15A",
           "#19d3f3",
           "#FF6692",
           "#B6E880",
           "#FF97FF",
           "#FECB52"
          ],
          "font": {
           "color": "#2a3f5f"
          },
          "geo": {
           "bgcolor": "white",
           "lakecolor": "white",
           "landcolor": "#E5ECF6",
           "showlakes": true,
           "showland": true,
           "subunitcolor": "white"
          },
          "hoverlabel": {
           "align": "left"
          },
          "hovermode": "closest",
          "mapbox": {
           "style": "light"
          },
          "paper_bgcolor": "white",
          "plot_bgcolor": "#E5ECF6",
          "polar": {
           "angularaxis": {
            "gridcolor": "white",
            "linecolor": "white",
            "ticks": ""
           },
           "bgcolor": "#E5ECF6",
           "radialaxis": {
            "gridcolor": "white",
            "linecolor": "white",
            "ticks": ""
           }
          },
          "scene": {
           "xaxis": {
            "backgroundcolor": "#E5ECF6",
            "gridcolor": "white",
            "gridwidth": 2,
            "linecolor": "white",
            "showbackground": true,
            "ticks": "",
            "zerolinecolor": "white"
           },
           "yaxis": {
            "backgroundcolor": "#E5ECF6",
            "gridcolor": "white",
            "gridwidth": 2,
            "linecolor": "white",
            "showbackground": true,
            "ticks": "",
            "zerolinecolor": "white"
           },
           "zaxis": {
            "backgroundcolor": "#E5ECF6",
            "gridcolor": "white",
            "gridwidth": 2,
            "linecolor": "white",
            "showbackground": true,
            "ticks": "",
            "zerolinecolor": "white"
           }
          },
          "shapedefaults": {
           "line": {
            "color": "#2a3f5f"
           }
          },
          "ternary": {
           "aaxis": {
            "gridcolor": "white",
            "linecolor": "white",
            "ticks": ""
           },
           "baxis": {
            "gridcolor": "white",
            "linecolor": "white",
            "ticks": ""
           },
           "bgcolor": "#E5ECF6",
           "caxis": {
            "gridcolor": "white",
            "linecolor": "white",
            "ticks": ""
           }
          },
          "title": {
           "x": 0.05
          },
          "xaxis": {
           "automargin": true,
           "gridcolor": "white",
           "linecolor": "white",
           "ticks": "",
           "title": {
            "standoff": 15
           },
           "zerolinecolor": "white",
           "zerolinewidth": 2
          },
          "yaxis": {
           "automargin": true,
           "gridcolor": "white",
           "linecolor": "white",
           "ticks": "",
           "title": {
            "standoff": 15
           },
           "zerolinecolor": "white",
           "zerolinewidth": 2
          }
         }
        },
        "width": 1000
       }
      }
     },
     "metadata": {},
     "output_type": "display_data"
    }
   ],
   "source": [
    "plotfor(dates[1])"
   ]
  },
  {
   "cell_type": "code",
   "execution_count": null,
   "metadata": {},
   "outputs": [],
   "source": [
    "# To plot for each dates uncomment and run below code\n",
    "'''\n",
    "for i in dates:\n",
    "    plotfor(i)\n",
    "'''"
   ]
  },
  {
   "cell_type": "code",
   "execution_count": null,
   "metadata": {},
   "outputs": [],
   "source": []
  },
  {
   "cell_type": "code",
   "execution_count": null,
   "metadata": {},
   "outputs": [],
   "source": []
  },
  {
   "cell_type": "code",
   "execution_count": null,
   "metadata": {},
   "outputs": [],
   "source": []
  },
  {
   "cell_type": "code",
   "execution_count": null,
   "metadata": {},
   "outputs": [],
   "source": []
  },
  {
   "cell_type": "code",
   "execution_count": null,
   "metadata": {},
   "outputs": [],
   "source": []
  },
  {
   "cell_type": "code",
   "execution_count": null,
   "metadata": {},
   "outputs": [],
   "source": []
  },
  {
   "cell_type": "code",
   "execution_count": null,
   "metadata": {},
   "outputs": [],
   "source": []
  },
  {
   "cell_type": "code",
   "execution_count": null,
   "metadata": {},
   "outputs": [],
   "source": []
  },
  {
   "cell_type": "code",
   "execution_count": null,
   "metadata": {},
   "outputs": [],
   "source": []
  },
  {
   "cell_type": "code",
   "execution_count": null,
   "metadata": {},
   "outputs": [],
   "source": []
  },
  {
   "cell_type": "code",
   "execution_count": null,
   "metadata": {},
   "outputs": [],
   "source": []
  },
  {
   "cell_type": "code",
   "execution_count": null,
   "metadata": {},
   "outputs": [],
   "source": []
  },
  {
   "cell_type": "code",
   "execution_count": null,
   "metadata": {},
   "outputs": [],
   "source": []
  },
  {
   "cell_type": "code",
   "execution_count": null,
   "metadata": {},
   "outputs": [],
   "source": []
  },
  {
   "cell_type": "code",
   "execution_count": null,
   "metadata": {},
   "outputs": [],
   "source": []
  },
  {
   "cell_type": "code",
   "execution_count": null,
   "metadata": {},
   "outputs": [],
   "source": []
  },
  {
   "cell_type": "code",
   "execution_count": null,
   "metadata": {},
   "outputs": [],
   "source": []
  },
  {
   "cell_type": "code",
   "execution_count": null,
   "metadata": {},
   "outputs": [],
   "source": []
  },
  {
   "cell_type": "code",
   "execution_count": null,
   "metadata": {},
   "outputs": [],
   "source": []
  },
  {
   "cell_type": "code",
   "execution_count": null,
   "metadata": {},
   "outputs": [],
   "source": []
  },
  {
   "cell_type": "code",
   "execution_count": null,
   "metadata": {},
   "outputs": [],
   "source": []
  },
  {
   "cell_type": "code",
   "execution_count": null,
   "metadata": {},
   "outputs": [],
   "source": []
  },
  {
   "cell_type": "code",
   "execution_count": null,
   "metadata": {},
   "outputs": [],
   "source": []
  },
  {
   "cell_type": "code",
   "execution_count": null,
   "metadata": {},
   "outputs": [],
   "source": []
  },
  {
   "cell_type": "code",
   "execution_count": null,
   "metadata": {},
   "outputs": [],
   "source": []
  },
  {
   "cell_type": "code",
   "execution_count": null,
   "metadata": {},
   "outputs": [],
   "source": []
  },
  {
   "cell_type": "code",
   "execution_count": null,
   "metadata": {},
   "outputs": [],
   "source": []
  },
  {
   "cell_type": "code",
   "execution_count": null,
   "metadata": {},
   "outputs": [],
   "source": []
  },
  {
   "cell_type": "code",
   "execution_count": null,
   "metadata": {},
   "outputs": [],
   "source": []
  },
  {
   "cell_type": "code",
   "execution_count": null,
   "metadata": {},
   "outputs": [],
   "source": []
  },
  {
   "cell_type": "code",
   "execution_count": null,
   "metadata": {},
   "outputs": [],
   "source": []
  },
  {
   "cell_type": "code",
   "execution_count": null,
   "metadata": {},
   "outputs": [],
   "source": []
  },
  {
   "cell_type": "code",
   "execution_count": null,
   "metadata": {},
   "outputs": [],
   "source": []
  },
  {
   "cell_type": "code",
   "execution_count": null,
   "metadata": {},
   "outputs": [],
   "source": []
  },
  {
   "cell_type": "code",
   "execution_count": null,
   "metadata": {},
   "outputs": [],
   "source": []
  },
  {
   "cell_type": "code",
   "execution_count": null,
   "metadata": {},
   "outputs": [],
   "source": []
  },
  {
   "cell_type": "code",
   "execution_count": null,
   "metadata": {},
   "outputs": [],
   "source": []
  }
 ],
 "metadata": {
  "kernelspec": {
   "display_name": "cvenv",
   "language": "python",
   "name": "python3"
  },
  "language_info": {
   "codemirror_mode": {
    "name": "ipython",
    "version": 3
   },
   "file_extension": ".py",
   "mimetype": "text/x-python",
   "name": "python",
   "nbconvert_exporter": "python",
   "pygments_lexer": "ipython3",
   "version": "3.11.3"
  }
 },
 "nbformat": 4,
 "nbformat_minor": 2
}
